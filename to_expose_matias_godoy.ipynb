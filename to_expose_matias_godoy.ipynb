{
  "cells": [
    {
      "cell_type": "markdown",
      "metadata": {
        "id": "view-in-github",
        "colab_type": "text"
      },
      "source": [
        "<a href=\"https://colab.research.google.com/github/MatGod7/vuelos_SCL/blob/main/to_expose_matias_godoy.ipynb\" target=\"_parent\"><img src=\"https://colab.research.google.com/assets/colab-badge.svg\" alt=\"Open In Colab\"/></a>"
      ]
    },
    {
      "cell_type": "markdown",
      "metadata": {
        "id": "uN12ZU1pxvJP"
      },
      "source": [
        "# Trabajo de Juan"
      ]
    },
    {
      "cell_type": "markdown",
      "metadata": {
        "id": "tRs1nkH5xvJT"
      },
      "source": [
        "## Problema\n",
        "\n",
        "El problema consiste en predecir la probabilidad de atraso de los vuelos que aterrizan o despegan del aeropuerto de Santiago\n",
        "de Chile (SCL). Para eso les entregamos un dataset usando datos públicos y reales donde cada fila corresponde a un vuelo\n",
        "que aterrizó o despegó de SCL. Para cada vuelo se cuenta con la siguiente información:\n",
        "\n",
        "* **Fecha-I** : Fecha y hora programada del vuelo.\n",
        "* **Vlo-I** : Número de vuelo programado.\n",
        "* **Ori-I** : Código de ciudad de origen programado.\n",
        "* **Des-I** : Código de ciudad de destino programado.\n",
        "* **Emp-I** : Código aerolínea de vuelo programado.\n",
        "* **Fecha-O** : Fecha y hora de operación del vuelo.\n",
        "* **Vlo-O** : Número de vuelo de operación del vuelo.\n",
        "* **Ori-O** : Código de ciudad de origen de operación\n",
        "* **Des-O** : Código de ciudad de destino de operación.\n",
        "* **Emp-O** : Código aerolínea de vuelo operado.\n",
        "* **DIA** : Día del mes de operación del vuelo.\n",
        "* **MES** : Número de mes de operación del vuelo.\n",
        "* **AÑO** : Año de operación del vuelo.\n",
        "* **DIANOM** : Día de la semana de operación del vuelo.\n",
        "* **TIPOVUELO** : Tipo de vuelo, I =Internacional, N =Nacional.\n",
        "* **OPERA** : Nombre de aerolínea que opera.\n",
        "* **SIGLAORI** : Nombre ciudad origen.\n",
        "* **SIGLADES** : Nombre ciudad destino."
      ]
    },
    {
      "cell_type": "markdown",
      "metadata": {
        "id": "u6MKltaJxvJU"
      },
      "source": [
        "## Desarrollo"
      ]
    },
    {
      "cell_type": "markdown",
      "metadata": {
        "id": "1bGf4SdFxvJV"
      },
      "source": [
        "### 0. Obtención de datos"
      ]
    },
    {
      "cell_type": "code",
      "execution_count": 1,
      "metadata": {
        "id": "EcJGb0mVxvJV"
      },
      "outputs": [],
      "source": [
        "#Se importan las librerías necesarias para el problema\n",
        "import pandas as pd\n",
        "import numpy as np\n",
        "import matplotlib.pyplot as plt\n",
        "import seaborn as sns\n",
        "\n",
        "import missingno as msng\n",
        "import warnings\n",
        "warnings.filterwarnings('ignore')\n",
        "%matplotlib inline\n",
        "plt.rcParams['figure.figsize'] = (15, 10)"
      ]
    },
    {
      "cell_type": "markdown",
      "source": [
        "# Conectar con el drive\n",
        "\n",
        "Para obtener el archivo csv primeramente se conecta con el drive para leerlo. (el dataset_SCL.csv  se ha subido previamente al drive)"
      ],
      "metadata": {
        "id": "fRsPGtQdW_cz"
      }
    },
    {
      "cell_type": "code",
      "execution_count": 2,
      "metadata": {
        "colab": {
          "base_uri": "https://localhost:8080/"
        },
        "id": "Bw7ApAOVJUeb",
        "outputId": "108ba7d2-11a2-46b3-f96d-ac795a965c8d"
      },
      "outputs": [
        {
          "output_type": "stream",
          "name": "stdout",
          "text": [
            "Drive already mounted at /content/drive; to attempt to forcibly remount, call drive.mount(\"/content/drive\", force_remount=True).\n"
          ]
        }
      ],
      "source": [
        "from google.colab import drive\n",
        "drive.mount('/content/drive')"
      ]
    },
    {
      "cell_type": "markdown",
      "source": [
        "En caso de que se quiera leer el archivo csv de esta manera se debe cambiar la ruta y poner la ruta correspondiente a la ubicación del dataset_SCL.csv en su drive"
      ],
      "metadata": {
        "id": "DJiv0YfYXrcr"
      }
    },
    {
      "cell_type": "code",
      "execution_count": 3,
      "metadata": {
        "id": "D5gIpDstxvJW",
        "scrolled": true
      },
      "outputs": [],
      "source": [
        "df = pd.read_csv('/content/drive/MyDrive/Colab Notebooks/NeuralWorks/dataset_SCL.csv')"
      ]
    },
    {
      "cell_type": "code",
      "execution_count": 4,
      "metadata": {
        "colab": {
          "base_uri": "https://localhost:8080/"
        },
        "id": "vf44ATpPxvJW",
        "outputId": "1bfa270b-e3ed-4c06-c75b-da61f7854c56"
      },
      "outputs": [
        {
          "output_type": "execute_result",
          "data": {
            "text/plain": [
              "(68206, 18)"
            ]
          },
          "metadata": {},
          "execution_count": 4
        }
      ],
      "source": [
        "df.shape"
      ]
    },
    {
      "cell_type": "code",
      "execution_count": 5,
      "metadata": {
        "colab": {
          "base_uri": "https://localhost:8080/"
        },
        "id": "Q3U9uuMJxvJX",
        "outputId": "b6fea062-a47a-49c6-a899-b9d46ccc32a2"
      },
      "outputs": [
        {
          "output_type": "stream",
          "name": "stdout",
          "text": [
            "<class 'pandas.core.frame.DataFrame'>\n",
            "RangeIndex: 68206 entries, 0 to 68205\n",
            "Data columns (total 18 columns):\n",
            " #   Column     Non-Null Count  Dtype \n",
            "---  ------     --------------  ----- \n",
            " 0   Fecha-I    68206 non-null  object\n",
            " 1   Vlo-I      68206 non-null  object\n",
            " 2   Ori-I      68206 non-null  object\n",
            " 3   Des-I      68206 non-null  object\n",
            " 4   Emp-I      68206 non-null  object\n",
            " 5   Fecha-O    68206 non-null  object\n",
            " 6   Vlo-O      68205 non-null  object\n",
            " 7   Ori-O      68206 non-null  object\n",
            " 8   Des-O      68206 non-null  object\n",
            " 9   Emp-O      68206 non-null  object\n",
            " 10  DIA        68206 non-null  int64 \n",
            " 11  MES        68206 non-null  int64 \n",
            " 12  AÑO        68206 non-null  int64 \n",
            " 13  DIANOM     68206 non-null  object\n",
            " 14  TIPOVUELO  68206 non-null  object\n",
            " 15  OPERA      68206 non-null  object\n",
            " 16  SIGLAORI   68206 non-null  object\n",
            " 17  SIGLADES   68206 non-null  object\n",
            "dtypes: int64(3), object(15)\n",
            "memory usage: 9.4+ MB\n"
          ]
        }
      ],
      "source": [
        "df.info()"
      ]
    },
    {
      "cell_type": "code",
      "execution_count": 6,
      "metadata": {
        "colab": {
          "base_uri": "https://localhost:8080/",
          "height": 632
        },
        "id": "o_B7U6FRxvJY",
        "outputId": "22f55beb-18ec-4853-b999-0b28c5c57405",
        "scrolled": true
      },
      "outputs": [
        {
          "output_type": "execute_result",
          "data": {
            "text/plain": [
              "<AxesSubplot:>"
            ]
          },
          "metadata": {},
          "execution_count": 6
        },
        {
          "output_type": "display_data",
          "data": {
            "text/plain": [
              "<Figure size 1800x720 with 2 Axes>"
            ],
            "image/png": "[encoded data removed]"
          },
          "metadata": {
            "needs_background": "light"
          }
        }
      ],
      "source": [
        "msng.matrix(df)"
      ]
    },
    {
      "cell_type": "code",
      "execution_count": 7,
      "metadata": {
        "colab": {
          "base_uri": "https://localhost:8080/",
          "height": 300
        },
        "id": "jRGxyV9QxvJY",
        "outputId": "575ac745-0bb4-44c9-c0f7-ae2dd72f14bf"
      },
      "outputs": [
        {
          "output_type": "execute_result",
          "data": {
            "text/plain": [
              "                DIA           MES           AÑO\n",
              "count  68206.000000  68206.000000  68206.000000\n",
              "mean      15.714790      6.622585   2017.000029\n",
              "std        8.782886      3.523321      0.005415\n",
              "min        1.000000      1.000000   2017.000000\n",
              "25%        8.000000      3.000000   2017.000000\n",
              "50%       16.000000      7.000000   2017.000000\n",
              "75%       23.000000     10.000000   2017.000000\n",
              "max       31.000000     12.000000   2018.000000"
            ],
            "text/html": [
              "\n",
              "  <div id=\"df-89b9f183-bf2d-4ef4-9344-5ec0fb5f34e0\">\n",
              "    <div class=\"colab-df-container\">\n",
              "      <div>\n",
              "<style scoped>\n",
              "    .dataframe tbody tr th:only-of-type {\n",
              "        vertical-align: middle;\n",
              "    }\n",
              "\n",
              "    .dataframe tbody tr th {\n",
              "        vertical-align: top;\n",
              "    }\n",
              "\n",
              "    .dataframe thead th {\n",
              "        text-align: right;\n",
              "    }\n",
              "</style>\n",
              "<table border=\"1\" class=\"dataframe\">\n",
              "  <thead>\n",
              "    <tr style=\"text-align: right;\">\n",
              "      <th></th>\n",
              "      <th>DIA</th>\n",
              "      <th>MES</th>\n",
              "      <th>AÑO</th>\n",
              "    </tr>\n",
              "  </thead>\n",
              "  <tbody>\n",
              "    <tr>\n",
              "      <th>count</th>\n",
              "      <td>68206.000000</td>\n",
              "      <td>68206.000000</td>\n",
              "      <td>68206.000000</td>\n",
              "    </tr>\n",
              "    <tr>\n",
              "      <th>mean</th>\n",
              "      <td>15.714790</td>\n",
              "      <td>6.622585</td>\n",
              "      <td>2017.000029</td>\n",
              "    </tr>\n",
              "    <tr>\n",
              "      <th>std</th>\n",
              "      <td>8.782886</td>\n",
              "      <td>3.523321</td>\n",
              "      <td>0.005415</td>\n",
              "    </tr>\n",
              "    <tr>\n",
              "      <th>min</th>\n",
              "      <td>1.000000</td>\n",
              "      <td>1.000000</td>\n",
              "      <td>2017.000000</td>\n",
              "    </tr>\n",
              "    <tr>\n",
              "      <th>25%</th>\n",
              "      <td>8.000000</td>\n",
              "      <td>3.000000</td>\n",
              "      <td>2017.000000</td>\n",
              "    </tr>\n",
              "    <tr>\n",
              "      <th>50%</th>\n",
              "      <td>16.000000</td>\n",
              "      <td>7.000000</td>\n",
              "      <td>2017.000000</td>\n",
              "    </tr>\n",
              "    <tr>\n",
              "      <th>75%</th>\n",
              "      <td>23.000000</td>\n",
              "      <td>10.000000</td>\n",
              "      <td>2017.000000</td>\n",
              "    </tr>\n",
              "    <tr>\n",
              "      <th>max</th>\n",
              "      <td>31.000000</td>\n",
              "      <td>12.000000</td>\n",
              "      <td>2018.000000</td>\n",
              "    </tr>\n",
              "  </tbody>\n",
              "</table>\n",
              "</div>\n",
              "      <button class=\"colab-df-convert\" onclick=\"convertToInteractive('df-89b9f183-bf2d-4ef4-9344-5ec0fb5f34e0')\"\n",
              "              title=\"Convert this dataframe to an interactive table.\"\n",
              "              style=\"display:none;\">\n",
              "        \n",
              "  <svg xmlns=\"http://www.w3.org/2000/svg\" height=\"24px\"viewBox=\"0 0 24 24\"\n",
              "       width=\"24px\">\n",
              "    <path d=\"M0 0h24v24H0V0z\" fill=\"none\"/>\n",
              "    <path d=\"M18.56 5.44l.94 2.06.94-2.06 2.06-.94-2.06-.94-.94-2.06-.94 2.06-2.06.94zm-11 1L8.5 8.5l.94-2.06 2.06-.94-2.06-.94L8.5 2.5l-.94 2.06-2.06.94zm10 10l.94 2.06.94-2.06 2.06-.94-2.06-.94-.94-2.06-.94 2.06-2.06.94z\"/><path d=\"M17.41 7.96l-1.37-1.37c-.4-.4-.92-.59-1.43-.59-.52 0-1.04.2-1.43.59L10.3 9.45l-7.72 7.72c-.78.78-.78 2.05 0 2.83L4 21.41c.39.39.9.59 1.41.59.51 0 1.02-.2 1.41-.59l7.78-7.78 2.81-2.81c.8-.78.8-2.07 0-2.86zM5.41 20L4 18.59l7.72-7.72 1.47 1.35L5.41 20z\"/>\n",
              "  </svg>\n",
              "      </button>\n",
              "      \n",
              "  <style>\n",
              "    .colab-df-container {\n",
              "      display:flex;\n",
              "      flex-wrap:wrap;\n",
              "      gap: 12px;\n",
              "    }\n",
              "\n",
              "    .colab-df-convert {\n",
              "      background-color: #E8F0FE;\n",
              "      border: none;\n",
              "      border-radius: 50%;\n",
              "      cursor: pointer;\n",
              "      display: none;\n",
              "      fill: #1967D2;\n",
              "      height: 32px;\n",
              "      padding: 0 0 0 0;\n",
              "      width: 32px;\n",
              "    }\n",
              "\n",
              "    .colab-df-convert:hover {\n",
              "      background-color: #E2EBFA;\n",
              "      box-shadow: 0px 1px 2px rgba(60, 64, 67, 0.3), 0px 1px 3px 1px rgba(60, 64, 67, 0.15);\n",
              "      fill: #174EA6;\n",
              "    }\n",
              "\n",
              "    [theme=dark] .colab-df-convert {\n",
              "      background-color: #3B4455;\n",
              "      fill: #D2E3FC;\n",
              "    }\n",
              "\n",
              "    [theme=dark] .colab-df-convert:hover {\n",
              "      background-color: #434B5C;\n",
              "      box-shadow: 0px 1px 3px 1px rgba(0, 0, 0, 0.15);\n",
              "      filter: drop-shadow(0px 1px 2px rgba(0, 0, 0, 0.3));\n",
              "      fill: #FFFFFF;\n",
              "    }\n",
              "  </style>\n",
              "\n",
              "      <script>\n",
              "        const buttonEl =\n",
              "          document.querySelector('#df-89b9f183-bf2d-4ef4-9344-5ec0fb5f34e0 button.colab-df-convert');\n",
              "        buttonEl.style.display =\n",
              "          google.colab.kernel.accessAllowed ? 'block' : 'none';\n",
              "\n",
              "        async function convertToInteractive(key) {\n",
              "          const element = document.querySelector('#df-89b9f183-bf2d-4ef4-9344-5ec0fb5f34e0');\n",
              "          const dataTable =\n",
              "            await google.colab.kernel.invokeFunction('convertToInteractive',\n",
              "                                                     [key], {});\n",
              "          if (!dataTable) return;\n",
              "\n",
              "          const docLinkHtml = 'Like what you see? Visit the ' +\n",
              "            '<a target=\"_blank\" href=https://colab.research.google.com/notebooks/data_table.ipynb>data table notebook</a>'\n",
              "            + ' to learn more about interactive tables.';\n",
              "          element.innerHTML = '';\n",
              "          dataTable['output_type'] = 'display_data';\n",
              "          await google.colab.output.renderOutput(dataTable, element);\n",
              "          const docLink = document.createElement('div');\n",
              "          docLink.innerHTML = docLinkHtml;\n",
              "          element.appendChild(docLink);\n",
              "        }\n",
              "      </script>\n",
              "    </div>\n",
              "  </div>\n",
              "  "
            ]
          },
          "metadata": {},
          "execution_count": 7
        }
      ],
      "source": [
        "df.describe()"
      ]
    },
    {
      "cell_type": "markdown",
      "metadata": {
        "id": "K63V5wS5xvJZ"
      },
      "source": [
        "### 1. ¿Cómo se distribuyen los datos? ¿Qué te llama la atención o cuál es tu conclusión sobre esto?"
      ]
    },
    {
      "cell_type": "code",
      "execution_count": 8,
      "metadata": {
        "colab": {
          "base_uri": "https://localhost:8080/",
          "height": 533
        },
        "id": "MYzPTC8PxvJZ",
        "outputId": "5ab475c6-3d5f-4553-b711-1acdf06ec4da"
      },
      "outputs": [
        {
          "output_type": "display_data",
          "data": {
            "text/plain": [
              "<Figure size 720x432 with 1 Axes>"
            ],
            "image/png": "[encoded data removed]"
          },
          "metadata": {
            "needs_background": "light"
          }
        }
      ],
      "source": [
        "vuelos_aerolineas = df['OPERA'].value_counts()\n",
        "plt.figure(figsize = (10,6))\n",
        "sns.set(style=\"darkgrid\")\n",
        "sns.barplot(vuelos_aerolineas.index, vuelos_aerolineas.values, alpha=0.9)\n",
        "plt.title('Cantidad de Vuelos por Aerlínea')\n",
        "plt.ylabel('Número de Vuelos', fontsize=12)\n",
        "plt.xlabel('Aerlínea', fontsize=12)\n",
        "plt.xticks(rotation=90)\n",
        "plt.show()"
      ]
    },
    {
      "cell_type": "code",
      "execution_count": 9,
      "metadata": {
        "colab": {
          "base_uri": "https://localhost:8080/",
          "height": 414
        },
        "id": "YrXQjuMUxvJa",
        "outputId": "2bd58b9f-0640-4fd0-c4d4-3e440786e15c"
      },
      "outputs": [
        {
          "output_type": "display_data",
          "data": {
            "text/plain": [
              "<Figure size 720x432 with 1 Axes>"
            ],
            "image/png": "[encoded data removed]"
          },
          "metadata": {}
        }
      ],
      "source": [
        "vuelos_dia = df['DIA'].value_counts()\n",
        "plt.figure(figsize = (10,6))\n",
        "sns.set(style = \"darkgrid\")\n",
        "sns.barplot(vuelos_dia.index, vuelos_dia.values, color = 'lightblue', alpha=0.8)\n",
        "plt.title('Cantidad de Vuelos por día del Mes')\n",
        "plt.ylabel('Número de Vuelos', fontsize=12)\n",
        "plt.xlabel('Día del Mes', fontsize=12)\n",
        "plt.xticks(rotation=90)\n",
        "plt.show()"
      ]
    },
    {
      "cell_type": "code",
      "execution_count": 10,
      "metadata": {
        "colab": {
          "base_uri": "https://localhost:8080/",
          "height": 631
        },
        "id": "0cJ13jRsxvJa",
        "outputId": "cb879dc3-dca0-4c1c-e403-3a6f04f18a71"
      },
      "outputs": [
        {
          "output_type": "display_data",
          "data": {
            "text/plain": [
              "<Figure size 1080x720 with 1 Axes>"
            ],
            "image/png": "[encoded data removed]"
          },
          "metadata": {}
        }
      ],
      "source": [
        "vuelos_mes = df['MES'].value_counts()\n",
        "sns.set(style = \"darkgrid\")\n",
        "sns.barplot(vuelos_mes.index, vuelos_mes.values, color = 'lightblue', alpha=0.8)\n",
        "plt.title('Cantidad de Vuelos por día del Mes')\n",
        "plt.ylabel('Número de Vuelos', fontsize=12)\n",
        "plt.xlabel('Día del Mes', fontsize=12)\n",
        "plt.xticks(rotation=90)\n",
        "plt.show()"
      ]
    },
    {
      "cell_type": "code",
      "execution_count": 11,
      "metadata": {
        "colab": {
          "base_uri": "https://localhost:8080/",
          "height": 670
        },
        "id": "BQUJgMApxvJa",
        "outputId": "99e693be-3cba-4c73-9d1d-eca907674f83",
        "scrolled": true
      },
      "outputs": [
        {
          "output_type": "display_data",
          "data": {
            "text/plain": [
              "<Figure size 1080x720 with 1 Axes>"
            ],
            "image/png": "[encoded data removed]"
          },
          "metadata": {}
        }
      ],
      "source": [
        "vuelos = df['DIANOM'].value_counts()\n",
        "dias = [vuelos.index[2], vuelos.index[5], vuelos.index[4], vuelos.index[1], vuelos.index[0], vuelos.index[6], vuelos.index[3]]\n",
        "valores_dias = [vuelos.values[2], vuelos.values[5], vuelos.values[4], vuelos.values[1], vuelos.values[0], vuelos.values[6], vuelos.values[3]]\n",
        "\n",
        "sns.set(style=\"darkgrid\")\n",
        "sns.barplot(dias, valores_dias, color = 'lightblue', alpha=0.8)\n",
        "plt.title('Cantidad de Vuelos por Día de la Semana')\n",
        "plt.ylabel('Número de Vuelos', fontsize=12)\n",
        "plt.xlabel('Día de la Semana', fontsize=12)\n",
        "plt.xticks(rotation=90)\n",
        "plt.show()"
      ]
    },
    {
      "cell_type": "code",
      "execution_count": 12,
      "metadata": {
        "colab": {
          "base_uri": "https://localhost:8080/",
          "height": 627
        },
        "id": "x2eLOsZ4xvJb",
        "outputId": "c308c1bb-2ea4-4ab4-ff9d-3d8b7b878dcb"
      },
      "outputs": [
        {
          "output_type": "display_data",
          "data": {
            "text/plain": [
              "<Figure size 1080x720 with 1 Axes>"
            ],
            "image/png": "[encoded data removed]"
          },
          "metadata": {}
        }
      ],
      "source": [
        "vuelos = df['TIPOVUELO'].value_counts()\n",
        "sns.set(style=\"darkgrid\")\n",
        "sns.barplot(vuelos.index, vuelos.values, alpha=0.9)\n",
        "plt.title('Cantidad de Vuelos por Tipo de Vuelo')\n",
        "plt.ylabel('Número de Vuelos', fontsize=12)\n",
        "plt.xlabel('Tipo de Vuelo', fontsize=12)\n",
        "plt.show()"
      ]
    },
    {
      "cell_type": "code",
      "execution_count": 13,
      "metadata": {
        "colab": {
          "base_uri": "https://localhost:8080/",
          "height": 720
        },
        "id": "34E0_M0bxvJb",
        "outputId": "8c978a2f-15cb-4b02-9ddf-e65bced565ab"
      },
      "outputs": [
        {
          "output_type": "display_data",
          "data": {
            "text/plain": [
              "<Figure size 1080x720 with 1 Axes>"
            ],
            "image/png": "[encoded data removed]"
          },
          "metadata": {}
        }
      ],
      "source": [
        "vuelos = df['SIGLADES'].value_counts()\n",
        "sns.set(style=\"darkgrid\")\n",
        "sns.barplot(vuelos.index, vuelos.values, color = 'lightblue', alpha=0.8)\n",
        "plt.title('Cantidad de Vuelos por Destino')\n",
        "plt.ylabel('Número de Vuelos', fontsize=12)\n",
        "plt.xlabel('Destino', fontsize=12)\n",
        "plt.xticks(rotation=90)\n",
        "\n",
        "plt.show()"
      ]
    },
    {
      "cell_type": "markdown",
      "metadata": {
        "id": "Xw7r3S4ixvJb"
      },
      "source": [
        "Respecto a las distribuciones, se puede ver que dentro de todo la data está distribuida de manera bastante balanceada. De todas formas se pueden notar ciertas particularidades en algunas columnas: \n",
        "* En las aerolíneas LATAM Airlines es la con mayor cantidad de vuelo debido a que es la más grande aquí en chile y es la que tiene mayor cantidad de destinos. SKY Airlines sería la segunda más grande y de ahí en adelante las demás son bastante similares en cuanto a vuelos. \n",
        "* En cuanto a los días del mes, se puede ver como el día 31 tiene menor cantidad que los demás días y esto se puede deber a que hay menos días 31 durante el año.\n",
        "* Con los días de semana, el día sábado es el único en el que se nota una diferencia. Aquí puede ser porque la gente prefiere ese día para quedarse en donde sea que esté y aprovecharlo en caso que esté de viaje para poder recorrer o solamente descansar.\n",
        "* Por parte de los destinos se puede ver que gran parte se lo llevan las ciudades chilenas del norte. Esto puede ser por un alto flujo en minería."
      ]
    },
    {
      "cell_type": "markdown",
      "metadata": {
        "id": "t8q84aOvxvJc"
      },
      "source": [
        "### 2. Genera las columnas adicionales y luego expórtelas en un archivo synthetic_features.csv :"
      ]
    },
    {
      "cell_type": "markdown",
      "metadata": {
        "id": "KB-Sraw4xvJc"
      },
      "source": [
        "* **temporada_alta** : 1 si **Fecha-I** está entre 15-Dic y 3-Mar, o 15-Jul y 31-Jul, o 11-Sep y 30-Sep, 0 si no"
      ]
    },
    {
      "cell_type": "code",
      "execution_count": 14,
      "metadata": {
        "id": "Nih_ZxT4xvJc"
      },
      "outputs": [],
      "source": [
        "from datetime import datetime\n",
        "\n",
        "def temporada_alta(fecha):\n",
        "    fecha_año = int(fecha.split('-')[0])\n",
        "    fecha = datetime.strptime(fecha, '%Y-%m-%d %H:%M:%S')\n",
        "    range1_min = datetime.strptime('15-Dec', '%d-%b').replace(year = fecha_año)\n",
        "    range1_max = datetime.strptime('31-Dec', '%d-%b').replace(year = fecha_año)\n",
        "    range2_min = datetime.strptime('1-Jan', '%d-%b').replace(year = fecha_año)\n",
        "    range2_max = datetime.strptime('3-Mar', '%d-%b').replace(year = fecha_año)\n",
        "    range3_min = datetime.strptime('15-Jul', '%d-%b').replace(year = fecha_año)\n",
        "    range3_max = datetime.strptime('31-Jul', '%d-%b').replace(year = fecha_año)\n",
        "    range4_min = datetime.strptime('11-Sep', '%d-%b').replace(year = fecha_año)\n",
        "    range4_max = datetime.strptime('30-Sep', '%d-%b').replace(year = fecha_año)\n",
        "    \n",
        "    if ((fecha >= range1_min and fecha <= range1_max) or \n",
        "        (fecha >= range2_min and fecha <= range2_max) or \n",
        "        (fecha >= range3_min and fecha <= range3_max) or\n",
        "        (fecha >= range4_min and fecha <= range4_max)):\n",
        "        return 1\n",
        "    else:\n",
        "        return 0\n",
        "    "
      ]
    },
    {
      "cell_type": "code",
      "execution_count": 15,
      "metadata": {
        "id": "P7sp3kqkxvJd",
        "scrolled": true
      },
      "outputs": [],
      "source": [
        "df['temporada_alta'] = df['Fecha-I'].apply(temporada_alta)"
      ]
    },
    {
      "cell_type": "code",
      "execution_count": 16,
      "metadata": {
        "colab": {
          "base_uri": "https://localhost:8080/"
        },
        "id": "vJU74Wy9xvJd",
        "outputId": "4099035d-2c08-4ecf-c49f-9ebf1fa85255"
      },
      "outputs": [
        {
          "output_type": "execute_result",
          "data": {
            "text/plain": [
              "0    46174\n",
              "1    22032\n",
              "Name: temporada_alta, dtype: int64"
            ]
          },
          "metadata": {},
          "execution_count": 16
        }
      ],
      "source": [
        "df['temporada_alta'].value_counts()"
      ]
    },
    {
      "cell_type": "markdown",
      "metadata": {
        "id": "vFYeItGWxvJd"
      },
      "source": [
        "* **dif_min** : diferencia en minutos entre **Fecha-O** y **Fecha-I** ."
      ]
    },
    {
      "cell_type": "code",
      "execution_count": 17,
      "metadata": {
        "id": "kyV-_k96xvJd"
      },
      "outputs": [],
      "source": [
        "def dif_min(data):\n",
        "    fecha_o = datetime.strptime(data['Fecha-O'], '%Y-%m-%d %H:%M:%S')\n",
        "    fecha_i = datetime.strptime(data['Fecha-I'], '%Y-%m-%d %H:%M:%S')\n",
        "    dif_min = ((fecha_o - fecha_i).total_seconds())/60\n",
        "    return dif_min\n",
        "        "
      ]
    },
    {
      "cell_type": "code",
      "execution_count": 18,
      "metadata": {
        "id": "9x_EFHVqxvJe"
      },
      "outputs": [],
      "source": [
        "df['dif_min'] = df.apply(dif_min, axis = 1)"
      ]
    },
    {
      "cell_type": "markdown",
      "metadata": {
        "id": "4o49KyDRxvJe"
      },
      "source": [
        "* **atraso_15** : 1 si **dif_min** > 15, 0 si no."
      ]
    },
    {
      "cell_type": "code",
      "execution_count": 19,
      "metadata": {
        "id": "54voMkdZxvJe"
      },
      "outputs": [],
      "source": [
        "df['atraso_15'] = np.where(df['dif_min'] > 15, 1, 0)"
      ]
    },
    {
      "cell_type": "code",
      "execution_count": 20,
      "metadata": {
        "colab": {
          "base_uri": "https://localhost:8080/"
        },
        "id": "-T_R2ho4xvJe",
        "outputId": "6e574238-e16c-4098-e426-4c0e2b2154fd"
      },
      "outputs": [
        {
          "output_type": "execute_result",
          "data": {
            "text/plain": [
              "0    55592\n",
              "1    12614\n",
              "Name: atraso_15, dtype: int64"
            ]
          },
          "metadata": {},
          "execution_count": 20
        }
      ],
      "source": [
        "df['atraso_15'].value_counts()"
      ]
    },
    {
      "cell_type": "markdown",
      "metadata": {
        "id": "SVXZ2Wt3xvJe"
      },
      "source": [
        "* **periodo_dia** : mañana (entre 5:00 y 11:59), tarde (entre 12:00 y 18:59) y noche (entre 19:00 y 4:59), en base a **Fecha-I**."
      ]
    },
    {
      "cell_type": "code",
      "execution_count": 21,
      "metadata": {
        "id": "4VI4XYThxvJe"
      },
      "outputs": [],
      "source": [
        "def get_periodo_dia(fecha):\n",
        "    fecha_time = datetime.strptime(fecha, '%Y-%m-%d %H:%M:%S').time()\n",
        "    mañana_min = datetime.strptime(\"05:00\", '%H:%M').time()\n",
        "    mañana_max = datetime.strptime(\"11:59\", '%H:%M').time()\n",
        "    tarde_min = datetime.strptime(\"12:00\", '%H:%M').time()\n",
        "    tarde_max = datetime.strptime(\"18:59\", '%H:%M').time()\n",
        "    noche_min1 = datetime.strptime(\"19:00\", '%H:%M').time()\n",
        "    noche_max1 = datetime.strptime(\"23:59\", '%H:%M').time()\n",
        "    noche_min2 = datetime.strptime(\"00:00\", '%H:%M').time()\n",
        "    noche_max2 = datetime.strptime(\"4:59\", '%H:%M').time()\n",
        "    \n",
        "    if(fecha_time > mañana_min and fecha_time < mañana_max):\n",
        "        return 'mañana'\n",
        "    elif(fecha_time > tarde_min and fecha_time < tarde_max):\n",
        "        return 'tarde'\n",
        "    elif((fecha_time > noche_min1 and fecha_time < noche_max1) or\n",
        "         (fecha_time > noche_min2 and fecha_time < noche_max2)):\n",
        "        return 'noche'"
      ]
    },
    {
      "cell_type": "code",
      "execution_count": 22,
      "metadata": {
        "id": "UqfSvNaSxvJf"
      },
      "outputs": [],
      "source": [
        "df['periodo_dia'] = df['Fecha-I'].apply(get_periodo_dia)"
      ]
    },
    {
      "cell_type": "code",
      "execution_count": 23,
      "metadata": {
        "id": "00zwHd3LxvJf"
      },
      "outputs": [],
      "source": [
        "df[['temporada_alta','dif_min','atraso_15','periodo_dia']].to_csv('synthetic_features.csv', index = False)"
      ]
    },
    {
      "cell_type": "markdown",
      "metadata": {
        "id": "a4hmHdJqxvJf"
      },
      "source": [
        "### 3. ¿Cómo se compone la tasa de atraso por destino, aerolínea, mes del año, día de la semana, temporada, tipo de vuelo? ¿Qué variables esperarías que más influyeran en predecir atrasos?"
      ]
    },
    {
      "cell_type": "markdown",
      "metadata": {
        "id": "KD50ISDcxvJf"
      },
      "source": [
        "* ¿Cómo se compone la tasa de atraso por destino, aerolínea, mes del año, día de la semana, temporada, tipo de vuelo?"
      ]
    },
    {
      "cell_type": "code",
      "execution_count": 24,
      "metadata": {
        "id": "-h6Vbv5_xvJf"
      },
      "outputs": [],
      "source": [
        "def calcular_tasa(df, columna):\n",
        "    \n",
        "    dic_atrasos = {}\n",
        "    for _, row in df.iterrows():\n",
        "        if row['atraso_15'] == 1:\n",
        "            if row[columna] not in dic_atrasos:\n",
        "                dic_atrasos[row[columna]] = 1\n",
        "            else:\n",
        "                dic_atrasos[row[columna]] += 1\n",
        "    \n",
        "    total_values = df[columna].value_counts()\n",
        "    \n",
        "    dic_tasas = {}\n",
        "    for name, total in total_values.iteritems():\n",
        "        if name in dic_atrasos:\n",
        "            dic_tasas[name] = round(total / dic_atrasos[name], 2)\n",
        "        else:\n",
        "            dic_tasas[name] = 0\n",
        "            \n",
        "    return pd.DataFrame.from_dict(data = dic_tasas, orient = 'index', columns = ['Tasa (%)'])"
      ]
    },
    {
      "cell_type": "code",
      "execution_count": 25,
      "metadata": {
        "colab": {
          "base_uri": "https://localhost:8080/",
          "height": 423
        },
        "id": "mU6TKj5_xvJg",
        "outputId": "9251b920-8125-4b9e-80fe-3c9432122e4f"
      },
      "outputs": [
        {
          "output_type": "execute_result",
          "data": {
            "text/plain": [
              "                Tasa (%)\n",
              "Buenos Aires        3.91\n",
              "Antofagasta         6.83\n",
              "Lima                4.34\n",
              "Calama              8.18\n",
              "Puerto Montt        5.94\n",
              "...                  ...\n",
              "Quito               1.00\n",
              "Washington          0.00\n",
              "Pisco, Peru         0.00\n",
              "Puerto Stanley      1.00\n",
              "Cochabamba          1.00\n",
              "\n",
              "[62 rows x 1 columns]"
            ],
            "text/html": [
              "\n",
              "  <div id=\"df-f1c3654a-e029-4695-b94b-ecddd9eaf6fe\">\n",
              "    <div class=\"colab-df-container\">\n",
              "      <div>\n",
              "<style scoped>\n",
              "    .dataframe tbody tr th:only-of-type {\n",
              "        vertical-align: middle;\n",
              "    }\n",
              "\n",
              "    .dataframe tbody tr th {\n",
              "        vertical-align: top;\n",
              "    }\n",
              "\n",
              "    .dataframe thead th {\n",
              "        text-align: right;\n",
              "    }\n",
              "</style>\n",
              "<table border=\"1\" class=\"dataframe\">\n",
              "  <thead>\n",
              "    <tr style=\"text-align: right;\">\n",
              "      <th></th>\n",
              "      <th>Tasa (%)</th>\n",
              "    </tr>\n",
              "  </thead>\n",
              "  <tbody>\n",
              "    <tr>\n",
              "      <th>Buenos Aires</th>\n",
              "      <td>3.91</td>\n",
              "    </tr>\n",
              "    <tr>\n",
              "      <th>Antofagasta</th>\n",
              "      <td>6.83</td>\n",
              "    </tr>\n",
              "    <tr>\n",
              "      <th>Lima</th>\n",
              "      <td>4.34</td>\n",
              "    </tr>\n",
              "    <tr>\n",
              "      <th>Calama</th>\n",
              "      <td>8.18</td>\n",
              "    </tr>\n",
              "    <tr>\n",
              "      <th>Puerto Montt</th>\n",
              "      <td>5.94</td>\n",
              "    </tr>\n",
              "    <tr>\n",
              "      <th>...</th>\n",
              "      <td>...</td>\n",
              "    </tr>\n",
              "    <tr>\n",
              "      <th>Quito</th>\n",
              "      <td>1.00</td>\n",
              "    </tr>\n",
              "    <tr>\n",
              "      <th>Washington</th>\n",
              "      <td>0.00</td>\n",
              "    </tr>\n",
              "    <tr>\n",
              "      <th>Pisco, Peru</th>\n",
              "      <td>0.00</td>\n",
              "    </tr>\n",
              "    <tr>\n",
              "      <th>Puerto Stanley</th>\n",
              "      <td>1.00</td>\n",
              "    </tr>\n",
              "    <tr>\n",
              "      <th>Cochabamba</th>\n",
              "      <td>1.00</td>\n",
              "    </tr>\n",
              "  </tbody>\n",
              "</table>\n",
              "<p>62 rows × 1 columns</p>\n",
              "</div>\n",
              "      <button class=\"colab-df-convert\" onclick=\"convertToInteractive('df-f1c3654a-e029-4695-b94b-ecddd9eaf6fe')\"\n",
              "              title=\"Convert this dataframe to an interactive table.\"\n",
              "              style=\"display:none;\">\n",
              "        \n",
              "  <svg xmlns=\"http://www.w3.org/2000/svg\" height=\"24px\"viewBox=\"0 0 24 24\"\n",
              "       width=\"24px\">\n",
              "    <path d=\"M0 0h24v24H0V0z\" fill=\"none\"/>\n",
              "    <path d=\"M18.56 5.44l.94 2.06.94-2.06 2.06-.94-2.06-.94-.94-2.06-.94 2.06-2.06.94zm-11 1L8.5 8.5l.94-2.06 2.06-.94-2.06-.94L8.5 2.5l-.94 2.06-2.06.94zm10 10l.94 2.06.94-2.06 2.06-.94-2.06-.94-.94-2.06-.94 2.06-2.06.94z\"/><path d=\"M17.41 7.96l-1.37-1.37c-.4-.4-.92-.59-1.43-.59-.52 0-1.04.2-1.43.59L10.3 9.45l-7.72 7.72c-.78.78-.78 2.05 0 2.83L4 21.41c.39.39.9.59 1.41.59.51 0 1.02-.2 1.41-.59l7.78-7.78 2.81-2.81c.8-.78.8-2.07 0-2.86zM5.41 20L4 18.59l7.72-7.72 1.47 1.35L5.41 20z\"/>\n",
              "  </svg>\n",
              "      </button>\n",
              "      \n",
              "  <style>\n",
              "    .colab-df-container {\n",
              "      display:flex;\n",
              "      flex-wrap:wrap;\n",
              "      gap: 12px;\n",
              "    }\n",
              "\n",
              "    .colab-df-convert {\n",
              "      background-color: #E8F0FE;\n",
              "      border: none;\n",
              "      border-radius: 50%;\n",
              "      cursor: pointer;\n",
              "      display: none;\n",
              "      fill: #1967D2;\n",
              "      height: 32px;\n",
              "      padding: 0 0 0 0;\n",
              "      width: 32px;\n",
              "    }\n",
              "\n",
              "    .colab-df-convert:hover {\n",
              "      background-color: #E2EBFA;\n",
              "      box-shadow: 0px 1px 2px rgba(60, 64, 67, 0.3), 0px 1px 3px 1px rgba(60, 64, 67, 0.15);\n",
              "      fill: #174EA6;\n",
              "    }\n",
              "\n",
              "    [theme=dark] .colab-df-convert {\n",
              "      background-color: #3B4455;\n",
              "      fill: #D2E3FC;\n",
              "    }\n",
              "\n",
              "    [theme=dark] .colab-df-convert:hover {\n",
              "      background-color: #434B5C;\n",
              "      box-shadow: 0px 1px 3px 1px rgba(0, 0, 0, 0.15);\n",
              "      filter: drop-shadow(0px 1px 2px rgba(0, 0, 0, 0.3));\n",
              "      fill: #FFFFFF;\n",
              "    }\n",
              "  </style>\n",
              "\n",
              "      <script>\n",
              "        const buttonEl =\n",
              "          document.querySelector('#df-f1c3654a-e029-4695-b94b-ecddd9eaf6fe button.colab-df-convert');\n",
              "        buttonEl.style.display =\n",
              "          google.colab.kernel.accessAllowed ? 'block' : 'none';\n",
              "\n",
              "        async function convertToInteractive(key) {\n",
              "          const element = document.querySelector('#df-f1c3654a-e029-4695-b94b-ecddd9eaf6fe');\n",
              "          const dataTable =\n",
              "            await google.colab.kernel.invokeFunction('convertToInteractive',\n",
              "                                                     [key], {});\n",
              "          if (!dataTable) return;\n",
              "\n",
              "          const docLinkHtml = 'Like what you see? Visit the ' +\n",
              "            '<a target=\"_blank\" href=https://colab.research.google.com/notebooks/data_table.ipynb>data table notebook</a>'\n",
              "            + ' to learn more about interactive tables.';\n",
              "          element.innerHTML = '';\n",
              "          dataTable['output_type'] = 'display_data';\n",
              "          await google.colab.output.renderOutput(dataTable, element);\n",
              "          const docLink = document.createElement('div');\n",
              "          docLink.innerHTML = docLinkHtml;\n",
              "          element.appendChild(docLink);\n",
              "        }\n",
              "      </script>\n",
              "    </div>\n",
              "  </div>\n",
              "  "
            ]
          },
          "metadata": {},
          "execution_count": 25
        }
      ],
      "source": [
        "tasas_destinos = calcular_tasa(df, 'SIGLADES')\n",
        "tasas_destinos"
      ]
    },
    {
      "cell_type": "code",
      "execution_count": 26,
      "metadata": {
        "colab": {
          "base_uri": "https://localhost:8080/",
          "height": 449
        },
        "id": "zN5I3KYCxvJg",
        "outputId": "5331f0e0-df5c-4f18-bf4a-fe1940a3fefb"
      },
      "outputs": [
        {
          "output_type": "display_data",
          "data": {
            "text/plain": [
              "<Figure size 1440x360 with 1 Axes>"
            ],
            "image/png": "[encoded data removed]"
          },
          "metadata": {}
        }
      ],
      "source": [
        "tasas_destinos_values = df['SIGLADES'].value_counts().index\n",
        "plt.figure(figsize = (20,5))\n",
        "sns.set(style=\"darkgrid\")\n",
        "sns.barplot(df['SIGLADES'].value_counts().index, tasas_destinos['Tasa (%)'], alpha = 0.75)\n",
        "plt.title('Tasa de Retraso por Destino')\n",
        "plt.ylabel('Tasa de Retraso [%]', fontsize=12)\n",
        "plt.xlabel('Destino', fontsize=12)\n",
        "plt.xticks(rotation=90)\n",
        "plt.show()"
      ]
    },
    {
      "cell_type": "code",
      "execution_count": 27,
      "metadata": {
        "colab": {
          "base_uri": "https://localhost:8080/",
          "height": 770
        },
        "id": "UPCPC-_3xvJg",
        "outputId": "1a9ba811-5260-4a80-a2ed-e94e4ee03c0f",
        "scrolled": true
      },
      "outputs": [
        {
          "output_type": "execute_result",
          "data": {
            "text/plain": [
              "                          Tasa (%)\n",
              "Grupo LATAM                   5.60\n",
              "Sky Airline                   5.63\n",
              "Aerolineas Argentinas         4.16\n",
              "Copa Air                     15.95\n",
              "Latin American Wings          2.46\n",
              "Avianca                       3.76\n",
              "JetSmart SPA                  5.59\n",
              "Gol Trans                     2.81\n",
              "American Airlines            14.84\n",
              "Air Canada                    2.19\n",
              "Iberia                       10.06\n",
              "Delta Air                    17.05\n",
              "Air France                   11.93\n",
              "Aeromexico                   35.10\n",
              "United Airlines              19.71\n",
              "Oceanair Linhas Aereas        6.49\n",
              "Alitalia                      8.93\n",
              "K.L.M.                       11.95\n",
              "British Airways               7.07\n",
              "Qantas Airways                1.73\n",
              "Lacsa                         8.36\n",
              "Austral                       4.93\n",
              "Plus Ultra Lineas Aereas      1.63"
            ],
            "text/html": [
              "\n",
              "  <div id=\"df-b6dda2ca-a125-46c8-b445-e665db91de0e\">\n",
              "    <div class=\"colab-df-container\">\n",
              "      <div>\n",
              "<style scoped>\n",
              "    .dataframe tbody tr th:only-of-type {\n",
              "        vertical-align: middle;\n",
              "    }\n",
              "\n",
              "    .dataframe tbody tr th {\n",
              "        vertical-align: top;\n",
              "    }\n",
              "\n",
              "    .dataframe thead th {\n",
              "        text-align: right;\n",
              "    }\n",
              "</style>\n",
              "<table border=\"1\" class=\"dataframe\">\n",
              "  <thead>\n",
              "    <tr style=\"text-align: right;\">\n",
              "      <th></th>\n",
              "      <th>Tasa (%)</th>\n",
              "    </tr>\n",
              "  </thead>\n",
              "  <tbody>\n",
              "    <tr>\n",
              "      <th>Grupo LATAM</th>\n",
              "      <td>5.60</td>\n",
              "    </tr>\n",
              "    <tr>\n",
              "      <th>Sky Airline</th>\n",
              "      <td>5.63</td>\n",
              "    </tr>\n",
              "    <tr>\n",
              "      <th>Aerolineas Argentinas</th>\n",
              "      <td>4.16</td>\n",
              "    </tr>\n",
              "    <tr>\n",
              "      <th>Copa Air</th>\n",
              "      <td>15.95</td>\n",
              "    </tr>\n",
              "    <tr>\n",
              "      <th>Latin American Wings</th>\n",
              "      <td>2.46</td>\n",
              "    </tr>\n",
              "    <tr>\n",
              "      <th>Avianca</th>\n",
              "      <td>3.76</td>\n",
              "    </tr>\n",
              "    <tr>\n",
              "      <th>JetSmart SPA</th>\n",
              "      <td>5.59</td>\n",
              "    </tr>\n",
              "    <tr>\n",
              "      <th>Gol Trans</th>\n",
              "      <td>2.81</td>\n",
              "    </tr>\n",
              "    <tr>\n",
              "      <th>American Airlines</th>\n",
              "      <td>14.84</td>\n",
              "    </tr>\n",
              "    <tr>\n",
              "      <th>Air Canada</th>\n",
              "      <td>2.19</td>\n",
              "    </tr>\n",
              "    <tr>\n",
              "      <th>Iberia</th>\n",
              "      <td>10.06</td>\n",
              "    </tr>\n",
              "    <tr>\n",
              "      <th>Delta Air</th>\n",
              "      <td>17.05</td>\n",
              "    </tr>\n",
              "    <tr>\n",
              "      <th>Air France</th>\n",
              "      <td>11.93</td>\n",
              "    </tr>\n",
              "    <tr>\n",
              "      <th>Aeromexico</th>\n",
              "      <td>35.10</td>\n",
              "    </tr>\n",
              "    <tr>\n",
              "      <th>United Airlines</th>\n",
              "      <td>19.71</td>\n",
              "    </tr>\n",
              "    <tr>\n",
              "      <th>Oceanair Linhas Aereas</th>\n",
              "      <td>6.49</td>\n",
              "    </tr>\n",
              "    <tr>\n",
              "      <th>Alitalia</th>\n",
              "      <td>8.93</td>\n",
              "    </tr>\n",
              "    <tr>\n",
              "      <th>K.L.M.</th>\n",
              "      <td>11.95</td>\n",
              "    </tr>\n",
              "    <tr>\n",
              "      <th>British Airways</th>\n",
              "      <td>7.07</td>\n",
              "    </tr>\n",
              "    <tr>\n",
              "      <th>Qantas Airways</th>\n",
              "      <td>1.73</td>\n",
              "    </tr>\n",
              "    <tr>\n",
              "      <th>Lacsa</th>\n",
              "      <td>8.36</td>\n",
              "    </tr>\n",
              "    <tr>\n",
              "      <th>Austral</th>\n",
              "      <td>4.93</td>\n",
              "    </tr>\n",
              "    <tr>\n",
              "      <th>Plus Ultra Lineas Aereas</th>\n",
              "      <td>1.63</td>\n",
              "    </tr>\n",
              "  </tbody>\n",
              "</table>\n",
              "</div>\n",
              "      <button class=\"colab-df-convert\" onclick=\"convertToInteractive('df-b6dda2ca-a125-46c8-b445-e665db91de0e')\"\n",
              "              title=\"Convert this dataframe to an interactive table.\"\n",
              "              style=\"display:none;\">\n",
              "        \n",
              "  <svg xmlns=\"http://www.w3.org/2000/svg\" height=\"24px\"viewBox=\"0 0 24 24\"\n",
              "       width=\"24px\">\n",
              "    <path d=\"M0 0h24v24H0V0z\" fill=\"none\"/>\n",
              "    <path d=\"M18.56 5.44l.94 2.06.94-2.06 2.06-.94-2.06-.94-.94-2.06-.94 2.06-2.06.94zm-11 1L8.5 8.5l.94-2.06 2.06-.94-2.06-.94L8.5 2.5l-.94 2.06-2.06.94zm10 10l.94 2.06.94-2.06 2.06-.94-2.06-.94-.94-2.06-.94 2.06-2.06.94z\"/><path d=\"M17.41 7.96l-1.37-1.37c-.4-.4-.92-.59-1.43-.59-.52 0-1.04.2-1.43.59L10.3 9.45l-7.72 7.72c-.78.78-.78 2.05 0 2.83L4 21.41c.39.39.9.59 1.41.59.51 0 1.02-.2 1.41-.59l7.78-7.78 2.81-2.81c.8-.78.8-2.07 0-2.86zM5.41 20L4 18.59l7.72-7.72 1.47 1.35L5.41 20z\"/>\n",
              "  </svg>\n",
              "      </button>\n",
              "      \n",
              "  <style>\n",
              "    .colab-df-container {\n",
              "      display:flex;\n",
              "      flex-wrap:wrap;\n",
              "      gap: 12px;\n",
              "    }\n",
              "\n",
              "    .colab-df-convert {\n",
              "      background-color: #E8F0FE;\n",
              "      border: none;\n",
              "      border-radius: 50%;\n",
              "      cursor: pointer;\n",
              "      display: none;\n",
              "      fill: #1967D2;\n",
              "      height: 32px;\n",
              "      padding: 0 0 0 0;\n",
              "      width: 32px;\n",
              "    }\n",
              "\n",
              "    .colab-df-convert:hover {\n",
              "      background-color: #E2EBFA;\n",
              "      box-shadow: 0px 1px 2px rgba(60, 64, 67, 0.3), 0px 1px 3px 1px rgba(60, 64, 67, 0.15);\n",
              "      fill: #174EA6;\n",
              "    }\n",
              "\n",
              "    [theme=dark] .colab-df-convert {\n",
              "      background-color: #3B4455;\n",
              "      fill: #D2E3FC;\n",
              "    }\n",
              "\n",
              "    [theme=dark] .colab-df-convert:hover {\n",
              "      background-color: #434B5C;\n",
              "      box-shadow: 0px 1px 3px 1px rgba(0, 0, 0, 0.15);\n",
              "      filter: drop-shadow(0px 1px 2px rgba(0, 0, 0, 0.3));\n",
              "      fill: #FFFFFF;\n",
              "    }\n",
              "  </style>\n",
              "\n",
              "      <script>\n",
              "        const buttonEl =\n",
              "          document.querySelector('#df-b6dda2ca-a125-46c8-b445-e665db91de0e button.colab-df-convert');\n",
              "        buttonEl.style.display =\n",
              "          google.colab.kernel.accessAllowed ? 'block' : 'none';\n",
              "\n",
              "        async function convertToInteractive(key) {\n",
              "          const element = document.querySelector('#df-b6dda2ca-a125-46c8-b445-e665db91de0e');\n",
              "          const dataTable =\n",
              "            await google.colab.kernel.invokeFunction('convertToInteractive',\n",
              "                                                     [key], {});\n",
              "          if (!dataTable) return;\n",
              "\n",
              "          const docLinkHtml = 'Like what you see? Visit the ' +\n",
              "            '<a target=\"_blank\" href=https://colab.research.google.com/notebooks/data_table.ipynb>data table notebook</a>'\n",
              "            + ' to learn more about interactive tables.';\n",
              "          element.innerHTML = '';\n",
              "          dataTable['output_type'] = 'display_data';\n",
              "          await google.colab.output.renderOutput(dataTable, element);\n",
              "          const docLink = document.createElement('div');\n",
              "          docLink.innerHTML = docLinkHtml;\n",
              "          element.appendChild(docLink);\n",
              "        }\n",
              "      </script>\n",
              "    </div>\n",
              "  </div>\n",
              "  "
            ]
          },
          "metadata": {},
          "execution_count": 27
        }
      ],
      "source": [
        "tasas_aerolineas = calcular_tasa(df, 'OPERA')\n",
        "tasas_aerolineas"
      ]
    },
    {
      "cell_type": "code",
      "execution_count": 28,
      "metadata": {
        "colab": {
          "base_uri": "https://localhost:8080/",
          "height": 479
        },
        "id": "g3F3YF02xvJh",
        "outputId": "f24e1736-d074-4596-a1d5-afe48262d4ab"
      },
      "outputs": [
        {
          "output_type": "display_data",
          "data": {
            "text/plain": [
              "<Figure size 720x360 with 1 Axes>"
            ],
            "image/png": "[encoded data removed]"
          },
          "metadata": {}
        }
      ],
      "source": [
        "tasas_aerolineas_values = df['OPERA'].value_counts().index\n",
        "\n",
        "plt.figure(figsize = (10,5))\n",
        "sns.set(style=\"darkgrid\")\n",
        "sns.barplot(tasas_aerolineas_values, tasas_aerolineas['Tasa (%)'], alpha = 0.75)\n",
        "plt.title('Tasa de Retraso por Aerlínea')\n",
        "plt.ylabel('Tasa de Retraso [%]', fontsize=12)\n",
        "plt.xlabel('Aerolínea', fontsize=12)\n",
        "plt.xticks(rotation=90)\n",
        "plt.show()"
      ]
    },
    {
      "cell_type": "code",
      "execution_count": 29,
      "metadata": {
        "colab": {
          "base_uri": "https://localhost:8080/",
          "height": 425
        },
        "collapsed": true,
        "id": "xgWGPNvBxvJh",
        "outputId": "6c351bc6-dc47-4146-db82-e41769c1353f"
      },
      "outputs": [
        {
          "output_type": "execute_result",
          "data": {
            "text/plain": [
              "    Tasa (%)\n",
              "12      3.94\n",
              "1       6.25\n",
              "11      5.07\n",
              "10      4.43\n",
              "7       3.41\n",
              "8       5.77\n",
              "9       5.80\n",
              "2       6.60\n",
              "3       8.69\n",
              "5       6.34\n",
              "4       8.58\n",
              "6       5.85"
            ],
            "text/html": [
              "\n",
              "  <div id=\"df-2e1b096d-3963-4c7c-a770-f1d763287455\">\n",
              "    <div class=\"colab-df-container\">\n",
              "      <div>\n",
              "<style scoped>\n",
              "    .dataframe tbody tr th:only-of-type {\n",
              "        vertical-align: middle;\n",
              "    }\n",
              "\n",
              "    .dataframe tbody tr th {\n",
              "        vertical-align: top;\n",
              "    }\n",
              "\n",
              "    .dataframe thead th {\n",
              "        text-align: right;\n",
              "    }\n",
              "</style>\n",
              "<table border=\"1\" class=\"dataframe\">\n",
              "  <thead>\n",
              "    <tr style=\"text-align: right;\">\n",
              "      <th></th>\n",
              "      <th>Tasa (%)</th>\n",
              "    </tr>\n",
              "  </thead>\n",
              "  <tbody>\n",
              "    <tr>\n",
              "      <th>12</th>\n",
              "      <td>3.94</td>\n",
              "    </tr>\n",
              "    <tr>\n",
              "      <th>1</th>\n",
              "      <td>6.25</td>\n",
              "    </tr>\n",
              "    <tr>\n",
              "      <th>11</th>\n",
              "      <td>5.07</td>\n",
              "    </tr>\n",
              "    <tr>\n",
              "      <th>10</th>\n",
              "      <td>4.43</td>\n",
              "    </tr>\n",
              "    <tr>\n",
              "      <th>7</th>\n",
              "      <td>3.41</td>\n",
              "    </tr>\n",
              "    <tr>\n",
              "      <th>8</th>\n",
              "      <td>5.77</td>\n",
              "    </tr>\n",
              "    <tr>\n",
              "      <th>9</th>\n",
              "      <td>5.80</td>\n",
              "    </tr>\n",
              "    <tr>\n",
              "      <th>2</th>\n",
              "      <td>6.60</td>\n",
              "    </tr>\n",
              "    <tr>\n",
              "      <th>3</th>\n",
              "      <td>8.69</td>\n",
              "    </tr>\n",
              "    <tr>\n",
              "      <th>5</th>\n",
              "      <td>6.34</td>\n",
              "    </tr>\n",
              "    <tr>\n",
              "      <th>4</th>\n",
              "      <td>8.58</td>\n",
              "    </tr>\n",
              "    <tr>\n",
              "      <th>6</th>\n",
              "      <td>5.85</td>\n",
              "    </tr>\n",
              "  </tbody>\n",
              "</table>\n",
              "</div>\n",
              "      <button class=\"colab-df-convert\" onclick=\"convertToInteractive('df-2e1b096d-3963-4c7c-a770-f1d763287455')\"\n",
              "              title=\"Convert this dataframe to an interactive table.\"\n",
              "              style=\"display:none;\">\n",
              "        \n",
              "  <svg xmlns=\"http://www.w3.org/2000/svg\" height=\"24px\"viewBox=\"0 0 24 24\"\n",
              "       width=\"24px\">\n",
              "    <path d=\"M0 0h24v24H0V0z\" fill=\"none\"/>\n",
              "    <path d=\"M18.56 5.44l.94 2.06.94-2.06 2.06-.94-2.06-.94-.94-2.06-.94 2.06-2.06.94zm-11 1L8.5 8.5l.94-2.06 2.06-.94-2.06-.94L8.5 2.5l-.94 2.06-2.06.94zm10 10l.94 2.06.94-2.06 2.06-.94-2.06-.94-.94-2.06-.94 2.06-2.06.94z\"/><path d=\"M17.41 7.96l-1.37-1.37c-.4-.4-.92-.59-1.43-.59-.52 0-1.04.2-1.43.59L10.3 9.45l-7.72 7.72c-.78.78-.78 2.05 0 2.83L4 21.41c.39.39.9.59 1.41.59.51 0 1.02-.2 1.41-.59l7.78-7.78 2.81-2.81c.8-.78.8-2.07 0-2.86zM5.41 20L4 18.59l7.72-7.72 1.47 1.35L5.41 20z\"/>\n",
              "  </svg>\n",
              "      </button>\n",
              "      \n",
              "  <style>\n",
              "    .colab-df-container {\n",
              "      display:flex;\n",
              "      flex-wrap:wrap;\n",
              "      gap: 12px;\n",
              "    }\n",
              "\n",
              "    .colab-df-convert {\n",
              "      background-color: #E8F0FE;\n",
              "      border: none;\n",
              "      border-radius: 50%;\n",
              "      cursor: pointer;\n",
              "      display: none;\n",
              "      fill: #1967D2;\n",
              "      height: 32px;\n",
              "      padding: 0 0 0 0;\n",
              "      width: 32px;\n",
              "    }\n",
              "\n",
              "    .colab-df-convert:hover {\n",
              "      background-color: #E2EBFA;\n",
              "      box-shadow: 0px 1px 2px rgba(60, 64, 67, 0.3), 0px 1px 3px 1px rgba(60, 64, 67, 0.15);\n",
              "      fill: #174EA6;\n",
              "    }\n",
              "\n",
              "    [theme=dark] .colab-df-convert {\n",
              "      background-color: #3B4455;\n",
              "      fill: #D2E3FC;\n",
              "    }\n",
              "\n",
              "    [theme=dark] .colab-df-convert:hover {\n",
              "      background-color: #434B5C;\n",
              "      box-shadow: 0px 1px 3px 1px rgba(0, 0, 0, 0.15);\n",
              "      filter: drop-shadow(0px 1px 2px rgba(0, 0, 0, 0.3));\n",
              "      fill: #FFFFFF;\n",
              "    }\n",
              "  </style>\n",
              "\n",
              "      <script>\n",
              "        const buttonEl =\n",
              "          document.querySelector('#df-2e1b096d-3963-4c7c-a770-f1d763287455 button.colab-df-convert');\n",
              "        buttonEl.style.display =\n",
              "          google.colab.kernel.accessAllowed ? 'block' : 'none';\n",
              "\n",
              "        async function convertToInteractive(key) {\n",
              "          const element = document.querySelector('#df-2e1b096d-3963-4c7c-a770-f1d763287455');\n",
              "          const dataTable =\n",
              "            await google.colab.kernel.invokeFunction('convertToInteractive',\n",
              "                                                     [key], {});\n",
              "          if (!dataTable) return;\n",
              "\n",
              "          const docLinkHtml = 'Like what you see? Visit the ' +\n",
              "            '<a target=\"_blank\" href=https://colab.research.google.com/notebooks/data_table.ipynb>data table notebook</a>'\n",
              "            + ' to learn more about interactive tables.';\n",
              "          element.innerHTML = '';\n",
              "          dataTable['output_type'] = 'display_data';\n",
              "          await google.colab.output.renderOutput(dataTable, element);\n",
              "          const docLink = document.createElement('div');\n",
              "          docLink.innerHTML = docLinkHtml;\n",
              "          element.appendChild(docLink);\n",
              "        }\n",
              "      </script>\n",
              "    </div>\n",
              "  </div>\n",
              "  "
            ]
          },
          "metadata": {},
          "execution_count": 29
        }
      ],
      "source": [
        "tasas_meses = calcular_tasa(df, 'MES')\n",
        "tasas_meses"
      ]
    },
    {
      "cell_type": "code",
      "execution_count": 30,
      "metadata": {
        "colab": {
          "base_uri": "https://localhost:8080/",
          "height": 359
        },
        "id": "-O2MAyvXxvJh",
        "outputId": "2fd884f8-76a2-480e-b7b9-08cfaec92402"
      },
      "outputs": [
        {
          "output_type": "display_data",
          "data": {
            "text/plain": [
              "<Figure size 720x360 with 1 Axes>"
            ],
            "image/png": "[encoded data removed]"
          },
          "metadata": {}
        }
      ],
      "source": [
        "tasas_meses_values = df['MES'].value_counts().index\n",
        "\n",
        "plt.figure(figsize = (10,5))\n",
        "sns.set(style=\"darkgrid\")\n",
        "sns.barplot(tasas_meses_values, tasas_meses['Tasa (%)'], color = 'blue', alpha = 0.75)\n",
        "plt.title('Tasa de Retraso por Mes')\n",
        "plt.ylabel('Tasa de Retraso [%]', fontsize=12)\n",
        "plt.xlabel('Meses', fontsize=12)\n",
        "plt.xticks(rotation=90)\n",
        "plt.ylim(0,10)\n",
        "plt.show()"
      ]
    },
    {
      "cell_type": "code",
      "execution_count": 31,
      "metadata": {
        "colab": {
          "base_uri": "https://localhost:8080/",
          "height": 269
        },
        "id": "_ypPtW99xvJh",
        "outputId": "4aa70aaa-d3d9-4785-9c87-534fc1eebc98"
      },
      "outputs": [
        {
          "output_type": "execute_result",
          "data": {
            "text/plain": [
              "           Tasa (%)\n",
              "Viernes        4.50\n",
              "Jueves         5.01\n",
              "Lunes          4.95\n",
              "Domingo        6.21\n",
              "Miercoles      5.85\n",
              "Martes         5.91\n",
              "Sabado         6.13"
            ],
            "text/html": [
              "\n",
              "  <div id=\"df-d0d86e2c-5c6c-4767-a48e-c013be0ce5e8\">\n",
              "    <div class=\"colab-df-container\">\n",
              "      <div>\n",
              "<style scoped>\n",
              "    .dataframe tbody tr th:only-of-type {\n",
              "        vertical-align: middle;\n",
              "    }\n",
              "\n",
              "    .dataframe tbody tr th {\n",
              "        vertical-align: top;\n",
              "    }\n",
              "\n",
              "    .dataframe thead th {\n",
              "        text-align: right;\n",
              "    }\n",
              "</style>\n",
              "<table border=\"1\" class=\"dataframe\">\n",
              "  <thead>\n",
              "    <tr style=\"text-align: right;\">\n",
              "      <th></th>\n",
              "      <th>Tasa (%)</th>\n",
              "    </tr>\n",
              "  </thead>\n",
              "  <tbody>\n",
              "    <tr>\n",
              "      <th>Viernes</th>\n",
              "      <td>4.50</td>\n",
              "    </tr>\n",
              "    <tr>\n",
              "      <th>Jueves</th>\n",
              "      <td>5.01</td>\n",
              "    </tr>\n",
              "    <tr>\n",
              "      <th>Lunes</th>\n",
              "      <td>4.95</td>\n",
              "    </tr>\n",
              "    <tr>\n",
              "      <th>Domingo</th>\n",
              "      <td>6.21</td>\n",
              "    </tr>\n",
              "    <tr>\n",
              "      <th>Miercoles</th>\n",
              "      <td>5.85</td>\n",
              "    </tr>\n",
              "    <tr>\n",
              "      <th>Martes</th>\n",
              "      <td>5.91</td>\n",
              "    </tr>\n",
              "    <tr>\n",
              "      <th>Sabado</th>\n",
              "      <td>6.13</td>\n",
              "    </tr>\n",
              "  </tbody>\n",
              "</table>\n",
              "</div>\n",
              "      <button class=\"colab-df-convert\" onclick=\"convertToInteractive('df-d0d86e2c-5c6c-4767-a48e-c013be0ce5e8')\"\n",
              "              title=\"Convert this dataframe to an interactive table.\"\n",
              "              style=\"display:none;\">\n",
              "        \n",
              "  <svg xmlns=\"http://www.w3.org/2000/svg\" height=\"24px\"viewBox=\"0 0 24 24\"\n",
              "       width=\"24px\">\n",
              "    <path d=\"M0 0h24v24H0V0z\" fill=\"none\"/>\n",
              "    <path d=\"M18.56 5.44l.94 2.06.94-2.06 2.06-.94-2.06-.94-.94-2.06-.94 2.06-2.06.94zm-11 1L8.5 8.5l.94-2.06 2.06-.94-2.06-.94L8.5 2.5l-.94 2.06-2.06.94zm10 10l.94 2.06.94-2.06 2.06-.94-2.06-.94-.94-2.06-.94 2.06-2.06.94z\"/><path d=\"M17.41 7.96l-1.37-1.37c-.4-.4-.92-.59-1.43-.59-.52 0-1.04.2-1.43.59L10.3 9.45l-7.72 7.72c-.78.78-.78 2.05 0 2.83L4 21.41c.39.39.9.59 1.41.59.51 0 1.02-.2 1.41-.59l7.78-7.78 2.81-2.81c.8-.78.8-2.07 0-2.86zM5.41 20L4 18.59l7.72-7.72 1.47 1.35L5.41 20z\"/>\n",
              "  </svg>\n",
              "      </button>\n",
              "      \n",
              "  <style>\n",
              "    .colab-df-container {\n",
              "      display:flex;\n",
              "      flex-wrap:wrap;\n",
              "      gap: 12px;\n",
              "    }\n",
              "\n",
              "    .colab-df-convert {\n",
              "      background-color: #E8F0FE;\n",
              "      border: none;\n",
              "      border-radius: 50%;\n",
              "      cursor: pointer;\n",
              "      display: none;\n",
              "      fill: #1967D2;\n",
              "      height: 32px;\n",
              "      padding: 0 0 0 0;\n",
              "      width: 32px;\n",
              "    }\n",
              "\n",
              "    .colab-df-convert:hover {\n",
              "      background-color: #E2EBFA;\n",
              "      box-shadow: 0px 1px 2px rgba(60, 64, 67, 0.3), 0px 1px 3px 1px rgba(60, 64, 67, 0.15);\n",
              "      fill: #174EA6;\n",
              "    }\n",
              "\n",
              "    [theme=dark] .colab-df-convert {\n",
              "      background-color: #3B4455;\n",
              "      fill: #D2E3FC;\n",
              "    }\n",
              "\n",
              "    [theme=dark] .colab-df-convert:hover {\n",
              "      background-color: #434B5C;\n",
              "      box-shadow: 0px 1px 3px 1px rgba(0, 0, 0, 0.15);\n",
              "      filter: drop-shadow(0px 1px 2px rgba(0, 0, 0, 0.3));\n",
              "      fill: #FFFFFF;\n",
              "    }\n",
              "  </style>\n",
              "\n",
              "      <script>\n",
              "        const buttonEl =\n",
              "          document.querySelector('#df-d0d86e2c-5c6c-4767-a48e-c013be0ce5e8 button.colab-df-convert');\n",
              "        buttonEl.style.display =\n",
              "          google.colab.kernel.accessAllowed ? 'block' : 'none';\n",
              "\n",
              "        async function convertToInteractive(key) {\n",
              "          const element = document.querySelector('#df-d0d86e2c-5c6c-4767-a48e-c013be0ce5e8');\n",
              "          const dataTable =\n",
              "            await google.colab.kernel.invokeFunction('convertToInteractive',\n",
              "                                                     [key], {});\n",
              "          if (!dataTable) return;\n",
              "\n",
              "          const docLinkHtml = 'Like what you see? Visit the ' +\n",
              "            '<a target=\"_blank\" href=https://colab.research.google.com/notebooks/data_table.ipynb>data table notebook</a>'\n",
              "            + ' to learn more about interactive tables.';\n",
              "          element.innerHTML = '';\n",
              "          dataTable['output_type'] = 'display_data';\n",
              "          await google.colab.output.renderOutput(dataTable, element);\n",
              "          const docLink = document.createElement('div');\n",
              "          docLink.innerHTML = docLinkHtml;\n",
              "          element.appendChild(docLink);\n",
              "        }\n",
              "      </script>\n",
              "    </div>\n",
              "  </div>\n",
              "  "
            ]
          },
          "metadata": {},
          "execution_count": 31
        }
      ],
      "source": [
        "tasas_dias = calcular_tasa(df, 'DIANOM')\n",
        "tasas_dias"
      ]
    },
    {
      "cell_type": "code",
      "execution_count": 32,
      "metadata": {
        "colab": {
          "base_uri": "https://localhost:8080/",
          "height": 452
        },
        "id": "raXWLaVZxvJi",
        "outputId": "2b99ac23-7493-4ea6-ec91-3a1bb9f5c827"
      },
      "outputs": [
        {
          "output_type": "display_data",
          "data": {
            "text/plain": [
              "<Figure size 576x432 with 1 Axes>"
            ],
            "image/png": "[encoded data removed]"
          },
          "metadata": {}
        }
      ],
      "source": [
        "tasas_dias_values = df['DIANOM'].value_counts().index\n",
        "\n",
        "sns.set(style=\"darkgrid\")\n",
        "plt.figure(figsize = (8,6))\n",
        "sns.barplot(tasas_dias_values, tasas_dias['Tasa (%)'], color = 'blue', alpha = 0.75)\n",
        "plt.title('Tasa de Retraso por Día')\n",
        "plt.ylabel('Tasa de Retraso [%]', fontsize=12)\n",
        "plt.xlabel('Días', fontsize=12)\n",
        "plt.xticks(rotation=90)\n",
        "plt.ylim(0,7)\n",
        "plt.show()"
      ]
    },
    {
      "cell_type": "code",
      "execution_count": 33,
      "metadata": {
        "colab": {
          "base_uri": "https://localhost:8080/",
          "height": 112
        },
        "id": "p_mqbGlFxvJi",
        "outputId": "14a5ecb5-af13-4571-aac2-67abf4c3f87b"
      },
      "outputs": [
        {
          "output_type": "execute_result",
          "data": {
            "text/plain": [
              "   Tasa (%)\n",
              "0      5.58\n",
              "1      5.08"
            ],
            "text/html": [
              "\n",
              "  <div id=\"df-aab3a5a8-4208-41d9-8e74-8b4330e8b369\">\n",
              "    <div class=\"colab-df-container\">\n",
              "      <div>\n",
              "<style scoped>\n",
              "    .dataframe tbody tr th:only-of-type {\n",
              "        vertical-align: middle;\n",
              "    }\n",
              "\n",
              "    .dataframe tbody tr th {\n",
              "        vertical-align: top;\n",
              "    }\n",
              "\n",
              "    .dataframe thead th {\n",
              "        text-align: right;\n",
              "    }\n",
              "</style>\n",
              "<table border=\"1\" class=\"dataframe\">\n",
              "  <thead>\n",
              "    <tr style=\"text-align: right;\">\n",
              "      <th></th>\n",
              "      <th>Tasa (%)</th>\n",
              "    </tr>\n",
              "  </thead>\n",
              "  <tbody>\n",
              "    <tr>\n",
              "      <th>0</th>\n",
              "      <td>5.58</td>\n",
              "    </tr>\n",
              "    <tr>\n",
              "      <th>1</th>\n",
              "      <td>5.08</td>\n",
              "    </tr>\n",
              "  </tbody>\n",
              "</table>\n",
              "</div>\n",
              "      <button class=\"colab-df-convert\" onclick=\"convertToInteractive('df-aab3a5a8-4208-41d9-8e74-8b4330e8b369')\"\n",
              "              title=\"Convert this dataframe to an interactive table.\"\n",
              "              style=\"display:none;\">\n",
              "        \n",
              "  <svg xmlns=\"http://www.w3.org/2000/svg\" height=\"24px\"viewBox=\"0 0 24 24\"\n",
              "       width=\"24px\">\n",
              "    <path d=\"M0 0h24v24H0V0z\" fill=\"none\"/>\n",
              "    <path d=\"M18.56 5.44l.94 2.06.94-2.06 2.06-.94-2.06-.94-.94-2.06-.94 2.06-2.06.94zm-11 1L8.5 8.5l.94-2.06 2.06-.94-2.06-.94L8.5 2.5l-.94 2.06-2.06.94zm10 10l.94 2.06.94-2.06 2.06-.94-2.06-.94-.94-2.06-.94 2.06-2.06.94z\"/><path d=\"M17.41 7.96l-1.37-1.37c-.4-.4-.92-.59-1.43-.59-.52 0-1.04.2-1.43.59L10.3 9.45l-7.72 7.72c-.78.78-.78 2.05 0 2.83L4 21.41c.39.39.9.59 1.41.59.51 0 1.02-.2 1.41-.59l7.78-7.78 2.81-2.81c.8-.78.8-2.07 0-2.86zM5.41 20L4 18.59l7.72-7.72 1.47 1.35L5.41 20z\"/>\n",
              "  </svg>\n",
              "      </button>\n",
              "      \n",
              "  <style>\n",
              "    .colab-df-container {\n",
              "      display:flex;\n",
              "      flex-wrap:wrap;\n",
              "      gap: 12px;\n",
              "    }\n",
              "\n",
              "    .colab-df-convert {\n",
              "      background-color: #E8F0FE;\n",
              "      border: none;\n",
              "      border-radius: 50%;\n",
              "      cursor: pointer;\n",
              "      display: none;\n",
              "      fill: #1967D2;\n",
              "      height: 32px;\n",
              "      padding: 0 0 0 0;\n",
              "      width: 32px;\n",
              "    }\n",
              "\n",
              "    .colab-df-convert:hover {\n",
              "      background-color: #E2EBFA;\n",
              "      box-shadow: 0px 1px 2px rgba(60, 64, 67, 0.3), 0px 1px 3px 1px rgba(60, 64, 67, 0.15);\n",
              "      fill: #174EA6;\n",
              "    }\n",
              "\n",
              "    [theme=dark] .colab-df-convert {\n",
              "      background-color: #3B4455;\n",
              "      fill: #D2E3FC;\n",
              "    }\n",
              "\n",
              "    [theme=dark] .colab-df-convert:hover {\n",
              "      background-color: #434B5C;\n",
              "      box-shadow: 0px 1px 3px 1px rgba(0, 0, 0, 0.15);\n",
              "      filter: drop-shadow(0px 1px 2px rgba(0, 0, 0, 0.3));\n",
              "      fill: #FFFFFF;\n",
              "    }\n",
              "  </style>\n",
              "\n",
              "      <script>\n",
              "        const buttonEl =\n",
              "          document.querySelector('#df-aab3a5a8-4208-41d9-8e74-8b4330e8b369 button.colab-df-convert');\n",
              "        buttonEl.style.display =\n",
              "          google.colab.kernel.accessAllowed ? 'block' : 'none';\n",
              "\n",
              "        async function convertToInteractive(key) {\n",
              "          const element = document.querySelector('#df-aab3a5a8-4208-41d9-8e74-8b4330e8b369');\n",
              "          const dataTable =\n",
              "            await google.colab.kernel.invokeFunction('convertToInteractive',\n",
              "                                                     [key], {});\n",
              "          if (!dataTable) return;\n",
              "\n",
              "          const docLinkHtml = 'Like what you see? Visit the ' +\n",
              "            '<a target=\"_blank\" href=https://colab.research.google.com/notebooks/data_table.ipynb>data table notebook</a>'\n",
              "            + ' to learn more about interactive tables.';\n",
              "          element.innerHTML = '';\n",
              "          dataTable['output_type'] = 'display_data';\n",
              "          await google.colab.output.renderOutput(dataTable, element);\n",
              "          const docLink = document.createElement('div');\n",
              "          docLink.innerHTML = docLinkHtml;\n",
              "          element.appendChild(docLink);\n",
              "        }\n",
              "      </script>\n",
              "    </div>\n",
              "  </div>\n",
              "  "
            ]
          },
          "metadata": {},
          "execution_count": 33
        }
      ],
      "source": [
        "tasas_temporada = calcular_tasa(df, 'temporada_alta')\n",
        "tasas_temporada"
      ]
    },
    {
      "cell_type": "code",
      "execution_count": 34,
      "metadata": {
        "colab": {
          "base_uri": "https://localhost:8080/",
          "height": 352
        },
        "id": "npiktxGpxvJi",
        "outputId": "533e2d5d-2abe-4c7e-ffb0-aaeb666c194e"
      },
      "outputs": [
        {
          "output_type": "display_data",
          "data": {
            "text/plain": [
              "<Figure size 576x360 with 1 Axes>"
            ],
            "image/png": "[encoded data removed]"
          },
          "metadata": {}
        }
      ],
      "source": [
        "tasas_temporada_values = df['temporada_alta'].value_counts().index\n",
        "\n",
        "plt.figure(figsize = (8, 5))\n",
        "sns.set(style=\"darkgrid\")\n",
        "sns.barplot(tasas_temporada_values, tasas_temporada['Tasa (%)'])\n",
        "plt.title('Tasa de Retraso por Temporada')\n",
        "plt.ylabel('Tasa de Retraso [%]', fontsize=12)\n",
        "plt.xlabel('Temporada', fontsize=12)\n",
        "plt.xticks(rotation=90)\n",
        "plt.ylim(0,6)\n",
        "plt.show()"
      ]
    },
    {
      "cell_type": "code",
      "execution_count": 35,
      "metadata": {
        "colab": {
          "base_uri": "https://localhost:8080/",
          "height": 112
        },
        "id": "2EF-TM7BxvJi",
        "outputId": "a91ded40-ad20-4f7d-ba0b-8a760d3dd281"
      },
      "outputs": [
        {
          "output_type": "execute_result",
          "data": {
            "text/plain": [
              "   Tasa (%)\n",
              "N      6.64\n",
              "I      4.43"
            ],
            "text/html": [
              "\n",
              "  <div id=\"df-872abb2d-c462-4a9a-8a8e-ba956c3290cd\">\n",
              "    <div class=\"colab-df-container\">\n",
              "      <div>\n",
              "<style scoped>\n",
              "    .dataframe tbody tr th:only-of-type {\n",
              "        vertical-align: middle;\n",
              "    }\n",
              "\n",
              "    .dataframe tbody tr th {\n",
              "        vertical-align: top;\n",
              "    }\n",
              "\n",
              "    .dataframe thead th {\n",
              "        text-align: right;\n",
              "    }\n",
              "</style>\n",
              "<table border=\"1\" class=\"dataframe\">\n",
              "  <thead>\n",
              "    <tr style=\"text-align: right;\">\n",
              "      <th></th>\n",
              "      <th>Tasa (%)</th>\n",
              "    </tr>\n",
              "  </thead>\n",
              "  <tbody>\n",
              "    <tr>\n",
              "      <th>N</th>\n",
              "      <td>6.64</td>\n",
              "    </tr>\n",
              "    <tr>\n",
              "      <th>I</th>\n",
              "      <td>4.43</td>\n",
              "    </tr>\n",
              "  </tbody>\n",
              "</table>\n",
              "</div>\n",
              "      <button class=\"colab-df-convert\" onclick=\"convertToInteractive('df-872abb2d-c462-4a9a-8a8e-ba956c3290cd')\"\n",
              "              title=\"Convert this dataframe to an interactive table.\"\n",
              "              style=\"display:none;\">\n",
              "        \n",
              "  <svg xmlns=\"http://www.w3.org/2000/svg\" height=\"24px\"viewBox=\"0 0 24 24\"\n",
              "       width=\"24px\">\n",
              "    <path d=\"M0 0h24v24H0V0z\" fill=\"none\"/>\n",
              "    <path d=\"M18.56 5.44l.94 2.06.94-2.06 2.06-.94-2.06-.94-.94-2.06-.94 2.06-2.06.94zm-11 1L8.5 8.5l.94-2.06 2.06-.94-2.06-.94L8.5 2.5l-.94 2.06-2.06.94zm10 10l.94 2.06.94-2.06 2.06-.94-2.06-.94-.94-2.06-.94 2.06-2.06.94z\"/><path d=\"M17.41 7.96l-1.37-1.37c-.4-.4-.92-.59-1.43-.59-.52 0-1.04.2-1.43.59L10.3 9.45l-7.72 7.72c-.78.78-.78 2.05 0 2.83L4 21.41c.39.39.9.59 1.41.59.51 0 1.02-.2 1.41-.59l7.78-7.78 2.81-2.81c.8-.78.8-2.07 0-2.86zM5.41 20L4 18.59l7.72-7.72 1.47 1.35L5.41 20z\"/>\n",
              "  </svg>\n",
              "      </button>\n",
              "      \n",
              "  <style>\n",
              "    .colab-df-container {\n",
              "      display:flex;\n",
              "      flex-wrap:wrap;\n",
              "      gap: 12px;\n",
              "    }\n",
              "\n",
              "    .colab-df-convert {\n",
              "      background-color: #E8F0FE;\n",
              "      border: none;\n",
              "      border-radius: 50%;\n",
              "      cursor: pointer;\n",
              "      display: none;\n",
              "      fill: #1967D2;\n",
              "      height: 32px;\n",
              "      padding: 0 0 0 0;\n",
              "      width: 32px;\n",
              "    }\n",
              "\n",
              "    .colab-df-convert:hover {\n",
              "      background-color: #E2EBFA;\n",
              "      box-shadow: 0px 1px 2px rgba(60, 64, 67, 0.3), 0px 1px 3px 1px rgba(60, 64, 67, 0.15);\n",
              "      fill: #174EA6;\n",
              "    }\n",
              "\n",
              "    [theme=dark] .colab-df-convert {\n",
              "      background-color: #3B4455;\n",
              "      fill: #D2E3FC;\n",
              "    }\n",
              "\n",
              "    [theme=dark] .colab-df-convert:hover {\n",
              "      background-color: #434B5C;\n",
              "      box-shadow: 0px 1px 3px 1px rgba(0, 0, 0, 0.15);\n",
              "      filter: drop-shadow(0px 1px 2px rgba(0, 0, 0, 0.3));\n",
              "      fill: #FFFFFF;\n",
              "    }\n",
              "  </style>\n",
              "\n",
              "      <script>\n",
              "        const buttonEl =\n",
              "          document.querySelector('#df-872abb2d-c462-4a9a-8a8e-ba956c3290cd button.colab-df-convert');\n",
              "        buttonEl.style.display =\n",
              "          google.colab.kernel.accessAllowed ? 'block' : 'none';\n",
              "\n",
              "        async function convertToInteractive(key) {\n",
              "          const element = document.querySelector('#df-872abb2d-c462-4a9a-8a8e-ba956c3290cd');\n",
              "          const dataTable =\n",
              "            await google.colab.kernel.invokeFunction('convertToInteractive',\n",
              "                                                     [key], {});\n",
              "          if (!dataTable) return;\n",
              "\n",
              "          const docLinkHtml = 'Like what you see? Visit the ' +\n",
              "            '<a target=\"_blank\" href=https://colab.research.google.com/notebooks/data_table.ipynb>data table notebook</a>'\n",
              "            + ' to learn more about interactive tables.';\n",
              "          element.innerHTML = '';\n",
              "          dataTable['output_type'] = 'display_data';\n",
              "          await google.colab.output.renderOutput(dataTable, element);\n",
              "          const docLink = document.createElement('div');\n",
              "          docLink.innerHTML = docLinkHtml;\n",
              "          element.appendChild(docLink);\n",
              "        }\n",
              "      </script>\n",
              "    </div>\n",
              "  </div>\n",
              "  "
            ]
          },
          "metadata": {},
          "execution_count": 35
        }
      ],
      "source": [
        "tasas_tipovuelo = calcular_tasa(df, 'TIPOVUELO')\n",
        "tasas_tipovuelo"
      ]
    },
    {
      "cell_type": "code",
      "execution_count": 36,
      "metadata": {
        "colab": {
          "base_uri": "https://localhost:8080/",
          "height": 355
        },
        "id": "_VSoBrmhxvJi",
        "outputId": "bf5171b9-500c-490f-f6b1-494fb6ef3a85"
      },
      "outputs": [
        {
          "output_type": "display_data",
          "data": {
            "text/plain": [
              "<Figure size 360x360 with 1 Axes>"
            ],
            "image/png": "[encoded data removed]"
          },
          "metadata": {}
        }
      ],
      "source": [
        "tasas_tipovuelo_values = df['TIPOVUELO'].value_counts().index\n",
        "\n",
        "plt.figure(figsize = (5,5))\n",
        "sns.set(style=\"darkgrid\")\n",
        "sns.barplot(tasas_tipovuelo_values, tasas_tipovuelo['Tasa (%)'])\n",
        "plt.title('Tasa de Retraso por Tipo de Vuelo')\n",
        "plt.ylabel('Tasa de Retraso [%]', fontsize=12)\n",
        "plt.xlabel('Tipo de Vuelo', fontsize=12)\n",
        "plt.ylim(0,7)\n",
        "plt.show()"
      ]
    },
    {
      "cell_type": "code",
      "execution_count": 37,
      "metadata": {
        "colab": {
          "base_uri": "https://localhost:8080/",
          "height": 143
        },
        "id": "cgZe3bhmxvJj",
        "outputId": "73a0ae91-37de-48ed-f2d8-3770722ea29a"
      },
      "outputs": [
        {
          "output_type": "execute_result",
          "data": {
            "text/plain": [
              "        Tasa (%)\n",
              "tarde       5.06\n",
              "mañana      6.21\n",
              "noche       5.02"
            ],
            "text/html": [
              "\n",
              "  <div id=\"df-6ec6548f-4ba1-4fec-8f27-fe721a24cf5e\">\n",
              "    <div class=\"colab-df-container\">\n",
              "      <div>\n",
              "<style scoped>\n",
              "    .dataframe tbody tr th:only-of-type {\n",
              "        vertical-align: middle;\n",
              "    }\n",
              "\n",
              "    .dataframe tbody tr th {\n",
              "        vertical-align: top;\n",
              "    }\n",
              "\n",
              "    .dataframe thead th {\n",
              "        text-align: right;\n",
              "    }\n",
              "</style>\n",
              "<table border=\"1\" class=\"dataframe\">\n",
              "  <thead>\n",
              "    <tr style=\"text-align: right;\">\n",
              "      <th></th>\n",
              "      <th>Tasa (%)</th>\n",
              "    </tr>\n",
              "  </thead>\n",
              "  <tbody>\n",
              "    <tr>\n",
              "      <th>tarde</th>\n",
              "      <td>5.06</td>\n",
              "    </tr>\n",
              "    <tr>\n",
              "      <th>mañana</th>\n",
              "      <td>6.21</td>\n",
              "    </tr>\n",
              "    <tr>\n",
              "      <th>noche</th>\n",
              "      <td>5.02</td>\n",
              "    </tr>\n",
              "  </tbody>\n",
              "</table>\n",
              "</div>\n",
              "      <button class=\"colab-df-convert\" onclick=\"convertToInteractive('df-6ec6548f-4ba1-4fec-8f27-fe721a24cf5e')\"\n",
              "              title=\"Convert this dataframe to an interactive table.\"\n",
              "              style=\"display:none;\">\n",
              "        \n",
              "  <svg xmlns=\"http://www.w3.org/2000/svg\" height=\"24px\"viewBox=\"0 0 24 24\"\n",
              "       width=\"24px\">\n",
              "    <path d=\"M0 0h24v24H0V0z\" fill=\"none\"/>\n",
              "    <path d=\"M18.56 5.44l.94 2.06.94-2.06 2.06-.94-2.06-.94-.94-2.06-.94 2.06-2.06.94zm-11 1L8.5 8.5l.94-2.06 2.06-.94-2.06-.94L8.5 2.5l-.94 2.06-2.06.94zm10 10l.94 2.06.94-2.06 2.06-.94-2.06-.94-.94-2.06-.94 2.06-2.06.94z\"/><path d=\"M17.41 7.96l-1.37-1.37c-.4-.4-.92-.59-1.43-.59-.52 0-1.04.2-1.43.59L10.3 9.45l-7.72 7.72c-.78.78-.78 2.05 0 2.83L4 21.41c.39.39.9.59 1.41.59.51 0 1.02-.2 1.41-.59l7.78-7.78 2.81-2.81c.8-.78.8-2.07 0-2.86zM5.41 20L4 18.59l7.72-7.72 1.47 1.35L5.41 20z\"/>\n",
              "  </svg>\n",
              "      </button>\n",
              "      \n",
              "  <style>\n",
              "    .colab-df-container {\n",
              "      display:flex;\n",
              "      flex-wrap:wrap;\n",
              "      gap: 12px;\n",
              "    }\n",
              "\n",
              "    .colab-df-convert {\n",
              "      background-color: #E8F0FE;\n",
              "      border: none;\n",
              "      border-radius: 50%;\n",
              "      cursor: pointer;\n",
              "      display: none;\n",
              "      fill: #1967D2;\n",
              "      height: 32px;\n",
              "      padding: 0 0 0 0;\n",
              "      width: 32px;\n",
              "    }\n",
              "\n",
              "    .colab-df-convert:hover {\n",
              "      background-color: #E2EBFA;\n",
              "      box-shadow: 0px 1px 2px rgba(60, 64, 67, 0.3), 0px 1px 3px 1px rgba(60, 64, 67, 0.15);\n",
              "      fill: #174EA6;\n",
              "    }\n",
              "\n",
              "    [theme=dark] .colab-df-convert {\n",
              "      background-color: #3B4455;\n",
              "      fill: #D2E3FC;\n",
              "    }\n",
              "\n",
              "    [theme=dark] .colab-df-convert:hover {\n",
              "      background-color: #434B5C;\n",
              "      box-shadow: 0px 1px 3px 1px rgba(0, 0, 0, 0.15);\n",
              "      filter: drop-shadow(0px 1px 2px rgba(0, 0, 0, 0.3));\n",
              "      fill: #FFFFFF;\n",
              "    }\n",
              "  </style>\n",
              "\n",
              "      <script>\n",
              "        const buttonEl =\n",
              "          document.querySelector('#df-6ec6548f-4ba1-4fec-8f27-fe721a24cf5e button.colab-df-convert');\n",
              "        buttonEl.style.display =\n",
              "          google.colab.kernel.accessAllowed ? 'block' : 'none';\n",
              "\n",
              "        async function convertToInteractive(key) {\n",
              "          const element = document.querySelector('#df-6ec6548f-4ba1-4fec-8f27-fe721a24cf5e');\n",
              "          const dataTable =\n",
              "            await google.colab.kernel.invokeFunction('convertToInteractive',\n",
              "                                                     [key], {});\n",
              "          if (!dataTable) return;\n",
              "\n",
              "          const docLinkHtml = 'Like what you see? Visit the ' +\n",
              "            '<a target=\"_blank\" href=https://colab.research.google.com/notebooks/data_table.ipynb>data table notebook</a>'\n",
              "            + ' to learn more about interactive tables.';\n",
              "          element.innerHTML = '';\n",
              "          dataTable['output_type'] = 'display_data';\n",
              "          await google.colab.output.renderOutput(dataTable, element);\n",
              "          const docLink = document.createElement('div');\n",
              "          docLink.innerHTML = docLinkHtml;\n",
              "          element.appendChild(docLink);\n",
              "        }\n",
              "      </script>\n",
              "    </div>\n",
              "  </div>\n",
              "  "
            ]
          },
          "metadata": {},
          "execution_count": 37
        }
      ],
      "source": [
        "tasa_periododia = calcular_tasa(df, 'periodo_dia')\n",
        "tasa_periododia"
      ]
    },
    {
      "cell_type": "code",
      "execution_count": 38,
      "metadata": {
        "colab": {
          "base_uri": "https://localhost:8080/",
          "height": 355
        },
        "id": "2UtlidXBxvJj",
        "outputId": "bdb95631-bdbc-4bb3-ef4c-a18386c2064b"
      },
      "outputs": [
        {
          "output_type": "display_data",
          "data": {
            "text/plain": [
              "<Figure size 360x360 with 1 Axes>"
            ],
            "image/png": "[encoded data removed]"
          },
          "metadata": {}
        }
      ],
      "source": [
        "tasas_periodo_values = df['periodo_dia'].value_counts().index\n",
        "\n",
        "plt.figure(figsize = (5,5))\n",
        "sns.set(style=\"darkgrid\")\n",
        "sns.barplot(tasas_periodo_values, tasa_periododia['Tasa (%)'])\n",
        "plt.title('Tasa de Retraso por Periodo')\n",
        "plt.ylabel('Tasa de Retraso [%]', fontsize=12)\n",
        "plt.xlabel('Tipo de Periodo', fontsize=12)\n",
        "plt.ylim(3,7)\n",
        "plt.show()"
      ]
    },
    {
      "cell_type": "markdown",
      "metadata": {
        "id": "muf_0K7SxvJj"
      },
      "source": [
        "* ¿Qué variables esperarías que más influyeran en predecir atrasos?"
      ]
    },
    {
      "cell_type": "markdown",
      "metadata": {
        "id": "5-XFVj3lxvJj"
      },
      "source": [
        "Me parece que las que más podrían influir serían:\n",
        "* **Aerolíneas**: Dependiendo de la calidad de gestión de cada aerolínea puede ser que afecte en sus programaciones. También puede que afecte el tipo de aerolínea, si es una low cost por ejemplo, estas llevan menos equipaje ya que es un costo extra para cada pasajero por lo que el tiempo de carga es menor, corriendo menor riesgo de retraso. \n",
        "* **Tipo de Vuelo**: esto puede afectar en cómo esté el clima del país de destino. Por ejemplo si se tiene que volar a argentina y se tiene que cruzar por la cordillera y hay un mal clima, es posible que se tenga que esperar un rato para poder salir.\n",
        "* **Mes**: Esto va un poco de la mano con lo anterior, si es que es un mes del año donde el clima no es lo suficientemente adecuado, se tendría que esperar.  \n",
        " "
      ]
    },
    {
      "cell_type": "markdown",
      "metadata": {
        "id": "JTG3HojQxvJk"
      },
      "source": [
        "### 4. Entrena uno o varios modelos (usando el/los algoritmo(s) que prefieras) para estimar la probabilidad de atraso de un vuelo. Siéntete libre de generar variables adicionales y/o complementar con variables externas."
      ]
    },
    {
      "cell_type": "code",
      "execution_count": 39,
      "metadata": {
        "id": "ss_-GHXtxvJk"
      },
      "outputs": [],
      "source": [
        "from sklearn.model_selection import train_test_split\n",
        "from sklearn.utils import shuffle\n",
        "from sklearn.linear_model import LogisticRegression\n",
        "from sklearn.metrics import confusion_matrix, classification_report"
      ]
    },
    {
      "cell_type": "code",
      "execution_count": 40,
      "metadata": {
        "id": "LwcWWeOSxvJk"
      },
      "outputs": [],
      "source": [
        "data = shuffle(df[['OPERA', 'MES', 'TIPOVUELO', 'SIGLADES', 'DIANOM', 'atraso_15']], random_state = 111)"
      ]
    },
    {
      "cell_type": "code",
      "execution_count": 41,
      "metadata": {
        "id": "LmaJGgosxvJk"
      },
      "outputs": [],
      "source": [
        "features = pd.concat([pd.get_dummies(data['OPERA'], prefix = 'OPERA'),pd.get_dummies(data['TIPOVUELO'], prefix = 'TIPOVUELO'), pd.get_dummies(data['MES'], prefix = 'MES')], axis = 1)\n",
        "label = data['atraso_15']"
      ]
    },
    {
      "cell_type": "code",
      "execution_count": 42,
      "metadata": {
        "id": "WX1ZoZQzxvJk"
      },
      "outputs": [],
      "source": [
        "x_train, x_test, y_train, y_test = train_test_split(features, label, test_size = 0.33, random_state = 42)"
      ]
    },
    {
      "cell_type": "code",
      "execution_count": 43,
      "metadata": {
        "colab": {
          "base_uri": "https://localhost:8080/"
        },
        "id": "Bi0YkQ4MxvJl",
        "outputId": "de1e6350-9b5c-479f-c93a-e4f45c11cb9e"
      },
      "outputs": [
        {
          "output_type": "execute_result",
          "data": {
            "text/plain": [
              "0    0.813799\n",
              "1    0.186201\n",
              "Name: atraso_15, dtype: float64"
            ]
          },
          "metadata": {},
          "execution_count": 43
        }
      ],
      "source": [
        "y_train.value_counts('%')"
      ]
    },
    {
      "cell_type": "code",
      "execution_count": 44,
      "metadata": {
        "colab": {
          "base_uri": "https://localhost:8080/"
        },
        "id": "dXmIR4k-xvJl",
        "outputId": "574b5a7f-1d23-4b99-c5b4-b4ca385d8015"
      },
      "outputs": [
        {
          "output_type": "execute_result",
          "data": {
            "text/plain": [
              "0    0.81762\n",
              "1    0.18238\n",
              "Name: atraso_15, dtype: float64"
            ]
          },
          "metadata": {},
          "execution_count": 44
        }
      ],
      "source": [
        "y_test.value_counts('%')"
      ]
    },
    {
      "cell_type": "markdown",
      "metadata": {
        "id": "qDfyEW9lxvJl"
      },
      "source": [
        "#### Utilizando Regresión logística"
      ]
    },
    {
      "cell_type": "code",
      "execution_count": 45,
      "metadata": {
        "id": "wfWmUG1wxvJl"
      },
      "outputs": [],
      "source": [
        "logReg = LogisticRegression()\n",
        "model = logReg.fit(x_train, y_train)"
      ]
    },
    {
      "cell_type": "code",
      "execution_count": 46,
      "metadata": {
        "id": "MxwPl36RxvJl"
      },
      "outputs": [],
      "source": [
        "y_pred = model.predict(x_test)"
      ]
    },
    {
      "cell_type": "markdown",
      "metadata": {
        "id": "EmwW4md8xvJl"
      },
      "source": [
        "#### Métricas Regresión Logística"
      ]
    },
    {
      "cell_type": "code",
      "execution_count": 47,
      "metadata": {
        "colab": {
          "base_uri": "https://localhost:8080/"
        },
        "id": "K3vSm3KvxvJm",
        "outputId": "1d23448b-2583-4ae8-debf-1c0fe562781f"
      },
      "outputs": [
        {
          "output_type": "execute_result",
          "data": {
            "text/plain": [
              "array([[18311,    92],\n",
              "       [ 3985,   120]])"
            ]
          },
          "metadata": {},
          "execution_count": 47
        }
      ],
      "source": [
        "confusion_matrix(y_test, y_pred)"
      ]
    },
    {
      "cell_type": "code",
      "execution_count": 48,
      "metadata": {
        "colab": {
          "base_uri": "https://localhost:8080/"
        },
        "id": "AO3viX0VxvJm",
        "outputId": "053fa213-b1a0-4c31-c9ee-9ee3ed0e873a"
      },
      "outputs": [
        {
          "output_type": "stream",
          "name": "stdout",
          "text": [
            "              precision    recall  f1-score   support\n",
            "\n",
            "           0       0.82      1.00      0.90     18403\n",
            "           1       0.57      0.03      0.06      4105\n",
            "\n",
            "    accuracy                           0.82     22508\n",
            "   macro avg       0.69      0.51      0.48     22508\n",
            "weighted avg       0.77      0.82      0.75     22508\n",
            "\n"
          ]
        }
      ],
      "source": [
        "print(classification_report(y_test, y_pred))"
      ]
    },
    {
      "cell_type": "markdown",
      "metadata": {
        "id": "j6thoCDzxvJm"
      },
      "source": [
        "#### Utilizando XGBoost"
      ]
    },
    {
      "cell_type": "code",
      "execution_count": 49,
      "metadata": {
        "id": "mDMCkxQKxvJm",
        "scrolled": true
      },
      "outputs": [],
      "source": [
        "import xgboost as xgb\n",
        "from xgboost import plot_importance"
      ]
    },
    {
      "cell_type": "code",
      "execution_count": 50,
      "metadata": {
        "id": "5nD5dqZ-xvJm"
      },
      "outputs": [],
      "source": [
        "modelxgb_1 = xgb.XGBClassifier(random_state=1, learning_rate=0.01)\n",
        "modelxgb_1 = modelxgb_1.fit(x_train, y_train)"
      ]
    },
    {
      "cell_type": "code",
      "execution_count": 51,
      "metadata": {
        "id": "kYQRW8BJxvJm"
      },
      "outputs": [],
      "source": [
        "y_predxgb_1 = modelxgb_1.predict(x_test)"
      ]
    },
    {
      "cell_type": "markdown",
      "metadata": {
        "id": "-CtwH7_PxvJn"
      },
      "source": [
        "#### Métricas XGBoost"
      ]
    },
    {
      "cell_type": "code",
      "execution_count": 52,
      "metadata": {
        "colab": {
          "base_uri": "https://localhost:8080/"
        },
        "id": "V9389dq9xvJn",
        "outputId": "e27caa48-7a46-400c-dc59-7a18d174ddb9",
        "scrolled": true
      },
      "outputs": [
        {
          "output_type": "execute_result",
          "data": {
            "text/plain": [
              "array([[18359,    44],\n",
              "       [ 4017,    88]])"
            ]
          },
          "metadata": {},
          "execution_count": 52
        }
      ],
      "source": [
        "confusion_matrix(y_test, y_predxgb_1)"
      ]
    },
    {
      "cell_type": "code",
      "execution_count": 53,
      "metadata": {
        "colab": {
          "base_uri": "https://localhost:8080/"
        },
        "id": "T0CYP2wTxvJn",
        "outputId": "39dcf2e5-b5b7-4d8d-bd89-50b44cca842f"
      },
      "outputs": [
        {
          "output_type": "stream",
          "name": "stdout",
          "text": [
            "              precision    recall  f1-score   support\n",
            "\n",
            "           0       0.82      1.00      0.90     18403\n",
            "           1       0.67      0.02      0.04      4105\n",
            "\n",
            "    accuracy                           0.82     22508\n",
            "   macro avg       0.74      0.51      0.47     22508\n",
            "weighted avg       0.79      0.82      0.74     22508\n",
            "\n"
          ]
        }
      ],
      "source": [
        "print(classification_report(y_test, y_predxgb_1))"
      ]
    },
    {
      "cell_type": "markdown",
      "metadata": {
        "id": "GlgqwaJExvJn"
      },
      "source": [
        "#### Utilizando XGBoost dejando Features más importantes "
      ]
    },
    {
      "cell_type": "code",
      "execution_count": 54,
      "metadata": {
        "colab": {
          "base_uri": "https://localhost:8080/"
        },
        "id": "1QXScu1vxvJn",
        "outputId": "c7b56b56-a52c-4ef7-898f-f3646ba1fd5f"
      },
      "outputs": [
        {
          "output_type": "execute_result",
          "data": {
            "text/plain": [
              "array([0.01000503, 0.03812765, 0.07740478, 0.        , 0.        ,\n",
              "       0.0532625 , 0.        , 0.        , 0.        , 0.11452045,\n",
              "       0.        , 0.05899748, 0.00510735, 0.        , 0.00056586,\n",
              "       0.        , 0.        , 0.0343819 , 0.        , 0.00872515,\n",
              "       0.06874514, 0.03494435, 0.02305366, 0.17575087, 0.        ,\n",
              "       0.01610018, 0.00777404, 0.0238743 , 0.00835021, 0.01279222,\n",
              "       0.01183943, 0.06969909, 0.00991499, 0.01740216, 0.03937674,\n",
              "       0.02739281, 0.05189165], dtype=float32)"
            ]
          },
          "metadata": {},
          "execution_count": 54
        }
      ],
      "source": [
        "modelxgb_1.feature_importances_"
      ]
    },
    {
      "cell_type": "code",
      "execution_count": 55,
      "metadata": {
        "colab": {
          "base_uri": "https://localhost:8080/",
          "height": 662
        },
        "id": "6_sec7-KxvJn",
        "outputId": "9f7ec7f6-a98e-4654-c23a-3e7c51feb938"
      },
      "outputs": [
        {
          "output_type": "execute_result",
          "data": {
            "text/plain": [
              "<AxesSubplot:title={'center':'Feature importance'}, xlabel='F score', ylabel='Features'>"
            ]
          },
          "metadata": {},
          "execution_count": 55
        },
        {
          "output_type": "display_data",
          "data": {
            "text/plain": [
              "<Figure size 936x720 with 0 Axes>"
            ]
          },
          "metadata": {}
        },
        {
          "output_type": "display_data",
          "data": {
            "text/plain": [
              "<Figure size 1080x720 with 1 Axes>"
            ],
            "image/png": "[encoded data removed]"
          },
          "metadata": {}
        }
      ],
      "source": [
        "plt.figure(figsize = (13,10))\n",
        "plot_importance(modelxgb_1)"
      ]
    },
    {
      "cell_type": "code",
      "execution_count": 56,
      "metadata": {
        "id": "GCsnZCfRxvJn"
      },
      "outputs": [],
      "source": [
        "features_importantes = features[['MES_7', 'TIPOVUELO_I', 'OPERA_Copa Air', 'OPERA_Latin American Wings',\n",
        "                                'MES_12', 'OPERA_Grupo LATAM', 'MES_10', 'OPERA_JetSmart SPA', 'OPERA_Air Canada',\n",
        "                                'MES_9', 'OPERA_American Airlines']]\n",
        "labels_ = label"
      ]
    },
    {
      "cell_type": "code",
      "execution_count": 57,
      "metadata": {
        "id": "7ug3NuhqxvJo"
      },
      "outputs": [],
      "source": [
        "x_train2, x_test2, y_train2, y_test2 = train_test_split(features_importantes, labels_, test_size = 0.33, random_state = 42)"
      ]
    },
    {
      "cell_type": "code",
      "execution_count": 58,
      "metadata": {
        "id": "HeTpbrtbxvJo"
      },
      "outputs": [],
      "source": [
        "modelxgb = xgb.XGBClassifier(random_state=1, learning_rate=0.01, subsample = 1, max_depth = 10)\n",
        "modelxgb = modelxgb.fit(x_train2, y_train2)"
      ]
    },
    {
      "cell_type": "code",
      "execution_count": 59,
      "metadata": {
        "id": "AmxWtuDtxvJo"
      },
      "outputs": [],
      "source": [
        "y_predxgb = modelxgb.predict(x_test2)"
      ]
    },
    {
      "cell_type": "markdown",
      "metadata": {
        "id": "rN_7W6mvxvJo"
      },
      "source": [
        "#### Métricas XGBoost dejando Features más importantes "
      ]
    },
    {
      "cell_type": "code",
      "execution_count": 60,
      "metadata": {
        "colab": {
          "base_uri": "https://localhost:8080/"
        },
        "id": "YAMvtHZfxvJo",
        "outputId": "87b117ac-6872-4249-bb8c-823db8533de2"
      },
      "outputs": [
        {
          "output_type": "execute_result",
          "data": {
            "text/plain": [
              "array([[18371,    32],\n",
              "       [ 4044,    61]])"
            ]
          },
          "metadata": {},
          "execution_count": 60
        }
      ],
      "source": [
        "confusion_matrix(y_test2, y_predxgb)"
      ]
    },
    {
      "cell_type": "code",
      "execution_count": 61,
      "metadata": {
        "colab": {
          "base_uri": "https://localhost:8080/"
        },
        "id": "T2wC-iZ6xvJo",
        "outputId": "89ac3954-a5b6-4e64-fd94-d0a9c1d2ca17"
      },
      "outputs": [
        {
          "output_type": "stream",
          "name": "stdout",
          "text": [
            "              precision    recall  f1-score   support\n",
            "\n",
            "           0       0.82      1.00      0.90     18403\n",
            "           1       0.66      0.01      0.03      4105\n",
            "\n",
            "    accuracy                           0.82     22508\n",
            "   macro avg       0.74      0.51      0.46     22508\n",
            "weighted avg       0.79      0.82      0.74     22508\n",
            "\n"
          ]
        }
      ],
      "source": [
        "print(classification_report(y_test2, y_predxgb))"
      ]
    },
    {
      "cell_type": "markdown",
      "metadata": {
        "id": "9bmzvOe0xvJp"
      },
      "source": [
        "### 5. Evalúa tu modelo. ¿Qué performance tiene? ¿Qué métricas usaste para evaluar esa performance y por qué? ¿Por qué elegiste ese algoritmo en particular? ¿Qué variables son las que más influyen en la predicción? ¿Cómo podrías mejorar laperformance?"
      ]
    },
    {
      "cell_type": "markdown",
      "metadata": {
        "id": "fcDfFR-txvJp"
      },
      "source": [
        "Los modelos utilizados en la sección anterior fueron:\n",
        "* **Regresión Logística**: Fue seleccionado ya que es el modelo más simple para poder resolver problemas de clasificación.\n",
        "* **XGBoost**: Fue seleccionado porque en general tiene un gran desempeño y entrega buenos resultados ya sea para regresión y clasificación, además es bastante rápido y facilita el tuneo de hiperparámetros.\n",
        "\n",
        "Los resultados obtenidos con ambos modelos fueron muy malos. Se utilizó matriz de confusión para validar los resultados. La cantidad de falsos negativos fue muy alta. Una de las posibles razones, la más clara, es el desbalanceo que existe en la clase 'atraso_15'. Del total de datos un 82% corresponde a no atraso y el 18% restante a atraso.\n",
        "Para poder mejorar la performance se tomaron dos decisiones, la primera aplicar un Grid Search CV sobre XGBoost para tunear de mejor manera los hiperparámetros y la segunda realizar un upsampling de la clase desbalanceada, en este caso los atrasos.\n",
        "\n"
      ]
    },
    {
      "cell_type": "markdown",
      "metadata": {
        "id": "XDRTQm0LxvJp"
      },
      "source": [
        "### Grid Search CV"
      ]
    },
    {
      "cell_type": "code",
      "execution_count": 62,
      "metadata": {
        "id": "yhBPIaazxvJp"
      },
      "outputs": [],
      "source": [
        "from sklearn.model_selection import GridSearchCV"
      ]
    },
    {
      "cell_type": "code",
      "execution_count": 63,
      "metadata": {
        "colab": {
          "base_uri": "https://localhost:8080/"
        },
        "id": "wLAMFrqUxvJp",
        "outputId": "6a407f76-6f2d-4d04-a350-d6682c7e1f24",
        "scrolled": true
      },
      "outputs": [
        {
          "output_type": "stream",
          "name": "stdout",
          "text": [
            "Fitting 2 folds for each of 18 candidates, totalling 36 fits\n"
          ]
        }
      ],
      "source": [
        "parameters = {\n",
        "                'learning_rate': [0.01,0.05, 0.1],\n",
        "                'n_estimators': [50, 100, 150],\n",
        "                'subsample': [0.5, 0.9]\n",
        "}\n",
        "\n",
        "modelxgb_GridCV = GridSearchCV(modelxgb, param_grid = parameters,\n",
        "    cv = 2, n_jobs=-1, verbose=1).fit(x_train, y_train)"
      ]
    },
    {
      "cell_type": "code",
      "execution_count": 64,
      "metadata": {
        "id": "HJxYZk51xvJp"
      },
      "outputs": [],
      "source": [
        "y_predxgb_grid = modelxgb_GridCV.predict(x_test)"
      ]
    },
    {
      "cell_type": "code",
      "execution_count": 65,
      "metadata": {
        "colab": {
          "base_uri": "https://localhost:8080/"
        },
        "id": "6iI-DHcexvJq",
        "outputId": "3dd06aa5-b398-4645-a7ff-429320272260"
      },
      "outputs": [
        {
          "output_type": "execute_result",
          "data": {
            "text/plain": [
              "array([[18287,   116],\n",
              "       [ 3933,   172]])"
            ]
          },
          "metadata": {},
          "execution_count": 65
        }
      ],
      "source": [
        "confusion_matrix(y_test, y_predxgb_grid)"
      ]
    },
    {
      "cell_type": "code",
      "source": [
        "print(classification_report(y_test, y_predxgb_grid))"
      ],
      "metadata": {
        "colab": {
          "base_uri": "https://localhost:8080/"
        },
        "id": "A_ER3nemHnhD",
        "outputId": "363c3c49-b0cc-4d01-b40e-7771931d81ff"
      },
      "execution_count": 66,
      "outputs": [
        {
          "output_type": "stream",
          "name": "stdout",
          "text": [
            "              precision    recall  f1-score   support\n",
            "\n",
            "           0       0.82      0.99      0.90     18403\n",
            "           1       0.60      0.04      0.08      4105\n",
            "\n",
            "    accuracy                           0.82     22508\n",
            "   macro avg       0.71      0.52      0.49     22508\n",
            "weighted avg       0.78      0.82      0.75     22508\n",
            "\n"
          ]
        }
      ]
    },
    {
      "cell_type": "markdown",
      "metadata": {
        "id": "dYBldyqXxvJq"
      },
      "source": [
        "### Upsampling"
      ]
    },
    {
      "cell_type": "code",
      "execution_count": 67,
      "metadata": {
        "colab": {
          "base_uri": "https://localhost:8080/"
        },
        "id": "3jUerRPwxvJq",
        "outputId": "03a4eebc-6a1f-4541-e02b-6708a21094cf"
      },
      "outputs": [
        {
          "output_type": "execute_result",
          "data": {
            "text/plain": [
              "0    55592\n",
              "1    12614\n",
              "Name: atraso_15, dtype: int64"
            ]
          },
          "metadata": {},
          "execution_count": 67
        }
      ],
      "source": [
        "data['atraso_15'].value_counts()"
      ]
    },
    {
      "cell_type": "code",
      "execution_count": 68,
      "metadata": {
        "id": "x8Zww1bVxvJq"
      },
      "outputs": [],
      "source": [
        "#Resample\n",
        "from sklearn.utils import resample\n",
        "\n",
        "data_no_retraso = data[data['atraso_15'] == 0]\n",
        "data_atraso = data[data['atraso_15'] == 1]\n",
        "\n",
        "data_atraso_upsampled = resample(data_atraso, \n",
        "                                 replace = True,     # sample with replacement\n",
        "                                 n_samples = 30000,    # to match majority class\n",
        "                                 random_state = 42) # reproducible results\n",
        "\n",
        "data_upsampled = pd.concat([data_no_retraso, data_atraso_upsampled])"
      ]
    },
    {
      "cell_type": "code",
      "execution_count": 69,
      "metadata": {
        "colab": {
          "base_uri": "https://localhost:8080/"
        },
        "id": "uNbTInEwxvJq",
        "outputId": "173292fb-2d9a-4ef7-bf5c-4f766eefff82"
      },
      "outputs": [
        {
          "output_type": "execute_result",
          "data": {
            "text/plain": [
              "0    55592\n",
              "1    30000\n",
              "Name: atraso_15, dtype: int64"
            ]
          },
          "metadata": {},
          "execution_count": 69
        }
      ],
      "source": [
        "data_upsampled['atraso_15'].value_counts()"
      ]
    },
    {
      "cell_type": "code",
      "execution_count": 70,
      "metadata": {
        "id": "F_7uiT3ZxvJq"
      },
      "outputs": [],
      "source": [
        "features_upsampled = pd.concat([pd.get_dummies(data_upsampled['OPERA'], prefix = 'OPERA'),pd.get_dummies(data_upsampled['TIPOVUELO'], prefix = 'TIPOVUELO'), pd.get_dummies(data_upsampled['MES'], prefix = 'MES')], axis = 1)\n",
        "label_upsampled = data_upsampled['atraso_15']"
      ]
    },
    {
      "cell_type": "code",
      "execution_count": 71,
      "metadata": {
        "id": "P1gnqCIIxvJr"
      },
      "outputs": [],
      "source": [
        "x_upsampled_train, x_upsampled_test, y_upsampled_train, y_upsampled_test = train_test_split(features_upsampled, label_upsampled, test_size = 0.33, random_state = 42)"
      ]
    },
    {
      "cell_type": "code",
      "execution_count": 72,
      "metadata": {
        "colab": {
          "base_uri": "https://localhost:8080/",
          "height": 248
        },
        "id": "UEjpqXisxvJr",
        "outputId": "027a4a3d-5429-4acf-842d-73fcfd0d3d22"
      },
      "outputs": [
        {
          "output_type": "execute_result",
          "data": {
            "text/plain": [
              "XGBClassifier(base_score=None, booster=None, callbacks=None,\n",
              "              colsample_bylevel=None, colsample_bynode=None,\n",
              "              colsample_bytree=None, early_stopping_rounds=None,\n",
              "              enable_categorical=False, eval_metric=None, feature_types=None,\n",
              "              gamma=None, gpu_id=None, grow_policy=None, importance_type=None,\n",
              "              interaction_constraints=None, learning_rate=0.01, max_bin=None,\n",
              "              max_cat_threshold=None, max_cat_to_onehot=None,\n",
              "              max_delta_step=None, max_depth=10, max_leaves=None,\n",
              "              min_child_weight=None, missing=nan, monotone_constraints=None,\n",
              "              n_estimators=100, n_jobs=None, num_parallel_tree=None,\n",
              "              predictor=None, random_state=1, ...)"
            ],
            "text/html": [
              "<style>#sk-container-id-1 {color: black;background-color: white;}#sk-container-id-1 pre{padding: 0;}#sk-container-id-1 div.sk-toggleable {background-color: white;}#sk-container-id-1 label.sk-toggleable__label {cursor: pointer;display: block;width: 100%;margin-bottom: 0;padding: 0.3em;box-sizing: border-box;text-align: center;}#sk-container-id-1 label.sk-toggleable__label-arrow:before {content: \"▸\";float: left;margin-right: 0.25em;color: #696969;}#sk-container-id-1 label.sk-toggleable__label-arrow:hover:before {color: black;}#sk-container-id-1 div.sk-estimator:hover label.sk-toggleable__label-arrow:before {color: black;}#sk-container-id-1 div.sk-toggleable__content {max-height: 0;max-width: 0;overflow: hidden;text-align: left;background-color: #f0f8ff;}#sk-container-id-1 div.sk-toggleable__content pre {margin: 0.2em;color: black;border-radius: 0.25em;background-color: #f0f8ff;}#sk-container-id-1 input.sk-toggleable__control:checked~div.sk-toggleable__content {max-height: 200px;max-width: 100%;overflow: auto;}#sk-container-id-1 input.sk-toggleable__control:checked~label.sk-toggleable__label-arrow:before {content: \"▾\";}#sk-container-id-1 div.sk-estimator input.sk-toggleable__control:checked~label.sk-toggleable__label {background-color: #d4ebff;}#sk-container-id-1 div.sk-label input.sk-toggleable__control:checked~label.sk-toggleable__label {background-color: #d4ebff;}#sk-container-id-1 input.sk-hidden--visually {border: 0;clip: rect(1px 1px 1px 1px);clip: rect(1px, 1px, 1px, 1px);height: 1px;margin: -1px;overflow: hidden;padding: 0;position: absolute;width: 1px;}#sk-container-id-1 div.sk-estimator {font-family: monospace;background-color: #f0f8ff;border: 1px dotted black;border-radius: 0.25em;box-sizing: border-box;margin-bottom: 0.5em;}#sk-container-id-1 div.sk-estimator:hover {background-color: #d4ebff;}#sk-container-id-1 div.sk-parallel-item::after {content: \"\";width: 100%;border-bottom: 1px solid gray;flex-grow: 1;}#sk-container-id-1 div.sk-label:hover label.sk-toggleable__label {background-color: #d4ebff;}#sk-container-id-1 div.sk-serial::before {content: \"\";position: absolute;border-left: 1px solid gray;box-sizing: border-box;top: 0;bottom: 0;left: 50%;z-index: 0;}#sk-container-id-1 div.sk-serial {display: flex;flex-direction: column;align-items: center;background-color: white;padding-right: 0.2em;padding-left: 0.2em;position: relative;}#sk-container-id-1 div.sk-item {position: relative;z-index: 1;}#sk-container-id-1 div.sk-parallel {display: flex;align-items: stretch;justify-content: center;background-color: white;position: relative;}#sk-container-id-1 div.sk-item::before, #sk-container-id-1 div.sk-parallel-item::before {content: \"\";position: absolute;border-left: 1px solid gray;box-sizing: border-box;top: 0;bottom: 0;left: 50%;z-index: -1;}#sk-container-id-1 div.sk-parallel-item {display: flex;flex-direction: column;z-index: 1;position: relative;background-color: white;}#sk-container-id-1 div.sk-parallel-item:first-child::after {align-self: flex-end;width: 50%;}#sk-container-id-1 div.sk-parallel-item:last-child::after {align-self: flex-start;width: 50%;}#sk-container-id-1 div.sk-parallel-item:only-child::after {width: 0;}#sk-container-id-1 div.sk-dashed-wrapped {border: 1px dashed gray;margin: 0 0.4em 0.5em 0.4em;box-sizing: border-box;padding-bottom: 0.4em;background-color: white;}#sk-container-id-1 div.sk-label label {font-family: monospace;font-weight: bold;display: inline-block;line-height: 1.2em;}#sk-container-id-1 div.sk-label-container {text-align: center;}#sk-container-id-1 div.sk-container {/* jupyter's `normalize.less` sets `[hidden] { display: none; }` but bootstrap.min.css set `[hidden] { display: none !important; }` so we also need the `!important` here to be able to override the default hidden behavior on the sphinx rendered scikit-learn.org. See: https://github.com/scikit-learn/scikit-learn/issues/21755 */display: inline-block !important;position: relative;}#sk-container-id-1 div.sk-text-repr-fallback {display: none;}</style><div id=\"sk-container-id-1\" class=\"sk-top-container\"><div class=\"sk-text-repr-fallback\"><pre>XGBClassifier(base_score=None, booster=None, callbacks=None,\n",
              "              colsample_bylevel=None, colsample_bynode=None,\n",
              "              colsample_bytree=None, early_stopping_rounds=None,\n",
              "              enable_categorical=False, eval_metric=None, feature_types=None,\n",
              "              gamma=None, gpu_id=None, grow_policy=None, importance_type=None,\n",
              "              interaction_constraints=None, learning_rate=0.01, max_bin=None,\n",
              "              max_cat_threshold=None, max_cat_to_onehot=None,\n",
              "              max_delta_step=None, max_depth=10, max_leaves=None,\n",
              "              min_child_weight=None, missing=nan, monotone_constraints=None,\n",
              "              n_estimators=100, n_jobs=None, num_parallel_tree=None,\n",
              "              predictor=None, random_state=1, ...)</pre><b>In a Jupyter environment, please rerun this cell to show the HTML representation or trust the notebook. <br />On GitHub, the HTML representation is unable to render, please try loading this page with nbviewer.org.</b></div><div class=\"sk-container\" hidden><div class=\"sk-item\"><div class=\"sk-estimator sk-toggleable\"><input class=\"sk-toggleable__control sk-hidden--visually\" id=\"sk-estimator-id-1\" type=\"checkbox\" checked><label for=\"sk-estimator-id-1\" class=\"sk-toggleable__label sk-toggleable__label-arrow\">XGBClassifier</label><div class=\"sk-toggleable__content\"><pre>XGBClassifier(base_score=None, booster=None, callbacks=None,\n",
              "              colsample_bylevel=None, colsample_bynode=None,\n",
              "              colsample_bytree=None, early_stopping_rounds=None,\n",
              "              enable_categorical=False, eval_metric=None, feature_types=None,\n",
              "              gamma=None, gpu_id=None, grow_policy=None, importance_type=None,\n",
              "              interaction_constraints=None, learning_rate=0.01, max_bin=None,\n",
              "              max_cat_threshold=None, max_cat_to_onehot=None,\n",
              "              max_delta_step=None, max_depth=10, max_leaves=None,\n",
              "              min_child_weight=None, missing=nan, monotone_constraints=None,\n",
              "              n_estimators=100, n_jobs=None, num_parallel_tree=None,\n",
              "              predictor=None, random_state=1, ...)</pre></div></div></div></div></div>"
            ]
          },
          "metadata": {},
          "execution_count": 72
        }
      ],
      "source": [
        "modelxgb = xgb.XGBClassifier(random_state=1, learning_rate=0.01, subsample = 1, max_depth = 10)\n",
        "modelxgb.fit(x_upsampled_train, y_upsampled_train)"
      ]
    },
    {
      "cell_type": "code",
      "execution_count": 73,
      "metadata": {
        "id": "ka-kEwpXxvJr"
      },
      "outputs": [],
      "source": [
        "y_upsampled_predxgb = modelxgb.predict(x_upsampled_test)"
      ]
    },
    {
      "cell_type": "code",
      "execution_count": 74,
      "metadata": {
        "colab": {
          "base_uri": "https://localhost:8080/"
        },
        "id": "kDtwOChtxvJr",
        "outputId": "d8fbff2f-e69e-4517-a89f-6711141af678",
        "scrolled": true
      },
      "outputs": [
        {
          "output_type": "execute_result",
          "data": {
            "text/plain": [
              "array([[17156,  1193],\n",
              "       [ 7969,  1928]])"
            ]
          },
          "metadata": {},
          "execution_count": 74
        }
      ],
      "source": [
        "confusion_matrix(y_upsampled_test, y_upsampled_predxgb)"
      ]
    },
    {
      "cell_type": "code",
      "execution_count": 75,
      "metadata": {
        "colab": {
          "base_uri": "https://localhost:8080/"
        },
        "id": "SUpxKj-jxvJr",
        "outputId": "894fdb54-2ca0-4341-8ee7-745e7fd7a17c"
      },
      "outputs": [
        {
          "output_type": "execute_result",
          "data": {
            "text/plain": [
              "0.6756354882107201"
            ]
          },
          "metadata": {},
          "execution_count": 75
        }
      ],
      "source": [
        "modelxgb.score(x_upsampled_test, y_upsampled_test)"
      ]
    },
    {
      "cell_type": "code",
      "execution_count": 76,
      "metadata": {
        "colab": {
          "base_uri": "https://localhost:8080/"
        },
        "id": "1GBKo_U2xvJr",
        "outputId": "46741299-c293-4d4b-8ca8-b30c808826c2",
        "scrolled": true
      },
      "outputs": [
        {
          "output_type": "stream",
          "name": "stdout",
          "text": [
            "              precision    recall  f1-score   support\n",
            "\n",
            "           0       0.68      0.93      0.79     18349\n",
            "           1       0.62      0.19      0.30      9897\n",
            "\n",
            "    accuracy                           0.68     28246\n",
            "   macro avg       0.65      0.56      0.54     28246\n",
            "weighted avg       0.66      0.68      0.62     28246\n",
            "\n"
          ]
        }
      ],
      "source": [
        "print(classification_report(y_upsampled_test, y_upsampled_predxgb))"
      ]
    },
    {
      "cell_type": "markdown",
      "metadata": {
        "id": "Xh4-7huwxvJr"
      },
      "source": [
        "Observando los dos métodos para incrementar la performance, se puede ver como el modelo no mejoró. Esto puede ser ya que la data creada al upsamplear no tiene ningún sentido. Si se pudiese pudiese balancear la clase tal vez los modelos tendrían un mejor desempeño."
      ]
    },
    {
      "cell_type": "code",
      "execution_count": 76,
      "metadata": {
        "id": "P2B0XE1AxvJs"
      },
      "outputs": [],
      "source": []
    },
    {
      "cell_type": "markdown",
      "source": [
        "# Elección de modelo y mejoras"
      ],
      "metadata": {
        "id": "ghiDDRLbEaps"
      }
    },
    {
      "cell_type": "markdown",
      "source": [
        "- Escoge el modelo que a tu criterio tenga una mejor performance, argumentando tu decisión\n",
        "\n",
        "El mejor modelo presentado es XGBoost sin modificaciones por sus resultados obtenidos en presicion y recall, estas métricas son de suma importancia para modelos con datasets tan desbalanceados como estos. \n",
        "\n",
        "- Implementa mejoras sobre el modelo escogiendo la o las técnicas que prefieras.\n",
        "\n",
        "Aplicarle mejoras al modelo solo se podrá si la data aporta más información acerca de los vuelos con retraso. Esto será posible si el dataset aumenta casos en los que hay retrasos, sin embargo, crear datos nuevos no aportaría información nueva ya que es muy probable que estos sean inventados y confundan más al modelo. Se pensó en agregar la variable 'SIGLADES' al dataset ya que este tiene acumulación de atrasos en ciertas ciudades pero al entrenar el modelo escogido no se obtuvieron mejores resultados."
      ],
      "metadata": {
        "id": "ba9sq7PdEglE"
      }
    },
    {
      "cell_type": "code",
      "source": [
        "features = pd.concat([pd.get_dummies(data['OPERA'], prefix = 'OPERA'),pd.get_dummies(data['TIPOVUELO'], prefix = 'TIPOVUELO'), pd.get_dummies(data['SIGLADES'], prefix = 'SIGLADES'), pd.get_dummies(data['MES'], prefix = 'MES')], axis = 1)\n",
        "label = data['atraso_15']"
      ],
      "metadata": {
        "id": "6C_VDJ64EZuW"
      },
      "execution_count": 77,
      "outputs": []
    },
    {
      "cell_type": "code",
      "source": [
        "x_train, x_test, y_train, y_test = train_test_split(features, label, test_size = 0.33, random_state = 42)"
      ],
      "metadata": {
        "id": "kxBIwZHYEZwq"
      },
      "execution_count": 78,
      "outputs": []
    },
    {
      "cell_type": "code",
      "source": [
        "model = xgb.XGBClassifier(random_state=1, learning_rate=0.01)\n",
        "model.fit(x_train, y_train)\n",
        "y_pred = model.predict(x_test)\n",
        "print(classification_report(y_test, y_pred))"
      ],
      "metadata": {
        "colab": {
          "base_uri": "https://localhost:8080/"
        },
        "id": "o7icWKBIEZzD",
        "outputId": "70b8f4c3-d946-417e-bfd5-d54bde308757"
      },
      "execution_count": 79,
      "outputs": [
        {
          "output_type": "stream",
          "name": "stdout",
          "text": [
            "              precision    recall  f1-score   support\n",
            "\n",
            "           0       0.82      1.00      0.90     18403\n",
            "           1       0.61      0.03      0.05      4105\n",
            "\n",
            "    accuracy                           0.82     22508\n",
            "   macro avg       0.72      0.51      0.48     22508\n",
            "weighted avg       0.78      0.82      0.75     22508\n",
            "\n"
          ]
        }
      ]
    },
    {
      "cell_type": "markdown",
      "source": [
        "También se probaron nuevas formas de balanceo, partiendo por los pesos del propio modelo pero sin mejoras en los resultados."
      ],
      "metadata": {
        "id": "JaK4nNuoMHdp"
      }
    },
    {
      "cell_type": "code",
      "source": [
        "#Se vuelve al dataset anterior\n",
        "features = pd.concat([pd.get_dummies(data['OPERA'], prefix = 'OPERA'),pd.get_dummies(data['TIPOVUELO'], prefix = 'TIPOVUELO'), pd.get_dummies(data['MES'], prefix = 'MES')], axis = 1)\n",
        "label = data['atraso_15']\n",
        "x_train, x_test, y_train, y_test = train_test_split(features, label, test_size = 0.33, random_state = 42)"
      ],
      "metadata": {
        "id": "CnFfYnw5PycF"
      },
      "execution_count": 80,
      "outputs": []
    },
    {
      "cell_type": "code",
      "source": [
        "class_weights = {0: 2, 1: 8} \n",
        "pos_weight = sum(class_weights.values()) / sum(class_weights.keys())\n",
        "\n",
        "# Train XGBoost model\n",
        "model = xgb.XGBClassifier(random_state=1, learning_rate=0.01, scale_pos_weight=pos_weight, class_weight=class_weights)\n",
        "model.fit(x_train, y_train)\n",
        "y_pred = model.predict(x_test)\n",
        "print(classification_report(y_test, y_pred))"
      ],
      "metadata": {
        "colab": {
          "base_uri": "https://localhost:8080/"
        },
        "id": "tZBfM5wAEZ1N",
        "outputId": "551c4b94-98fe-4887-a1ff-8683f9655447"
      },
      "execution_count": 81,
      "outputs": [
        {
          "output_type": "stream",
          "name": "stdout",
          "text": [
            "[19:55:36] WARNING: ../src/learner.cc:767: \n",
            "Parameters: { \"class_weight\" } are not used.\n",
            "\n",
            "              precision    recall  f1-score   support\n",
            "\n",
            "           0       0.93      0.07      0.14     18403\n",
            "           1       0.19      0.98      0.32      4105\n",
            "\n",
            "    accuracy                           0.24     22508\n",
            "   macro avg       0.56      0.53      0.23     22508\n",
            "weighted avg       0.80      0.24      0.17     22508\n",
            "\n"
          ]
        }
      ]
    },
    {
      "cell_type": "markdown",
      "source": [
        "También se intentó otra forma de upsampling llamada SMOTE"
      ],
      "metadata": {
        "id": "uwY_SL41MugJ"
      }
    },
    {
      "cell_type": "code",
      "source": [
        "!pip install imbalanced-learn"
      ],
      "metadata": {
        "colab": {
          "base_uri": "https://localhost:8080/"
        },
        "id": "DFlzftisiiqy",
        "outputId": "b08c0db8-e252-444a-eb9f-a0330b83ecb4"
      },
      "execution_count": 82,
      "outputs": [
        {
          "output_type": "stream",
          "name": "stdout",
          "text": [
            "Looking in indexes: https://pypi.org/simple, https://us-python.pkg.dev/colab-wheels/public/simple/\n",
            "Requirement already satisfied: imbalanced-learn in /usr/local/lib/python3.8/dist-packages (0.8.1)\n",
            "Requirement already satisfied: scipy>=0.19.1 in /usr/local/lib/python3.8/dist-packages (from imbalanced-learn) (1.10.1)\n",
            "Requirement already satisfied: numpy>=1.13.3 in /usr/local/lib/python3.8/dist-packages (from imbalanced-learn) (1.22.4)\n",
            "Requirement already satisfied: scikit-learn>=0.24 in /usr/local/lib/python3.8/dist-packages (from imbalanced-learn) (1.2.1)\n",
            "Requirement already satisfied: joblib>=0.11 in /usr/local/lib/python3.8/dist-packages (from imbalanced-learn) (1.2.0)\n",
            "Requirement already satisfied: threadpoolctl>=2.0.0 in /usr/local/lib/python3.8/dist-packages (from scikit-learn>=0.24->imbalanced-learn) (3.1.0)\n"
          ]
        }
      ]
    },
    {
      "cell_type": "code",
      "source": [
        "import imblearn\n",
        "print(imblearn.__version__)"
      ],
      "metadata": {
        "colab": {
          "base_uri": "https://localhost:8080/"
        },
        "id": "k67in8RXiitF",
        "outputId": "3f1141a7-0631-436d-9d49-13c627af3d08"
      },
      "execution_count": 83,
      "outputs": [
        {
          "output_type": "stream",
          "name": "stdout",
          "text": [
            "0.8.1\n"
          ]
        }
      ]
    },
    {
      "cell_type": "code",
      "source": [
        "from imblearn.over_sampling import SMOTE\n",
        "from imblearn.under_sampling import RandomUnderSampler\n",
        "from imblearn.pipeline import Pipeline\n",
        "\n",
        "sm = SMOTE(random_state=42, k_neighbors=5)\n",
        "x_res, y_res = sm.fit_resample(features, label)\n",
        "x_train_res, x_test_res, y_train_res, y_test_res = train_test_split(x_res, y_res, test_size = 0.33, random_state = 42)\n",
        "model = xgb.XGBClassifier(random_state=1, learning_rate=0.01)\n",
        "model.fit(x_train_res, y_train_res)\n",
        "y_pred = model.predict(x_test_res)\n",
        "print(classification_report(y_test_res, y_pred))"
      ],
      "metadata": {
        "colab": {
          "base_uri": "https://localhost:8080/"
        },
        "id": "4WAqHZUqiivR",
        "outputId": "75e168c5-6ffd-4635-e04a-30b91d3f83ee"
      },
      "execution_count": 84,
      "outputs": [
        {
          "output_type": "stream",
          "name": "stdout",
          "text": [
            "              precision    recall  f1-score   support\n",
            "\n",
            "           0       0.63      0.52      0.57     18398\n",
            "           1       0.59      0.70      0.64     18293\n",
            "\n",
            "    accuracy                           0.61     36691\n",
            "   macro avg       0.61      0.61      0.60     36691\n",
            "weighted avg       0.61      0.61      0.60     36691\n",
            "\n"
          ]
        }
      ]
    },
    {
      "cell_type": "markdown",
      "source": [
        "Si bien mejoró el recall de los atrasos, los resultados en general empeoraron"
      ],
      "metadata": {
        "id": "iZMsWTyiPo2O"
      }
    },
    {
      "cell_type": "code",
      "source": [],
      "metadata": {
        "id": "UWMzCe8zEZ3i"
      },
      "execution_count": 84,
      "outputs": []
    },
    {
      "cell_type": "markdown",
      "metadata": {
        "id": "Cju4RKDgpIKt"
      },
      "source": [
        "# API REST"
      ]
    },
    {
      "cell_type": "markdown",
      "metadata": {
        "id": "81zsDNoSqDmU"
      },
      "source": [
        "- Habilita el modelo seleccionado como API REST para ser expuesto.\n",
        "\n",
        "\n",
        "Lo primero que se hace es instalar las librerías que necesitamos. \n",
        "\n",
        "es necesario instalar pyngrok y ngrok con un authtoken que se obtiene cuando se crea una cuenta en ngrok"
      ]
    },
    {
      "cell_type": "code",
      "execution_count": 85,
      "metadata": {
        "colab": {
          "base_uri": "https://localhost:8080/"
        },
        "id": "ldpVAUSzgs2e",
        "outputId": "ab9af8af-9b57-4261-dbe7-8f224f24c67b"
      },
      "outputs": [
        {
          "output_type": "stream",
          "name": "stdout",
          "text": [
            "Looking in indexes: https://pypi.org/simple, https://us-python.pkg.dev/colab-wheels/public/simple/\n",
            "Requirement already satisfied: pyngrok==4.1.1 in /usr/local/lib/python3.8/dist-packages (4.1.1)\n",
            "Requirement already satisfied: PyYAML in /usr/local/lib/python3.8/dist-packages (from pyngrok==4.1.1) (6.0)\n",
            "Requirement already satisfied: future in /usr/local/lib/python3.8/dist-packages (from pyngrok==4.1.1) (0.16.0)\n",
            "Authtoken saved to configuration file: /root/.ngrok2/ngrok.yml\n"
          ]
        }
      ],
      "source": [
        "!pip install pyngrok==4.1.1\n",
        "!ngrok authtoken '2MbtLyoHx9ORwMgHQ3eT3Ny9y2S_2GfdchzRhr6GEyNL89BZD'"
      ]
    },
    {
      "cell_type": "markdown",
      "source": [
        "Con lo anterior listo se procede a instalar \"flask_ngrok\". Puede ayudar a desplegar aplicaciones Flask que se ejecutan en localhost disponibles en Internet a través de la excelente herramienta ngrok."
      ],
      "metadata": {
        "id": "za-eZxEAqEEz"
      }
    },
    {
      "cell_type": "code",
      "execution_count": 86,
      "metadata": {
        "colab": {
          "base_uri": "https://localhost:8080/"
        },
        "id": "BzsZJhcEp-a2",
        "outputId": "c59089bb-d344-40e8-9dc4-3aabae721081"
      },
      "outputs": [
        {
          "output_type": "stream",
          "name": "stdout",
          "text": [
            "Looking in indexes: https://pypi.org/simple, https://us-python.pkg.dev/colab-wheels/public/simple/\n",
            "Requirement already satisfied: flask_ngrok in /usr/local/lib/python3.8/dist-packages (0.0.25)\n",
            "Requirement already satisfied: Flask>=0.8 in /usr/local/lib/python3.8/dist-packages (from flask_ngrok) (2.2.3)\n",
            "Requirement already satisfied: requests in /usr/local/lib/python3.8/dist-packages (from flask_ngrok) (2.25.1)\n",
            "Requirement already satisfied: Werkzeug>=2.2.2 in /usr/local/lib/python3.8/dist-packages (from Flask>=0.8->flask_ngrok) (2.2.3)\n",
            "Requirement already satisfied: click>=8.0 in /usr/local/lib/python3.8/dist-packages (from Flask>=0.8->flask_ngrok) (8.1.3)\n",
            "Requirement already satisfied: importlib-metadata>=3.6.0 in /usr/local/lib/python3.8/dist-packages (from Flask>=0.8->flask_ngrok) (6.0.0)\n",
            "Requirement already satisfied: Jinja2>=3.0 in /usr/local/lib/python3.8/dist-packages (from Flask>=0.8->flask_ngrok) (3.1.2)\n",
            "Requirement already satisfied: itsdangerous>=2.0 in /usr/local/lib/python3.8/dist-packages (from Flask>=0.8->flask_ngrok) (2.1.2)\n",
            "Requirement already satisfied: idna<3,>=2.5 in /usr/local/lib/python3.8/dist-packages (from requests->flask_ngrok) (2.10)\n",
            "Requirement already satisfied: chardet<5,>=3.0.2 in /usr/local/lib/python3.8/dist-packages (from requests->flask_ngrok) (4.0.0)\n",
            "Requirement already satisfied: urllib3<1.27,>=1.21.1 in /usr/local/lib/python3.8/dist-packages (from requests->flask_ngrok) (1.26.14)\n",
            "Requirement already satisfied: certifi>=2017.4.17 in /usr/local/lib/python3.8/dist-packages (from requests->flask_ngrok) (2022.12.7)\n",
            "Requirement already satisfied: zipp>=0.5 in /usr/local/lib/python3.8/dist-packages (from importlib-metadata>=3.6.0->Flask>=0.8->flask_ngrok) (3.15.0)\n",
            "Requirement already satisfied: MarkupSafe>=2.0 in /usr/local/lib/python3.8/dist-packages (from Jinja2>=3.0->Flask>=0.8->flask_ngrok) (2.1.2)\n"
          ]
        }
      ],
      "source": [
        "!pip install flask_ngrok"
      ]
    },
    {
      "cell_type": "markdown",
      "metadata": {
        "id": "gobOkS9xr5-R"
      },
      "source": [
        "Importemos las librerías que vamos a utilizar"
      ]
    },
    {
      "cell_type": "code",
      "execution_count": 87,
      "metadata": {
        "id": "qRH2XSKhp-0h"
      },
      "outputs": [],
      "source": [
        "import pandas as pd\n",
        "from flask_ngrok import run_with_ngrok\n",
        "from flask import request, jsonify, Flask\n",
        "import random as rk"
      ]
    },
    {
      "cell_type": "markdown",
      "source": [
        "Al correr el siguiente código se obtendrá el link para poder exponer el modelo el cual es el link que termina en \".ngrok.io\"\n",
        "\n",
        "Ese link debe cambia cada vez que se corre el código por lo que debe actualizarse para poder probar la API REST del modelo."
      ],
      "metadata": {
        "id": "oJd3t8GAq7w1"
      }
    },
    {
      "cell_type": "code",
      "execution_count": 88,
      "metadata": {
        "colab": {
          "base_uri": "https://localhost:8080/"
        },
        "id": "l02vVkg07j1z",
        "outputId": "3ca5c2a2-0e22-4231-957e-be5fbca3b46c"
      },
      "outputs": [
        {
          "output_type": "stream",
          "name": "stdout",
          "text": [
            " * Serving Flask app '__main__'\n",
            " * Debug mode: off\n"
          ]
        },
        {
          "output_type": "stream",
          "name": "stderr",
          "text": [
            "INFO:werkzeug:\u001b[31m\u001b[1mWARNING: This is a development server. Do not use it in a production deployment. Use a production WSGI server instead.\u001b[0m\n",
            " * Running on http://127.0.0.1:5000\n",
            "INFO:werkzeug:\u001b[33mPress CTRL+C to quit\u001b[0m\n"
          ]
        },
        {
          "output_type": "stream",
          "name": "stdout",
          "text": [
            " * Running on http://ae87-35-197-68-141.ngrok.io\n",
            " * Traffic stats available on http://127.0.0.1:4040\n"
          ]
        },
        {
          "output_type": "stream",
          "name": "stderr",
          "text": [
            "INFO:werkzeug:127.0.0.1 - - [06/Mar/2023 20:00:44] \"GET / HTTP/1.1\" 200 -\n",
            "INFO:werkzeug:127.0.0.1 - - [06/Mar/2023 20:00:45] \"POST /setclassifier HTTP/1.1\" 200 -\n",
            "INFO:werkzeug:127.0.0.1 - - [06/Mar/2023 20:01:03] \"POST /setclassifier HTTP/1.1\" 200 -\n",
            "INFO:werkzeug:127.0.0.1 - - [06/Mar/2023 20:01:03] \"POST /setclassifier HTTP/1.1\" 200 -\n",
            "INFO:werkzeug:127.0.0.1 - - [06/Mar/2023 20:01:03] \"POST /setclassifier HTTP/1.1\" 200 -\n",
            "INFO:werkzeug:127.0.0.1 - - [06/Mar/2023 20:01:03] \"POST /setclassifier HTTP/1.1\" 200 -\n",
            "INFO:werkzeug:127.0.0.1 - - [06/Mar/2023 20:01:03] \"POST /setclassifier HTTP/1.1\" 200 -\n",
            "INFO:werkzeug:127.0.0.1 - - [06/Mar/2023 20:01:03] \"POST /setclassifier HTTP/1.1\" 200 -\n",
            "INFO:werkzeug:127.0.0.1 - - [06/Mar/2023 20:01:03] \"POST /setclassifier HTTP/1.1\" 200 -\n",
            "INFO:werkzeug:127.0.0.1 - - [06/Mar/2023 20:01:03] \"POST /setclassifier HTTP/1.1\" 200 -\n",
            "INFO:werkzeug:127.0.0.1 - - [06/Mar/2023 20:01:03] \"POST /setclassifier HTTP/1.1\" 200 -\n",
            "INFO:werkzeug:127.0.0.1 - - [06/Mar/2023 20:01:03] \"POST /setclassifier HTTP/1.1\" 200 -\n",
            "INFO:werkzeug:127.0.0.1 - - [06/Mar/2023 20:01:03] \"POST /setclassifier HTTP/1.1\" 200 -\n",
            "INFO:werkzeug:127.0.0.1 - - [06/Mar/2023 20:01:03] \"POST /setclassifier HTTP/1.1\" 200 -\n",
            "INFO:werkzeug:127.0.0.1 - - [06/Mar/2023 20:01:03] \"POST /setclassifier HTTP/1.1\" 200 -\n",
            "INFO:werkzeug:127.0.0.1 - - [06/Mar/2023 20:01:03] \"POST /setclassifier HTTP/1.1\" 200 -\n",
            "INFO:werkzeug:127.0.0.1 - - [06/Mar/2023 20:01:03] \"POST /setclassifier HTTP/1.1\" 200 -\n",
            "INFO:werkzeug:127.0.0.1 - - [06/Mar/2023 20:01:03] \"POST /setclassifier HTTP/1.1\" 200 -\n",
            "INFO:werkzeug:127.0.0.1 - - [06/Mar/2023 20:01:03] \"POST /setclassifier HTTP/1.1\" 200 -\n",
            "INFO:werkzeug:127.0.0.1 - - [06/Mar/2023 20:01:03] \"POST /setclassifier HTTP/1.1\" 200 -\n",
            "INFO:werkzeug:127.0.0.1 - - [06/Mar/2023 20:01:03] \"POST /setclassifier HTTP/1.1\" 200 -\n",
            "INFO:werkzeug:127.0.0.1 - - [06/Mar/2023 20:01:03] \"POST /setclassifier HTTP/1.1\" 200 -\n",
            "INFO:werkzeug:127.0.0.1 - - [06/Mar/2023 20:01:03] \"POST /setclassifier HTTP/1.1\" 200 -\n",
            "INFO:werkzeug:127.0.0.1 - - [06/Mar/2023 20:01:03] \"POST /setclassifier HTTP/1.1\" 200 -\n",
            "INFO:werkzeug:127.0.0.1 - - [06/Mar/2023 20:01:04] \"POST /setclassifier HTTP/1.1\" 200 -\n",
            "INFO:werkzeug:127.0.0.1 - - [06/Mar/2023 20:01:04] \"POST /setclassifier HTTP/1.1\" 200 -\n",
            "INFO:werkzeug:127.0.0.1 - - [06/Mar/2023 20:01:04] \"POST /setclassifier HTTP/1.1\" 200 -\n",
            "INFO:werkzeug:127.0.0.1 - - [06/Mar/2023 20:01:04] \"POST /setclassifier HTTP/1.1\" 200 -\n",
            "INFO:werkzeug:127.0.0.1 - - [06/Mar/2023 20:01:04] \"POST /setclassifier HTTP/1.1\" 200 -\n",
            "INFO:werkzeug:127.0.0.1 - - [06/Mar/2023 20:01:04] \"POST /setclassifier HTTP/1.1\" 200 -\n",
            "INFO:werkzeug:127.0.0.1 - - [06/Mar/2023 20:01:04] \"POST /setclassifier HTTP/1.1\" 200 -\n",
            "INFO:werkzeug:127.0.0.1 - - [06/Mar/2023 20:01:04] \"POST /setclassifier HTTP/1.1\" 200 -\n",
            "INFO:werkzeug:127.0.0.1 - - [06/Mar/2023 20:01:04] \"POST /setclassifier HTTP/1.1\" 200 -\n",
            "INFO:werkzeug:127.0.0.1 - - [06/Mar/2023 20:01:04] \"POST /setclassifier HTTP/1.1\" 200 -\n",
            "INFO:werkzeug:127.0.0.1 - - [06/Mar/2023 20:01:04] \"POST /setclassifier HTTP/1.1\" 200 -\n",
            "INFO:werkzeug:127.0.0.1 - - [06/Mar/2023 20:01:04] \"POST /setclassifier HTTP/1.1\" 200 -\n",
            "INFO:werkzeug:127.0.0.1 - - [06/Mar/2023 20:01:04] \"POST /setclassifier HTTP/1.1\" 200 -\n",
            "INFO:werkzeug:127.0.0.1 - - [06/Mar/2023 20:01:04] \"POST /setclassifier HTTP/1.1\" 200 -\n",
            "INFO:werkzeug:127.0.0.1 - - [06/Mar/2023 20:01:04] \"POST /setclassifier HTTP/1.1\" 200 -\n",
            "INFO:werkzeug:127.0.0.1 - - [06/Mar/2023 20:01:04] \"POST /setclassifier HTTP/1.1\" 200 -\n",
            "INFO:werkzeug:127.0.0.1 - - [06/Mar/2023 20:01:04] \"POST /setclassifier HTTP/1.1\" 200 -\n",
            "INFO:werkzeug:127.0.0.1 - - [06/Mar/2023 20:01:04] \"POST /setclassifier HTTP/1.1\" 200 -\n",
            "INFO:werkzeug:127.0.0.1 - - [06/Mar/2023 20:01:04] \"POST /setclassifier HTTP/1.1\" 200 -\n",
            "INFO:werkzeug:127.0.0.1 - - [06/Mar/2023 20:01:04] \"POST /setclassifier HTTP/1.1\" 200 -\n",
            "INFO:werkzeug:127.0.0.1 - - [06/Mar/2023 20:01:04] \"POST /setclassifier HTTP/1.1\" 200 -\n",
            "INFO:werkzeug:127.0.0.1 - - [06/Mar/2023 20:01:04] \"POST /setclassifier HTTP/1.1\" 200 -\n",
            "INFO:werkzeug:127.0.0.1 - - [06/Mar/2023 20:01:04] \"POST /setclassifier HTTP/1.1\" 200 -\n",
            "INFO:werkzeug:127.0.0.1 - - [06/Mar/2023 20:01:04] \"POST /setclassifier HTTP/1.1\" 200 -\n",
            "INFO:werkzeug:127.0.0.1 - - [06/Mar/2023 20:01:04] \"POST /setclassifier HTTP/1.1\" 200 -\n",
            "INFO:werkzeug:127.0.0.1 - - [06/Mar/2023 20:01:04] \"POST /setclassifier HTTP/1.1\" 200 -\n",
            "INFO:werkzeug:127.0.0.1 - - [06/Mar/2023 20:01:04] \"POST /setclassifier HTTP/1.1\" 200 -\n",
            "INFO:werkzeug:127.0.0.1 - - [06/Mar/2023 20:01:04] \"POST /setclassifier HTTP/1.1\" 200 -\n",
            "INFO:werkzeug:127.0.0.1 - - [06/Mar/2023 20:01:04] \"POST /setclassifier HTTP/1.1\" 200 -\n",
            "INFO:werkzeug:127.0.0.1 - - [06/Mar/2023 20:01:04] \"POST /setclassifier HTTP/1.1\" 200 -\n",
            "INFO:werkzeug:127.0.0.1 - - [06/Mar/2023 20:01:04] \"POST /setclassifier HTTP/1.1\" 200 -\n",
            "INFO:werkzeug:127.0.0.1 - - [06/Mar/2023 20:01:04] \"POST /setclassifier HTTP/1.1\" 200 -\n",
            "INFO:werkzeug:127.0.0.1 - - [06/Mar/2023 20:01:04] \"POST /setclassifier HTTP/1.1\" 200 -\n",
            "INFO:werkzeug:127.0.0.1 - - [06/Mar/2023 20:01:04] \"POST /setclassifier HTTP/1.1\" 200 -\n",
            "INFO:werkzeug:127.0.0.1 - - [06/Mar/2023 20:01:04] \"POST /setclassifier HTTP/1.1\" 200 -\n",
            "INFO:werkzeug:127.0.0.1 - - [06/Mar/2023 20:01:04] \"POST /setclassifier HTTP/1.1\" 200 -\n",
            "INFO:werkzeug:127.0.0.1 - - [06/Mar/2023 20:01:04] \"POST /setclassifier HTTP/1.1\" 200 -\n",
            "INFO:werkzeug:127.0.0.1 - - [06/Mar/2023 20:01:04] \"POST /setclassifier HTTP/1.1\" 200 -\n",
            "INFO:werkzeug:127.0.0.1 - - [06/Mar/2023 20:01:04] \"POST /setclassifier HTTP/1.1\" 200 -\n",
            "INFO:werkzeug:127.0.0.1 - - [06/Mar/2023 20:01:04] \"POST /setclassifier HTTP/1.1\" 200 -\n",
            "INFO:werkzeug:127.0.0.1 - - [06/Mar/2023 20:01:04] \"POST /setclassifier HTTP/1.1\" 200 -\n",
            "INFO:werkzeug:127.0.0.1 - - [06/Mar/2023 20:01:04] \"POST /setclassifier HTTP/1.1\" 200 -\n",
            "INFO:werkzeug:127.0.0.1 - - [06/Mar/2023 20:01:04] \"POST /setclassifier HTTP/1.1\" 200 -\n",
            "INFO:werkzeug:127.0.0.1 - - [06/Mar/2023 20:01:04] \"POST /setclassifier HTTP/1.1\" 200 -\n",
            "INFO:werkzeug:127.0.0.1 - - [06/Mar/2023 20:01:04] \"POST /setclassifier HTTP/1.1\" 200 -\n",
            "INFO:werkzeug:127.0.0.1 - - [06/Mar/2023 20:01:04] \"POST /setclassifier HTTP/1.1\" 200 -\n",
            "INFO:werkzeug:127.0.0.1 - - [06/Mar/2023 20:01:04] \"POST /setclassifier HTTP/1.1\" 200 -\n",
            "INFO:werkzeug:127.0.0.1 - - [06/Mar/2023 20:01:05] \"POST /setclassifier HTTP/1.1\" 200 -\n",
            "INFO:werkzeug:127.0.0.1 - - [06/Mar/2023 20:01:05] \"POST /setclassifier HTTP/1.1\" 200 -\n",
            "INFO:werkzeug:127.0.0.1 - - [06/Mar/2023 20:01:05] \"POST /setclassifier HTTP/1.1\" 200 -\n",
            "INFO:werkzeug:127.0.0.1 - - [06/Mar/2023 20:01:05] \"POST /setclassifier HTTP/1.1\" 200 -\n",
            "INFO:werkzeug:127.0.0.1 - - [06/Mar/2023 20:01:05] \"POST /setclassifier HTTP/1.1\" 200 -\n",
            "INFO:werkzeug:127.0.0.1 - - [06/Mar/2023 20:01:05] \"POST /setclassifier HTTP/1.1\" 200 -\n",
            "INFO:werkzeug:127.0.0.1 - - [06/Mar/2023 20:01:05] \"POST /setclassifier HTTP/1.1\" 200 -\n",
            "INFO:werkzeug:127.0.0.1 - - [06/Mar/2023 20:01:05] \"POST /setclassifier HTTP/1.1\" 200 -\n",
            "INFO:werkzeug:127.0.0.1 - - [06/Mar/2023 20:01:05] \"POST /setclassifier HTTP/1.1\" 200 -\n",
            "INFO:werkzeug:127.0.0.1 - - [06/Mar/2023 20:01:05] \"POST /setclassifier HTTP/1.1\" 200 -\n",
            "INFO:werkzeug:127.0.0.1 - - [06/Mar/2023 20:01:05] \"POST /setclassifier HTTP/1.1\" 200 -\n",
            "INFO:werkzeug:127.0.0.1 - - [06/Mar/2023 20:01:05] \"POST /setclassifier HTTP/1.1\" 200 -\n",
            "INFO:werkzeug:127.0.0.1 - - [06/Mar/2023 20:01:05] \"POST /setclassifier HTTP/1.1\" 200 -\n",
            "INFO:werkzeug:127.0.0.1 - - [06/Mar/2023 20:01:05] \"POST /setclassifier HTTP/1.1\" 200 -\n",
            "INFO:werkzeug:127.0.0.1 - - [06/Mar/2023 20:01:05] \"POST /setclassifier HTTP/1.1\" 200 -\n",
            "INFO:werkzeug:127.0.0.1 - - [06/Mar/2023 20:01:05] \"POST /setclassifier HTTP/1.1\" 200 -\n",
            "INFO:werkzeug:127.0.0.1 - - [06/Mar/2023 20:01:05] \"POST /setclassifier HTTP/1.1\" 200 -\n",
            "INFO:werkzeug:127.0.0.1 - - [06/Mar/2023 20:01:05] \"POST /setclassifier HTTP/1.1\" 200 -\n",
            "INFO:werkzeug:127.0.0.1 - - [06/Mar/2023 20:01:05] \"POST /setclassifier HTTP/1.1\" 200 -\n",
            "INFO:werkzeug:127.0.0.1 - - [06/Mar/2023 20:01:05] \"POST /setclassifier HTTP/1.1\" 200 -\n",
            "INFO:werkzeug:127.0.0.1 - - [06/Mar/2023 20:01:05] \"POST /setclassifier HTTP/1.1\" 200 -\n",
            "INFO:werkzeug:127.0.0.1 - - [06/Mar/2023 20:01:05] \"POST /setclassifier HTTP/1.1\" 200 -\n",
            "INFO:werkzeug:127.0.0.1 - - [06/Mar/2023 20:01:05] \"POST /setclassifier HTTP/1.1\" 200 -\n",
            "INFO:werkzeug:127.0.0.1 - - [06/Mar/2023 20:01:05] \"POST /setclassifier HTTP/1.1\" 200 -\n",
            "INFO:werkzeug:127.0.0.1 - - [06/Mar/2023 20:01:05] \"POST /setclassifier HTTP/1.1\" 200 -\n",
            "INFO:werkzeug:127.0.0.1 - - [06/Mar/2023 20:01:05] \"POST /setclassifier HTTP/1.1\" 200 -\n",
            "INFO:werkzeug:127.0.0.1 - - [06/Mar/2023 20:01:05] \"POST /setclassifier HTTP/1.1\" 200 -\n",
            "INFO:werkzeug:127.0.0.1 - - [06/Mar/2023 20:01:05] \"POST /setclassifier HTTP/1.1\" 200 -\n",
            "INFO:werkzeug:127.0.0.1 - - [06/Mar/2023 20:01:05] \"POST /setclassifier HTTP/1.1\" 200 -\n",
            "INFO:werkzeug:127.0.0.1 - - [06/Mar/2023 20:01:05] \"POST /setclassifier HTTP/1.1\" 200 -\n",
            "INFO:werkzeug:127.0.0.1 - - [06/Mar/2023 20:01:05] \"POST /setclassifier HTTP/1.1\" 200 -\n",
            "INFO:werkzeug:127.0.0.1 - - [06/Mar/2023 20:01:05] \"POST /setclassifier HTTP/1.1\" 200 -\n",
            "INFO:werkzeug:127.0.0.1 - - [06/Mar/2023 20:01:05] \"POST /setclassifier HTTP/1.1\" 200 -\n",
            "INFO:werkzeug:127.0.0.1 - - [06/Mar/2023 20:01:05] \"POST /setclassifier HTTP/1.1\" 200 -\n",
            "INFO:werkzeug:127.0.0.1 - - [06/Mar/2023 20:01:05] \"POST /setclassifier HTTP/1.1\" 200 -\n",
            "INFO:werkzeug:127.0.0.1 - - [06/Mar/2023 20:01:05] \"POST /setclassifier HTTP/1.1\" 200 -\n",
            "INFO:werkzeug:127.0.0.1 - - [06/Mar/2023 20:01:05] \"POST /setclassifier HTTP/1.1\" 200 -\n",
            "INFO:werkzeug:127.0.0.1 - - [06/Mar/2023 20:01:05] \"POST /setclassifier HTTP/1.1\" 200 -\n",
            "INFO:werkzeug:127.0.0.1 - - [06/Mar/2023 20:01:05] \"POST /setclassifier HTTP/1.1\" 200 -\n",
            "INFO:werkzeug:127.0.0.1 - - [06/Mar/2023 20:01:05] \"POST /setclassifier HTTP/1.1\" 200 -\n",
            "INFO:werkzeug:127.0.0.1 - - [06/Mar/2023 20:01:05] \"POST /setclassifier HTTP/1.1\" 200 -\n",
            "INFO:werkzeug:127.0.0.1 - - [06/Mar/2023 20:01:05] \"POST /setclassifier HTTP/1.1\" 200 -\n",
            "INFO:werkzeug:127.0.0.1 - - [06/Mar/2023 20:01:05] \"POST /setclassifier HTTP/1.1\" 200 -\n",
            "INFO:werkzeug:127.0.0.1 - - [06/Mar/2023 20:01:05] \"POST /setclassifier HTTP/1.1\" 200 -\n",
            "INFO:werkzeug:127.0.0.1 - - [06/Mar/2023 20:01:05] \"POST /setclassifier HTTP/1.1\" 200 -\n",
            "INFO:werkzeug:127.0.0.1 - - [06/Mar/2023 20:01:05] \"POST /setclassifier HTTP/1.1\" 200 -\n",
            "INFO:werkzeug:127.0.0.1 - - [06/Mar/2023 20:01:05] \"POST /setclassifier HTTP/1.1\" 200 -\n",
            "INFO:werkzeug:127.0.0.1 - - [06/Mar/2023 20:01:05] \"POST /setclassifier HTTP/1.1\" 200 -\n",
            "INFO:werkzeug:127.0.0.1 - - [06/Mar/2023 20:01:05] \"POST /setclassifier HTTP/1.1\" 200 -\n",
            "INFO:werkzeug:127.0.0.1 - - [06/Mar/2023 20:01:06] \"POST /setclassifier HTTP/1.1\" 200 -\n",
            "INFO:werkzeug:127.0.0.1 - - [06/Mar/2023 20:01:06] \"POST /setclassifier HTTP/1.1\" 200 -\n",
            "INFO:werkzeug:127.0.0.1 - - [06/Mar/2023 20:01:06] \"POST /setclassifier HTTP/1.1\" 200 -\n",
            "INFO:werkzeug:127.0.0.1 - - [06/Mar/2023 20:01:06] \"POST /setclassifier HTTP/1.1\" 200 -\n",
            "INFO:werkzeug:127.0.0.1 - - [06/Mar/2023 20:01:06] \"POST /setclassifier HTTP/1.1\" 200 -\n",
            "INFO:werkzeug:127.0.0.1 - - [06/Mar/2023 20:01:06] \"POST /setclassifier HTTP/1.1\" 200 -\n",
            "INFO:werkzeug:127.0.0.1 - - [06/Mar/2023 20:01:06] \"POST /setclassifier HTTP/1.1\" 200 -\n",
            "INFO:werkzeug:127.0.0.1 - - [06/Mar/2023 20:01:06] \"POST /setclassifier HTTP/1.1\" 200 -\n",
            "INFO:werkzeug:127.0.0.1 - - [06/Mar/2023 20:01:06] \"POST /setclassifier HTTP/1.1\" 200 -\n",
            "INFO:werkzeug:127.0.0.1 - - [06/Mar/2023 20:01:06] \"POST /setclassifier HTTP/1.1\" 200 -\n",
            "INFO:werkzeug:127.0.0.1 - - [06/Mar/2023 20:01:06] \"POST /setclassifier HTTP/1.1\" 200 -\n",
            "INFO:werkzeug:127.0.0.1 - - [06/Mar/2023 20:01:06] \"POST /setclassifier HTTP/1.1\" 200 -\n",
            "INFO:werkzeug:127.0.0.1 - - [06/Mar/2023 20:01:06] \"POST /setclassifier HTTP/1.1\" 200 -\n",
            "INFO:werkzeug:127.0.0.1 - - [06/Mar/2023 20:01:06] \"POST /setclassifier HTTP/1.1\" 200 -\n",
            "INFO:werkzeug:127.0.0.1 - - [06/Mar/2023 20:01:06] \"POST /setclassifier HTTP/1.1\" 200 -\n",
            "INFO:werkzeug:127.0.0.1 - - [06/Mar/2023 20:01:06] \"POST /setclassifier HTTP/1.1\" 200 -\n",
            "INFO:werkzeug:127.0.0.1 - - [06/Mar/2023 20:01:06] \"POST /setclassifier HTTP/1.1\" 200 -\n",
            "INFO:werkzeug:127.0.0.1 - - [06/Mar/2023 20:01:06] \"POST /setclassifier HTTP/1.1\" 200 -\n",
            "INFO:werkzeug:127.0.0.1 - - [06/Mar/2023 20:01:06] \"POST /setclassifier HTTP/1.1\" 200 -\n",
            "INFO:werkzeug:127.0.0.1 - - [06/Mar/2023 20:01:06] \"POST /setclassifier HTTP/1.1\" 200 -\n",
            "INFO:werkzeug:127.0.0.1 - - [06/Mar/2023 20:01:06] \"POST /setclassifier HTTP/1.1\" 200 -\n",
            "INFO:werkzeug:127.0.0.1 - - [06/Mar/2023 20:01:06] \"POST /setclassifier HTTP/1.1\" 200 -\n",
            "INFO:werkzeug:127.0.0.1 - - [06/Mar/2023 20:01:06] \"POST /setclassifier HTTP/1.1\" 200 -\n",
            "INFO:werkzeug:127.0.0.1 - - [06/Mar/2023 20:01:06] \"POST /setclassifier HTTP/1.1\" 200 -\n",
            "INFO:werkzeug:127.0.0.1 - - [06/Mar/2023 20:01:06] \"POST /setclassifier HTTP/1.1\" 200 -\n",
            "INFO:werkzeug:127.0.0.1 - - [06/Mar/2023 20:01:06] \"POST /setclassifier HTTP/1.1\" 200 -\n",
            "INFO:werkzeug:127.0.0.1 - - [06/Mar/2023 20:01:06] \"POST /setclassifier HTTP/1.1\" 200 -\n",
            "INFO:werkzeug:127.0.0.1 - - [06/Mar/2023 20:01:06] \"POST /setclassifier HTTP/1.1\" 200 -\n",
            "INFO:werkzeug:127.0.0.1 - - [06/Mar/2023 20:01:06] \"POST /setclassifier HTTP/1.1\" 200 -\n",
            "INFO:werkzeug:127.0.0.1 - - [06/Mar/2023 20:01:06] \"POST /setclassifier HTTP/1.1\" 200 -\n",
            "INFO:werkzeug:127.0.0.1 - - [06/Mar/2023 20:01:06] \"POST /setclassifier HTTP/1.1\" 200 -\n",
            "INFO:werkzeug:127.0.0.1 - - [06/Mar/2023 20:01:06] \"POST /setclassifier HTTP/1.1\" 200 -\n",
            "INFO:werkzeug:127.0.0.1 - - [06/Mar/2023 20:01:06] \"POST /setclassifier HTTP/1.1\" 200 -\n",
            "INFO:werkzeug:127.0.0.1 - - [06/Mar/2023 20:01:06] \"POST /setclassifier HTTP/1.1\" 200 -\n",
            "INFO:werkzeug:127.0.0.1 - - [06/Mar/2023 20:01:06] \"POST /setclassifier HTTP/1.1\" 200 -\n",
            "INFO:werkzeug:127.0.0.1 - - [06/Mar/2023 20:01:06] \"POST /setclassifier HTTP/1.1\" 200 -\n",
            "INFO:werkzeug:127.0.0.1 - - [06/Mar/2023 20:01:06] \"POST /setclassifier HTTP/1.1\" 200 -\n",
            "INFO:werkzeug:127.0.0.1 - - [06/Mar/2023 20:01:06] \"POST /setclassifier HTTP/1.1\" 200 -\n",
            "INFO:werkzeug:127.0.0.1 - - [06/Mar/2023 20:01:06] \"POST /setclassifier HTTP/1.1\" 200 -\n",
            "INFO:werkzeug:127.0.0.1 - - [06/Mar/2023 20:01:06] \"POST /setclassifier HTTP/1.1\" 200 -\n",
            "INFO:werkzeug:127.0.0.1 - - [06/Mar/2023 20:01:06] \"POST /setclassifier HTTP/1.1\" 200 -\n",
            "INFO:werkzeug:127.0.0.1 - - [06/Mar/2023 20:01:06] \"POST /setclassifier HTTP/1.1\" 200 -\n",
            "INFO:werkzeug:127.0.0.1 - - [06/Mar/2023 20:01:06] \"POST /setclassifier HTTP/1.1\" 200 -\n",
            "INFO:werkzeug:127.0.0.1 - - [06/Mar/2023 20:01:06] \"POST /setclassifier HTTP/1.1\" 200 -\n",
            "INFO:werkzeug:127.0.0.1 - - [06/Mar/2023 20:01:06] \"POST /setclassifier HTTP/1.1\" 200 -\n",
            "INFO:werkzeug:127.0.0.1 - - [06/Mar/2023 20:01:06] \"POST /setclassifier HTTP/1.1\" 200 -\n",
            "INFO:werkzeug:127.0.0.1 - - [06/Mar/2023 20:01:06] \"POST /setclassifier HTTP/1.1\" 200 -\n",
            "INFO:werkzeug:127.0.0.1 - - [06/Mar/2023 20:01:06] \"POST /setclassifier HTTP/1.1\" 200 -\n",
            "INFO:werkzeug:127.0.0.1 - - [06/Mar/2023 20:01:07] \"POST /setclassifier HTTP/1.1\" 200 -\n",
            "INFO:werkzeug:127.0.0.1 - - [06/Mar/2023 20:01:07] \"POST /setclassifier HTTP/1.1\" 200 -\n",
            "INFO:werkzeug:127.0.0.1 - - [06/Mar/2023 20:01:07] \"POST /setclassifier HTTP/1.1\" 200 -\n",
            "INFO:werkzeug:127.0.0.1 - - [06/Mar/2023 20:01:07] \"POST /setclassifier HTTP/1.1\" 200 -\n",
            "INFO:werkzeug:127.0.0.1 - - [06/Mar/2023 20:01:07] \"POST /setclassifier HTTP/1.1\" 200 -\n",
            "INFO:werkzeug:127.0.0.1 - - [06/Mar/2023 20:01:07] \"POST /setclassifier HTTP/1.1\" 200 -\n",
            "INFO:werkzeug:127.0.0.1 - - [06/Mar/2023 20:01:07] \"POST /setclassifier HTTP/1.1\" 200 -\n",
            "INFO:werkzeug:127.0.0.1 - - [06/Mar/2023 20:01:07] \"POST /setclassifier HTTP/1.1\" 200 -\n",
            "INFO:werkzeug:127.0.0.1 - - [06/Mar/2023 20:01:07] \"POST /setclassifier HTTP/1.1\" 200 -\n",
            "INFO:werkzeug:127.0.0.1 - - [06/Mar/2023 20:01:07] \"POST /setclassifier HTTP/1.1\" 200 -\n",
            "INFO:werkzeug:127.0.0.1 - - [06/Mar/2023 20:01:07] \"POST /setclassifier HTTP/1.1\" 200 -\n",
            "INFO:werkzeug:127.0.0.1 - - [06/Mar/2023 20:01:07] \"POST /setclassifier HTTP/1.1\" 200 -\n",
            "INFO:werkzeug:127.0.0.1 - - [06/Mar/2023 20:01:07] \"POST /setclassifier HTTP/1.1\" 200 -\n",
            "INFO:werkzeug:127.0.0.1 - - [06/Mar/2023 20:01:07] \"POST /setclassifier HTTP/1.1\" 200 -\n",
            "INFO:werkzeug:127.0.0.1 - - [06/Mar/2023 20:01:07] \"POST /setclassifier HTTP/1.1\" 200 -\n",
            "INFO:werkzeug:127.0.0.1 - - [06/Mar/2023 20:01:07] \"POST /setclassifier HTTP/1.1\" 200 -\n",
            "INFO:werkzeug:127.0.0.1 - - [06/Mar/2023 20:01:07] \"POST /setclassifier HTTP/1.1\" 200 -\n",
            "INFO:werkzeug:127.0.0.1 - - [06/Mar/2023 20:01:07] \"POST /setclassifier HTTP/1.1\" 200 -\n",
            "INFO:werkzeug:127.0.0.1 - - [06/Mar/2023 20:01:07] \"POST /setclassifier HTTP/1.1\" 200 -\n",
            "INFO:werkzeug:127.0.0.1 - - [06/Mar/2023 20:01:07] \"POST /setclassifier HTTP/1.1\" 200 -\n",
            "INFO:werkzeug:127.0.0.1 - - [06/Mar/2023 20:01:07] \"POST /setclassifier HTTP/1.1\" 200 -\n",
            "INFO:werkzeug:127.0.0.1 - - [06/Mar/2023 20:01:07] \"POST /setclassifier HTTP/1.1\" 200 -\n",
            "INFO:werkzeug:127.0.0.1 - - [06/Mar/2023 20:01:07] \"POST /setclassifier HTTP/1.1\" 200 -\n",
            "INFO:werkzeug:127.0.0.1 - - [06/Mar/2023 20:01:07] \"POST /setclassifier HTTP/1.1\" 200 -\n",
            "INFO:werkzeug:127.0.0.1 - - [06/Mar/2023 20:01:07] \"POST /setclassifier HTTP/1.1\" 200 -\n",
            "INFO:werkzeug:127.0.0.1 - - [06/Mar/2023 20:01:07] \"POST /setclassifier HTTP/1.1\" 200 -\n",
            "INFO:werkzeug:127.0.0.1 - - [06/Mar/2023 20:01:07] \"POST /setclassifier HTTP/1.1\" 200 -\n",
            "INFO:werkzeug:127.0.0.1 - - [06/Mar/2023 20:01:07] \"POST /setclassifier HTTP/1.1\" 200 -\n",
            "INFO:werkzeug:127.0.0.1 - - [06/Mar/2023 20:01:07] \"POST /setclassifier HTTP/1.1\" 200 -\n",
            "INFO:werkzeug:127.0.0.1 - - [06/Mar/2023 20:01:07] \"POST /setclassifier HTTP/1.1\" 200 -\n",
            "INFO:werkzeug:127.0.0.1 - - [06/Mar/2023 20:01:07] \"POST /setclassifier HTTP/1.1\" 200 -\n",
            "INFO:werkzeug:127.0.0.1 - - [06/Mar/2023 20:01:07] \"POST /setclassifier HTTP/1.1\" 200 -\n",
            "INFO:werkzeug:127.0.0.1 - - [06/Mar/2023 20:01:07] \"POST /setclassifier HTTP/1.1\" 200 -\n",
            "INFO:werkzeug:127.0.0.1 - - [06/Mar/2023 20:01:07] \"POST /setclassifier HTTP/1.1\" 200 -\n",
            "INFO:werkzeug:127.0.0.1 - - [06/Mar/2023 20:01:07] \"POST /setclassifier HTTP/1.1\" 200 -\n",
            "INFO:werkzeug:127.0.0.1 - - [06/Mar/2023 20:01:07] \"POST /setclassifier HTTP/1.1\" 200 -\n",
            "INFO:werkzeug:127.0.0.1 - - [06/Mar/2023 20:01:07] \"POST /setclassifier HTTP/1.1\" 200 -\n",
            "INFO:werkzeug:127.0.0.1 - - [06/Mar/2023 20:01:07] \"POST /setclassifier HTTP/1.1\" 200 -\n",
            "INFO:werkzeug:127.0.0.1 - - [06/Mar/2023 20:01:07] \"POST /setclassifier HTTP/1.1\" 200 -\n",
            "INFO:werkzeug:127.0.0.1 - - [06/Mar/2023 20:01:07] \"POST /setclassifier HTTP/1.1\" 200 -\n",
            "INFO:werkzeug:127.0.0.1 - - [06/Mar/2023 20:01:07] \"POST /setclassifier HTTP/1.1\" 200 -\n",
            "INFO:werkzeug:127.0.0.1 - - [06/Mar/2023 20:01:07] \"POST /setclassifier HTTP/1.1\" 200 -\n",
            "INFO:werkzeug:127.0.0.1 - - [06/Mar/2023 20:01:07] \"POST /setclassifier HTTP/1.1\" 200 -\n",
            "INFO:werkzeug:127.0.0.1 - - [06/Mar/2023 20:01:07] \"POST /setclassifier HTTP/1.1\" 200 -\n",
            "INFO:werkzeug:127.0.0.1 - - [06/Mar/2023 20:01:07] \"POST /setclassifier HTTP/1.1\" 200 -\n",
            "INFO:werkzeug:127.0.0.1 - - [06/Mar/2023 20:01:07] \"POST /setclassifier HTTP/1.1\" 200 -\n",
            "INFO:werkzeug:127.0.0.1 - - [06/Mar/2023 20:01:07] \"POST /setclassifier HTTP/1.1\" 200 -\n",
            "INFO:werkzeug:127.0.0.1 - - [06/Mar/2023 20:01:07] \"POST /setclassifier HTTP/1.1\" 200 -\n",
            "INFO:werkzeug:127.0.0.1 - - [06/Mar/2023 20:01:07] \"POST /setclassifier HTTP/1.1\" 200 -\n",
            "INFO:werkzeug:127.0.0.1 - - [06/Mar/2023 20:01:07] \"POST /setclassifier HTTP/1.1\" 200 -\n",
            "INFO:werkzeug:127.0.0.1 - - [06/Mar/2023 20:01:07] \"POST /setclassifier HTTP/1.1\" 200 -\n",
            "INFO:werkzeug:127.0.0.1 - - [06/Mar/2023 20:01:08] \"POST /setclassifier HTTP/1.1\" 200 -\n",
            "INFO:werkzeug:127.0.0.1 - - [06/Mar/2023 20:01:08] \"POST /setclassifier HTTP/1.1\" 200 -\n",
            "INFO:werkzeug:127.0.0.1 - - [06/Mar/2023 20:01:08] \"POST /setclassifier HTTP/1.1\" 200 -\n",
            "INFO:werkzeug:127.0.0.1 - - [06/Mar/2023 20:01:08] \"POST /setclassifier HTTP/1.1\" 200 -\n",
            "INFO:werkzeug:127.0.0.1 - - [06/Mar/2023 20:01:08] \"POST /setclassifier HTTP/1.1\" 200 -\n",
            "INFO:werkzeug:127.0.0.1 - - [06/Mar/2023 20:01:08] \"POST /setclassifier HTTP/1.1\" 200 -\n",
            "INFO:werkzeug:127.0.0.1 - - [06/Mar/2023 20:01:08] \"POST /setclassifier HTTP/1.1\" 200 -\n",
            "INFO:werkzeug:127.0.0.1 - - [06/Mar/2023 20:01:08] \"POST /setclassifier HTTP/1.1\" 200 -\n",
            "INFO:werkzeug:127.0.0.1 - - [06/Mar/2023 20:01:08] \"POST /setclassifier HTTP/1.1\" 200 -\n",
            "INFO:werkzeug:127.0.0.1 - - [06/Mar/2023 20:01:08] \"POST /setclassifier HTTP/1.1\" 200 -\n",
            "INFO:werkzeug:127.0.0.1 - - [06/Mar/2023 20:01:08] \"POST /setclassifier HTTP/1.1\" 200 -\n",
            "INFO:werkzeug:127.0.0.1 - - [06/Mar/2023 20:01:08] \"POST /setclassifier HTTP/1.1\" 200 -\n",
            "INFO:werkzeug:127.0.0.1 - - [06/Mar/2023 20:01:08] \"POST /setclassifier HTTP/1.1\" 200 -\n",
            "INFO:werkzeug:127.0.0.1 - - [06/Mar/2023 20:01:08] \"POST /setclassifier HTTP/1.1\" 200 -\n",
            "INFO:werkzeug:127.0.0.1 - - [06/Mar/2023 20:01:08] \"POST /setclassifier HTTP/1.1\" 200 -\n",
            "INFO:werkzeug:127.0.0.1 - - [06/Mar/2023 20:01:08] \"POST /setclassifier HTTP/1.1\" 200 -\n",
            "INFO:werkzeug:127.0.0.1 - - [06/Mar/2023 20:01:08] \"POST /setclassifier HTTP/1.1\" 200 -\n",
            "INFO:werkzeug:127.0.0.1 - - [06/Mar/2023 20:01:08] \"POST /setclassifier HTTP/1.1\" 200 -\n",
            "INFO:werkzeug:127.0.0.1 - - [06/Mar/2023 20:01:08] \"POST /setclassifier HTTP/1.1\" 200 -\n",
            "INFO:werkzeug:127.0.0.1 - - [06/Mar/2023 20:01:08] \"POST /setclassifier HTTP/1.1\" 200 -\n",
            "INFO:werkzeug:127.0.0.1 - - [06/Mar/2023 20:01:08] \"POST /setclassifier HTTP/1.1\" 200 -\n",
            "INFO:werkzeug:127.0.0.1 - - [06/Mar/2023 20:01:08] \"POST /setclassifier HTTP/1.1\" 200 -\n",
            "INFO:werkzeug:127.0.0.1 - - [06/Mar/2023 20:01:08] \"POST /setclassifier HTTP/1.1\" 200 -\n",
            "INFO:werkzeug:127.0.0.1 - - [06/Mar/2023 20:01:08] \"POST /setclassifier HTTP/1.1\" 200 -\n",
            "INFO:werkzeug:127.0.0.1 - - [06/Mar/2023 20:01:08] \"POST /setclassifier HTTP/1.1\" 200 -\n",
            "INFO:werkzeug:127.0.0.1 - - [06/Mar/2023 20:01:08] \"POST /setclassifier HTTP/1.1\" 200 -\n",
            "INFO:werkzeug:127.0.0.1 - - [06/Mar/2023 20:01:08] \"POST /setclassifier HTTP/1.1\" 200 -\n",
            "INFO:werkzeug:127.0.0.1 - - [06/Mar/2023 20:01:08] \"POST /setclassifier HTTP/1.1\" 200 -\n",
            "INFO:werkzeug:127.0.0.1 - - [06/Mar/2023 20:01:08] \"POST /setclassifier HTTP/1.1\" 200 -\n",
            "INFO:werkzeug:127.0.0.1 - - [06/Mar/2023 20:01:08] \"POST /setclassifier HTTP/1.1\" 200 -\n",
            "INFO:werkzeug:127.0.0.1 - - [06/Mar/2023 20:01:08] \"POST /setclassifier HTTP/1.1\" 200 -\n",
            "INFO:werkzeug:127.0.0.1 - - [06/Mar/2023 20:01:08] \"POST /setclassifier HTTP/1.1\" 200 -\n",
            "INFO:werkzeug:127.0.0.1 - - [06/Mar/2023 20:01:08] \"POST /setclassifier HTTP/1.1\" 200 -\n",
            "INFO:werkzeug:127.0.0.1 - - [06/Mar/2023 20:01:08] \"POST /setclassifier HTTP/1.1\" 200 -\n",
            "INFO:werkzeug:127.0.0.1 - - [06/Mar/2023 20:01:08] \"POST /setclassifier HTTP/1.1\" 200 -\n",
            "INFO:werkzeug:127.0.0.1 - - [06/Mar/2023 20:01:08] \"POST /setclassifier HTTP/1.1\" 200 -\n",
            "INFO:werkzeug:127.0.0.1 - - [06/Mar/2023 20:01:08] \"POST /setclassifier HTTP/1.1\" 200 -\n",
            "INFO:werkzeug:127.0.0.1 - - [06/Mar/2023 20:01:08] \"POST /setclassifier HTTP/1.1\" 200 -\n",
            "INFO:werkzeug:127.0.0.1 - - [06/Mar/2023 20:01:08] \"POST /setclassifier HTTP/1.1\" 200 -\n",
            "INFO:werkzeug:127.0.0.1 - - [06/Mar/2023 20:01:08] \"POST /setclassifier HTTP/1.1\" 200 -\n",
            "INFO:werkzeug:127.0.0.1 - - [06/Mar/2023 20:01:08] \"POST /setclassifier HTTP/1.1\" 200 -\n",
            "INFO:werkzeug:127.0.0.1 - - [06/Mar/2023 20:01:08] \"POST /setclassifier HTTP/1.1\" 200 -\n",
            "INFO:werkzeug:127.0.0.1 - - [06/Mar/2023 20:01:08] \"POST /setclassifier HTTP/1.1\" 200 -\n",
            "INFO:werkzeug:127.0.0.1 - - [06/Mar/2023 20:01:08] \"POST /setclassifier HTTP/1.1\" 200 -\n",
            "INFO:werkzeug:127.0.0.1 - - [06/Mar/2023 20:01:08] \"POST /setclassifier HTTP/1.1\" 200 -\n",
            "INFO:werkzeug:127.0.0.1 - - [06/Mar/2023 20:01:08] \"POST /setclassifier HTTP/1.1\" 200 -\n",
            "INFO:werkzeug:127.0.0.1 - - [06/Mar/2023 20:01:08] \"POST /setclassifier HTTP/1.1\" 200 -\n",
            "INFO:werkzeug:127.0.0.1 - - [06/Mar/2023 20:01:08] \"POST /setclassifier HTTP/1.1\" 200 -\n",
            "INFO:werkzeug:127.0.0.1 - - [06/Mar/2023 20:01:08] \"POST /setclassifier HTTP/1.1\" 200 -\n",
            "INFO:werkzeug:127.0.0.1 - - [06/Mar/2023 20:01:08] \"POST /setclassifier HTTP/1.1\" 200 -\n",
            "INFO:werkzeug:127.0.0.1 - - [06/Mar/2023 20:01:09] \"POST /setclassifier HTTP/1.1\" 200 -\n",
            "INFO:werkzeug:127.0.0.1 - - [06/Mar/2023 20:01:09] \"POST /setclassifier HTTP/1.1\" 200 -\n",
            "INFO:werkzeug:127.0.0.1 - - [06/Mar/2023 20:01:09] \"POST /setclassifier HTTP/1.1\" 200 -\n",
            "INFO:werkzeug:127.0.0.1 - - [06/Mar/2023 20:01:09] \"POST /setclassifier HTTP/1.1\" 200 -\n",
            "INFO:werkzeug:127.0.0.1 - - [06/Mar/2023 20:01:09] \"POST /setclassifier HTTP/1.1\" 200 -\n",
            "INFO:werkzeug:127.0.0.1 - - [06/Mar/2023 20:01:09] \"POST /setclassifier HTTP/1.1\" 200 -\n",
            "INFO:werkzeug:127.0.0.1 - - [06/Mar/2023 20:01:09] \"POST /setclassifier HTTP/1.1\" 200 -\n",
            "INFO:werkzeug:127.0.0.1 - - [06/Mar/2023 20:01:09] \"POST /setclassifier HTTP/1.1\" 200 -\n",
            "INFO:werkzeug:127.0.0.1 - - [06/Mar/2023 20:01:09] \"POST /setclassifier HTTP/1.1\" 200 -\n",
            "INFO:werkzeug:127.0.0.1 - - [06/Mar/2023 20:01:09] \"POST /setclassifier HTTP/1.1\" 200 -\n",
            "INFO:werkzeug:127.0.0.1 - - [06/Mar/2023 20:01:09] \"POST /setclassifier HTTP/1.1\" 200 -\n",
            "INFO:werkzeug:127.0.0.1 - - [06/Mar/2023 20:01:09] \"POST /setclassifier HTTP/1.1\" 200 -\n",
            "INFO:werkzeug:127.0.0.1 - - [06/Mar/2023 20:01:09] \"POST /setclassifier HTTP/1.1\" 200 -\n",
            "INFO:werkzeug:127.0.0.1 - - [06/Mar/2023 20:01:09] \"POST /setclassifier HTTP/1.1\" 200 -\n",
            "INFO:werkzeug:127.0.0.1 - - [06/Mar/2023 20:01:09] \"POST /setclassifier HTTP/1.1\" 200 -\n",
            "INFO:werkzeug:127.0.0.1 - - [06/Mar/2023 20:01:09] \"POST /setclassifier HTTP/1.1\" 200 -\n",
            "INFO:werkzeug:127.0.0.1 - - [06/Mar/2023 20:01:09] \"POST /setclassifier HTTP/1.1\" 200 -\n",
            "INFO:werkzeug:127.0.0.1 - - [06/Mar/2023 20:01:09] \"POST /setclassifier HTTP/1.1\" 200 -\n",
            "INFO:werkzeug:127.0.0.1 - - [06/Mar/2023 20:01:09] \"POST /setclassifier HTTP/1.1\" 200 -\n",
            "INFO:werkzeug:127.0.0.1 - - [06/Mar/2023 20:01:09] \"POST /setclassifier HTTP/1.1\" 200 -\n",
            "INFO:werkzeug:127.0.0.1 - - [06/Mar/2023 20:01:09] \"POST /setclassifier HTTP/1.1\" 200 -\n",
            "INFO:werkzeug:127.0.0.1 - - [06/Mar/2023 20:01:09] \"POST /setclassifier HTTP/1.1\" 200 -\n",
            "INFO:werkzeug:127.0.0.1 - - [06/Mar/2023 20:01:09] \"POST /setclassifier HTTP/1.1\" 200 -\n",
            "INFO:werkzeug:127.0.0.1 - - [06/Mar/2023 20:01:09] \"POST /setclassifier HTTP/1.1\" 200 -\n",
            "INFO:werkzeug:127.0.0.1 - - [06/Mar/2023 20:01:09] \"POST /setclassifier HTTP/1.1\" 200 -\n",
            "INFO:werkzeug:127.0.0.1 - - [06/Mar/2023 20:01:09] \"POST /setclassifier HTTP/1.1\" 200 -\n",
            "INFO:werkzeug:127.0.0.1 - - [06/Mar/2023 20:01:09] \"POST /setclassifier HTTP/1.1\" 200 -\n",
            "INFO:werkzeug:127.0.0.1 - - [06/Mar/2023 20:01:09] \"POST /setclassifier HTTP/1.1\" 200 -\n",
            "INFO:werkzeug:127.0.0.1 - - [06/Mar/2023 20:01:09] \"POST /setclassifier HTTP/1.1\" 200 -\n",
            "INFO:werkzeug:127.0.0.1 - - [06/Mar/2023 20:01:09] \"POST /setclassifier HTTP/1.1\" 200 -\n",
            "INFO:werkzeug:127.0.0.1 - - [06/Mar/2023 20:01:09] \"POST /setclassifier HTTP/1.1\" 200 -\n",
            "INFO:werkzeug:127.0.0.1 - - [06/Mar/2023 20:01:09] \"POST /setclassifier HTTP/1.1\" 200 -\n",
            "INFO:werkzeug:127.0.0.1 - - [06/Mar/2023 20:01:09] \"POST /setclassifier HTTP/1.1\" 200 -\n",
            "INFO:werkzeug:127.0.0.1 - - [06/Mar/2023 20:01:09] \"POST /setclassifier HTTP/1.1\" 200 -\n",
            "INFO:werkzeug:127.0.0.1 - - [06/Mar/2023 20:01:09] \"POST /setclassifier HTTP/1.1\" 200 -\n",
            "INFO:werkzeug:127.0.0.1 - - [06/Mar/2023 20:01:09] \"POST /setclassifier HTTP/1.1\" 200 -\n",
            "INFO:werkzeug:127.0.0.1 - - [06/Mar/2023 20:01:09] \"POST /setclassifier HTTP/1.1\" 200 -\n",
            "INFO:werkzeug:127.0.0.1 - - [06/Mar/2023 20:01:09] \"POST /setclassifier HTTP/1.1\" 200 -\n",
            "INFO:werkzeug:127.0.0.1 - - [06/Mar/2023 20:01:09] \"POST /setclassifier HTTP/1.1\" 200 -\n",
            "INFO:werkzeug:127.0.0.1 - - [06/Mar/2023 20:01:09] \"POST /setclassifier HTTP/1.1\" 200 -\n",
            "INFO:werkzeug:127.0.0.1 - - [06/Mar/2023 20:01:09] \"POST /setclassifier HTTP/1.1\" 200 -\n",
            "INFO:werkzeug:127.0.0.1 - - [06/Mar/2023 20:01:09] \"POST /setclassifier HTTP/1.1\" 200 -\n",
            "INFO:werkzeug:127.0.0.1 - - [06/Mar/2023 20:01:09] \"POST /setclassifier HTTP/1.1\" 200 -\n",
            "INFO:werkzeug:127.0.0.1 - - [06/Mar/2023 20:01:09] \"POST /setclassifier HTTP/1.1\" 200 -\n",
            "INFO:werkzeug:127.0.0.1 - - [06/Mar/2023 20:01:09] \"POST /setclassifier HTTP/1.1\" 200 -\n",
            "INFO:werkzeug:127.0.0.1 - - [06/Mar/2023 20:01:09] \"POST /setclassifier HTTP/1.1\" 200 -\n",
            "INFO:werkzeug:127.0.0.1 - - [06/Mar/2023 20:01:09] \"POST /setclassifier HTTP/1.1\" 200 -\n",
            "INFO:werkzeug:127.0.0.1 - - [06/Mar/2023 20:01:09] \"POST /setclassifier HTTP/1.1\" 200 -\n",
            "INFO:werkzeug:127.0.0.1 - - [06/Mar/2023 20:01:10] \"POST /setclassifier HTTP/1.1\" 200 -\n",
            "INFO:werkzeug:127.0.0.1 - - [06/Mar/2023 20:01:10] \"POST /setclassifier HTTP/1.1\" 200 -\n",
            "INFO:werkzeug:127.0.0.1 - - [06/Mar/2023 20:01:10] \"POST /setclassifier HTTP/1.1\" 200 -\n",
            "INFO:werkzeug:127.0.0.1 - - [06/Mar/2023 20:01:10] \"POST /setclassifier HTTP/1.1\" 200 -\n",
            "INFO:werkzeug:127.0.0.1 - - [06/Mar/2023 20:01:10] \"POST /setclassifier HTTP/1.1\" 200 -\n",
            "INFO:werkzeug:127.0.0.1 - - [06/Mar/2023 20:01:10] \"POST /setclassifier HTTP/1.1\" 200 -\n",
            "INFO:werkzeug:127.0.0.1 - - [06/Mar/2023 20:01:10] \"POST /setclassifier HTTP/1.1\" 200 -\n",
            "INFO:werkzeug:127.0.0.1 - - [06/Mar/2023 20:01:10] \"POST /setclassifier HTTP/1.1\" 200 -\n",
            "INFO:werkzeug:127.0.0.1 - - [06/Mar/2023 20:01:10] \"POST /setclassifier HTTP/1.1\" 200 -\n",
            "INFO:werkzeug:127.0.0.1 - - [06/Mar/2023 20:01:10] \"POST /setclassifier HTTP/1.1\" 200 -\n",
            "INFO:werkzeug:127.0.0.1 - - [06/Mar/2023 20:01:10] \"POST /setclassifier HTTP/1.1\" 200 -\n",
            "INFO:werkzeug:127.0.0.1 - - [06/Mar/2023 20:01:10] \"POST /setclassifier HTTP/1.1\" 200 -\n",
            "INFO:werkzeug:127.0.0.1 - - [06/Mar/2023 20:01:10] \"POST /setclassifier HTTP/1.1\" 200 -\n",
            "INFO:werkzeug:127.0.0.1 - - [06/Mar/2023 20:01:10] \"POST /setclassifier HTTP/1.1\" 200 -\n",
            "INFO:werkzeug:127.0.0.1 - - [06/Mar/2023 20:01:10] \"POST /setclassifier HTTP/1.1\" 200 -\n",
            "INFO:werkzeug:127.0.0.1 - - [06/Mar/2023 20:01:10] \"POST /setclassifier HTTP/1.1\" 200 -\n",
            "INFO:werkzeug:127.0.0.1 - - [06/Mar/2023 20:01:10] \"POST /setclassifier HTTP/1.1\" 200 -\n",
            "INFO:werkzeug:127.0.0.1 - - [06/Mar/2023 20:01:10] \"POST /setclassifier HTTP/1.1\" 200 -\n",
            "INFO:werkzeug:127.0.0.1 - - [06/Mar/2023 20:01:10] \"POST /setclassifier HTTP/1.1\" 200 -\n",
            "INFO:werkzeug:127.0.0.1 - - [06/Mar/2023 20:01:10] \"POST /setclassifier HTTP/1.1\" 200 -\n",
            "INFO:werkzeug:127.0.0.1 - - [06/Mar/2023 20:01:10] \"POST /setclassifier HTTP/1.1\" 200 -\n",
            "INFO:werkzeug:127.0.0.1 - - [06/Mar/2023 20:01:10] \"POST /setclassifier HTTP/1.1\" 200 -\n",
            "INFO:werkzeug:127.0.0.1 - - [06/Mar/2023 20:01:10] \"POST /setclassifier HTTP/1.1\" 200 -\n",
            "INFO:werkzeug:127.0.0.1 - - [06/Mar/2023 20:01:10] \"POST /setclassifier HTTP/1.1\" 200 -\n",
            "INFO:werkzeug:127.0.0.1 - - [06/Mar/2023 20:01:10] \"POST /setclassifier HTTP/1.1\" 200 -\n",
            "INFO:werkzeug:127.0.0.1 - - [06/Mar/2023 20:01:10] \"POST /setclassifier HTTP/1.1\" 200 -\n",
            "INFO:werkzeug:127.0.0.1 - - [06/Mar/2023 20:01:10] \"POST /setclassifier HTTP/1.1\" 200 -\n",
            "INFO:werkzeug:127.0.0.1 - - [06/Mar/2023 20:01:10] \"POST /setclassifier HTTP/1.1\" 200 -\n",
            "INFO:werkzeug:127.0.0.1 - - [06/Mar/2023 20:01:10] \"POST /setclassifier HTTP/1.1\" 200 -\n",
            "INFO:werkzeug:127.0.0.1 - - [06/Mar/2023 20:01:10] \"POST /setclassifier HTTP/1.1\" 200 -\n",
            "INFO:werkzeug:127.0.0.1 - - [06/Mar/2023 20:01:10] \"POST /setclassifier HTTP/1.1\" 200 -\n",
            "INFO:werkzeug:127.0.0.1 - - [06/Mar/2023 20:01:10] \"POST /setclassifier HTTP/1.1\" 200 -\n",
            "INFO:werkzeug:127.0.0.1 - - [06/Mar/2023 20:01:10] \"POST /setclassifier HTTP/1.1\" 200 -\n",
            "INFO:werkzeug:127.0.0.1 - - [06/Mar/2023 20:01:10] \"POST /setclassifier HTTP/1.1\" 200 -\n",
            "INFO:werkzeug:127.0.0.1 - - [06/Mar/2023 20:01:10] \"POST /setclassifier HTTP/1.1\" 200 -\n",
            "INFO:werkzeug:127.0.0.1 - - [06/Mar/2023 20:01:10] \"POST /setclassifier HTTP/1.1\" 200 -\n",
            "INFO:werkzeug:127.0.0.1 - - [06/Mar/2023 20:01:10] \"POST /setclassifier HTTP/1.1\" 200 -\n",
            "INFO:werkzeug:127.0.0.1 - - [06/Mar/2023 20:01:10] \"POST /setclassifier HTTP/1.1\" 200 -\n",
            "INFO:werkzeug:127.0.0.1 - - [06/Mar/2023 20:01:10] \"POST /setclassifier HTTP/1.1\" 200 -\n",
            "INFO:werkzeug:127.0.0.1 - - [06/Mar/2023 20:01:10] \"POST /setclassifier HTTP/1.1\" 200 -\n",
            "INFO:werkzeug:127.0.0.1 - - [06/Mar/2023 20:01:10] \"POST /setclassifier HTTP/1.1\" 200 -\n",
            "INFO:werkzeug:127.0.0.1 - - [06/Mar/2023 20:01:10] \"POST /setclassifier HTTP/1.1\" 200 -\n",
            "INFO:werkzeug:127.0.0.1 - - [06/Mar/2023 20:01:10] \"POST /setclassifier HTTP/1.1\" 200 -\n",
            "INFO:werkzeug:127.0.0.1 - - [06/Mar/2023 20:01:10] \"POST /setclassifier HTTP/1.1\" 200 -\n",
            "INFO:werkzeug:127.0.0.1 - - [06/Mar/2023 20:01:10] \"POST /setclassifier HTTP/1.1\" 200 -\n",
            "INFO:werkzeug:127.0.0.1 - - [06/Mar/2023 20:01:10] \"POST /setclassifier HTTP/1.1\" 200 -\n",
            "INFO:werkzeug:127.0.0.1 - - [06/Mar/2023 20:01:10] \"POST /setclassifier HTTP/1.1\" 200 -\n",
            "INFO:werkzeug:127.0.0.1 - - [06/Mar/2023 20:01:11] \"POST /setclassifier HTTP/1.1\" 200 -\n",
            "INFO:werkzeug:127.0.0.1 - - [06/Mar/2023 20:01:11] \"POST /setclassifier HTTP/1.1\" 200 -\n",
            "INFO:werkzeug:127.0.0.1 - - [06/Mar/2023 20:01:11] \"POST /setclassifier HTTP/1.1\" 200 -\n",
            "INFO:werkzeug:127.0.0.1 - - [06/Mar/2023 20:01:11] \"POST /setclassifier HTTP/1.1\" 200 -\n",
            "INFO:werkzeug:127.0.0.1 - - [06/Mar/2023 20:01:11] \"POST /setclassifier HTTP/1.1\" 200 -\n",
            "INFO:werkzeug:127.0.0.1 - - [06/Mar/2023 20:01:11] \"POST /setclassifier HTTP/1.1\" 200 -\n",
            "INFO:werkzeug:127.0.0.1 - - [06/Mar/2023 20:01:11] \"POST /setclassifier HTTP/1.1\" 200 -\n",
            "INFO:werkzeug:127.0.0.1 - - [06/Mar/2023 20:01:11] \"POST /setclassifier HTTP/1.1\" 200 -\n",
            "INFO:werkzeug:127.0.0.1 - - [06/Mar/2023 20:01:11] \"POST /setclassifier HTTP/1.1\" 200 -\n",
            "INFO:werkzeug:127.0.0.1 - - [06/Mar/2023 20:01:11] \"POST /setclassifier HTTP/1.1\" 200 -\n",
            "INFO:werkzeug:127.0.0.1 - - [06/Mar/2023 20:01:11] \"POST /setclassifier HTTP/1.1\" 200 -\n",
            "INFO:werkzeug:127.0.0.1 - - [06/Mar/2023 20:01:11] \"POST /setclassifier HTTP/1.1\" 200 -\n",
            "INFO:werkzeug:127.0.0.1 - - [06/Mar/2023 20:01:11] \"POST /setclassifier HTTP/1.1\" 200 -\n",
            "INFO:werkzeug:127.0.0.1 - - [06/Mar/2023 20:01:11] \"POST /setclassifier HTTP/1.1\" 200 -\n",
            "INFO:werkzeug:127.0.0.1 - - [06/Mar/2023 20:01:11] \"POST /setclassifier HTTP/1.1\" 200 -\n",
            "INFO:werkzeug:127.0.0.1 - - [06/Mar/2023 20:01:11] \"POST /setclassifier HTTP/1.1\" 200 -\n",
            "INFO:werkzeug:127.0.0.1 - - [06/Mar/2023 20:01:11] \"POST /setclassifier HTTP/1.1\" 200 -\n",
            "INFO:werkzeug:127.0.0.1 - - [06/Mar/2023 20:01:11] \"POST /setclassifier HTTP/1.1\" 200 -\n",
            "INFO:werkzeug:127.0.0.1 - - [06/Mar/2023 20:01:11] \"POST /setclassifier HTTP/1.1\" 200 -\n",
            "INFO:werkzeug:127.0.0.1 - - [06/Mar/2023 20:01:11] \"POST /setclassifier HTTP/1.1\" 200 -\n",
            "INFO:werkzeug:127.0.0.1 - - [06/Mar/2023 20:01:11] \"POST /setclassifier HTTP/1.1\" 200 -\n",
            "INFO:werkzeug:127.0.0.1 - - [06/Mar/2023 20:01:11] \"POST /setclassifier HTTP/1.1\" 200 -\n",
            "INFO:werkzeug:127.0.0.1 - - [06/Mar/2023 20:01:11] \"POST /setclassifier HTTP/1.1\" 200 -\n",
            "INFO:werkzeug:127.0.0.1 - - [06/Mar/2023 20:01:11] \"POST /setclassifier HTTP/1.1\" 200 -\n",
            "INFO:werkzeug:127.0.0.1 - - [06/Mar/2023 20:01:11] \"POST /setclassifier HTTP/1.1\" 200 -\n",
            "INFO:werkzeug:127.0.0.1 - - [06/Mar/2023 20:01:11] \"POST /setclassifier HTTP/1.1\" 200 -\n",
            "INFO:werkzeug:127.0.0.1 - - [06/Mar/2023 20:01:11] \"POST /setclassifier HTTP/1.1\" 200 -\n",
            "INFO:werkzeug:127.0.0.1 - - [06/Mar/2023 20:01:11] \"POST /setclassifier HTTP/1.1\" 200 -\n",
            "INFO:werkzeug:127.0.0.1 - - [06/Mar/2023 20:01:11] \"POST /setclassifier HTTP/1.1\" 200 -\n",
            "INFO:werkzeug:127.0.0.1 - - [06/Mar/2023 20:01:11] \"POST /setclassifier HTTP/1.1\" 200 -\n",
            "INFO:werkzeug:127.0.0.1 - - [06/Mar/2023 20:01:11] \"POST /setclassifier HTTP/1.1\" 200 -\n",
            "INFO:werkzeug:127.0.0.1 - - [06/Mar/2023 20:01:11] \"POST /setclassifier HTTP/1.1\" 200 -\n",
            "INFO:werkzeug:127.0.0.1 - - [06/Mar/2023 20:01:11] \"POST /setclassifier HTTP/1.1\" 200 -\n",
            "INFO:werkzeug:127.0.0.1 - - [06/Mar/2023 20:01:11] \"POST /setclassifier HTTP/1.1\" 200 -\n",
            "INFO:werkzeug:127.0.0.1 - - [06/Mar/2023 20:01:11] \"POST /setclassifier HTTP/1.1\" 200 -\n",
            "INFO:werkzeug:127.0.0.1 - - [06/Mar/2023 20:01:12] \"POST /setclassifier HTTP/1.1\" 200 -\n",
            "INFO:werkzeug:127.0.0.1 - - [06/Mar/2023 20:01:12] \"POST /setclassifier HTTP/1.1\" 200 -\n",
            "INFO:werkzeug:127.0.0.1 - - [06/Mar/2023 20:01:12] \"POST /setclassifier HTTP/1.1\" 200 -\n",
            "INFO:werkzeug:127.0.0.1 - - [06/Mar/2023 20:01:12] \"POST /setclassifier HTTP/1.1\" 200 -\n",
            "INFO:werkzeug:127.0.0.1 - - [06/Mar/2023 20:01:12] \"POST /setclassifier HTTP/1.1\" 200 -\n",
            "INFO:werkzeug:127.0.0.1 - - [06/Mar/2023 20:01:12] \"POST /setclassifier HTTP/1.1\" 200 -\n",
            "INFO:werkzeug:127.0.0.1 - - [06/Mar/2023 20:01:12] \"POST /setclassifier HTTP/1.1\" 200 -\n",
            "INFO:werkzeug:127.0.0.1 - - [06/Mar/2023 20:01:12] \"POST /setclassifier HTTP/1.1\" 200 -\n",
            "INFO:werkzeug:127.0.0.1 - - [06/Mar/2023 20:01:12] \"POST /setclassifier HTTP/1.1\" 200 -\n",
            "INFO:werkzeug:127.0.0.1 - - [06/Mar/2023 20:01:12] \"POST /setclassifier HTTP/1.1\" 200 -\n",
            "INFO:werkzeug:127.0.0.1 - - [06/Mar/2023 20:01:12] \"POST /setclassifier HTTP/1.1\" 200 -\n",
            "INFO:werkzeug:127.0.0.1 - - [06/Mar/2023 20:01:12] \"POST /setclassifier HTTP/1.1\" 200 -\n",
            "INFO:werkzeug:127.0.0.1 - - [06/Mar/2023 20:01:12] \"POST /setclassifier HTTP/1.1\" 200 -\n",
            "INFO:werkzeug:127.0.0.1 - - [06/Mar/2023 20:01:12] \"POST /setclassifier HTTP/1.1\" 200 -\n",
            "INFO:werkzeug:127.0.0.1 - - [06/Mar/2023 20:01:12] \"POST /setclassifier HTTP/1.1\" 200 -\n",
            "INFO:werkzeug:127.0.0.1 - - [06/Mar/2023 20:01:12] \"POST /setclassifier HTTP/1.1\" 200 -\n",
            "INFO:werkzeug:127.0.0.1 - - [06/Mar/2023 20:01:12] \"POST /setclassifier HTTP/1.1\" 200 -\n",
            "INFO:werkzeug:127.0.0.1 - - [06/Mar/2023 20:01:12] \"POST /setclassifier HTTP/1.1\" 200 -\n",
            "INFO:werkzeug:127.0.0.1 - - [06/Mar/2023 20:01:12] \"POST /setclassifier HTTP/1.1\" 200 -\n",
            "INFO:werkzeug:127.0.0.1 - - [06/Mar/2023 20:01:12] \"POST /setclassifier HTTP/1.1\" 200 -\n",
            "INFO:werkzeug:127.0.0.1 - - [06/Mar/2023 20:01:12] \"POST /setclassifier HTTP/1.1\" 200 -\n",
            "INFO:werkzeug:127.0.0.1 - - [06/Mar/2023 20:01:12] \"POST /setclassifier HTTP/1.1\" 200 -\n",
            "INFO:werkzeug:127.0.0.1 - - [06/Mar/2023 20:01:12] \"POST /setclassifier HTTP/1.1\" 200 -\n",
            "INFO:werkzeug:127.0.0.1 - - [06/Mar/2023 20:01:12] \"POST /setclassifier HTTP/1.1\" 200 -\n",
            "INFO:werkzeug:127.0.0.1 - - [06/Mar/2023 20:01:12] \"POST /setclassifier HTTP/1.1\" 200 -\n",
            "INFO:werkzeug:127.0.0.1 - - [06/Mar/2023 20:01:12] \"POST /setclassifier HTTP/1.1\" 200 -\n",
            "INFO:werkzeug:127.0.0.1 - - [06/Mar/2023 20:01:12] \"POST /setclassifier HTTP/1.1\" 200 -\n",
            "INFO:werkzeug:127.0.0.1 - - [06/Mar/2023 20:01:12] \"POST /setclassifier HTTP/1.1\" 200 -\n",
            "INFO:werkzeug:127.0.0.1 - - [06/Mar/2023 20:01:12] \"POST /setclassifier HTTP/1.1\" 200 -\n",
            "INFO:werkzeug:127.0.0.1 - - [06/Mar/2023 20:01:12] \"POST /setclassifier HTTP/1.1\" 200 -\n",
            "INFO:werkzeug:127.0.0.1 - - [06/Mar/2023 20:01:12] \"POST /setclassifier HTTP/1.1\" 200 -\n",
            "INFO:werkzeug:127.0.0.1 - - [06/Mar/2023 20:01:12] \"POST /setclassifier HTTP/1.1\" 200 -\n",
            "INFO:werkzeug:127.0.0.1 - - [06/Mar/2023 20:01:12] \"POST /setclassifier HTTP/1.1\" 200 -\n",
            "INFO:werkzeug:127.0.0.1 - - [06/Mar/2023 20:01:12] \"POST /setclassifier HTTP/1.1\" 200 -\n",
            "INFO:werkzeug:127.0.0.1 - - [06/Mar/2023 20:01:12] \"POST /setclassifier HTTP/1.1\" 200 -\n",
            "INFO:werkzeug:127.0.0.1 - - [06/Mar/2023 20:01:12] \"POST /setclassifier HTTP/1.1\" 200 -\n",
            "INFO:werkzeug:127.0.0.1 - - [06/Mar/2023 20:01:12] \"POST /setclassifier HTTP/1.1\" 200 -\n",
            "INFO:werkzeug:127.0.0.1 - - [06/Mar/2023 20:01:12] \"POST /setclassifier HTTP/1.1\" 200 -\n",
            "INFO:werkzeug:127.0.0.1 - - [06/Mar/2023 20:01:13] \"POST /setclassifier HTTP/1.1\" 200 -\n",
            "INFO:werkzeug:127.0.0.1 - - [06/Mar/2023 20:01:13] \"POST /setclassifier HTTP/1.1\" 200 -\n",
            "INFO:werkzeug:127.0.0.1 - - [06/Mar/2023 20:01:13] \"POST /setclassifier HTTP/1.1\" 200 -\n",
            "INFO:werkzeug:127.0.0.1 - - [06/Mar/2023 20:01:13] \"POST /setclassifier HTTP/1.1\" 200 -\n",
            "INFO:werkzeug:127.0.0.1 - - [06/Mar/2023 20:01:13] \"POST /setclassifier HTTP/1.1\" 200 -\n",
            "INFO:werkzeug:127.0.0.1 - - [06/Mar/2023 20:01:13] \"POST /setclassifier HTTP/1.1\" 200 -\n",
            "INFO:werkzeug:127.0.0.1 - - [06/Mar/2023 20:01:13] \"POST /setclassifier HTTP/1.1\" 200 -\n",
            "INFO:werkzeug:127.0.0.1 - - [06/Mar/2023 20:01:13] \"POST /setclassifier HTTP/1.1\" 200 -\n",
            "INFO:werkzeug:127.0.0.1 - - [06/Mar/2023 20:01:13] \"POST /setclassifier HTTP/1.1\" 200 -\n",
            "INFO:werkzeug:127.0.0.1 - - [06/Mar/2023 20:01:13] \"POST /setclassifier HTTP/1.1\" 200 -\n",
            "INFO:werkzeug:127.0.0.1 - - [06/Mar/2023 20:01:13] \"POST /setclassifier HTTP/1.1\" 200 -\n",
            "INFO:werkzeug:127.0.0.1 - - [06/Mar/2023 20:01:13] \"POST /setclassifier HTTP/1.1\" 200 -\n",
            "INFO:werkzeug:127.0.0.1 - - [06/Mar/2023 20:01:13] \"POST /setclassifier HTTP/1.1\" 200 -\n",
            "INFO:werkzeug:127.0.0.1 - - [06/Mar/2023 20:01:13] \"POST /setclassifier HTTP/1.1\" 200 -\n",
            "INFO:werkzeug:127.0.0.1 - - [06/Mar/2023 20:01:13] \"POST /setclassifier HTTP/1.1\" 200 -\n",
            "INFO:werkzeug:127.0.0.1 - - [06/Mar/2023 20:01:13] \"POST /setclassifier HTTP/1.1\" 200 -\n",
            "INFO:werkzeug:127.0.0.1 - - [06/Mar/2023 20:01:13] \"POST /setclassifier HTTP/1.1\" 200 -\n",
            "INFO:werkzeug:127.0.0.1 - - [06/Mar/2023 20:01:13] \"POST /setclassifier HTTP/1.1\" 200 -\n",
            "INFO:werkzeug:127.0.0.1 - - [06/Mar/2023 20:01:13] \"POST /setclassifier HTTP/1.1\" 200 -\n",
            "INFO:werkzeug:127.0.0.1 - - [06/Mar/2023 20:01:13] \"POST /setclassifier HTTP/1.1\" 200 -\n",
            "INFO:werkzeug:127.0.0.1 - - [06/Mar/2023 20:01:13] \"POST /setclassifier HTTP/1.1\" 200 -\n",
            "INFO:werkzeug:127.0.0.1 - - [06/Mar/2023 20:01:13] \"POST /setclassifier HTTP/1.1\" 200 -\n",
            "INFO:werkzeug:127.0.0.1 - - [06/Mar/2023 20:01:13] \"POST /setclassifier HTTP/1.1\" 200 -\n",
            "INFO:werkzeug:127.0.0.1 - - [06/Mar/2023 20:01:13] \"POST /setclassifier HTTP/1.1\" 200 -\n",
            "INFO:werkzeug:127.0.0.1 - - [06/Mar/2023 20:01:13] \"POST /setclassifier HTTP/1.1\" 200 -\n",
            "INFO:werkzeug:127.0.0.1 - - [06/Mar/2023 20:01:13] \"POST /setclassifier HTTP/1.1\" 200 -\n",
            "INFO:werkzeug:127.0.0.1 - - [06/Mar/2023 20:01:13] \"POST /setclassifier HTTP/1.1\" 200 -\n",
            "INFO:werkzeug:127.0.0.1 - - [06/Mar/2023 20:01:13] \"POST /setclassifier HTTP/1.1\" 200 -\n",
            "INFO:werkzeug:127.0.0.1 - - [06/Mar/2023 20:01:13] \"POST /setclassifier HTTP/1.1\" 200 -\n",
            "INFO:werkzeug:127.0.0.1 - - [06/Mar/2023 20:01:13] \"POST /setclassifier HTTP/1.1\" 200 -\n",
            "INFO:werkzeug:127.0.0.1 - - [06/Mar/2023 20:01:13] \"POST /setclassifier HTTP/1.1\" 200 -\n",
            "INFO:werkzeug:127.0.0.1 - - [06/Mar/2023 20:01:13] \"POST /setclassifier HTTP/1.1\" 200 -\n",
            "INFO:werkzeug:127.0.0.1 - - [06/Mar/2023 20:01:13] \"POST /setclassifier HTTP/1.1\" 200 -\n",
            "INFO:werkzeug:127.0.0.1 - - [06/Mar/2023 20:01:13] \"POST /setclassifier HTTP/1.1\" 200 -\n",
            "INFO:werkzeug:127.0.0.1 - - [06/Mar/2023 20:01:13] \"POST /setclassifier HTTP/1.1\" 200 -\n",
            "INFO:werkzeug:127.0.0.1 - - [06/Mar/2023 20:01:13] \"POST /setclassifier HTTP/1.1\" 200 -\n",
            "INFO:werkzeug:127.0.0.1 - - [06/Mar/2023 20:01:14] \"POST /setclassifier HTTP/1.1\" 200 -\n",
            "INFO:werkzeug:127.0.0.1 - - [06/Mar/2023 20:01:14] \"POST /setclassifier HTTP/1.1\" 200 -\n",
            "INFO:werkzeug:127.0.0.1 - - [06/Mar/2023 20:01:14] \"POST /setclassifier HTTP/1.1\" 200 -\n",
            "INFO:werkzeug:127.0.0.1 - - [06/Mar/2023 20:01:14] \"POST /setclassifier HTTP/1.1\" 200 -\n",
            "INFO:werkzeug:127.0.0.1 - - [06/Mar/2023 20:01:14] \"POST /setclassifier HTTP/1.1\" 200 -\n",
            "INFO:werkzeug:127.0.0.1 - - [06/Mar/2023 20:01:14] \"POST /setclassifier HTTP/1.1\" 200 -\n",
            "INFO:werkzeug:127.0.0.1 - - [06/Mar/2023 20:01:14] \"POST /setclassifier HTTP/1.1\" 200 -\n",
            "INFO:werkzeug:127.0.0.1 - - [06/Mar/2023 20:01:14] \"POST /setclassifier HTTP/1.1\" 200 -\n",
            "INFO:werkzeug:127.0.0.1 - - [06/Mar/2023 20:01:14] \"POST /setclassifier HTTP/1.1\" 200 -\n",
            "INFO:werkzeug:127.0.0.1 - - [06/Mar/2023 20:01:14] \"POST /setclassifier HTTP/1.1\" 200 -\n",
            "INFO:werkzeug:127.0.0.1 - - [06/Mar/2023 20:01:14] \"POST /setclassifier HTTP/1.1\" 200 -\n",
            "INFO:werkzeug:127.0.0.1 - - [06/Mar/2023 20:01:14] \"POST /setclassifier HTTP/1.1\" 200 -\n",
            "INFO:werkzeug:127.0.0.1 - - [06/Mar/2023 20:01:14] \"POST /setclassifier HTTP/1.1\" 200 -\n",
            "INFO:werkzeug:127.0.0.1 - - [06/Mar/2023 20:01:14] \"POST /setclassifier HTTP/1.1\" 200 -\n",
            "INFO:werkzeug:127.0.0.1 - - [06/Mar/2023 20:01:14] \"POST /setclassifier HTTP/1.1\" 200 -\n",
            "INFO:werkzeug:127.0.0.1 - - [06/Mar/2023 20:01:14] \"POST /setclassifier HTTP/1.1\" 200 -\n",
            "INFO:werkzeug:127.0.0.1 - - [06/Mar/2023 20:01:14] \"POST /setclassifier HTTP/1.1\" 200 -\n",
            "INFO:werkzeug:127.0.0.1 - - [06/Mar/2023 20:01:14] \"POST /setclassifier HTTP/1.1\" 200 -\n",
            "INFO:werkzeug:127.0.0.1 - - [06/Mar/2023 20:01:14] \"POST /setclassifier HTTP/1.1\" 200 -\n",
            "INFO:werkzeug:127.0.0.1 - - [06/Mar/2023 20:01:14] \"POST /setclassifier HTTP/1.1\" 200 -\n",
            "INFO:werkzeug:127.0.0.1 - - [06/Mar/2023 20:01:14] \"POST /setclassifier HTTP/1.1\" 200 -\n",
            "INFO:werkzeug:127.0.0.1 - - [06/Mar/2023 20:01:14] \"POST /setclassifier HTTP/1.1\" 200 -\n",
            "INFO:werkzeug:127.0.0.1 - - [06/Mar/2023 20:01:14] \"POST /setclassifier HTTP/1.1\" 200 -\n",
            "INFO:werkzeug:127.0.0.1 - - [06/Mar/2023 20:01:14] \"POST /setclassifier HTTP/1.1\" 200 -\n",
            "INFO:werkzeug:127.0.0.1 - - [06/Mar/2023 20:01:14] \"POST /setclassifier HTTP/1.1\" 200 -\n",
            "INFO:werkzeug:127.0.0.1 - - [06/Mar/2023 20:01:14] \"POST /setclassifier HTTP/1.1\" 200 -\n",
            "INFO:werkzeug:127.0.0.1 - - [06/Mar/2023 20:01:14] \"POST /setclassifier HTTP/1.1\" 200 -\n",
            "INFO:werkzeug:127.0.0.1 - - [06/Mar/2023 20:01:14] \"POST /setclassifier HTTP/1.1\" 200 -\n",
            "INFO:werkzeug:127.0.0.1 - - [06/Mar/2023 20:01:14] \"POST /setclassifier HTTP/1.1\" 200 -\n",
            "INFO:werkzeug:127.0.0.1 - - [06/Mar/2023 20:01:14] \"POST /setclassifier HTTP/1.1\" 200 -\n",
            "INFO:werkzeug:127.0.0.1 - - [06/Mar/2023 20:01:14] \"POST /setclassifier HTTP/1.1\" 200 -\n",
            "INFO:werkzeug:127.0.0.1 - - [06/Mar/2023 20:01:14] \"POST /setclassifier HTTP/1.1\" 200 -\n",
            "INFO:werkzeug:127.0.0.1 - - [06/Mar/2023 20:01:14] \"POST /setclassifier HTTP/1.1\" 200 -\n",
            "INFO:werkzeug:127.0.0.1 - - [06/Mar/2023 20:01:14] \"POST /setclassifier HTTP/1.1\" 200 -\n",
            "INFO:werkzeug:127.0.0.1 - - [06/Mar/2023 20:01:14] \"POST /setclassifier HTTP/1.1\" 200 -\n",
            "INFO:werkzeug:127.0.0.1 - - [06/Mar/2023 20:01:14] \"POST /setclassifier HTTP/1.1\" 200 -\n",
            "INFO:werkzeug:127.0.0.1 - - [06/Mar/2023 20:01:15] \"POST /setclassifier HTTP/1.1\" 200 -\n",
            "INFO:werkzeug:127.0.0.1 - - [06/Mar/2023 20:01:15] \"POST /setclassifier HTTP/1.1\" 200 -\n",
            "INFO:werkzeug:127.0.0.1 - - [06/Mar/2023 20:01:15] \"POST /setclassifier HTTP/1.1\" 200 -\n",
            "INFO:werkzeug:127.0.0.1 - - [06/Mar/2023 20:01:15] \"POST /setclassifier HTTP/1.1\" 200 -\n",
            "INFO:werkzeug:127.0.0.1 - - [06/Mar/2023 20:01:15] \"POST /setclassifier HTTP/1.1\" 200 -\n",
            "INFO:werkzeug:127.0.0.1 - - [06/Mar/2023 20:01:15] \"POST /setclassifier HTTP/1.1\" 200 -\n",
            "INFO:werkzeug:127.0.0.1 - - [06/Mar/2023 20:01:15] \"POST /setclassifier HTTP/1.1\" 200 -\n",
            "INFO:werkzeug:127.0.0.1 - - [06/Mar/2023 20:01:15] \"POST /setclassifier HTTP/1.1\" 200 -\n",
            "INFO:werkzeug:127.0.0.1 - - [06/Mar/2023 20:01:15] \"POST /setclassifier HTTP/1.1\" 200 -\n",
            "INFO:werkzeug:127.0.0.1 - - [06/Mar/2023 20:01:15] \"POST /setclassifier HTTP/1.1\" 200 -\n",
            "INFO:werkzeug:127.0.0.1 - - [06/Mar/2023 20:01:15] \"POST /setclassifier HTTP/1.1\" 200 -\n",
            "INFO:werkzeug:127.0.0.1 - - [06/Mar/2023 20:01:15] \"POST /setclassifier HTTP/1.1\" 200 -\n",
            "INFO:werkzeug:127.0.0.1 - - [06/Mar/2023 20:01:15] \"POST /setclassifier HTTP/1.1\" 200 -\n",
            "INFO:werkzeug:127.0.0.1 - - [06/Mar/2023 20:01:15] \"POST /setclassifier HTTP/1.1\" 200 -\n",
            "INFO:werkzeug:127.0.0.1 - - [06/Mar/2023 20:01:15] \"POST /setclassifier HTTP/1.1\" 200 -\n",
            "INFO:werkzeug:127.0.0.1 - - [06/Mar/2023 20:01:15] \"POST /setclassifier HTTP/1.1\" 200 -\n",
            "INFO:werkzeug:127.0.0.1 - - [06/Mar/2023 20:01:15] \"POST /setclassifier HTTP/1.1\" 200 -\n",
            "INFO:werkzeug:127.0.0.1 - - [06/Mar/2023 20:01:15] \"POST /setclassifier HTTP/1.1\" 200 -\n",
            "INFO:werkzeug:127.0.0.1 - - [06/Mar/2023 20:01:15] \"POST /setclassifier HTTP/1.1\" 200 -\n",
            "INFO:werkzeug:127.0.0.1 - - [06/Mar/2023 20:01:15] \"POST /setclassifier HTTP/1.1\" 200 -\n",
            "INFO:werkzeug:127.0.0.1 - - [06/Mar/2023 20:01:15] \"POST /setclassifier HTTP/1.1\" 200 -\n",
            "INFO:werkzeug:127.0.0.1 - - [06/Mar/2023 20:01:17] \"POST /setclassifier HTTP/1.1\" 200 -\n",
            "INFO:werkzeug:127.0.0.1 - - [06/Mar/2023 20:01:17] \"POST /setclassifier HTTP/1.1\" 200 -\n",
            "INFO:werkzeug:127.0.0.1 - - [06/Mar/2023 20:01:17] \"POST /setclassifier HTTP/1.1\" 200 -\n",
            "INFO:werkzeug:127.0.0.1 - - [06/Mar/2023 20:01:17] \"POST /setclassifier HTTP/1.1\" 200 -\n",
            "INFO:werkzeug:127.0.0.1 - - [06/Mar/2023 20:01:17] \"POST /setclassifier HTTP/1.1\" 200 -\n",
            "INFO:werkzeug:127.0.0.1 - - [06/Mar/2023 20:01:17] \"POST /setclassifier HTTP/1.1\" 200 -\n",
            "INFO:werkzeug:127.0.0.1 - - [06/Mar/2023 20:01:17] \"POST /setclassifier HTTP/1.1\" 200 -\n",
            "INFO:werkzeug:127.0.0.1 - - [06/Mar/2023 20:01:17] \"POST /setclassifier HTTP/1.1\" 200 -\n",
            "INFO:werkzeug:127.0.0.1 - - [06/Mar/2023 20:01:17] \"POST /setclassifier HTTP/1.1\" 200 -\n",
            "INFO:werkzeug:127.0.0.1 - - [06/Mar/2023 20:01:17] \"POST /setclassifier HTTP/1.1\" 200 -\n",
            "INFO:werkzeug:127.0.0.1 - - [06/Mar/2023 20:01:17] \"POST /setclassifier HTTP/1.1\" 200 -\n",
            "INFO:werkzeug:127.0.0.1 - - [06/Mar/2023 20:01:17] \"POST /setclassifier HTTP/1.1\" 200 -\n",
            "INFO:werkzeug:127.0.0.1 - - [06/Mar/2023 20:01:17] \"POST /setclassifier HTTP/1.1\" 200 -\n",
            "INFO:werkzeug:127.0.0.1 - - [06/Mar/2023 20:01:17] \"POST /setclassifier HTTP/1.1\" 200 -\n",
            "INFO:werkzeug:127.0.0.1 - - [06/Mar/2023 20:01:17] \"POST /setclassifier HTTP/1.1\" 200 -\n",
            "INFO:werkzeug:127.0.0.1 - - [06/Mar/2023 20:01:17] \"POST /setclassifier HTTP/1.1\" 200 -\n",
            "INFO:werkzeug:127.0.0.1 - - [06/Mar/2023 20:01:17] \"POST /setclassifier HTTP/1.1\" 200 -\n",
            "INFO:werkzeug:127.0.0.1 - - [06/Mar/2023 20:01:17] \"POST /setclassifier HTTP/1.1\" 200 -\n",
            "INFO:werkzeug:127.0.0.1 - - [06/Mar/2023 20:01:17] \"POST /setclassifier HTTP/1.1\" 200 -\n",
            "INFO:werkzeug:127.0.0.1 - - [06/Mar/2023 20:01:17] \"POST /setclassifier HTTP/1.1\" 200 -\n",
            "INFO:werkzeug:127.0.0.1 - - [06/Mar/2023 20:01:17] \"POST /setclassifier HTTP/1.1\" 200 -\n",
            "INFO:werkzeug:127.0.0.1 - - [06/Mar/2023 20:01:17] \"POST /setclassifier HTTP/1.1\" 200 -\n",
            "INFO:werkzeug:127.0.0.1 - - [06/Mar/2023 20:01:17] \"POST /setclassifier HTTP/1.1\" 200 -\n",
            "INFO:werkzeug:127.0.0.1 - - [06/Mar/2023 20:01:17] \"POST /setclassifier HTTP/1.1\" 200 -\n",
            "INFO:werkzeug:127.0.0.1 - - [06/Mar/2023 20:01:17] \"POST /setclassifier HTTP/1.1\" 200 -\n",
            "INFO:werkzeug:127.0.0.1 - - [06/Mar/2023 20:01:17] \"POST /setclassifier HTTP/1.1\" 200 -\n",
            "INFO:werkzeug:127.0.0.1 - - [06/Mar/2023 20:01:17] \"POST /setclassifier HTTP/1.1\" 200 -\n",
            "INFO:werkzeug:127.0.0.1 - - [06/Mar/2023 20:01:17] \"POST /setclassifier HTTP/1.1\" 200 -\n",
            "INFO:werkzeug:127.0.0.1 - - [06/Mar/2023 20:01:17] \"POST /setclassifier HTTP/1.1\" 200 -\n",
            "INFO:werkzeug:127.0.0.1 - - [06/Mar/2023 20:01:17] \"POST /setclassifier HTTP/1.1\" 200 -\n",
            "INFO:werkzeug:127.0.0.1 - - [06/Mar/2023 20:01:17] \"POST /setclassifier HTTP/1.1\" 200 -\n",
            "INFO:werkzeug:127.0.0.1 - - [06/Mar/2023 20:01:17] \"POST /setclassifier HTTP/1.1\" 200 -\n",
            "INFO:werkzeug:127.0.0.1 - - [06/Mar/2023 20:01:17] \"POST /setclassifier HTTP/1.1\" 200 -\n",
            "INFO:werkzeug:127.0.0.1 - - [06/Mar/2023 20:01:17] \"POST /setclassifier HTTP/1.1\" 200 -\n",
            "INFO:werkzeug:127.0.0.1 - - [06/Mar/2023 20:01:17] \"POST /setclassifier HTTP/1.1\" 200 -\n",
            "INFO:werkzeug:127.0.0.1 - - [06/Mar/2023 20:01:17] \"POST /setclassifier HTTP/1.1\" 200 -\n",
            "INFO:werkzeug:127.0.0.1 - - [06/Mar/2023 20:01:17] \"POST /setclassifier HTTP/1.1\" 200 -\n",
            "INFO:werkzeug:127.0.0.1 - - [06/Mar/2023 20:01:17] \"POST /setclassifier HTTP/1.1\" 200 -\n",
            "INFO:werkzeug:127.0.0.1 - - [06/Mar/2023 20:01:17] \"POST /setclassifier HTTP/1.1\" 200 -\n",
            "INFO:werkzeug:127.0.0.1 - - [06/Mar/2023 20:01:17] \"POST /setclassifier HTTP/1.1\" 200 -\n",
            "INFO:werkzeug:127.0.0.1 - - [06/Mar/2023 20:01:17] \"POST /setclassifier HTTP/1.1\" 200 -\n",
            "INFO:werkzeug:127.0.0.1 - - [06/Mar/2023 20:01:17] \"POST /setclassifier HTTP/1.1\" 200 -\n",
            "INFO:werkzeug:127.0.0.1 - - [06/Mar/2023 20:01:17] \"POST /setclassifier HTTP/1.1\" 200 -\n",
            "INFO:werkzeug:127.0.0.1 - - [06/Mar/2023 20:01:17] \"POST /setclassifier HTTP/1.1\" 200 -\n",
            "INFO:werkzeug:127.0.0.1 - - [06/Mar/2023 20:01:18] \"POST /setclassifier HTTP/1.1\" 200 -\n",
            "INFO:werkzeug:127.0.0.1 - - [06/Mar/2023 20:01:18] \"POST /setclassifier HTTP/1.1\" 200 -\n",
            "INFO:werkzeug:127.0.0.1 - - [06/Mar/2023 20:01:18] \"POST /setclassifier HTTP/1.1\" 200 -\n",
            "INFO:werkzeug:127.0.0.1 - - [06/Mar/2023 20:01:18] \"POST /setclassifier HTTP/1.1\" 200 -\n",
            "INFO:werkzeug:127.0.0.1 - - [06/Mar/2023 20:01:18] \"POST /setclassifier HTTP/1.1\" 200 -\n",
            "INFO:werkzeug:127.0.0.1 - - [06/Mar/2023 20:01:18] \"POST /setclassifier HTTP/1.1\" 200 -\n",
            "INFO:werkzeug:127.0.0.1 - - [06/Mar/2023 20:01:18] \"POST /setclassifier HTTP/1.1\" 200 -\n",
            "INFO:werkzeug:127.0.0.1 - - [06/Mar/2023 20:01:18] \"POST /setclassifier HTTP/1.1\" 200 -\n",
            "INFO:werkzeug:127.0.0.1 - - [06/Mar/2023 20:01:18] \"POST /setclassifier HTTP/1.1\" 200 -\n",
            "INFO:werkzeug:127.0.0.1 - - [06/Mar/2023 20:01:18] \"POST /setclassifier HTTP/1.1\" 200 -\n",
            "INFO:werkzeug:127.0.0.1 - - [06/Mar/2023 20:01:18] \"POST /setclassifier HTTP/1.1\" 200 -\n",
            "INFO:werkzeug:127.0.0.1 - - [06/Mar/2023 20:01:18] \"POST /setclassifier HTTP/1.1\" 200 -\n",
            "INFO:werkzeug:127.0.0.1 - - [06/Mar/2023 20:01:18] \"POST /setclassifier HTTP/1.1\" 200 -\n",
            "INFO:werkzeug:127.0.0.1 - - [06/Mar/2023 20:01:18] \"POST /setclassifier HTTP/1.1\" 200 -\n",
            "INFO:werkzeug:127.0.0.1 - - [06/Mar/2023 20:01:18] \"POST /setclassifier HTTP/1.1\" 200 -\n",
            "INFO:werkzeug:127.0.0.1 - - [06/Mar/2023 20:01:18] \"POST /setclassifier HTTP/1.1\" 200 -\n",
            "INFO:werkzeug:127.0.0.1 - - [06/Mar/2023 20:01:18] \"POST /setclassifier HTTP/1.1\" 200 -\n",
            "INFO:werkzeug:127.0.0.1 - - [06/Mar/2023 20:01:18] \"POST /setclassifier HTTP/1.1\" 200 -\n",
            "INFO:werkzeug:127.0.0.1 - - [06/Mar/2023 20:01:18] \"POST /setclassifier HTTP/1.1\" 200 -\n",
            "INFO:werkzeug:127.0.0.1 - - [06/Mar/2023 20:01:18] \"POST /setclassifier HTTP/1.1\" 200 -\n",
            "INFO:werkzeug:127.0.0.1 - - [06/Mar/2023 20:01:18] \"POST /setclassifier HTTP/1.1\" 200 -\n",
            "INFO:werkzeug:127.0.0.1 - - [06/Mar/2023 20:01:18] \"POST /setclassifier HTTP/1.1\" 200 -\n",
            "INFO:werkzeug:127.0.0.1 - - [06/Mar/2023 20:01:18] \"POST /setclassifier HTTP/1.1\" 200 -\n",
            "INFO:werkzeug:127.0.0.1 - - [06/Mar/2023 20:01:18] \"POST /setclassifier HTTP/1.1\" 200 -\n",
            "INFO:werkzeug:127.0.0.1 - - [06/Mar/2023 20:01:18] \"POST /setclassifier HTTP/1.1\" 200 -\n",
            "INFO:werkzeug:127.0.0.1 - - [06/Mar/2023 20:01:18] \"POST /setclassifier HTTP/1.1\" 200 -\n",
            "INFO:werkzeug:127.0.0.1 - - [06/Mar/2023 20:01:18] \"POST /setclassifier HTTP/1.1\" 200 -\n",
            "INFO:werkzeug:127.0.0.1 - - [06/Mar/2023 20:01:18] \"POST /setclassifier HTTP/1.1\" 200 -\n",
            "INFO:werkzeug:127.0.0.1 - - [06/Mar/2023 20:01:18] \"POST /setclassifier HTTP/1.1\" 200 -\n",
            "INFO:werkzeug:127.0.0.1 - - [06/Mar/2023 20:01:18] \"POST /setclassifier HTTP/1.1\" 200 -\n",
            "INFO:werkzeug:127.0.0.1 - - [06/Mar/2023 20:01:18] \"POST /setclassifier HTTP/1.1\" 200 -\n",
            "INFO:werkzeug:127.0.0.1 - - [06/Mar/2023 20:01:18] \"POST /setclassifier HTTP/1.1\" 200 -\n",
            "INFO:werkzeug:127.0.0.1 - - [06/Mar/2023 20:01:18] \"POST /setclassifier HTTP/1.1\" 200 -\n",
            "INFO:werkzeug:127.0.0.1 - - [06/Mar/2023 20:01:18] \"POST /setclassifier HTTP/1.1\" 200 -\n",
            "INFO:werkzeug:127.0.0.1 - - [06/Mar/2023 20:01:18] \"POST /setclassifier HTTP/1.1\" 200 -\n",
            "INFO:werkzeug:127.0.0.1 - - [06/Mar/2023 20:01:18] \"POST /setclassifier HTTP/1.1\" 200 -\n",
            "INFO:werkzeug:127.0.0.1 - - [06/Mar/2023 20:01:19] \"POST /setclassifier HTTP/1.1\" 200 -\n",
            "INFO:werkzeug:127.0.0.1 - - [06/Mar/2023 20:01:19] \"POST /setclassifier HTTP/1.1\" 200 -\n",
            "INFO:werkzeug:127.0.0.1 - - [06/Mar/2023 20:01:19] \"POST /setclassifier HTTP/1.1\" 200 -\n",
            "INFO:werkzeug:127.0.0.1 - - [06/Mar/2023 20:01:19] \"POST /setclassifier HTTP/1.1\" 200 -\n",
            "INFO:werkzeug:127.0.0.1 - - [06/Mar/2023 20:01:19] \"POST /setclassifier HTTP/1.1\" 200 -\n",
            "INFO:werkzeug:127.0.0.1 - - [06/Mar/2023 20:01:19] \"POST /setclassifier HTTP/1.1\" 200 -\n",
            "INFO:werkzeug:127.0.0.1 - - [06/Mar/2023 20:01:19] \"POST /setclassifier HTTP/1.1\" 200 -\n",
            "INFO:werkzeug:127.0.0.1 - - [06/Mar/2023 20:01:19] \"POST /setclassifier HTTP/1.1\" 200 -\n",
            "INFO:werkzeug:127.0.0.1 - - [06/Mar/2023 20:01:19] \"POST /setclassifier HTTP/1.1\" 200 -\n",
            "INFO:werkzeug:127.0.0.1 - - [06/Mar/2023 20:01:19] \"POST /setclassifier HTTP/1.1\" 200 -\n",
            "INFO:werkzeug:127.0.0.1 - - [06/Mar/2023 20:01:19] \"POST /setclassifier HTTP/1.1\" 200 -\n",
            "INFO:werkzeug:127.0.0.1 - - [06/Mar/2023 20:01:19] \"POST /setclassifier HTTP/1.1\" 200 -\n",
            "INFO:werkzeug:127.0.0.1 - - [06/Mar/2023 20:01:19] \"POST /setclassifier HTTP/1.1\" 200 -\n",
            "INFO:werkzeug:127.0.0.1 - - [06/Mar/2023 20:01:19] \"POST /setclassifier HTTP/1.1\" 200 -\n",
            "INFO:werkzeug:127.0.0.1 - - [06/Mar/2023 20:01:19] \"POST /setclassifier HTTP/1.1\" 200 -\n",
            "INFO:werkzeug:127.0.0.1 - - [06/Mar/2023 20:01:19] \"POST /setclassifier HTTP/1.1\" 200 -\n",
            "INFO:werkzeug:127.0.0.1 - - [06/Mar/2023 20:01:19] \"POST /setclassifier HTTP/1.1\" 200 -\n",
            "INFO:werkzeug:127.0.0.1 - - [06/Mar/2023 20:01:19] \"POST /setclassifier HTTP/1.1\" 200 -\n",
            "INFO:werkzeug:127.0.0.1 - - [06/Mar/2023 20:01:19] \"POST /setclassifier HTTP/1.1\" 200 -\n",
            "INFO:werkzeug:127.0.0.1 - - [06/Mar/2023 20:01:19] \"POST /setclassifier HTTP/1.1\" 200 -\n",
            "INFO:werkzeug:127.0.0.1 - - [06/Mar/2023 20:01:19] \"POST /setclassifier HTTP/1.1\" 200 -\n",
            "INFO:werkzeug:127.0.0.1 - - [06/Mar/2023 20:01:19] \"POST /setclassifier HTTP/1.1\" 200 -\n",
            "INFO:werkzeug:127.0.0.1 - - [06/Mar/2023 20:01:19] \"POST /setclassifier HTTP/1.1\" 200 -\n",
            "INFO:werkzeug:127.0.0.1 - - [06/Mar/2023 20:01:19] \"POST /setclassifier HTTP/1.1\" 200 -\n",
            "INFO:werkzeug:127.0.0.1 - - [06/Mar/2023 20:01:19] \"POST /setclassifier HTTP/1.1\" 200 -\n",
            "INFO:werkzeug:127.0.0.1 - - [06/Mar/2023 20:01:19] \"POST /setclassifier HTTP/1.1\" 200 -\n",
            "INFO:werkzeug:127.0.0.1 - - [06/Mar/2023 20:01:19] \"POST /setclassifier HTTP/1.1\" 200 -\n",
            "INFO:werkzeug:127.0.0.1 - - [06/Mar/2023 20:01:19] \"POST /setclassifier HTTP/1.1\" 200 -\n",
            "INFO:werkzeug:127.0.0.1 - - [06/Mar/2023 20:01:19] \"POST /setclassifier HTTP/1.1\" 200 -\n",
            "INFO:werkzeug:127.0.0.1 - - [06/Mar/2023 20:01:19] \"POST /setclassifier HTTP/1.1\" 200 -\n",
            "INFO:werkzeug:127.0.0.1 - - [06/Mar/2023 20:01:19] \"POST /setclassifier HTTP/1.1\" 200 -\n",
            "INFO:werkzeug:127.0.0.1 - - [06/Mar/2023 20:01:19] \"POST /setclassifier HTTP/1.1\" 200 -\n",
            "INFO:werkzeug:127.0.0.1 - - [06/Mar/2023 20:01:19] \"POST /setclassifier HTTP/1.1\" 200 -\n",
            "INFO:werkzeug:127.0.0.1 - - [06/Mar/2023 20:01:19] \"POST /setclassifier HTTP/1.1\" 200 -\n",
            "INFO:werkzeug:127.0.0.1 - - [06/Mar/2023 20:01:19] \"POST /setclassifier HTTP/1.1\" 200 -\n",
            "INFO:werkzeug:127.0.0.1 - - [06/Mar/2023 20:01:19] \"POST /setclassifier HTTP/1.1\" 200 -\n",
            "INFO:werkzeug:127.0.0.1 - - [06/Mar/2023 20:01:19] \"POST /setclassifier HTTP/1.1\" 200 -\n",
            "INFO:werkzeug:127.0.0.1 - - [06/Mar/2023 20:01:19] \"POST /setclassifier HTTP/1.1\" 200 -\n",
            "INFO:werkzeug:127.0.0.1 - - [06/Mar/2023 20:01:19] \"POST /setclassifier HTTP/1.1\" 200 -\n",
            "INFO:werkzeug:127.0.0.1 - - [06/Mar/2023 20:01:19] \"POST /setclassifier HTTP/1.1\" 200 -\n",
            "INFO:werkzeug:127.0.0.1 - - [06/Mar/2023 20:01:19] \"POST /setclassifier HTTP/1.1\" 200 -\n",
            "INFO:werkzeug:127.0.0.1 - - [06/Mar/2023 20:01:19] \"POST /setclassifier HTTP/1.1\" 200 -\n",
            "INFO:werkzeug:127.0.0.1 - - [06/Mar/2023 20:01:19] \"POST /setclassifier HTTP/1.1\" 200 -\n",
            "INFO:werkzeug:127.0.0.1 - - [06/Mar/2023 20:01:19] \"POST /setclassifier HTTP/1.1\" 200 -\n",
            "INFO:werkzeug:127.0.0.1 - - [06/Mar/2023 20:01:19] \"POST /setclassifier HTTP/1.1\" 200 -\n",
            "INFO:werkzeug:127.0.0.1 - - [06/Mar/2023 20:01:19] \"POST /setclassifier HTTP/1.1\" 200 -\n",
            "INFO:werkzeug:127.0.0.1 - - [06/Mar/2023 20:01:19] \"POST /setclassifier HTTP/1.1\" 200 -\n",
            "INFO:werkzeug:127.0.0.1 - - [06/Mar/2023 20:01:19] \"POST /setclassifier HTTP/1.1\" 200 -\n",
            "INFO:werkzeug:127.0.0.1 - - [06/Mar/2023 20:01:20] \"POST /setclassifier HTTP/1.1\" 200 -\n",
            "INFO:werkzeug:127.0.0.1 - - [06/Mar/2023 20:01:20] \"POST /setclassifier HTTP/1.1\" 200 -\n",
            "INFO:werkzeug:127.0.0.1 - - [06/Mar/2023 20:01:20] \"POST /setclassifier HTTP/1.1\" 200 -\n",
            "INFO:werkzeug:127.0.0.1 - - [06/Mar/2023 20:01:20] \"POST /setclassifier HTTP/1.1\" 200 -\n",
            "INFO:werkzeug:127.0.0.1 - - [06/Mar/2023 20:01:20] \"POST /setclassifier HTTP/1.1\" 200 -\n",
            "INFO:werkzeug:127.0.0.1 - - [06/Mar/2023 20:01:20] \"POST /setclassifier HTTP/1.1\" 200 -\n",
            "INFO:werkzeug:127.0.0.1 - - [06/Mar/2023 20:01:20] \"POST /setclassifier HTTP/1.1\" 200 -\n",
            "INFO:werkzeug:127.0.0.1 - - [06/Mar/2023 20:01:20] \"POST /setclassifier HTTP/1.1\" 200 -\n",
            "INFO:werkzeug:127.0.0.1 - - [06/Mar/2023 20:01:20] \"POST /setclassifier HTTP/1.1\" 200 -\n",
            "INFO:werkzeug:127.0.0.1 - - [06/Mar/2023 20:01:20] \"POST /setclassifier HTTP/1.1\" 200 -\n",
            "INFO:werkzeug:127.0.0.1 - - [06/Mar/2023 20:01:20] \"POST /setclassifier HTTP/1.1\" 200 -\n",
            "INFO:werkzeug:127.0.0.1 - - [06/Mar/2023 20:01:20] \"POST /setclassifier HTTP/1.1\" 200 -\n",
            "INFO:werkzeug:127.0.0.1 - - [06/Mar/2023 20:01:20] \"POST /setclassifier HTTP/1.1\" 200 -\n",
            "INFO:werkzeug:127.0.0.1 - - [06/Mar/2023 20:01:20] \"POST /setclassifier HTTP/1.1\" 200 -\n",
            "INFO:werkzeug:127.0.0.1 - - [06/Mar/2023 20:01:20] \"POST /setclassifier HTTP/1.1\" 200 -\n",
            "INFO:werkzeug:127.0.0.1 - - [06/Mar/2023 20:01:20] \"POST /setclassifier HTTP/1.1\" 200 -\n",
            "INFO:werkzeug:127.0.0.1 - - [06/Mar/2023 20:01:20] \"POST /setclassifier HTTP/1.1\" 200 -\n",
            "INFO:werkzeug:127.0.0.1 - - [06/Mar/2023 20:01:20] \"POST /setclassifier HTTP/1.1\" 200 -\n",
            "INFO:werkzeug:127.0.0.1 - - [06/Mar/2023 20:01:20] \"POST /setclassifier HTTP/1.1\" 200 -\n",
            "INFO:werkzeug:127.0.0.1 - - [06/Mar/2023 20:01:20] \"POST /setclassifier HTTP/1.1\" 200 -\n",
            "INFO:werkzeug:127.0.0.1 - - [06/Mar/2023 20:01:20] \"POST /setclassifier HTTP/1.1\" 200 -\n",
            "INFO:werkzeug:127.0.0.1 - - [06/Mar/2023 20:01:20] \"POST /setclassifier HTTP/1.1\" 200 -\n",
            "INFO:werkzeug:127.0.0.1 - - [06/Mar/2023 20:01:20] \"POST /setclassifier HTTP/1.1\" 200 -\n",
            "INFO:werkzeug:127.0.0.1 - - [06/Mar/2023 20:01:20] \"POST /setclassifier HTTP/1.1\" 200 -\n",
            "INFO:werkzeug:127.0.0.1 - - [06/Mar/2023 20:01:20] \"POST /setclassifier HTTP/1.1\" 200 -\n",
            "INFO:werkzeug:127.0.0.1 - - [06/Mar/2023 20:01:20] \"POST /setclassifier HTTP/1.1\" 200 -\n",
            "INFO:werkzeug:127.0.0.1 - - [06/Mar/2023 20:01:20] \"POST /setclassifier HTTP/1.1\" 200 -\n",
            "INFO:werkzeug:127.0.0.1 - - [06/Mar/2023 20:01:20] \"POST /setclassifier HTTP/1.1\" 200 -\n",
            "INFO:werkzeug:127.0.0.1 - - [06/Mar/2023 20:01:20] \"POST /setclassifier HTTP/1.1\" 200 -\n",
            "INFO:werkzeug:127.0.0.1 - - [06/Mar/2023 20:01:20] \"POST /setclassifier HTTP/1.1\" 200 -\n",
            "INFO:werkzeug:127.0.0.1 - - [06/Mar/2023 20:01:20] \"POST /setclassifier HTTP/1.1\" 200 -\n",
            "INFO:werkzeug:127.0.0.1 - - [06/Mar/2023 20:01:20] \"POST /setclassifier HTTP/1.1\" 200 -\n",
            "INFO:werkzeug:127.0.0.1 - - [06/Mar/2023 20:01:20] \"POST /setclassifier HTTP/1.1\" 200 -\n",
            "INFO:werkzeug:127.0.0.1 - - [06/Mar/2023 20:01:20] \"POST /setclassifier HTTP/1.1\" 200 -\n",
            "INFO:werkzeug:127.0.0.1 - - [06/Mar/2023 20:01:20] \"POST /setclassifier HTTP/1.1\" 200 -\n",
            "INFO:werkzeug:127.0.0.1 - - [06/Mar/2023 20:01:20] \"POST /setclassifier HTTP/1.1\" 200 -\n",
            "INFO:werkzeug:127.0.0.1 - - [06/Mar/2023 20:01:20] \"POST /setclassifier HTTP/1.1\" 200 -\n",
            "INFO:werkzeug:127.0.0.1 - - [06/Mar/2023 20:01:20] \"POST /setclassifier HTTP/1.1\" 200 -\n",
            "INFO:werkzeug:127.0.0.1 - - [06/Mar/2023 20:01:20] \"POST /setclassifier HTTP/1.1\" 200 -\n",
            "INFO:werkzeug:127.0.0.1 - - [06/Mar/2023 20:01:20] \"POST /setclassifier HTTP/1.1\" 200 -\n",
            "INFO:werkzeug:127.0.0.1 - - [06/Mar/2023 20:01:20] \"POST /setclassifier HTTP/1.1\" 200 -\n",
            "INFO:werkzeug:127.0.0.1 - - [06/Mar/2023 20:01:20] \"POST /setclassifier HTTP/1.1\" 200 -\n",
            "INFO:werkzeug:127.0.0.1 - - [06/Mar/2023 20:01:20] \"POST /setclassifier HTTP/1.1\" 200 -\n",
            "INFO:werkzeug:127.0.0.1 - - [06/Mar/2023 20:01:20] \"POST /setclassifier HTTP/1.1\" 200 -\n",
            "INFO:werkzeug:127.0.0.1 - - [06/Mar/2023 20:01:20] \"POST /setclassifier HTTP/1.1\" 200 -\n",
            "INFO:werkzeug:127.0.0.1 - - [06/Mar/2023 20:01:21] \"POST /setclassifier HTTP/1.1\" 200 -\n",
            "INFO:werkzeug:127.0.0.1 - - [06/Mar/2023 20:01:21] \"POST /setclassifier HTTP/1.1\" 200 -\n",
            "INFO:werkzeug:127.0.0.1 - - [06/Mar/2023 20:01:21] \"POST /setclassifier HTTP/1.1\" 200 -\n",
            "INFO:werkzeug:127.0.0.1 - - [06/Mar/2023 20:01:21] \"POST /setclassifier HTTP/1.1\" 200 -\n",
            "INFO:werkzeug:127.0.0.1 - - [06/Mar/2023 20:01:21] \"POST /setclassifier HTTP/1.1\" 200 -\n",
            "INFO:werkzeug:127.0.0.1 - - [06/Mar/2023 20:01:21] \"POST /setclassifier HTTP/1.1\" 200 -\n",
            "INFO:werkzeug:127.0.0.1 - - [06/Mar/2023 20:01:21] \"POST /setclassifier HTTP/1.1\" 200 -\n",
            "INFO:werkzeug:127.0.0.1 - - [06/Mar/2023 20:01:21] \"POST /setclassifier HTTP/1.1\" 200 -\n",
            "INFO:werkzeug:127.0.0.1 - - [06/Mar/2023 20:01:21] \"POST /setclassifier HTTP/1.1\" 200 -\n",
            "INFO:werkzeug:127.0.0.1 - - [06/Mar/2023 20:01:21] \"POST /setclassifier HTTP/1.1\" 200 -\n",
            "INFO:werkzeug:127.0.0.1 - - [06/Mar/2023 20:01:21] \"POST /setclassifier HTTP/1.1\" 200 -\n",
            "INFO:werkzeug:127.0.0.1 - - [06/Mar/2023 20:01:21] \"POST /setclassifier HTTP/1.1\" 200 -\n",
            "INFO:werkzeug:127.0.0.1 - - [06/Mar/2023 20:01:21] \"POST /setclassifier HTTP/1.1\" 200 -\n",
            "INFO:werkzeug:127.0.0.1 - - [06/Mar/2023 20:01:21] \"POST /setclassifier HTTP/1.1\" 200 -\n",
            "INFO:werkzeug:127.0.0.1 - - [06/Mar/2023 20:01:21] \"POST /setclassifier HTTP/1.1\" 200 -\n",
            "INFO:werkzeug:127.0.0.1 - - [06/Mar/2023 20:01:21] \"POST /setclassifier HTTP/1.1\" 200 -\n",
            "INFO:werkzeug:127.0.0.1 - - [06/Mar/2023 20:01:21] \"POST /setclassifier HTTP/1.1\" 200 -\n",
            "INFO:werkzeug:127.0.0.1 - - [06/Mar/2023 20:01:21] \"POST /setclassifier HTTP/1.1\" 200 -\n",
            "INFO:werkzeug:127.0.0.1 - - [06/Mar/2023 20:01:21] \"POST /setclassifier HTTP/1.1\" 200 -\n",
            "INFO:werkzeug:127.0.0.1 - - [06/Mar/2023 20:01:21] \"POST /setclassifier HTTP/1.1\" 200 -\n",
            "INFO:werkzeug:127.0.0.1 - - [06/Mar/2023 20:01:21] \"POST /setclassifier HTTP/1.1\" 200 -\n",
            "INFO:werkzeug:127.0.0.1 - - [06/Mar/2023 20:01:21] \"POST /setclassifier HTTP/1.1\" 200 -\n",
            "INFO:werkzeug:127.0.0.1 - - [06/Mar/2023 20:01:21] \"POST /setclassifier HTTP/1.1\" 200 -\n",
            "INFO:werkzeug:127.0.0.1 - - [06/Mar/2023 20:01:21] \"POST /setclassifier HTTP/1.1\" 200 -\n",
            "INFO:werkzeug:127.0.0.1 - - [06/Mar/2023 20:01:21] \"POST /setclassifier HTTP/1.1\" 200 -\n",
            "INFO:werkzeug:127.0.0.1 - - [06/Mar/2023 20:01:21] \"POST /setclassifier HTTP/1.1\" 200 -\n",
            "INFO:werkzeug:127.0.0.1 - - [06/Mar/2023 20:01:21] \"POST /setclassifier HTTP/1.1\" 200 -\n",
            "INFO:werkzeug:127.0.0.1 - - [06/Mar/2023 20:01:21] \"POST /setclassifier HTTP/1.1\" 200 -\n",
            "INFO:werkzeug:127.0.0.1 - - [06/Mar/2023 20:01:21] \"POST /setclassifier HTTP/1.1\" 200 -\n",
            "INFO:werkzeug:127.0.0.1 - - [06/Mar/2023 20:01:21] \"POST /setclassifier HTTP/1.1\" 200 -\n",
            "INFO:werkzeug:127.0.0.1 - - [06/Mar/2023 20:01:21] \"POST /setclassifier HTTP/1.1\" 200 -\n",
            "INFO:werkzeug:127.0.0.1 - - [06/Mar/2023 20:01:21] \"POST /setclassifier HTTP/1.1\" 200 -\n",
            "INFO:werkzeug:127.0.0.1 - - [06/Mar/2023 20:01:21] \"POST /setclassifier HTTP/1.1\" 200 -\n",
            "INFO:werkzeug:127.0.0.1 - - [06/Mar/2023 20:01:21] \"POST /setclassifier HTTP/1.1\" 200 -\n",
            "INFO:werkzeug:127.0.0.1 - - [06/Mar/2023 20:01:21] \"POST /setclassifier HTTP/1.1\" 200 -\n",
            "INFO:werkzeug:127.0.0.1 - - [06/Mar/2023 20:01:21] \"POST /setclassifier HTTP/1.1\" 200 -\n",
            "INFO:werkzeug:127.0.0.1 - - [06/Mar/2023 20:01:21] \"POST /setclassifier HTTP/1.1\" 200 -\n",
            "INFO:werkzeug:127.0.0.1 - - [06/Mar/2023 20:01:21] \"POST /setclassifier HTTP/1.1\" 200 -\n",
            "INFO:werkzeug:127.0.0.1 - - [06/Mar/2023 20:01:21] \"POST /setclassifier HTTP/1.1\" 200 -\n",
            "INFO:werkzeug:127.0.0.1 - - [06/Mar/2023 20:01:21] \"POST /setclassifier HTTP/1.1\" 200 -\n",
            "INFO:werkzeug:127.0.0.1 - - [06/Mar/2023 20:01:21] \"POST /setclassifier HTTP/1.1\" 200 -\n",
            "INFO:werkzeug:127.0.0.1 - - [06/Mar/2023 20:01:21] \"POST /setclassifier HTTP/1.1\" 200 -\n",
            "INFO:werkzeug:127.0.0.1 - - [06/Mar/2023 20:01:21] \"POST /setclassifier HTTP/1.1\" 200 -\n",
            "INFO:werkzeug:127.0.0.1 - - [06/Mar/2023 20:01:21] \"POST /setclassifier HTTP/1.1\" 200 -\n",
            "INFO:werkzeug:127.0.0.1 - - [06/Mar/2023 20:01:21] \"POST /setclassifier HTTP/1.1\" 200 -\n",
            "INFO:werkzeug:127.0.0.1 - - [06/Mar/2023 20:01:21] \"POST /setclassifier HTTP/1.1\" 200 -\n",
            "INFO:werkzeug:127.0.0.1 - - [06/Mar/2023 20:01:21] \"POST /setclassifier HTTP/1.1\" 200 -\n",
            "INFO:werkzeug:127.0.0.1 - - [06/Mar/2023 20:01:21] \"POST /setclassifier HTTP/1.1\" 200 -\n",
            "INFO:werkzeug:127.0.0.1 - - [06/Mar/2023 20:01:21] \"POST /setclassifier HTTP/1.1\" 200 -\n",
            "INFO:werkzeug:127.0.0.1 - - [06/Mar/2023 20:01:22] \"POST /setclassifier HTTP/1.1\" 200 -\n",
            "INFO:werkzeug:127.0.0.1 - - [06/Mar/2023 20:01:22] \"POST /setclassifier HTTP/1.1\" 200 -\n",
            "INFO:werkzeug:127.0.0.1 - - [06/Mar/2023 20:01:22] \"POST /setclassifier HTTP/1.1\" 200 -\n",
            "INFO:werkzeug:127.0.0.1 - - [06/Mar/2023 20:01:22] \"POST /setclassifier HTTP/1.1\" 200 -\n",
            "INFO:werkzeug:127.0.0.1 - - [06/Mar/2023 20:01:22] \"POST /setclassifier HTTP/1.1\" 200 -\n",
            "INFO:werkzeug:127.0.0.1 - - [06/Mar/2023 20:01:22] \"POST /setclassifier HTTP/1.1\" 200 -\n",
            "INFO:werkzeug:127.0.0.1 - - [06/Mar/2023 20:01:22] \"POST /setclassifier HTTP/1.1\" 200 -\n",
            "INFO:werkzeug:127.0.0.1 - - [06/Mar/2023 20:01:22] \"POST /setclassifier HTTP/1.1\" 200 -\n",
            "INFO:werkzeug:127.0.0.1 - - [06/Mar/2023 20:01:22] \"POST /setclassifier HTTP/1.1\" 200 -\n",
            "INFO:werkzeug:127.0.0.1 - - [06/Mar/2023 20:01:22] \"POST /setclassifier HTTP/1.1\" 200 -\n",
            "INFO:werkzeug:127.0.0.1 - - [06/Mar/2023 20:01:22] \"POST /setclassifier HTTP/1.1\" 200 -\n",
            "INFO:werkzeug:127.0.0.1 - - [06/Mar/2023 20:01:22] \"POST /setclassifier HTTP/1.1\" 200 -\n",
            "INFO:werkzeug:127.0.0.1 - - [06/Mar/2023 20:01:31] \"POST /setclassifier HTTP/1.1\" 200 -\n",
            "INFO:werkzeug:127.0.0.1 - - [06/Mar/2023 20:01:31] \"POST /setclassifier HTTP/1.1\" 200 -\n",
            "INFO:werkzeug:127.0.0.1 - - [06/Mar/2023 20:01:31] \"POST /setclassifier HTTP/1.1\" 200 -\n",
            "INFO:werkzeug:127.0.0.1 - - [06/Mar/2023 20:01:31] \"POST /setclassifier HTTP/1.1\" 200 -\n",
            "INFO:werkzeug:127.0.0.1 - - [06/Mar/2023 20:01:31] \"POST /setclassifier HTTP/1.1\" 200 -\n",
            "INFO:werkzeug:127.0.0.1 - - [06/Mar/2023 20:01:31] \"POST /setclassifier HTTP/1.1\" 200 -\n",
            "INFO:werkzeug:127.0.0.1 - - [06/Mar/2023 20:01:31] \"POST /setclassifier HTTP/1.1\" 200 -\n",
            "INFO:werkzeug:127.0.0.1 - - [06/Mar/2023 20:01:31] \"POST /setclassifier HTTP/1.1\" 200 -\n",
            "INFO:werkzeug:127.0.0.1 - - [06/Mar/2023 20:01:31] \"POST /setclassifier HTTP/1.1\" 200 -\n",
            "INFO:werkzeug:127.0.0.1 - - [06/Mar/2023 20:01:31] \"POST /setclassifier HTTP/1.1\" 200 -\n",
            "INFO:werkzeug:127.0.0.1 - - [06/Mar/2023 20:01:31] \"POST /setclassifier HTTP/1.1\" 200 -\n",
            "INFO:werkzeug:127.0.0.1 - - [06/Mar/2023 20:01:31] \"POST /setclassifier HTTP/1.1\" 200 -\n",
            "INFO:werkzeug:127.0.0.1 - - [06/Mar/2023 20:01:31] \"POST /setclassifier HTTP/1.1\" 200 -\n",
            "INFO:werkzeug:127.0.0.1 - - [06/Mar/2023 20:01:31] \"POST /setclassifier HTTP/1.1\" 200 -\n",
            "INFO:werkzeug:127.0.0.1 - - [06/Mar/2023 20:01:31] \"POST /setclassifier HTTP/1.1\" 200 -\n",
            "INFO:werkzeug:127.0.0.1 - - [06/Mar/2023 20:01:31] \"POST /setclassifier HTTP/1.1\" 200 -\n",
            "INFO:werkzeug:127.0.0.1 - - [06/Mar/2023 20:01:31] \"POST /setclassifier HTTP/1.1\" 200 -\n",
            "INFO:werkzeug:127.0.0.1 - - [06/Mar/2023 20:01:31] \"POST /setclassifier HTTP/1.1\" 200 -\n",
            "INFO:werkzeug:127.0.0.1 - - [06/Mar/2023 20:01:31] \"POST /setclassifier HTTP/1.1\" 200 -\n",
            "INFO:werkzeug:127.0.0.1 - - [06/Mar/2023 20:01:31] \"POST /setclassifier HTTP/1.1\" 200 -\n",
            "INFO:werkzeug:127.0.0.1 - - [06/Mar/2023 20:01:31] \"POST /setclassifier HTTP/1.1\" 200 -\n",
            "INFO:werkzeug:127.0.0.1 - - [06/Mar/2023 20:01:31] \"POST /setclassifier HTTP/1.1\" 200 -\n",
            "INFO:werkzeug:127.0.0.1 - - [06/Mar/2023 20:01:31] \"POST /setclassifier HTTP/1.1\" 200 -\n",
            "INFO:werkzeug:127.0.0.1 - - [06/Mar/2023 20:01:31] \"POST /setclassifier HTTP/1.1\" 200 -\n",
            "INFO:werkzeug:127.0.0.1 - - [06/Mar/2023 20:01:32] \"POST /setclassifier HTTP/1.1\" 200 -\n",
            "INFO:werkzeug:127.0.0.1 - - [06/Mar/2023 20:01:32] \"POST /setclassifier HTTP/1.1\" 200 -\n",
            "INFO:werkzeug:127.0.0.1 - - [06/Mar/2023 20:01:32] \"POST /setclassifier HTTP/1.1\" 200 -\n",
            "INFO:werkzeug:127.0.0.1 - - [06/Mar/2023 20:01:32] \"POST /setclassifier HTTP/1.1\" 200 -\n",
            "INFO:werkzeug:127.0.0.1 - - [06/Mar/2023 20:01:32] \"POST /setclassifier HTTP/1.1\" 200 -\n",
            "INFO:werkzeug:127.0.0.1 - - [06/Mar/2023 20:01:32] \"POST /setclassifier HTTP/1.1\" 200 -\n",
            "INFO:werkzeug:127.0.0.1 - - [06/Mar/2023 20:01:32] \"POST /setclassifier HTTP/1.1\" 200 -\n",
            "INFO:werkzeug:127.0.0.1 - - [06/Mar/2023 20:01:32] \"POST /setclassifier HTTP/1.1\" 200 -\n",
            "INFO:werkzeug:127.0.0.1 - - [06/Mar/2023 20:01:32] \"POST /setclassifier HTTP/1.1\" 200 -\n",
            "INFO:werkzeug:127.0.0.1 - - [06/Mar/2023 20:01:32] \"POST /setclassifier HTTP/1.1\" 200 -\n",
            "INFO:werkzeug:127.0.0.1 - - [06/Mar/2023 20:01:32] \"POST /setclassifier HTTP/1.1\" 200 -\n",
            "INFO:werkzeug:127.0.0.1 - - [06/Mar/2023 20:01:32] \"POST /setclassifier HTTP/1.1\" 200 -\n",
            "INFO:werkzeug:127.0.0.1 - - [06/Mar/2023 20:01:32] \"POST /setclassifier HTTP/1.1\" 200 -\n",
            "INFO:werkzeug:127.0.0.1 - - [06/Mar/2023 20:01:32] \"POST /setclassifier HTTP/1.1\" 200 -\n",
            "INFO:werkzeug:127.0.0.1 - - [06/Mar/2023 20:01:32] \"POST /setclassifier HTTP/1.1\" 200 -\n",
            "INFO:werkzeug:127.0.0.1 - - [06/Mar/2023 20:01:32] \"POST /setclassifier HTTP/1.1\" 200 -\n",
            "INFO:werkzeug:127.0.0.1 - - [06/Mar/2023 20:01:32] \"POST /setclassifier HTTP/1.1\" 200 -\n",
            "INFO:werkzeug:127.0.0.1 - - [06/Mar/2023 20:01:32] \"POST /setclassifier HTTP/1.1\" 200 -\n",
            "INFO:werkzeug:127.0.0.1 - - [06/Mar/2023 20:01:32] \"POST /setclassifier HTTP/1.1\" 200 -\n",
            "INFO:werkzeug:127.0.0.1 - - [06/Mar/2023 20:01:32] \"POST /setclassifier HTTP/1.1\" 200 -\n",
            "INFO:werkzeug:127.0.0.1 - - [06/Mar/2023 20:01:32] \"POST /setclassifier HTTP/1.1\" 200 -\n",
            "INFO:werkzeug:127.0.0.1 - - [06/Mar/2023 20:01:32] \"POST /setclassifier HTTP/1.1\" 200 -\n",
            "INFO:werkzeug:127.0.0.1 - - [06/Mar/2023 20:01:32] \"POST /setclassifier HTTP/1.1\" 200 -\n",
            "INFO:werkzeug:127.0.0.1 - - [06/Mar/2023 20:01:32] \"POST /setclassifier HTTP/1.1\" 200 -\n",
            "INFO:werkzeug:127.0.0.1 - - [06/Mar/2023 20:01:32] \"POST /setclassifier HTTP/1.1\" 200 -\n",
            "INFO:werkzeug:127.0.0.1 - - [06/Mar/2023 20:01:32] \"POST /setclassifier HTTP/1.1\" 200 -\n",
            "INFO:werkzeug:127.0.0.1 - - [06/Mar/2023 20:01:32] \"POST /setclassifier HTTP/1.1\" 200 -\n",
            "INFO:werkzeug:127.0.0.1 - - [06/Mar/2023 20:01:32] \"POST /setclassifier HTTP/1.1\" 200 -\n",
            "INFO:werkzeug:127.0.0.1 - - [06/Mar/2023 20:01:32] \"POST /setclassifier HTTP/1.1\" 200 -\n",
            "INFO:werkzeug:127.0.0.1 - - [06/Mar/2023 20:01:32] \"POST /setclassifier HTTP/1.1\" 200 -\n",
            "INFO:werkzeug:127.0.0.1 - - [06/Mar/2023 20:01:32] \"POST /setclassifier HTTP/1.1\" 200 -\n",
            "INFO:werkzeug:127.0.0.1 - - [06/Mar/2023 20:01:32] \"POST /setclassifier HTTP/1.1\" 200 -\n",
            "INFO:werkzeug:127.0.0.1 - - [06/Mar/2023 20:01:32] \"POST /setclassifier HTTP/1.1\" 200 -\n",
            "INFO:werkzeug:127.0.0.1 - - [06/Mar/2023 20:01:32] \"POST /setclassifier HTTP/1.1\" 200 -\n",
            "INFO:werkzeug:127.0.0.1 - - [06/Mar/2023 20:01:32] \"POST /setclassifier HTTP/1.1\" 200 -\n",
            "INFO:werkzeug:127.0.0.1 - - [06/Mar/2023 20:01:32] \"POST /setclassifier HTTP/1.1\" 200 -\n",
            "INFO:werkzeug:127.0.0.1 - - [06/Mar/2023 20:01:32] \"POST /setclassifier HTTP/1.1\" 200 -\n",
            "INFO:werkzeug:127.0.0.1 - - [06/Mar/2023 20:01:32] \"POST /setclassifier HTTP/1.1\" 200 -\n",
            "INFO:werkzeug:127.0.0.1 - - [06/Mar/2023 20:01:32] \"POST /setclassifier HTTP/1.1\" 200 -\n",
            "INFO:werkzeug:127.0.0.1 - - [06/Mar/2023 20:01:32] \"POST /setclassifier HTTP/1.1\" 200 -\n",
            "INFO:werkzeug:127.0.0.1 - - [06/Mar/2023 20:01:32] \"POST /setclassifier HTTP/1.1\" 200 -\n",
            "INFO:werkzeug:127.0.0.1 - - [06/Mar/2023 20:01:32] \"POST /setclassifier HTTP/1.1\" 200 -\n",
            "INFO:werkzeug:127.0.0.1 - - [06/Mar/2023 20:01:32] \"POST /setclassifier HTTP/1.1\" 200 -\n",
            "INFO:werkzeug:127.0.0.1 - - [06/Mar/2023 20:01:32] \"POST /setclassifier HTTP/1.1\" 200 -\n",
            "INFO:werkzeug:127.0.0.1 - - [06/Mar/2023 20:01:32] \"POST /setclassifier HTTP/1.1\" 200 -\n",
            "INFO:werkzeug:127.0.0.1 - - [06/Mar/2023 20:01:32] \"POST /setclassifier HTTP/1.1\" 200 -\n",
            "INFO:werkzeug:127.0.0.1 - - [06/Mar/2023 20:01:32] \"POST /setclassifier HTTP/1.1\" 200 -\n",
            "INFO:werkzeug:127.0.0.1 - - [06/Mar/2023 20:01:33] \"POST /setclassifier HTTP/1.1\" 200 -\n",
            "INFO:werkzeug:127.0.0.1 - - [06/Mar/2023 20:01:33] \"POST /setclassifier HTTP/1.1\" 200 -\n",
            "INFO:werkzeug:127.0.0.1 - - [06/Mar/2023 20:01:33] \"POST /setclassifier HTTP/1.1\" 200 -\n",
            "INFO:werkzeug:127.0.0.1 - - [06/Mar/2023 20:01:33] \"POST /setclassifier HTTP/1.1\" 200 -\n",
            "INFO:werkzeug:127.0.0.1 - - [06/Mar/2023 20:01:33] \"POST /setclassifier HTTP/1.1\" 200 -\n",
            "INFO:werkzeug:127.0.0.1 - - [06/Mar/2023 20:01:33] \"POST /setclassifier HTTP/1.1\" 200 -\n",
            "INFO:werkzeug:127.0.0.1 - - [06/Mar/2023 20:01:33] \"POST /setclassifier HTTP/1.1\" 200 -\n",
            "INFO:werkzeug:127.0.0.1 - - [06/Mar/2023 20:01:33] \"POST /setclassifier HTTP/1.1\" 200 -\n",
            "INFO:werkzeug:127.0.0.1 - - [06/Mar/2023 20:01:33] \"POST /setclassifier HTTP/1.1\" 200 -\n",
            "INFO:werkzeug:127.0.0.1 - - [06/Mar/2023 20:01:33] \"POST /setclassifier HTTP/1.1\" 200 -\n",
            "INFO:werkzeug:127.0.0.1 - - [06/Mar/2023 20:01:33] \"POST /setclassifier HTTP/1.1\" 200 -\n",
            "INFO:werkzeug:127.0.0.1 - - [06/Mar/2023 20:01:33] \"POST /setclassifier HTTP/1.1\" 200 -\n",
            "INFO:werkzeug:127.0.0.1 - - [06/Mar/2023 20:01:33] \"POST /setclassifier HTTP/1.1\" 200 -\n",
            "INFO:werkzeug:127.0.0.1 - - [06/Mar/2023 20:01:33] \"POST /setclassifier HTTP/1.1\" 200 -\n",
            "INFO:werkzeug:127.0.0.1 - - [06/Mar/2023 20:01:33] \"POST /setclassifier HTTP/1.1\" 200 -\n",
            "INFO:werkzeug:127.0.0.1 - - [06/Mar/2023 20:01:33] \"POST /setclassifier HTTP/1.1\" 200 -\n",
            "INFO:werkzeug:127.0.0.1 - - [06/Mar/2023 20:01:33] \"POST /setclassifier HTTP/1.1\" 200 -\n",
            "INFO:werkzeug:127.0.0.1 - - [06/Mar/2023 20:01:33] \"POST /setclassifier HTTP/1.1\" 200 -\n",
            "INFO:werkzeug:127.0.0.1 - - [06/Mar/2023 20:01:33] \"POST /setclassifier HTTP/1.1\" 200 -\n",
            "INFO:werkzeug:127.0.0.1 - - [06/Mar/2023 20:01:33] \"POST /setclassifier HTTP/1.1\" 200 -\n",
            "INFO:werkzeug:127.0.0.1 - - [06/Mar/2023 20:01:33] \"POST /setclassifier HTTP/1.1\" 200 -\n",
            "INFO:werkzeug:127.0.0.1 - - [06/Mar/2023 20:01:33] \"POST /setclassifier HTTP/1.1\" 200 -\n",
            "INFO:werkzeug:127.0.0.1 - - [06/Mar/2023 20:01:33] \"POST /setclassifier HTTP/1.1\" 200 -\n",
            "INFO:werkzeug:127.0.0.1 - - [06/Mar/2023 20:01:33] \"POST /setclassifier HTTP/1.1\" 200 -\n",
            "INFO:werkzeug:127.0.0.1 - - [06/Mar/2023 20:01:33] \"POST /setclassifier HTTP/1.1\" 200 -\n",
            "INFO:werkzeug:127.0.0.1 - - [06/Mar/2023 20:01:33] \"POST /setclassifier HTTP/1.1\" 200 -\n",
            "INFO:werkzeug:127.0.0.1 - - [06/Mar/2023 20:01:33] \"POST /setclassifier HTTP/1.1\" 200 -\n",
            "INFO:werkzeug:127.0.0.1 - - [06/Mar/2023 20:01:33] \"POST /setclassifier HTTP/1.1\" 200 -\n",
            "INFO:werkzeug:127.0.0.1 - - [06/Mar/2023 20:01:33] \"POST /setclassifier HTTP/1.1\" 200 -\n",
            "INFO:werkzeug:127.0.0.1 - - [06/Mar/2023 20:01:33] \"POST /setclassifier HTTP/1.1\" 200 -\n",
            "INFO:werkzeug:127.0.0.1 - - [06/Mar/2023 20:01:33] \"POST /setclassifier HTTP/1.1\" 200 -\n",
            "INFO:werkzeug:127.0.0.1 - - [06/Mar/2023 20:01:33] \"POST /setclassifier HTTP/1.1\" 200 -\n",
            "INFO:werkzeug:127.0.0.1 - - [06/Mar/2023 20:01:33] \"POST /setclassifier HTTP/1.1\" 200 -\n",
            "INFO:werkzeug:127.0.0.1 - - [06/Mar/2023 20:01:33] \"POST /setclassifier HTTP/1.1\" 200 -\n",
            "INFO:werkzeug:127.0.0.1 - - [06/Mar/2023 20:01:33] \"POST /setclassifier HTTP/1.1\" 200 -\n",
            "INFO:werkzeug:127.0.0.1 - - [06/Mar/2023 20:01:33] \"POST /setclassifier HTTP/1.1\" 200 -\n",
            "INFO:werkzeug:127.0.0.1 - - [06/Mar/2023 20:01:33] \"POST /setclassifier HTTP/1.1\" 200 -\n",
            "INFO:werkzeug:127.0.0.1 - - [06/Mar/2023 20:01:33] \"POST /setclassifier HTTP/1.1\" 200 -\n",
            "INFO:werkzeug:127.0.0.1 - - [06/Mar/2023 20:01:33] \"POST /setclassifier HTTP/1.1\" 200 -\n",
            "INFO:werkzeug:127.0.0.1 - - [06/Mar/2023 20:01:33] \"POST /setclassifier HTTP/1.1\" 200 -\n",
            "INFO:werkzeug:127.0.0.1 - - [06/Mar/2023 20:01:33] \"POST /setclassifier HTTP/1.1\" 200 -\n",
            "INFO:werkzeug:127.0.0.1 - - [06/Mar/2023 20:01:33] \"POST /setclassifier HTTP/1.1\" 200 -\n",
            "INFO:werkzeug:127.0.0.1 - - [06/Mar/2023 20:01:33] \"POST /setclassifier HTTP/1.1\" 200 -\n",
            "INFO:werkzeug:127.0.0.1 - - [06/Mar/2023 20:01:33] \"POST /setclassifier HTTP/1.1\" 200 -\n",
            "INFO:werkzeug:127.0.0.1 - - [06/Mar/2023 20:01:33] \"POST /setclassifier HTTP/1.1\" 200 -\n",
            "INFO:werkzeug:127.0.0.1 - - [06/Mar/2023 20:01:33] \"POST /setclassifier HTTP/1.1\" 200 -\n",
            "INFO:werkzeug:127.0.0.1 - - [06/Mar/2023 20:01:34] \"POST /setclassifier HTTP/1.1\" 200 -\n",
            "INFO:werkzeug:127.0.0.1 - - [06/Mar/2023 20:01:34] \"POST /setclassifier HTTP/1.1\" 200 -\n",
            "INFO:werkzeug:127.0.0.1 - - [06/Mar/2023 20:01:34] \"POST /setclassifier HTTP/1.1\" 200 -\n",
            "INFO:werkzeug:127.0.0.1 - - [06/Mar/2023 20:01:34] \"POST /setclassifier HTTP/1.1\" 200 -\n",
            "INFO:werkzeug:127.0.0.1 - - [06/Mar/2023 20:01:34] \"POST /setclassifier HTTP/1.1\" 200 -\n",
            "INFO:werkzeug:127.0.0.1 - - [06/Mar/2023 20:01:34] \"POST /setclassifier HTTP/1.1\" 200 -\n",
            "INFO:werkzeug:127.0.0.1 - - [06/Mar/2023 20:01:34] \"POST /setclassifier HTTP/1.1\" 200 -\n",
            "INFO:werkzeug:127.0.0.1 - - [06/Mar/2023 20:01:34] \"POST /setclassifier HTTP/1.1\" 200 -\n",
            "INFO:werkzeug:127.0.0.1 - - [06/Mar/2023 20:01:34] \"POST /setclassifier HTTP/1.1\" 200 -\n",
            "INFO:werkzeug:127.0.0.1 - - [06/Mar/2023 20:01:34] \"POST /setclassifier HTTP/1.1\" 200 -\n",
            "INFO:werkzeug:127.0.0.1 - - [06/Mar/2023 20:01:34] \"POST /setclassifier HTTP/1.1\" 200 -\n",
            "INFO:werkzeug:127.0.0.1 - - [06/Mar/2023 20:01:34] \"POST /setclassifier HTTP/1.1\" 200 -\n",
            "INFO:werkzeug:127.0.0.1 - - [06/Mar/2023 20:01:43] \"POST /setclassifier HTTP/1.1\" 200 -\n",
            "INFO:werkzeug:127.0.0.1 - - [06/Mar/2023 20:01:43] \"POST /setclassifier HTTP/1.1\" 200 -\n",
            "INFO:werkzeug:127.0.0.1 - - [06/Mar/2023 20:01:43] \"POST /setclassifier HTTP/1.1\" 200 -\n",
            "INFO:werkzeug:127.0.0.1 - - [06/Mar/2023 20:01:43] \"POST /setclassifier HTTP/1.1\" 200 -\n",
            "INFO:werkzeug:127.0.0.1 - - [06/Mar/2023 20:01:43] \"POST /setclassifier HTTP/1.1\" 200 -\n",
            "INFO:werkzeug:127.0.0.1 - - [06/Mar/2023 20:01:43] \"POST /setclassifier HTTP/1.1\" 200 -\n",
            "INFO:werkzeug:127.0.0.1 - - [06/Mar/2023 20:01:43] \"POST /setclassifier HTTP/1.1\" 200 -\n",
            "INFO:werkzeug:127.0.0.1 - - [06/Mar/2023 20:01:43] \"POST /setclassifier HTTP/1.1\" 200 -\n",
            "INFO:werkzeug:127.0.0.1 - - [06/Mar/2023 20:01:43] \"POST /setclassifier HTTP/1.1\" 200 -\n",
            "INFO:werkzeug:127.0.0.1 - - [06/Mar/2023 20:01:43] \"POST /setclassifier HTTP/1.1\" 200 -\n",
            "INFO:werkzeug:127.0.0.1 - - [06/Mar/2023 20:01:43] \"POST /setclassifier HTTP/1.1\" 200 -\n",
            "INFO:werkzeug:127.0.0.1 - - [06/Mar/2023 20:01:43] \"POST /setclassifier HTTP/1.1\" 200 -\n",
            "INFO:werkzeug:127.0.0.1 - - [06/Mar/2023 20:01:43] \"POST /setclassifier HTTP/1.1\" 200 -\n",
            "INFO:werkzeug:127.0.0.1 - - [06/Mar/2023 20:01:43] \"POST /setclassifier HTTP/1.1\" 200 -\n",
            "INFO:werkzeug:127.0.0.1 - - [06/Mar/2023 20:01:43] \"POST /setclassifier HTTP/1.1\" 200 -\n",
            "INFO:werkzeug:127.0.0.1 - - [06/Mar/2023 20:01:43] \"POST /setclassifier HTTP/1.1\" 200 -\n",
            "INFO:werkzeug:127.0.0.1 - - [06/Mar/2023 20:01:43] \"POST /setclassifier HTTP/1.1\" 200 -\n",
            "INFO:werkzeug:127.0.0.1 - - [06/Mar/2023 20:01:43] \"POST /setclassifier HTTP/1.1\" 200 -\n",
            "INFO:werkzeug:127.0.0.1 - - [06/Mar/2023 20:01:43] \"POST /setclassifier HTTP/1.1\" 200 -\n",
            "INFO:werkzeug:127.0.0.1 - - [06/Mar/2023 20:01:43] \"POST /setclassifier HTTP/1.1\" 200 -\n",
            "INFO:werkzeug:127.0.0.1 - - [06/Mar/2023 20:01:43] \"POST /setclassifier HTTP/1.1\" 200 -\n",
            "INFO:werkzeug:127.0.0.1 - - [06/Mar/2023 20:01:44] \"POST /setclassifier HTTP/1.1\" 200 -\n",
            "INFO:werkzeug:127.0.0.1 - - [06/Mar/2023 20:01:44] \"POST /setclassifier HTTP/1.1\" 200 -\n",
            "INFO:werkzeug:127.0.0.1 - - [06/Mar/2023 20:01:44] \"POST /setclassifier HTTP/1.1\" 200 -\n",
            "INFO:werkzeug:127.0.0.1 - - [06/Mar/2023 20:01:44] \"POST /setclassifier HTTP/1.1\" 200 -\n",
            "INFO:werkzeug:127.0.0.1 - - [06/Mar/2023 20:01:44] \"POST /setclassifier HTTP/1.1\" 200 -\n",
            "INFO:werkzeug:127.0.0.1 - - [06/Mar/2023 20:01:44] \"POST /setclassifier HTTP/1.1\" 200 -\n",
            "INFO:werkzeug:127.0.0.1 - - [06/Mar/2023 20:01:44] \"POST /setclassifier HTTP/1.1\" 200 -\n",
            "INFO:werkzeug:127.0.0.1 - - [06/Mar/2023 20:01:44] \"POST /setclassifier HTTP/1.1\" 200 -\n",
            "INFO:werkzeug:127.0.0.1 - - [06/Mar/2023 20:01:44] \"POST /setclassifier HTTP/1.1\" 200 -\n",
            "INFO:werkzeug:127.0.0.1 - - [06/Mar/2023 20:01:44] \"POST /setclassifier HTTP/1.1\" 200 -\n",
            "INFO:werkzeug:127.0.0.1 - - [06/Mar/2023 20:01:44] \"POST /setclassifier HTTP/1.1\" 200 -\n",
            "INFO:werkzeug:127.0.0.1 - - [06/Mar/2023 20:01:44] \"POST /setclassifier HTTP/1.1\" 200 -\n",
            "INFO:werkzeug:127.0.0.1 - - [06/Mar/2023 20:01:44] \"POST /setclassifier HTTP/1.1\" 200 -\n",
            "INFO:werkzeug:127.0.0.1 - - [06/Mar/2023 20:01:44] \"POST /setclassifier HTTP/1.1\" 200 -\n",
            "INFO:werkzeug:127.0.0.1 - - [06/Mar/2023 20:01:44] \"POST /setclassifier HTTP/1.1\" 200 -\n",
            "INFO:werkzeug:127.0.0.1 - - [06/Mar/2023 20:01:44] \"POST /setclassifier HTTP/1.1\" 200 -\n",
            "INFO:werkzeug:127.0.0.1 - - [06/Mar/2023 20:01:44] \"POST /setclassifier HTTP/1.1\" 200 -\n",
            "INFO:werkzeug:127.0.0.1 - - [06/Mar/2023 20:01:44] \"POST /setclassifier HTTP/1.1\" 200 -\n",
            "INFO:werkzeug:127.0.0.1 - - [06/Mar/2023 20:01:44] \"POST /setclassifier HTTP/1.1\" 200 -\n",
            "INFO:werkzeug:127.0.0.1 - - [06/Mar/2023 20:01:44] \"POST /setclassifier HTTP/1.1\" 200 -\n",
            "INFO:werkzeug:127.0.0.1 - - [06/Mar/2023 20:01:44] \"POST /setclassifier HTTP/1.1\" 200 -\n",
            "INFO:werkzeug:127.0.0.1 - - [06/Mar/2023 20:01:44] \"POST /setclassifier HTTP/1.1\" 200 -\n",
            "INFO:werkzeug:127.0.0.1 - - [06/Mar/2023 20:01:44] \"POST /setclassifier HTTP/1.1\" 200 -\n",
            "INFO:werkzeug:127.0.0.1 - - [06/Mar/2023 20:01:44] \"POST /setclassifier HTTP/1.1\" 200 -\n",
            "INFO:werkzeug:127.0.0.1 - - [06/Mar/2023 20:01:44] \"POST /setclassifier HTTP/1.1\" 200 -\n",
            "INFO:werkzeug:127.0.0.1 - - [06/Mar/2023 20:01:44] \"POST /setclassifier HTTP/1.1\" 200 -\n",
            "INFO:werkzeug:127.0.0.1 - - [06/Mar/2023 20:01:44] \"POST /setclassifier HTTP/1.1\" 200 -\n",
            "INFO:werkzeug:127.0.0.1 - - [06/Mar/2023 20:01:44] \"POST /setclassifier HTTP/1.1\" 200 -\n",
            "INFO:werkzeug:127.0.0.1 - - [06/Mar/2023 20:01:44] \"POST /setclassifier HTTP/1.1\" 200 -\n",
            "INFO:werkzeug:127.0.0.1 - - [06/Mar/2023 20:01:44] \"POST /setclassifier HTTP/1.1\" 200 -\n",
            "INFO:werkzeug:127.0.0.1 - - [06/Mar/2023 20:01:44] \"POST /setclassifier HTTP/1.1\" 200 -\n",
            "INFO:werkzeug:127.0.0.1 - - [06/Mar/2023 20:01:44] \"POST /setclassifier HTTP/1.1\" 200 -\n",
            "INFO:werkzeug:127.0.0.1 - - [06/Mar/2023 20:01:44] \"POST /setclassifier HTTP/1.1\" 200 -\n",
            "INFO:werkzeug:127.0.0.1 - - [06/Mar/2023 20:01:44] \"POST /setclassifier HTTP/1.1\" 200 -\n",
            "INFO:werkzeug:127.0.0.1 - - [06/Mar/2023 20:01:44] \"POST /setclassifier HTTP/1.1\" 200 -\n",
            "INFO:werkzeug:127.0.0.1 - - [06/Mar/2023 20:01:44] \"POST /setclassifier HTTP/1.1\" 200 -\n",
            "INFO:werkzeug:127.0.0.1 - - [06/Mar/2023 20:01:44] \"POST /setclassifier HTTP/1.1\" 200 -\n",
            "INFO:werkzeug:127.0.0.1 - - [06/Mar/2023 20:01:44] \"POST /setclassifier HTTP/1.1\" 200 -\n",
            "INFO:werkzeug:127.0.0.1 - - [06/Mar/2023 20:01:44] \"POST /setclassifier HTTP/1.1\" 200 -\n",
            "INFO:werkzeug:127.0.0.1 - - [06/Mar/2023 20:01:44] \"POST /setclassifier HTTP/1.1\" 200 -\n",
            "INFO:werkzeug:127.0.0.1 - - [06/Mar/2023 20:01:44] \"POST /setclassifier HTTP/1.1\" 200 -\n",
            "INFO:werkzeug:127.0.0.1 - - [06/Mar/2023 20:01:44] \"POST /setclassifier HTTP/1.1\" 200 -\n",
            "INFO:werkzeug:127.0.0.1 - - [06/Mar/2023 20:01:44] \"POST /setclassifier HTTP/1.1\" 200 -\n",
            "INFO:werkzeug:127.0.0.1 - - [06/Mar/2023 20:01:44] \"POST /setclassifier HTTP/1.1\" 200 -\n",
            "INFO:werkzeug:127.0.0.1 - - [06/Mar/2023 20:01:44] \"POST /setclassifier HTTP/1.1\" 200 -\n",
            "INFO:werkzeug:127.0.0.1 - - [06/Mar/2023 20:01:44] \"POST /setclassifier HTTP/1.1\" 200 -\n",
            "INFO:werkzeug:127.0.0.1 - - [06/Mar/2023 20:01:44] \"POST /setclassifier HTTP/1.1\" 200 -\n",
            "INFO:werkzeug:127.0.0.1 - - [06/Mar/2023 20:01:44] \"POST /setclassifier HTTP/1.1\" 200 -\n",
            "INFO:werkzeug:127.0.0.1 - - [06/Mar/2023 20:01:44] \"POST /setclassifier HTTP/1.1\" 200 -\n",
            "INFO:werkzeug:127.0.0.1 - - [06/Mar/2023 20:01:44] \"POST /setclassifier HTTP/1.1\" 200 -\n",
            "INFO:werkzeug:127.0.0.1 - - [06/Mar/2023 20:01:44] \"POST /setclassifier HTTP/1.1\" 200 -\n",
            "INFO:werkzeug:127.0.0.1 - - [06/Mar/2023 20:01:44] \"POST /setclassifier HTTP/1.1\" 200 -\n",
            "INFO:werkzeug:127.0.0.1 - - [06/Mar/2023 20:01:44] \"POST /setclassifier HTTP/1.1\" 200 -\n",
            "INFO:werkzeug:127.0.0.1 - - [06/Mar/2023 20:01:44] \"POST /setclassifier HTTP/1.1\" 200 -\n",
            "INFO:werkzeug:127.0.0.1 - - [06/Mar/2023 20:01:44] \"POST /setclassifier HTTP/1.1\" 200 -\n",
            "INFO:werkzeug:127.0.0.1 - - [06/Mar/2023 20:01:44] \"POST /setclassifier HTTP/1.1\" 200 -\n",
            "INFO:werkzeug:127.0.0.1 - - [06/Mar/2023 20:01:44] \"POST /setclassifier HTTP/1.1\" 200 -\n",
            "INFO:werkzeug:127.0.0.1 - - [06/Mar/2023 20:01:44] \"POST /setclassifier HTTP/1.1\" 200 -\n",
            "INFO:werkzeug:127.0.0.1 - - [06/Mar/2023 20:01:44] \"POST /setclassifier HTTP/1.1\" 200 -\n",
            "INFO:werkzeug:127.0.0.1 - - [06/Mar/2023 20:01:44] \"POST /setclassifier HTTP/1.1\" 200 -\n",
            "INFO:werkzeug:127.0.0.1 - - [06/Mar/2023 20:01:44] \"POST /setclassifier HTTP/1.1\" 200 -\n",
            "INFO:werkzeug:127.0.0.1 - - [06/Mar/2023 20:01:44] \"POST /setclassifier HTTP/1.1\" 200 -\n",
            "INFO:werkzeug:127.0.0.1 - - [06/Mar/2023 20:01:44] \"POST /setclassifier HTTP/1.1\" 200 -\n"
          ]
        }
      ],
      "source": [
        "# A continuación definimos \"el nombre del paquete de la aplicación\" y añadimos \"run_with_ngrok(app)\" para que la aplicación Flask esté disponible al ejecutarse\n",
        "app = Flask(__name__)\n",
        "run_with_ngrok(app) \n",
        "\n",
        "#Ahora, vamos a ver lo que queremos poner en nuestra página de inicio. \n",
        "#Para ello, vamos a escribir una función llamada \"home\".\n",
        "#Pero antes de definir la función tenemos que añadir una línea de código para asignar las direcciones URL en nuestra aplicación a la función que se conoce como \"App Routing\".\n",
        "@app.route(\"/\") #codigo para asignar la URL HomePage en nuestra aplicación a la función home.\n",
        "def hello():\n",
        "  return \"hello, it's works\"\n",
        "\n",
        "# se asume que el usuario utilizará un diccionario donde escribirá de manera correcta y en orden los parámetros OPERA, TIPOVUELO y MES para predecir los datos.\n",
        "def travel(OPERA, TIPOVUELO, MES):\n",
        "\n",
        "  # se crea el dataframe que será la entrada al modelo\n",
        "  df_travel = pd.DataFrame(columns=x_test.columns).astype('uint8')\n",
        "  df_travel.loc['0'] = 0\n",
        "  df_travel['OPERA_'+OPERA] = 1\n",
        "  df_travel['TIPOVUELO_'+TIPOVUELO] = 1\n",
        "  df_travel['MES_'+str(MES)] = 1 \n",
        "\n",
        "  return df_travel\n",
        "\n",
        "\n",
        "@app.route('/setclassifier', methods=['POST'])\n",
        "def predict_travel():\n",
        "\n",
        "  #se extraen los datos desde el diccionario que ingresó el usuario\n",
        "  OPERA = request.get_json()['OPERA']\n",
        "  TIPOVUELO = request.get_json()['TIPOVUELO']\n",
        "  MES = request.get_json()['MES']\n",
        "\n",
        "  # se predicen los datos\n",
        "  predictions = modelxgb_1.predict(travel(OPERA, TIPOVUELO, MES))\n",
        "  #se obtiene la respuesta de atraso\n",
        "  delay = \"yes\" if predictions[0]>= 0.5 else \"no\"\n",
        "\n",
        "  return delay  #jsonify({'prediction ': str(predictions[0]), 'delay ': delay})\n",
        "\n",
        "if __name__ == '__main__':\n",
        "    # Iniciamos el servidor\n",
        "    app.run()"
      ]
    },
    {
      "cell_type": "markdown",
      "source": [
        "# wrk (NO CORRER LAS SIGUIENTES CELDAS DE CÓDIGO)"
      ],
      "metadata": {
        "id": "fFoDutdU_P7R"
      }
    },
    {
      "cell_type": "markdown",
      "source": [
        " - Haz pruebas de estrés a la API con el modelo expuesto con al menos 50.000 requests durante 45 segundos.\n",
        "\n",
        "Se creó un archivo llamado \"data.lua\" el cual sirve para darle instrucciones al wrk sobre el link de la API, contenía las siguientes características"
      ],
      "metadata": {
        "id": "5fapZPWH_R-9"
      }
    },
    {
      "cell_type": "code",
      "source": [
        "# NO ES CODIGO, NO DESCOMENTAR\n",
        "\n",
        "\n",
        "# wrk.method = \"POST\"\n",
        "# wrk.body = '{\"OPERA\": \"Aerolineas Argentinas\", \"TIPOVUELO\": \"N\", \"MES\": 3}'\n",
        "# wrk.headers[\"Content-Type\"] = \"application/json\"\n"
      ],
      "metadata": {
        "id": "jeeM0dYX_jAV"
      },
      "execution_count": 94,
      "outputs": []
    },
    {
      "cell_type": "markdown",
      "source": [
        "Luego se instaló wrk y se corrió con el siguiente código "
      ],
      "metadata": {
        "id": "6HuQOuNQAC1T"
      }
    },
    {
      "cell_type": "code",
      "source": [
        "# NO ES CODIGO, NO DESCOMENTAR\n",
        "# wrk -t3 -c5000 --latency -d45s http://170e-35-197-68-141.ngrok.io/setclassifier -s data.lua"
      ],
      "metadata": {
        "id": "qmW0JPz_AtbY"
      },
      "execution_count": 93,
      "outputs": []
    },
    {
      "cell_type": "markdown",
      "source": [
        "Y se obtuvieron los siguientes resultados"
      ],
      "metadata": {
        "id": "HK2j5T-VA7-u"
      }
    },
    {
      "cell_type": "markdown",
      "source": [
        "![wrk.png](data:image/png;base64,iVBORw0KGgoAAAANSUhEUgAABAsAAAEvCAYAAAAjP0gwAAAAAXNSR0IArs4c6QAAAARnQU1BAACxjwv8YQUAAAAJcEhZcwAADsMAAA7DAcdvqGQAAJjiSURBVHhe7f0LzFRFuu+PF38QBnj5ITe5iCjXrUBABLmMIKCowMDBzU2SGbmenY3AyARPDuhoGAIKJEc8GFAzJw5gCBHB2ephAzEwgIHNRcgAIoNHHBw2G3SArc4oyriV/3weVr2ubrp7Vb/0e+X7SSqre63qWlVPVa2u56mnalUrKiq65IQoZ2bMmOGOHz/uNm/eHJ0RQghRFRkzZoy799573VNPPeXOnj0bnU0lJI4Qonwo9JhN/b3kFKouNA4X2fj/Rcdy59Zbb3WDBw+OvpU/hcjPSy+9ZKEsKMt7hRIqwz59+rjRo0e7Rx99NDpT9Snr+qpo/UuUHOpx+/btxWH27NnRlZKhtvEDhZBnaRL63Aip0/Ks97Fjx7qLFy/mVApC4gghkin0eKM0xmyl2d+v9llX6P/cQhJaF+R53bp1xWXgd3GuxXF4Jkpav2Xxf1qe7bDCGAtGjBjh5syZE33LDJZH39g5pgvKCzBeYSV9SIbkpyriZYisYe7cufa9NGW4e/dud+jQIbdx48boTOlAe/Hl8J3uWiGpLvijWLp0qdUBcuFI3ZcXPHi5v+/vmR6K6Q9OH9If2PzWl4v0fNuOU6g4ZcGBAwfcokWLLBSCa/VZFwr17tuUb3PxNhbaDsuSkDotr3qn3zRp0sRt2rQpOnMlmeIkPROy1YMP8f5aVn055LlaqPYT8sxEpjw3suUnHxmG4vP1yiuvWBrkwZMpP5nynURI2YHzXq6+rHE5h6ZzrVPoMVvIM+FquNpnXaH/cwtJSF3QjocMGeLOnz9vMibgQRCnrMbhVZWy+D8tz3ZYYYwFSfBAnz59utu/f78JiiONf9KkSVGMHxgwYED0SZSECxcuuO7du9vntm3b2vfSZubMmW7ZsmXRt9KnXr160ScBEyZMcLVq1bJBEv3r8OHDbuDAgRn7V1nAg7dXr17255bE+vXrix+gBB6oHvLPc2LHjh127fTp0/YciVvVCxWnrGDmBTdBuQqWPtQv9d6uXbvoTHZytUPxA7ganzx5Mmf7zRQn9Jlw7Nix4gExgf8v+gzPNijLvpzPc/Vq20+IfObPn++6dOlSnB9kQH7SleIkGYZCOTHQcw/SIK1GjRpFV5178sknXe/evVPyQ93gDp0PIWUP6cv5/O9c6xRyzBbyTChPKvp/blJd9OjRw+Q7depUt3jxYguZPDjKehwu8qM822FGY0HcuoxVnAe+t/zGrdDAn4y/xgM/k+U5VxyucZ6HOPDZh/gfGNf37Nljjbx58+buj3/8o32//fbboxiXoUPw5xO3XqdTiPxAejqZBgCAzIhDXP4Q0/OWKz+ekDjpYMkviUfAhx9+aEYC8tmqVSv7A48Tbx/kJb1MoTL08XzIlVcGD8SJzwKEQt74XYsWLVydOnXsM8YQOl4+6fn8xj/7tH3e/GdCUt9Jp6T1lYvQuuBPhLBixQp7EL355pt2/ssvv7RjoaH9+pkmArKKD9a5/9ChQ90bb7wRncmOX2PnQ/xPkDR4JvDc4NqCBQts0Mqg0FOoOBWNeFu8mn4KfM/1rKPdEvyzjpCpveeqd9LkXLrSRr45H897IWAWkTyTNmXL9PwmDqTPwmQiVzsk78gQ2fmyE7L9ZySRTc4hdRoSBzLVaab/Lwh9PlO3yHTbtm3RmSvJFif0mXDixAnrpwR+wzP/yJEj0dXwvowscrX5EPJ5ruZqPyEkyYd6Q6579+4tzg8yQBadOnWKYl0mSYYh0BYwljBbSb/3igqGCA+GFL7H8wPt27e3YyghbSOkL4ekE0LI85D8pD9/OPo+mM9YIr2tltb40D87fMj2+3zyk62/hz4z0+8Vv+7zG/IflzQmCSHpPxdCyhUSx5fNh1x1SXrvv/9+9C2V0HSIl03O+bTVQhDaNpLI1AfTSapTL7+kNhbSNgoF94jXo783R0+++ales2bNX0Wfi/niiy9MGUdRvHTpkmvZsqX77W9/67766iuzEH/yySf2wEWwrHH56KOP3LvvvmvKGLP6/jokxcGCy59QjRo17D5keOfOnRb4Uzt37pylg3sHD3I69IMPPuh69uxpf7j8bsOGDRZn4sSJ7t/+7d/sD+jv5XIHDx50w4YNs2s+TqHyQyOgcWzZssW9/vrr7vvvv7d0kdHRo0ctDvfGiv5f//VfbuXKlZb2/fffb3Lld1AIGUJ6Oan0f/qnf3LvvffeFcp+LpDh73//e/uzbtiwofvuu+/c559/7ho0aFCcNrKpXr168b2xWjJb4a+HytDH43zfvn3tvE8jnZEjR1payIB6jcNAdfLkyZYG8j916pTVz9NPP21yv/vuu639NGvWzNWvX9/ikVbdunXtM3FCwBuB+P/6r/9qfyJFRUVWB127djV58ZA8c+ZMUN8pVH0lEVoXHh6ew4cPd+PHj3f79u1zL7zwQnSlcNCHmcn729/+5t555x2rL9oP7YiHFvh8MQuEzJHZrl277JzHX/v222/NQMhn+iHpebgPzwR+S5198MEHrl+/fta2/+Vf/qWgccoD+msm2UCh+mk+zzruxzOK58add97pqlWrVtxfk+r9P/7jPywdnjX++Qj//M//bGXg3oUEJZF+umbNGmvr/KfwjIjLEwWydevWNgMKvs0hIy/XkHb485//3GTIb3i+ciRQzvQ+mAsv57/+9a9u9erVVne0Qy/nkDoNrXd/L///xT15hvGsSn9G5Xo+x+FZzf/zE088EZ25kmxxkp4Jvr2jnPq6GTdunOvYsaP79a9/XVwfIX05pM3nQ67nakj7CSFJPvwPch7lPH7+gQcesMkB6jhUhiHQ5v+//+//c7NmzTLjPPki/Xh75zyGCp4JGEf4H+deyDwfOSeVHUL6ckg6IYQ8D9OfP7RBJsL8PQs5Dic/cLXjjZAxW0h+4mTr7yHPzKR+GvqsCxmTeK7mPxdCyhUSJ6kueOZwf9+WiU/++E79+74cUqdJcg5tq4WiUP+nIWOApDoNbWMhbSMfcrVDrsXrMdOzLt/81IiOKfDQxsqLUk6De/zxx209C5+peJQjrvOZuFiMgetYM3gwcB2S4vDHRSBN8L+Lw28ACwgPIjwKnn32WXOpywQWSu6LtTqdQuQHEKz3dADi8UdEhaQ/XHDt8dCYqBBPIWSYiWnTptmRxgpYkXKtpyGtOHgX9O/f36xtKNVxvIw8POx5cPAAIp+hMoynk7TWh+uUIT0tZMG9uS+zHwsXLrR6uf7666MYl+9PQGZ+xgRrJ3/MXqb5wACH3/JnyNFDHoB7JfWddNLrK4SQOg2tC4inx2/yyQuEtjEGzciKMnuZMWj3D61QeACCXyrD4Iw/kOXLl1sfJE0P9Y38V61aZd/5g4BCxQkhRD6hMgwh3r+gpP009FnHc8LXKffg2g033BBdTa53zuGmHX8+cp20eA6FEiJD+iMB12//P8HgycvCQ/9m5jUXSe0QkBcwOPFlLynI2ZePuuB/0cs5pE5D6x24l///Ih4Df9y00yE/yD1XWsgbZRhX9GyExMmGL1ccBn/Im2cwhPblpDafTz+NxyV/6c/VpPZTqGcCZWDzMsrhnwHII17uEBmG5of2hdGBsVr8HvF+MW/ePHsuMa5DWaP88euFKjuE9OVCkut5mO35w/jFw++os0KMw9MpyXgD4u0jW73kkx+uZevvIc/MpH7q85v0rCvUmCQuH0j/z4WQcoXEid8rU11gHOM54kHOBOB3vj8npQNJciaPnMt33JtOaH8PkU8S5I2QNAaIywcKoe9AprZRluSbn4zGgnTijSr+cOYPgAbk4ToP47iiFhIniVtuucWOFACFkMERn1H8fKOJg2UE97f4wMBTiPwAAiWQlzhx4QNWpzifffaZlcFTSBkyyMACiEzoBPzGN1y/MUYoGAto/PyOGYk4pP3QQw8VK8q+PCjRIQ+EkpIpbd82Xn75ZbvOoAM3Quom/Q8IOWIBBPKOF0A+xNeQIuutW7e6Nm3auB/96EdX1LsnW9+BXPUVQr51mgT3JtBvmE3yD+3QPIXmh3rAoBd/IHk55QNWZIKXPXXOjB27KvMHhhdJOunuv4WKE0KIfApZp4Xqp6HPOp5Jvk4z/dmE1Dv3YEBDP+YP3D978rG+h8jQPzfig8FMbdD3y1wktUPgWUFafgDLfxeecukyDAE5lxXp92J9f/pgypPUphi8ogz+5je/ic5cSUicULwizGDQE9qXk9p8Pv006bma1H4K+UwgPcZGvl1Sv7naUyYZ5pMfvISeeeYZK1umfuFnoXkufPPNNxafc3ixIJ9CPw+T+nIhyfU8DH3+xMk2lqB+rnZ8WEhC8wO5+nvIMzOpn4YS8t8UAvlN+s8NKVch/i9Q7L1yj3wYD/vv+ZKvnLO11SRC+3sh5JPPGKAQ46hCpVMo8s1PpdngMB/o8DyseBCVJtyDhh0PfpYiGyiWpQWdGUsijQDiHRuZ0ACyhXTY5IROnt55uMeSJUtc586drYMSGECWF/7hwhFQMHApI+/+wYi1ElnQGRiY8BkZYfFMf/jlwv+R+M7FgIaZNr7zyp98yVVfIeRbp6FQ5342MdMsYjbyyU/t2rWjTyWHP4b4nwP3Z+NT5ArxezKDRZvwg1Q/QC5UnBBC5FOoOi10Py3Jsy4TSfVOGZGB34sGF2VmJzkXSqFkGDc28wwh+Flgjr6dJbVDoL0w04bSxbMCry1m23hWXQsgC8qM50i2ugyJkw8s+QMUcU+8/pP6cq42X5I2lu25mtR+SnKvbPD/SDv05UGR5/8nm+E8kwzzyQ/rpH3Z0svFEcMFShp1wf81hhQmKqZMmWJxClX20L5claGMVzPeKDTkJ1d/D31mltV/UxKUJ+Q/N6RcFfH/olByzkVofy8r+YTWaRKFSqdQlCQ/V2Us4M8V1zkPDyEsdKxx94TEieMfZHFYDwMUECskDzw+Z/Iq8PAgxJ0Va2qcQuQHaNRYStMbcybLlIc8M0hg8OsppAz5U2bwQ4dBTv4Pt5BgdULpZibfWy5Z85mLbDLMF/7g0/EPl0x/Np64tZKHC5+Rj3/45QP3+Yd/+AfzGCFd1tpBSTp+WdRXOqF1QVstLWjP9M2rvQd9HFfiOMxMIUsP9RXfvIt70nfi9VWoOOUFZU6nkP2Usuf7rMtEaL2zhpbZa/o7Ms61Br6k+P8UrzBAXKEALw88HVBiCBgbgSMyhpB2CPR3jLAojChJgBtnaRLS33PFQf5xMpXLk+n57GHNNO0x1/4wIXHygYEQbS6uiENofy9Em08nU9sPbT+FAnlQlo8//tjWiXOftWvXRldTySbDUNKfTfFy+b6HR0Gcr7/++oqlj1dLaF/Ol1xtPhchz59QSmN8WNJyQWh+Qvp70jMz336a7VkX+t/kSW/XkM9/blK5ICROWVFaz8Or4WrlE9IHCzWOKkk6IX0wUzvMRLyMUJL8ZNzgkMKyRuWOO+4wtz02p6AT+Q0xPDSeH//4x/YA5s/3Zz/7mT3k2XjJu3aExAE2zBg0aJAp07h2U+ndunWzTSe4Lxs2sIEGkBaubH7jCO+iGt/wgSPrZ8h3fKOHQuTHg7s759j4jochn/mdz5d/GPLnx+Y1bNTFdzbe83EKJcP4Bjb8EdCI2FCnadOmGTfAyEamTTMoO+mRNvJELmyOQaBczAKyKQjfqStftiQZ0jEZjNCQuUa+kRXf43UBKPW4cMY3CAqFdH2+n3/+eTMSsLkP8uOBlw+84oeNsPhzYR01a9zoI2zkQ75C+06h6iuUpLpgvdLNN99c3I4ZSDRu3NgGkel1cbXQTu666y6TAXVNuyY/HTp0KK5bXFHZeOu2226zfT7YIIq2H4/j+wOyo05GjRpl3iJs4uI3bUKetDOO9FPKddNNN6X0nULFKQ/uuecekwF1hzyoY8peyH4KIc868M9ZSH+WhNQ7/OUvf7E43Ic+xPOSPlJIKD+ywyjBZrhsUEoZ45sbkScGsvFAfybPPI/8syOkHaIM+vIS2BCQ/kWcuJyTCJEzhNRpUhzuRZ1xHny5MJLGZ5oh6fn8y1/+0vJIf8lGUpyQZ4IHhQjFiF3t06+F9uWkNh9CyHM1pP2EECIf/p/Iw8MPP2zt5rrrrrNZuvT6hFwyDIF7UTYv5/Ry+T7Ihob0QfperjaWi6SyE+L9mJCpL+fTxnK1+aR+GvL8KeQ4PJ6fpPFGrnKFjNlCx9hJ/T30mRnST5OedaH/TXC1/7kh5QqJE1IXnkz/EZ7QdHLJObStFopC/J+G9MFCjaPySQeS/k8hWzsE7kudco1nOMY75OPvRbr55AcyGgv4M+GhSaUDhebBGX/wAYXgYYOweeDTyHgIv/XWW1GMsDjgC0CFEZcjuwP7hziCwUvgqaeesnicJ2AN4beQ3iG4L/ek0D7vhcoPO4Cy0yfX7rvvPpMRlUPD8PnhwUMlcY2HDnnDgoNFzFMoGab/OZGPn/zkJ5bvt99+234TQqaHCvnnz4W0KRt5oUPwp87ghrzQ8Ggj7K7pf5skQ3YlxqBD+kB74zOBNOPwMKLs/Db+AAuFuiHd//W//pd9p5w8WPJNi7rGs4A6pJx0MpYh+HyF9p1C1VcoSXXBw5ZAftnQij7DgDa9XxQC33cYoPOAIi8EPG5o64CLGX9iyA540BGHZTxeZmzO5PsXbfHGG2+0ASbKpQe50l5xUyMO7TO97xQqTnnAnzL1yZ8G8mG20A/EC9VPQ591EG/n6c+SkHoH2h5/dvQzrhX6LQgeZId3GjKhPL/73e/sOf2nP/0p5fkXxw+o4s+OkHaINxzXfJnZMZpdt5977rkoRhghcoakOoWkONyLQeO///u/2zON6xha2bAu/fmU6/nslU7aX/o1T0ickGeCh7cOEC+ToSmkL4e0+RBCnqsh7SeEEPkwoKcuyQc74eOKmk0pzyXDEOi7KBX+GYQSSZuPl+sPf/iDDaz5H/Vlp29h1M/nnvm0DU+mvpxPOrnafEg/zfT84bno4xRyHJ7PeCNXuULGbCH5CenvIc/M0H6a9KwL/W+Cq/3PDSlXSJx8xs+Z/iM8IekkyTm0rRaKQv2fJo0BQusUcrWxfNKBEH0nWzsEvCZIF4MgyzRYLhK/16uvvppXfqBaUVHRpehzhYaHC7vl4kbOny1uMVhrOAohhKg6MPDAtTA+6yfKFtaAAgrU1UA6eNShfGYjJI4QVRn/zGNg73dnr6qovwtRuag0xgJgJ1dmA3jIALO7VzuQEUIIUf6wRo/ZJjYNZUaSWWzWFovyoRDGAgz6vDufGbpsRp+QOEJUNTAO+Fcp8sxjlpDJr/jr+6oi6u9CVD4qlbHA4zd+wO0i7tIvhBCicuKNwewHgmt2VZ9dq+gUyrNACHEl9C/cjYFnHhtsssRH3rJCiIpGpTQWCCGEEEIIIYQQovS4qlcnCiGEEEIIIYQQouohY4EQQgghhBBCCCFSkLFACCGEEEIIIYQQKVRKY8GMGTOKNzkUoqrA60HZ9IjdgrMREkcIUT4U+r9J/b3kFKouNN4QQghxLVPpjAV9+vRxo0ePdo8++mh0RnjYWbesBjVlea8kGEwTkgjJc3mWa+zYse7ixYs5d0MOiSOESCb0uRFKafw3lWZ/v9pnHb/dvn17ceBtFhWF0Logz+vWrSsuA7+Lo/GGEEKIa52sxoL4IICwceNGt2jRonKf4di9e7e9n5X8lDcMNPxgyw+c4oOv9MGUD/E4hWTEiBFl9l7yQt2LmTM/WONYmgPOkDyXpQzjIAf61qZNm6IzV5IpDgP+uXPnFsswXX7Z2qAPpOnht/QrzpNe/FohYQC+dOnS4ntxpAxxCtV3kuQDyJRnW7b85CPDUHy+XnnlFUsj/lzNlJ+S9IuQsgPnvVx9WeNyDk3nWqfQ/00hz4Sr4WqfdQcOHLB2SqhohNQF7XjIkCHu/PnzJmPC8ePHo6uXqUjjDSGEEKI8yOlZcOzYseI/0cOHD7vevXu7xx57LLpafsycOdMtW7Ys+lY+oPAw0GjXrl10Jjvr168vHlQRGGSJy4rJ9OnT3f79+00uHJHppEmTohjXDvfee6+9a3nz5s3RmSvJFIcBf69evWzAm4t4XyZcuHDBZitRAAGZI/sdO3ZYXfDOZ+omfaatEEyYMMHVqlXL7s29eLYMHDgwY71fbd8Jkc/8+fNdly5divODDMhPulKcJMNQKCcz2tyDNEirUaNG0VXnnnzySXvWxvND3eAOnQ8hZQ95joW2MVHY/6aQZ0J5QtsnbxU1f0l10aNHD5Pv1KlT3eLFiy1k8uCoCOMNIYQQorzIaSw4ceJE8Z8oMxB79uyxQayHWaa4G2emWSnv6snMFNcI8Vk7CInDwN1fI8Tv6wlJh1ky4nCN2QIG7iWZuSMdSJ+JyARx/KCKEB+QMHPEvVEMfJ4J+SjMXjYM+iGeTnq5+E55ucY90++TlJ987pUEadCmaF/Nmzd3f/zjH+377bffHsXIj2z1HpLn0HJlamModPGZYQ/KHdfj/SETKGy0p23btkVnriRbnDfffNMNHTrUvfHGG9GZzMT7Mr+pU6eOO3LkSHTVWRoMnLlOG12wYIEpsiiKcZBFrvYTAoNzwooVK+xe5Ae+/PJLO8bJ1XdCSJIP9YZc9+7dW5wfZIAsOnXqFMW6TJIMQ6AtYCxhtpKZY6+oYIjwYEjhezw/0L59ezuGEtI2Qp5jIemEUIjns/+PIeCd4q9nSiu9rYZ4gODpwf3zwT87fMj2+3zyk62/h/5fpN8rft3nN+QZTh699wsBmedrQIzXGXnJ9LwMKVdIHF82H3LVJem9//770bdUQtMhXjY559NWhRBCiIpKmexZwKwZyiAzaAyCM80iJsVhwMogg5CLpHR+8YtfuFatWrlVq1bZYJwZMwb9+UIawGA+Ce7BoIKQPtCaPHmyDdqYySXPPuD+GIqXDYo2eDkRuObh/tzLzx4zk4/iEh+0JuUn9F4hdO3a1WaKGTiRD2ayr7/+elOW8oV6r127dnHe4vUekud8ysW9GjZsaNeQDQa0adOmRVd/oGXLlnakPeYChRwlmPaYjWxx4kpmJj7++GPLI8qpZ9CgQXZ8++237QjxgTNtlHuhMLdo0cLOQUj7yQeUIepo1qxZphQx2E4nV98JIUk+3bt3t+M333xjRw+GEt/HQ2UYAvIjbYwx3BuFwivsnjNnzti9kSv14j0Kdu7cacdQksoOIc+xkHRCudrns3d9p23ynOA68Wg/pIU8gTSRNfG4F/B88dczgay5N/LPB//sIGQj3/xk6+8h/xdJ/TT0WUd88shzlXsgYwxW9Nd88P2HQL55XuLNEyekXCFxkuqCvobMvdwbNGhQ/D3+fAmp0yQ5h7ZVIYQQoiJTIzpmpHXr1vaHCPyp8ifvBxj5ULduXVOmGPwwIEMpuOGGG6Krl0mKw8DSD1pzrbPMlQ4DBQKuzX4QdurUKbdw4UL7nA8MeBkE5MK79rZt29YUBAbKDC6WL19erBghY0B5IM8lwcsG5RuyDfxxu6T+/Ewl8bh/3759g/MTeq8kvILELAsDafL17LPPXjGIDIV69+2CPJGur/eQPOdTLu6FayoQD4WagWA65IcBYa60kAP9ikFvNkLiZMOXK07Pnj2tbv0gOz5IxnDDQBZlDbwyCUnth7Lm6psDBgyIPl2edfNxyR8z+3GS+k4+98oFZWDzMsrB8wK5II94uUNkGJof2hdGB9p6/B7xZ8K8efPMQEC/QFmj/PHrhSo7hDzHCsnVPp/5HXX24IMPWtzHH3/c6oDPtFvky3U+ExfPDeA6s8PIJlt/9Aa/9LaYRLx9ZKuXfPLDtWz9PeT/Iqmf+vwmPeuGDx9u9/D1BfSNEG+6OHH5AG2bTQN9f4OQcoXEid8rU11ghOE54kHOBOB3vj8npQNJciaPnEtqq0IIIURFJqdnAX9q/LES+EP1g9x8YTDq/9yz/cmHxAkhVzq33HKLHeODHT84yBdkwwxHLrZs2WKDw/Hjx9vRD7rY4dqzdetWOzK4YPCIcYa0SwMGZ9Sjd40kcK/4TH5Z5cfXBfJg5pC88BlX75JQlgpP+r1oB9m8U5IGgwxeUQZ/85vfRGeuJCROKF4RZjbMU79+/ejTD2RaEpDUfvxMWrYQB7mgKDGAZrd3BuQowZ6kvpPPvZKgrVMOjpTpkUcesTr2ykI6mWSYT34wvD7zzDNWfmYh058JGAlQplBaURjZ04FzXj6FLDvlTnqOFZJCP5/jyh3y9Iob9fPRRx/ZZ+A698ZzKQ5GKJ5xPOtQ4FD+SkOBC80P5OrvIc/nkOd8COSZZTbxekLe6fWWBPfGCEl+CRjawHv1QEi5CvHfRPugnRCA/uW/e0NOKPnKOVtbFUIIISoyOY0F/o+UAS2Dl6+//jrvgUJVJD4TywCe4GdCOTKIAAYFBA+yw1XRXwcGPgxSmE1Daerfv78NhLwrY6FhMJyuXPhZZCjr/FzL0A6QL8pgtn4VEicf7r//fjuijHviyhGz2vR52gGkG0ZytR/yR1rZQiYYQHsvjbh3RlLfKcm9ssEsNm3elwdFnkF/Nnf0TDLMJz8s9/BlSy8XR1yZcVWmLlAoMKR8+OGHbsqUKRanUGUPfY5VZSgjxnCvdKLwlSfkJ1d/D30+Jz3nQ2EJwtVAeZYsWeI6d+5shmBCJuNUSLkq4n9ToeQshBBCVFSC9ixg0MIsF1b0XJZ8P9CsqHzxxRd2jOczPmAOxcsAeTCQJzATCBz9jAkDz/SNjJhVxPASB8WB3ZZRmlAUAFfGkpKtjqhHZrLSlYv02bt88pOrPeTC1wWDSeTBgJ3P3tW0NAnJc644zLjFyVSnHj8bnIlhw4aZR8LKlSujM1cSEicfGLRnmjWnbcQ39KMuKGd8YB/afvKFe6UT2ncKBfKgLKyvfuKJJ+w+a9euja6mkk2GoVCOOPFy+WdT+h4KGGpx4S8koc+xfMnV5nNRqOczUD8sYfFQVtrz559/Hp25DHUYN4h7g0wmSlouCM1PSH9Pej7n20+zPevIM28JydQ/M5HeroE2RHlefvllM3wRPvjgg+hqKknlgpA4ZUVpPQ+FEEKIikT1mjVr/ir6nMLEiRPNHXTXrl32/dNPP7WBTOPGjYtn1Lp162YD55tvvtkGXAyGuF6jRg1ba3ru3Dn7DWzYsMGOkJ52SBwGjdyLgSSDAwZ2DKD57t1Wk9IhT/fcc4+tFfx7uW2zJnb5btasWcq9kjh48KAN5uLhk08+sXwxs8CAARiEo4AxiGJDvFGjRpmrKxuVeRdmFCLi8VvCyJEjTYbE2bdvn8UJ5fvvv7eN15ihbdOmjaVHHcXTobycq1evng1W+czvqCsIzU/IvXJBXVA3vAEBuCeu2D4f8TpMIqT9QEiek+JwL9o358HXKa7h8ZlmoC2MGzfOVatWzdpMOr/85S8tj6tXr47OXElSHNzTH3jgAXfbbbfZhorfffedtbkOHTpccU8UIvopu9qnX2vatKn1MY60DZSmm266ye7L/T1J7ScE1izzzPC/5160MZRzf6+QvhNCiHxQlsjDww8/bO3muuuus1nM9PqEXDIMgXtRNi/n9HL5Z1THjh3tGcWzKVcby0VS2QnxZxgh03MsnzaWq80X4vmM/Fgrfscdd9jyGfKLMstv46DE/fjHPy5uRz/72c/M2BJvz/H88H9CW7vzzjutbtL/C3KVK+S/KSQ/kNTfQ5/PIf006VnHc+6uu+4yOVEWf99M9U69US76NfFIl/ZM3fCZtAj9+vWzt91Qp/FxQki5QuKE1IUn03+EJzSdXHIObatCCCFERSbYWOD//PizxvWO78wEMXhkgIVbIO53DAw4V716dfttiCIXEod3j7NREH/cwJ+vHzQwyIWQdPjDZvaafDIY+N3vfmeDl3ickuAHFQxcSAvwxsCAwnkG+zfeeKMN9p9++mm7Dsyoc42BMeHSpUvunXfecc8991wUIxwGIQxmSYcBN8dvv/22eNB/9OhR99VXX9m1++67z/KFDBho+QFMaH6S7hUCA0zWDD/11FOWFr8lMPOUz4AqpN4hJM9JcbgXg8Z///d/NyWK6/QH9vJgQBmH/oLSx299m/B4pZO2m37NExIHt1wGtvQ5YPBMnn70ox+lyANY/0882l96XmkDKEm49lL/9F/u+9Zbb0UxwtpPCAzyCfye9cs8SzAUxO8V0ndCCJEPA3rqkny899575jadTSnPJcMQ2PcFpQIFjXKhRNK/4uX6wx/+YMobipUvO8+V559/Pq975tM2PJmeY/mkk6vNF+L5jFGHuvL7bJBX8pWeD5RZ2jNtlfwgt/T2nJ4f2vFPfvITKxtvuYjLOle5Qv6bQvIT0t9Dns+h/TTpWefTwWhIHfh70obTjQXUG2lgMCAOHjre+EW5fXvH8Ef50scJIeUKiRNSF55M/xGekHSS5BzaVoUQQoiKTLWioqJL0edrEv7McWfE0OF34BZlA4NjdntnDSrKIm6dzLxwrKiwRhZQoK4G0sE9F+UzGyFxhKjKXEvPZ/V3IYQQQlQ0rjljAYNP/6ouXnnHrADKafz1UKLsYEdrZrMZJANrUq9WES9NCmEswCDCO8OZofOzeOmExBGiqnGtPp/V34UQQghREbnmjAUoe7iUAhs4sYEbLuQyFJQvfvMw3FcxGFRUCmEsEEJkRs9nIYQQQoiKwzW/DEEIIYQQQgghhBCpBL06UQghhBBCCCGEENcOMhYIIYQQQgghhBAiBRkLhBBCCCGEEEIIkYKMBUKIvJkxY0bxppRCCCGEEEKIqkelMhawS3YuBYWdtP1u9RWV7du32+sCKxOVMc8if5L6l6dPnz5u9OjR7tFHH43OCCGEEEIIIaoapW4sQLFYunSp27hxoymdHOfOnRtdzY8RI0a4OXPmRN9ERQbFk3pet25dVmMDiinX0kO6wspvffshvTFjxkRXfqBQca5lQvvX7t277X3wyFIIIYQQQghRNSl1Y8GECRNcrVq1TDlbtGiRO3z4sBs4cKCbNGlSFENURVA8e/Xq5c6fPx+dyc769eutbfhw4MCB6IqzdjJkyBC3Y8cOu8Z716dPn25GKE+h4ohwZs6c6ZYtWxZ9E0IIIYQQQlQ1qhUVFV2KPpcJKGcLFy50y5cvNwNCCMwIo+hlYtOmTW7x4sX22S9BOHPmjBkkYNu2bW7evHn2mRlrP3PKzOjBgwdtdrlOnTop8YB79u/f366dPXvWZlFXrFgRXU1Ni+sfffSRe/bZZ+2zh9n1X/ziF3a8cOGClRfjSTzPTZo0cZMnT3Y9evSwz55Vq1al3C+JkPwkyQdC8hwCvz927FhxvjL93l9Ded+8eXN0NhXu//XXX7vx48fbd2SEbDA6+fIWKk4otJnhw4e7Vq1a2Xfa0quvvmoz7p709vPaa69ZHjwhdRESB5LaKuTKc2j/So9H/U6dOjX69gOFKHuh+oUQQgghhBCiZFSvWbPmr6LPpQrKI8oKytq+ffvcCy+8EF1JhtnpI0eOuBo1ariWLVuacrlz504Le/fudefOnbN4w4YNc40aNXJ//etf3erVqy1+v379XLVq1cww8MUXX7g//vGPpjBdunTJ0vrtb3/rvvrqK1NaPvnkE3f8+PFipWjLli3u9ddfd99//72t0Sbe0aNH7V6kXb16dYsPKDVdunRxGzZssO+wYMECu9eaNWuszD179nTNmjWz3+zatcvi/PznP7d7ce73v/+9HQnc25crhJD8ePkQ791333Xfffedu/POO4vlAyF5DsHnvV27dq5v374Zf++vffvtt6537972GVmfOnUqiuFs9v/f/u3f7LcYmj744AOr04YNG7p/+Zd/KWicEFC6Setvf/ube+eddyyvyBl5e4UYLwbaCwYb5NyiRQs3YMCA4vYFIXUREiekrSblObR/+Xicp644H29fUKiyF6pfCCGEEEIIIUpGmWxwyAwys4nMUKNwoIDkAzOYzDx/9tln9p3PPnAtTt26dW2mmGt+xviGG26wI7OcnGfGHOMFs5QoS2vXrrXrXbt2tSNK1J49e2xGlfgcuQ8KkofvnCfgko0rPWn6WVA+E/wsL/dhJjed1q1b2xEl3afn75cPSfnxIJ+nnnrK4nEEL5/QPBcKjAXQtm1bkwNyx+sE5RbiSwTY/4BrKKPgZ8gLFScUDF60o2nTppkMmQ2fP3++ffdgeCIOs+5xOaM0x8lVF56kOCFtNSnPxOe3Sf3LxyNko1BlL1S/EEIIIYQQQpSMMjEWoFygLDz++OPu4sWLpsRjQCgNTp48GX1KxruNo4CQP5QRQMFmpttvuEdAiWbvBQ/fUTwxghCYgYfu3bvb8ZZbbrGjn02FuJu6Z+vWrXZEMScdZopJO1+S8uNBPihz4I+e0DwXCmaJUSrxNuGI8kqexo4da9fr169vxzhffvll9OkyhYoTCsYFZtfjskNG8e/EYWbdQ/tC7tdff3105jK56sKTFCekrYbkuVAUquyF6hdCCCGEEEKIklGmr05EQWHWG9j8riLDbC3u2PGAJwKgoC1ZssR17tzZnThxwgIb5pUElCEUZTwBMKSw1hvlyM+uh1DI/JQlKJLxmWKUxv379xd7Q8RnsJkNx6CDvABlEwoVJx9q164dfaoY5GqrnoqW5yQK0S+EEEIIIYQQJadMjQXgFcGrobRnGFFamQlFyYwHP8vObD2bt7388svF7tGsgY/D/gjgXe0h7g4fB4WZneUxpLBUA+Ju5EmE5CeEfPJcCJgFxxsiToMGDWyZiIe66NSpU/Ttcvth9jpuDClUnBAwLrDeP1c7Jg5LKzy0V+71+eefR2cKR1JbhZA8x7ma/lXIsl9tvxBCCCGEEEKUnFLf4HDGjBnu5ptvNoWhW7dubsqUKa5x48a2T0Dc3T0ENm8bNGiQeSW0adPGFAfSZCM+YOM0iG+6NnHiRLsPG9uhuLDG+4477jDXdDZdQ4GKb6jnGTp0qKVdr1694rxzfzZX4zfkgw3h/CaKt99+u20EyHfSY6O2e+65x/ZB+LuMXfv27S3N9M0CUZb95n6EkSNHmnzYRM6XK4mQ/JDvJPkQLyTPIbAnwAMPPOBuu+022zSPTexQ1jt06FC8iR3l5hwGAjYaHDVqlK15p+y84hCaNm1qBguO1AXt56abbrINLH37KVScEJDnXXfdZbLEqOLrLl4ulPcf//jHxeX72c9+Zmv04/dKqgsIiQO52iqE5BmS+hfyw3uFNLiGUYc3TPDdl6tQZS9EvxBCCCGEEEKUnFI3FjDIJzDgZx09CgyGgrfeeiuKEQ7KLDumo8Si0HJkJ31mUiFJCUFBRIn1a9jJE4psPD6wizy7yXOP++67z+KhJKGkkAcCSidKFcotiu7KlStN0SI9dnnnfhgj2KiN8/z+d7/7nSlof/rTn4qVInZ8Jw3KQuAtDexY/9xzz9n1EELzE6KkheQ5BFzIUS65P6DoUb4f/ehHxfdno0tmoZEv+b7xxhttH4Onn37argMyp2y4oROHslC2ePspVJwQfNvA0IBBxtebfxUncORetJ+OHTuaUp1+r5C6CImT1FbjcXLlGZL615NPPukefPBBuwfQj/hMoHxQqLIXol8IIYQQQgghSk61oqKiS9FnIYQQQgghhBBCiLLfs0AIIYQQQgghhBAVGxkLhBBCCCGEEEIIkYKMBUIIIYQQQgghhEhBxgIhhBBCCCGEEEKkIGOBEEIIIYQQQgghUpCxQAghhBBCCCGEECnIWCCEECIvxowZ41566SXXpEmT6IwQQgghhKhqVAhjAYNOQkVm+/btbvbs2dG3wnLrrbe6wYMHR99KTqHSEVWPkrSN0mzzonIzduxYd/HiRXf27NnoTNmi9iyEEEIIUfqUqrGAgRkDtGyhqiu2zLrNnTvXbdy40crLcdGiRVfMxo0YMcLNmTMn+lZyCpVOWfPKK6+YfJCNyI+ybmPXKv6ZxYw6IHO+V3QjZ2mADGhfmzZtis4UDrVnIYQQQoiKQ6kaCw4dOmQDSsKePXvsHEd/7uOPP7ZzVZXJkye7gQMHFg94d+zY4bp06eKGDRsWxRDMELZq1codO3bMtW3bNjorQlEbKzsuXLjgunfvbp9pq3yvKnjDbogB995773UnT550mzdvjs4UDrVnIYQQQoiKQ6kaCxhMLl682AIDUeDoz6EgxvGzdQQ+exjA+vNLly51kyZNKp55iscDBr3+2rp16yxunHhaXM80a4UCy4whcUgrPY1QWrdubWVctmxZsSyGDh3qVqxYYdf9AH3IkCH23eeLEHeXTcpzaDr8hu+kEY9T0vIVgkGDBpnStWrVKstfnz59oivOPmfKH+XnvJdBpvriGC97VaVQbSy0zfObbP0rtL4qKx9++KEZCSgHBi4U2ThJ/ZTPeNEQPMgdefJcqwxQx+R527Zt0ZnCovYshBBCCFFxqF6zZs1fRZ9LlXbt2rm+ffu6nTt3uuPHj0dnL8OsUaNGjdxf//pXt3r1alejRg3Xr18/V61aNXfw4EH3xRdfuD/+8Y82QL906ZJr2bKl++1vf+u++uorm4X65JNPLE0Gfgwit2zZ4l5//XX3/fffu9GjR1u8o0eP2r1Iu3r16sV56NGjh81cbdiwwb7DggUL7F5r1qxx+/btcz179nTNmjWz3+zatSuKlQzlvf3224vzl8758+fdkSNHLE+UiUEo8iHs3bvXnTt3zuIl5Tk0nZ///OcmH9L5/e9/b0cC8vJxypqf/vSn7j//8z/d//k//8f95Cc/cdddd12xjE+dOmXn6tatmzKLOWvWLKtP6hjS64u207x5cytbPvVVGSlUGwtp80n9K7S+KiMTJ060PtO+fXvXsGFD991337nPP//cNWjQoLgfJvVTjGLU06hRo1zTpk1Nrsid3yHb8vRUoB1RNtpFpnbkmTFjhqtVq5Z74oknojOFRe1ZCCGEEKLiUGHehsCAjDWoDMr8WtQbbrjBjmyixXkG08wYMQvNLNDatWvteteuXe3I4JxlDsxGEd97LzAA9fCd84SZM2e69evXW5p+lojPBGabmM3iPq+++qpdy5dnn33W3HUpD7OJ6TNU5IV8fvbZZ/adzz5wzZOU59B0mLUDBtI+PUI8TllC/qk7Zmzho48+cp06dbLPHhQD4viyMttXp04dMyJBpvqifVwrFKKNhbb5kP6VVF+VHdpq//79rZzpIAvfpzL1U9i9e7ctwUJJxSuK6y+//HK5bBQY94QgP0A78ufSIa+9e/d2+/fvj85cJp5OppAPas9CCCGEEBWHCmMsYIAYCgNuYGA3YMAAG+QBAzoGs/GBKoNGZsI8fGeQjosqgRkn8GuRb7nlFjvGZ7X8/fIFBWD8+PHFyuuECRNsABxXHkJIynMoW7dutSODZ9JhZo20ywvqDpjZgw8++MBmA+N5evvtt+3o495///1mNPJuyYWsr8pIIdpYqAxD+ldSfVV2MBagLB44cCA68wOh/ZTnFc87vKJw50dRLQ8oAzPzBL+nDAYOfy4dNhWkLn/zm99EZy4TTydTyAe1ZyGEEEKIikOFMRYUCga96YNVP/BkcLhkyRLXuXNnd+LECQunT5+2a6UJA0sGwOQFZfixxx6LriRTyDxjJJg6daopBLz2jBlSlBq/w3tZ45UolBAMF8gGmL3zMMhHgfBxkcPhw4fts/iBq2lj+ZCrf0FVry/W0qM4piuf+fZTFM7yhnrys/J+ph4F25+LQ/l4XlCX/C5OPJ1MoSSoPQshhBBClD9VyljAoO7666+/YrDqB/YM+JgVxO2X2T0Cs9lx2B8B2GPBE1derwbywowiecxEpln+kDynkykdD94YKDy4STNrB3G327KE9dyACzSBmVZgzXIcXIGJS7lQWuKzuqVZX5WRkrSxUBkm9S9PrvqqquTTT71HD14FtHnc+Cs67CtD+VauXBmdKRvUnoUQQgghyo8Ks8EhxDcZZEMx4rEZFYM01pfecccdrn79+rb5FYM2NqBKh52zu3Xr5urVq2czUnxm4yo2vuI37L7P5lgENsJDMWXjK76THmtR77nnHlun+nfZ2KZfpFmSDQ6ZtWcNPnmh/GxsRjnefffdlHTIH/nq1auXa9OmjcmJfLMxV0ie/aZeudIBXKRxu+U8YeTIka5x48ZWJz5OWcHgHQPB8uXL3f/8n//TlBACG7+Rt7hS8umnn7p//Md/NBmisPzyl7+MrlzeBLFQ9VUZKUQby0eGufqXJ1d9VVbizyMPMvQbHIb2U9o93j3sW/D0009bf7zrrrvMBb48vQ2oTzaYjW8SGIc6pPxsQFuaqD0LIYQQQlQcKoWxYMqUKbbRFYYCIB12wo7HB3aoZidrBon33XefxcNt1A8gCSijDDCZ0WNXc5RSBp2kx07m3A9jBJsBcp7f/+53v3MdOnRwf/rTn1IGmkn4+z/wwAP2mVmsd955x2Yd45Av3vzAoJa8c/z2229tlis0z0npgJ+95zyBN0uQn+eee86ulyXUKTLGUBDHKwHxN1gwcGfwz2vrmNXzexx4MtUXilq6YlAVKUQbg5A2n9S/PEn1VRlJMhaE9NP/9//+nymazHz/j//xPywN0hw+fLjJ0ddFeeDLlslQwDIlll5QHuKVJmrPQgghhBAVh2pFRUWXos9CVAkwLLHEgrXH2ohMiKuD2X5m1NlDQAghhBBCXDvIWCAqPRgH/Gs2W7RoYTOFrEeeNm2aHYUQJYPlFZMnT3aHDh0qV88HIYQQQghR9shYICo9zHz6jc7YDI1d6HlfuwwFQgghhBBCCFEyZCwQQgghhBBCCCFEClXq1YlCCCGEEEIIIYS4emQsEEIIIYQQQgghRAoyFgghhBBCCCGEECIFGQuEEEIIIYQQQgiRwjVpLGDn/MGDB0ffhBBCCCGEEEIIEafSvA2B1+PB1KlT7Xg1zJ492w0ZMsQNGDAgOiM8GFHmzJkTffuBRYsWpbxnHRn6d6/736THAQwzDz30kGvbtq1r1aqVGzNmTF6vNOQ974899pjr0qWLq1Onjrtw4YLbu3evmzdvXhTjMuSnf//+Fof0X3vtNbdu3broasWjT58+bty4ca5r1672PVOeQ+oiVD5JhKSTKc6OHTvc4sWLoxiVE99GO3fubGXctGlTicqUT11cbb+oqOQqV0ibTyJbn/AsX77c0kuqC67Pnz/f8ks+lixZ4nbv3m3XhBBCCCHEZarXrFnzV9HnCs2wYcPsuGHDBjteDX379nXt27d3K1eujM4IT7t27Uw+69evd2+99ZbbuXOnhQMHDtiAGxj0Y7T55JNP3L59+4p/Q7zjx49bHJg0aZJ78sknXevWrd2ZM2fcu+++606ePOnOnTsXxUiGQXyHDh1MAUBB/uabb9x9993nmjZt6nbt2mVxuM/o0aPdli1b3Ouvv+6aNWvmhg8f7j744AN36tQpi1PR+PWvf+0uXbrk3njjDSuXz/OePXuK5RNSFyHyCSEknYULF7oePXq4NWvWFMfB6FZUVGTtoLIyZcoUd9ddd1l7bty4sbXhfGTnCa2LQvSLikhSuULafBK+Txw7dszSp64IN954o/v888/dr351+e8sqS4mT55sbZk8NWjQwN1///0WVwghhBBC/ECVWobArNP27dstMPBjBpYZJA+zz1xDwQEfl8C1OHzfuHFjcVoMhOPg6UCYO3ducRp8ToeZtVdeeaU4ztKlS03ZBtLknP/uId+cj+e9rGEAziDbh/isJ7NxEDcMpENdTJgwwbwPkAHGBWZrGeSHQvm5FzOCK1assHyQBgpIp06doljODR061M5xjTgLFiwwZXrEiBF23bcLX1fUgf8crzPuR71T31zzIb3uC8GsWbPc+PHji8v14osv2vlBgwbZMU62ugiVTxKh6dSqVcvqLx4HMLxBRZRzCG+++aa1IZTYkhIqw5B+UdHkE0JIufJp80mcOHHC0idQf3gPHDlyxK6F1EXdunXtOzLGAMdvgN+l/xcIIYQQQlyrVCljwccff2wuxITTp0+73r17m6uph0ElijgzWcBnH7jmYbCIQQEXa67t37/fBsIMguM0atTINW/e3O7HoHjgwIEpA3riT58+3dWuXdvibNu2zRQrBs2Al0RcqfXgwsugO66glzW9evUyORDSjRm4FwOD8GwgP8qG4t69e3dTJhiI5wO/A2YF45CuzwMw0H///fftM3lFbigCLVq0sHOehg0bWj3gBs11X2ceZhvJN23HtyNCabgnx5UoYHYzG9nqIlQ+SYSmw2yxdy1H5jNmzLDzKFtxKpKcQ0ivi5IQKsOQflHR5BNCSLnyafPZ8M94no8eb2x4++237RhSF3/+858tfxix8G4gb7RnPBLIlzceCCGEEEJcy1QpYwEDPj/bNHPmTHPfZkDoB35cR8H97LPP7DuffYgPZHFPxaBAOlzjyHXcX+MwO/XUU0/ZdY5www032BEYhKK4Tps2zeKwXhbjBd+Ba4cPH7Z1tR6UQfJ78ODB6EzZgpsvYLDAnRhZ4H4eN5RgIEEJzAWK4ocffuieffZZW2NMwBMj3eCSC2TPAJ98+DpEPnHlK648M/Anr95gE48HKF9eyWDGkdnJONwHUHioLx/ibaO0uPvuu+3IUgpPUl2EyCeE0HRov3jbIF9mZJmN92vE41RkOZcWoTIM6ReVUT4l6e+Z2nwSyABZIG9Pz5497VnqjSkhdUG7xOjAs4y4eCbQnjlP3svTUCuEEEIIUVGoUsYCP1PklwgwiAQ/0xQKA0y8EuIuwKSNG3YcFGY/qMw0uGRwimts/BoD2vh30mag6hVcP4AuxN4MJYGBOy7EuAtzxLBBfseOHRvFuCxnFMIkmKF75plnbCNJlIb0dEJAEeV+3iX7kUceKZ6thvr169sxzpdffhl9yo+tW7fakXvRfpjJ596lDYoMmzPieRJXCEPqIkk+oYSkQxtlbwjcu1G0MHRxjlnkfCgvOZc2oXWR1C8qq3zy6e/Z2ny+eCMAXmBxQuoCowPPZ29EwNhx7733Fj+LhRBCCCGudaqMsQAFHxdSdjRnJpMQotBmA8+C+DIFwqpVq6Kr4bAEIRfMgjGovv322+07a2rLcwkCg+n4gJp8sAwjPkPnQUkk+Blwjj4esDTAp5WeTijM9KEo+zpAGUEJwCUe4jOMzHyjqKAgAMpBPvA77oVHysWLF02ZQVnLNTt6tSA/vFLY4C191/ykuoAk+YSSlA73ZCkOyh35RNFiBhYFiw0C86E85FwWhNZFUr+orPIJ7e+52ny+sDEhpHsnhLRnZOq9CQBjB9czLTkTQgghhLgWqTLGArwHmKF/+eWXi9122Q0/FwweM8FA9/rrrzdFNB7yXTOMssoSg0wD5jjMiuHGyyCaWa7yWoIAzMLhnRGHQTSuuuBlhueFdzdmthk4xr04+F2ceDrpUPZsoIAgf9YrP/HEE5bG2rVro6uX6yu+iRzyRo4lMRZxr2XLltkyFpQGSF9+UgjIIzPGyI+ZerwH0kmqC0+SfOKUVM7eIJS+Dvzrr7+25Tj5UlZyLg2upq1CSL+ojPJJKldIm4+TS84ejMOZvDcgV13wzPCGAYwzPC94ywfGC37Xpk0biyeEEEIIcS1TqV6dyIaCDOIYNMcDr8JiIMpGVzVq1LDQr18/m63n9Vx85xV6/vVc33//vcVl4zifXrdu3VJe/8aME+fq1atnA0k+8zufRqZXOU6cONF2rvevSeO+vJKNuChbKNjci1d6xQ0Cf/nLXywO98Gt/umnn75CeSgryCOKNwN9NqobNWqUbU7HJnYYNcg3r5yMB145R7mYwWNwDhgVSItXlSHD9HTi8Dvev16tWrUrDCWkw8z1ww8/bPK97rrrbHAfn0nkHng8+HsR/6abbnKrV6+2+kD25I/Pn376qX0m3xzjr9BEMfd1RBg5cqS9So88F/rVgMwad+zY0RQdlBZ/T4JvP0l1ASHy8VyNnOk/99xzj+X5788M61c+P7zKkXgVUc4h4Hb+wAMPuNtuu821bNnSfffddyb39H4KV9tWQ/pFRZNPCCHlCmnznlxy9jD7jycRb7EoSV2QL/+cZbkEXmD0NdI8evRohZW1EEIIIURZUak8CzAIsOt2egBm/VlHzUw+M1cMVF999VW7xiA2/sYB4volBT4N//o3YFDJxm0MHHmbAemhUPA9H3w6GBjITzy/cZjJYukBxoLyXIIAuAezFh1jCeXGBRq55usuzEZnLOXg96TD5nzZ0kERBe8iHOeWW24plhku8LxJwrsNe5iBJW1/L96CgNy94SIUlAVfRwSMU6RL+oUGLxigzuP3JHhC6iJEPp6rlTOu3Cw7QEnz+SEudZ0PZSnnEDAakg+eE4CiyXfOp3O1MgzpFxVNPiGElCukzXtyydnjvZgy7e+ST7+A559/3jYS5XlPn6vIshZCCCGEKCuqFRUVXYo+i3IEYwQusfHZeSGEEEIIIYQQojyQsaAcYU0uLq/MhDPbxswcs3JCCCGEEEIIIUR5UqVenVjZYFNDlk2wbpZlETIUCCGEEEIIIYSoCMizQAghhBBCCCGEECnIs0AIIYQQQgghhBApyFgghBBCCCGEEEKIFGQsEEIIIYQQQgghRAoyFgTCu+Vfeukl16RJk+iMEEIIIYQQQghRNZGxIJCxY8e6ixcvurNnz0ZnhBCi8GCUJAghhBBCCFGeVJq3IWzfvj36dBleN3j48GH37LPPlroCj1fB9OnT3aJFi9zmzZvtHB4G06ZNc7169XJ16tQp0/yUJrfeeqt76KGHXOfOna2MmzZtcosXL46uXobzjz32mL320Zd97969bt68eVGMy8yePdv179/f4iCT1157za1bty66GkbIvfr06ePGjRvn2rdvnzM/FYkQOfty8YpNyCTD0LpIIlM6O3bsSMlTSJ4rI4UsV642P3jw4JyvR12+fLnF9YaCqVOn2rGiE1quQsg55F5//etfE+PwfzJ//nzLE/W0ZMkSt3v37iiGEEIIIYSASuVZcOzYMRtgElDMe/fubQpOaXPvvfe6kydPFhsKYPLkyW7gwIFu48aNZkRAsULRGjZsWBSjcjJixAgzgJw/fz46cyUMsikrCoAvO7JAUfJMmjTJDRkyxK4R5/Tp02ZwQQHOh5B7TZgwwdWqVas4Dm2DOOShohIi56eeeso1aNDArVq1KkWGKDieEPmE8OSTT1p/iqdD/c2YMSOKEZbnykihyhXa5uPPMQKGGRRWZF+ZSSpXIdtPiAxzxcFo0apVKzMcUE+zZs2KfiWEEEIIITyVylhw4sQJm4kiMHO0Z88eU3DioCShwDNzxKAwXWFkRouZO64Tj+scsylXDPRRzrZt2xaduUzr1q1tMLps2TIzIpCnoUOHuhUrVkQxLpOUH8Bz4ZVXXrE4hKVLl+atVBeKN99808rxxhtvRGdSQX7Ig9lryurLjjGlU6dOUSxnaXCOa8RZsGCBDdZRGEIJvRczsAQfhzLAl19+aceKSJKcAQVm/PjxxeV68cUX7fygQYPsGCqfEDC20J7j6QDeGp6QPFdGClWu0DYff45xb7wQjhw5El3NDM+Hir40IalchWw/ITLMFadu3bpWVzyTd+7caX0J6E/5GtqEEEIIIaoqVWrPAgZ58Zm9/fv326wzyriHmVhmlJitff755+0zg8hsMNBnNgolKs7nn39uA0vcYrMRkh+/xKF27do2+4VRAgWtvGa6UBhz0b17dzt+8803dvSgFCFLD4Pv999/3z5j+ECGDM5btGhh50IIvZeH+sAYg+yQY3yWsaKRJGdIj4OXQZx85ZOLM2fO2G9oj9Sd9yhAkfKE5LkyUqhyJbX5jz/+2Pr4oUOH7Dt4w8/bb79tx0yQLnVDHVVEQstVCDmH3Cskzp///Gd7XsydO9cNHz7c8kabZzkC/cwbD4QQQgghrmUqlbGA2XwUcALKN14FeBd4evToYd+ZSfKzowwC+/bta9cZHBJQ3v0M6gsvvGDXMkFc7oGSnw57E6AI4OHArF8mj4Gk/AADVZQK9j/gOmvNMWjwvSJCOVBGqQs/oEYxiiunca8IBuMLFy4slk8+SmzIvTwYbZh5xRiDmzOz7VWNu+++245btmyxYz7ySYJ25z1tMLIwA+zXmotkQto8fd8/Czw9e/a0/p9rvbx/FlTUNl3ScpWEkHuFxOH5j0GhefPm1ocwGNPmOc8znbhCCCGEENc6lcpYgPLOTD0BJZ6ZI5R2DwoT5707P4Hf4GINt9xyix3jM065BoV4FTCQ/M1vfhOd+QF+h4s4HgqAkorRID4jlZQfQJHANTaeDwa0FXmwigJJOThSpkceecQMJwzSoX79+naMU9IlAUn38qAYDBgwwD3++OP21goG/Lm8PiobKKNsnIfHRLzsofJJAsV29OjRppCiRLHvA+eqkgxLk5K0eW/YwXiZTqNGjcwoigGMPSgwOsaV34pMrnIVmpB7ZYuDQYFnL9fgww8/tP1pvJFHCCGEEOJap1IZC1BiUAhxlUaJ//rrr69QqhlU43UQD16hzwcUfZQzlKZcijszURgNuA+DzvQNF0PywxKEygRlZo8AX55nnnnGFFbvJh1Xapixps5QZgFFNh+S7pUOhpaZM2faZzZTqwqgsLPZ4blz5654y0G+8skEbR1jF4YI0keJwtiC8jRlypQolshFSdr8/fffb0fvKRKHOsEoSl0ChqDKQq5yFZqQe2WKg3wxxHhvAmD5Af0mfamYEEIIIcS1SqXcswDlnRlQZu39YBo4f/3119vAPR686+kXX3xhx3bt2tkxF7zVANfUlStXRmdyw31QCri/Jyk/wG/YzZ7Ba2WCmWvKwvrgJ554wow3a9euja5eLnt8kz3KhzGFncczkWsGO+le6VQ2WWaDcjC7jOJOe8colYl85JNJzr4/pO99gDGOjeBEKtnaar5tnlcIZvMC4VzcMFqZjDa5ypUPIV4tIffKFIe68oYBjDrU05o1a8zQQ7w2bdpEMYUQQgghrl2q16xZ81fR5wrNxIkT3fHjx92uXbvs+6effmoKfePGjVNmjJgp6tatm6tXr54NAPn8/fff26zsqVOnzMDAXgJ/L7dr1qyZ++lPf2prvuNpwy9/+Us7t3r16uhMKsxKoRhwH5StUaNGWbrvvvtuSjq58gM1atRwd911l5WFdMgfexp06NDBHTx40OKUJbjgPvDAA+62225zLVu2dN99952VM54fDDQoLw8//LDVy3XXXWcD7ng9NG3a1Nx/OVJ24t90000mT+QahxnxcePGuWrVql1R5pB7sTHZzTffXCxf4tMuUJjT71VRCJHz+vXrXceOHU3RQbGhXfjg21iIfDzZ5Ey/uOeee+xevl/QnnF/P3DgQHFaIXmujORTrlxtNZ82jxEAYwBvBkhPx79+dcOGDWYoYMb7zjvvtHTjz5aKSK5yFUrOnlz38uSKw7IE5Atjx441Dy9kTfyjR4+6ffv22TUhhBBCiGuVSvs2BGZ/cPGPexegJLEpGwM+3jDAjCwDVL57cOdG+WJG6dFHH7XP6TDAZFaQZQ/Z4G0IGAe4B4HPxMeF2xOSHx8H4wHKmd+TobzAdd/vCQHIlu9xl372fvB5xHWdtw94V14Pr5REHizloNzsCE85mQFPB2UVMrnOh9wLxcPLlyNku1dFIUTO/i0dGEG4Fg+eEPl4csmZ5QssO6DtI0e/P0J8T5CQPFdG8ilXLhnm0+b9mywwCCRBusyEk25F95rJVa5CydkTIsNQOfNmnLZt29rzg6VnyFwIIYQQ4lqnWlFR0aXo8zUL64Hjij5eAyhq2dy+hRBCCCGEEEKIqkyl9SwoLZi5O3HihK1fFUIIIYQQQgghrkVkLEgDd9/0d3QLIYQQQgghhBDXElqGIIQQQgghhBBCiBTkWSCEEEIIIYQQQogUZCwQQgghhBBCCCFECjIWCCGEEEIIIYQQIoXqNWvW/FX0WVQCZsyY4Ro2bOiOHz8enSlflB8hhBBCCCGEqHpUKs+CW2+91Q0ePDj6du3Rp08fN3r0aPfoo49GZ/KnkDLMlZ+XXnrJQiEIzXMh5COEEEIIIYQQogyMBYVUGkeMGOHmzJkTfasabN++PSUsXbo0q2K8e/dud+jQIbdx48boTP4UUoaFyE8IoXkuq/wIIYQQQgghRFVHexZUAI4dO+Y2bdrktm3b5tq3b2+K8ZgxY6KrqcycOdMtW7Ys+lb+KD9CCCGEEEIIUfWoVlRUdCn6XCp4r4KpU6faMRPMpPuZ47Nnz7qPPvrIPfvss/YZZs+e7YYMGWKf00HJXrx4cfTtctz+/fu7OnXq2O+ZZV6xYkV09Yf8nDlzxg0cONA+o6TPmzfPPntQ1ocPH+5atWpl35mxfvXVV232etKkSW7ChAnu8ccft++eRYsWud69e9tvfd6TwJsgXoYmTZq4F154wT57g0F6+TEupMuT302ePNn16NHDPntWrVpl5Q+RYbweKO/BgwctD8gyLqOQ/KTL+cKFC+7w4cMp9UrZ47/190eOmzdvDq73kPwA8eJt47XXXnPr1q2Lroa3DSGEEEIIIYSo6pT6BofDhg2z44YNG+yYiRo1arjq1asXb0qHwtulS5fi35w/f94dOXLE4rVs2dKUyZ07d1rYu3evO3funMXzSuOWLVvc66+/7r7//ntbw/7VV1+5o0ePWhzy06hRI7vfu+++67777jt35513umrVqplyDCjI06dPd3/729/cO++8406dOmX5IV8ol//xH/9h6TRo0MDu5fnnf/5nKwP3DmXixIn2m127dtl3lOqmTZtanj744AO7ty8/5e3bt6+VN12eP//5z63spPX73//ejgTyR/wQGX7xxRfuj3/8oxlILl26ZPF++9vfmvxQnj/55BNLMyQ/Xs7/9V//5VauXGm/uf/++y1tLzPKHv9tu3btLD3Sjd8nqd5D8oOBh7aAIYp6b9GihRswYEBxmSCkbQghhBBCCCHEtUCFWIbATDCzxATcyNevX2+b2vkZcq4z0/zZZ5/Zdz77wDUPyvyePXssHa5x5DoKZJy6deu6p556yq5zhBtuuMGOgEcBM8/Tpk2zOMwsz58/374D15glx4DgYXM98lsIpdIrr/Xr17ejLz8hG61bt7bjggULLM8+ePmEyJBy8R2DBfLHKwHjyNq1a+16165d7RiSHw/1STyWBlA3cZklEZJnCMkPxg7Kh8dBvN4xGMRJahtCCCGEEEIIcS1QIYwFKKZz5841N3BCz5497Xz37t3tGArKOssA4hsGknatWrWiGJc5efKkKY7gj3GY/WamOn6N5Qbx76SNOzsz1nD33XfbMX1Gu6zYunWrHVHukSFeFpT9avBLLFDGUapRoPOBGf84KP3IrDygTvEq8FAm2sH1118fnblMUtsQQgghhBBCiGuBcjcWoOAvWbLEde7c2Z04ccLC6dOno6v5w+w17urxwAx5vtSuXTv6lBlmsVEmb7/9dvveqVMnW+dfCAWzefPm0adwMBIwa45XxsWLF21tPkYDv+9BReBHP/pR9EkIIYQQQgghREWm3I0FeA8w2/zyyy8Xu86zVj8X2WbMUdSZKfYu6T7ENyEMgdll3OXjGwVmYseOHeaaz8Z8zFwXYgkC9xw6dKgtBSDv+cBsOe7+uP6zASOkL8HwXK3XQb5Qrl69eplBJRvsWZCLq8kzddq2bdvo2+W0qLPPP/88OiOEEEIIIYQQwlMmGxyyaVybNm1McY0HNvVDiRw0aJBtYkfo16+fzdY3a9bMvrPBn9/Ijg0LiYvS6dPr1q2b27dvn10HFG3O1atXz5RBPvM7nwb5gfhygfRNBrnvXXfdZXFRYFnawL06dOiQYhD4y1/+YnG4D/sLPP3006bk5wP3ZiM9PBMo24wZM8zgsWbNmuJ7sR8Cnhd+A0Du8fXXX9t3v78Byzh8PgkjR450jRs3tk3/4vLJJUMUaPZ9uOOOO6w8bP5H/VAHcULyg1wwAnGeOmXzR74jI18X3Jd0br75ZlvmgDJPnvOt95D8INMf//jHJiNk/bOf/cz2J1i9enVKniFX2xBCCCGEEEKIa4EyeXVithlhv7lc/JV2zAC/+OKLbuHChXYt/dWI7BGAQcDP+jNTzUy6B7f7+CsPURzZnNB7F5AfiL9aj/0H0u+Tng741xDGWbp0qXkXpOcjFO4dh3TIS9yrIESGLLdAEfbgZbF///6M+wxkk2H6KwgBb4X01xCG5CcehzpgQ0jeikB6HpR8PCCIx3nkW5J6D8kPhL46MaltCCGEEEIIIURVp9SNBVUdlFgUXpT1fJcNCCGEEEIIIYQQFREZC0oAexQwY827+vE8YFPFOXPmRFeFEEIIIYQQQojKTYV4dWJlg2UHbICIez2u8zIUCCGEEEIIIYSoSsizQAghhBBCCCGEECnIs0AIIYQQQgghhBApyFgghBBCCCGEEEKIFGQsEEIIIYQQQgghRAoyFgghhBBCCCGEECIFGQuEEEIIIYQQQgiRQpV6G8LgwYMzvsZw0aJFbvPmzdE352bPnu369+/v6tSp486ePetee+01t27dOrvWpEkTN3/+fHfrrbfatSVLlrjdu3fbtdIgJM99+vRx48aNc+3bt7c888rGvXv3unnz5tl1IN+PPfaYvdLRx9mxY4dbvHhxFCOMkPwU6l5CCCGEEEIIISom1WvWrPmr6HOlp127dq5v375u/fr17q233nI7d+60cODAAVNoYdKkSW706NFuy5Yt7vXXX3fNmjVzw4cPdx988IE7deqUmzx5suvRo4f79a9/7Ro0aODuv//+YkNCaRCS5yeffNLVqFHDvf3226aw165d2/Xr189Vq1bNHTx40OIsXLjQ8r1mzRqL880337ghQ4a4oqIit2/fPosTQkh+CnUvIYQQQgghhBAVkyq5DOH48eOmxPqAh4Bn6NCh7uTJkzYLzrUFCxaYEjxixAi7XrduXbuOgQAlmVl0wNMAj4TSIleep06damHFihV27c0337TzX375pR2hVq1a7tixY8Vx/Cw/3gglIVd+ku6Fd8L27dvd3Llz7bh06dLizxw9yBaZImuu+YBBRwghhBBCCCFE+VEljQW9evUyJZSAC38cFNT333/fPnMNJRjjQIsWLezcn//8ZzMMoNTicYBSPGPGDFuOgKeBNx4Umlx59pAvFOlZs2a5bdu2pXg8nDlzxrVq1cqNGTPG8kieAYNHSciVn9B7NWzY0G3atMl17drVZIwsBw4cGF115sWBR8Lp06ctng+luexDCCGEEEIIIUQyVWoZAjPaHTt2dNWrVzeXeFzq/9t/+2/uq6++ckePHjWld9CgQTZrzvG///f/bq78LVu2dG3btnUrV640t/6mTZu6m266yX377be2Jh9ll1n0559/vtgVv1Ak5dlDPPYNuP32292///u/u61bt1o5POwZgDFj7Nix7qc//am75ZZbbClFvksoQvKTdC+/lOH3v/+9O3TokH3+xS9+4Tp16mTeB8gZHn74Yde4cWP385//3JZY7Nq1y8K5c+fsuhBCCCGEEEKI8qFKeRawDwHu+uPHj7fjtGnTzHMApRbq169vxzhxV34PbvVHjhyx2XP48MMP3b333lsq7vFJefbg7j9gwAD3+OOPu4sXL9omhCj2Hr8XAxsfMjt/+PBhOxePE0JIfgp1LwwegJHhpZdeMi8GvCeEEEIIIYQQQpQvVcpYgJs7wYOSu3///uKlAyjcHt4kgPLtZ8NxkwfioriytwHeBMAsOq73EyZMMNf7QpKU53Rw0Z85c6Z9ZqkAEJe8sTSBcmHswJiAkWPKlCkWJ5Sk/BTyXsgegwSbKWIA4Q0VyL7QMhZCCCGEEEIIkR9VyliQvoEeoOjHlw6g/OIO70H5xYOAdfPAdW8YQJnlGrv+oxijRLdp08biFYqQPKeTbkjA7R94K0Gcr7/+2jZszEQ2L4Ck/JTkXrlApsuWLTMDCDIHli0IIYQQQgghhCg/qtSeBb179zZDAMotm+uNGjXKNtRj4z3W2QP7EbB3Acd69erZbDj7E6xevbp4DwDieuUY93teVUiaeCKwbr+QrwcMyTMbCN58881muOjWrZvlmbX+a9eutTzzysd77rnH9hr4e33a6yB9OrzykKUFcdj7YNy4cSmvXvQk5SfkXn7PAvL26aef2mf2KeAY37MAowT34zxh5MiRVi7upVcwCiGEEEIIIUT5UaWMBayhZ6NCFE+U1xtvvNGU16effjqK4UwJxVCAyztx2MgP5fWtt96KYqRy/vx5268AQwHK8DPPPBNdKQwheUaJJhCnZ8+etgEghoJ4nv/whz+Y10O/fv2K00HpzrQpI/sCoOyzLCO+SSKE5CfpXqHGAt6EwO85R7h06ZJ755133HPPPWfXhRBCCCGEEEKUD9WKioouRZ+FEEIIIYQQQgghqtaeBUIIIYQQQgghhLh6ZCwQQgghhBBCCCFECjIWCCGEEEIIIYQQIgUZC4QQQgghhBBCCJGCjAVCCCGEEEIIIYRIQcYCIYQQQgghhBBCpCBjgRBCCCGEEEIIIVKQsUAIIYQQQgghhBApVCsqKroUfa7UDB482M2ZMyf6diXLly9369atyxpv0aJFbvPmza5JkyZu/vz57tZbb3Vnz551S5Yscbt3745iFZbQPMPs2bPdoUOHLI/+dz7P0KdPHzdu3DjXtWtX+07eX3vtteLfhxKaTlJ+hBBCCCGEEEJUXqqcZ8GxY8fcpk2bisOFCxdM4U1XdtevX2/KrQ8HDhyw8w899JBr1aqVKeqnT592s2bNsvOlSVKeUeCHDBni2rVrZ98z8dRTT7kGDRq4VatWWXnI+/Tp083okQ8h6YTkRwghhBBCCCFE5aXKGQtOnDjhFi9ebOHNN990derUcUeOHImu/sDx48dtFtwHlHOoW7euO3nypCnqO3fuNE8DQFlmNr00SMqzV9TJczYwaowfP96tWLHCyvPiiy/a+UGDBtkxlJB0kvKDp8H27dvd3Llz7bh06dLizxw9yBaZImuu+TBp0qQohhBCCCGEEEKI8qDKGAs+/vhjm5XHNd7jFdy3337bjnF69epliiqBmXLPn//8Z1OGUWqHDx9us/4zZsyw5QjMuHvjQSEIzTOeDoDyng3yGYe8loSQdELyAw0bNrTysaQBAwxpDxw4MLrq3OTJk81DAe8F71VBKK1lH0IIIYQQQgghwqgyxgIUUWbm4wpsz549zWMgrnx61/m2bdu61q1bux49eriFCxe6MWPG2Hlm1FFYmzdvbssBmOUfOnSonWddvvdAKASheSYvKNv5cPfdd9txy5YtdiwpmdIJzQ9GAG8IQX54UMRB/rBgwYJizwpCusFCCCGEEEIIIUTZUmXfhoC3ADPgO3bsiM5cBqV36tSp5mrPcdq0aaacjx07NorhTGFlGYCfQf/www/dvffeW+ru8dnyjKcDincopNO/f3+3bdu2q1K8s6WTb36ysXXrVjuyDOGll14yLw+/xEEIIYQQQgghRPlRZY0F999/vx3TZ9ZReuOKL4aC/fv3Fy8v4Iji6r0JAFf8M2fOuAkTJhR7IJQGmfIcXyLBXgAE7x3BMX1ZBNfZpPDcuXNu3rx50dn8yZZOvvnJBUYCDDZsNnnx4kUzTCD70pSxEEIIIYQQQohkqqyxoHPnzsXr5OOkb7IHGANYcgAYD7xhAGWWmf41a9aYwkxabdq0sXilQaY8+5n23r172zIIwujRo+0cx+7du9tnlHRm5rm+d+9e85zIBUp+JpLSCc1PKJR12bJlbubMmSZz6Nu3rx2FEEIIIYQQQpQP1YqKii5Fn6sMzEzzuj9e/+e9AzzMXGMA2Lhxo+3mz+Z7bLKHq32mmXjiHT582F6tyDIEvqPcFppceU4HRR8lnVcb+v0OyBf7K2BseP/99+2ch2UVcfgdyn6me+WTjic9P/47ez+wZwGfBwwYYEYIZM1nwGjzzTff2GdgDwOMEXgalIaMhRBCCCGEEEKEUSU9C/zs9oYNG+wYB9d6lH+WGaDE4vqOUpvNZf/555+3zRBR5PldaSmxufIcAgo+YAhBIY+HdE6dOmVHPCjSySedq6V27dop6Tdq1MjqQoYCIYQQQgghhChfqqRngRBCCCGEEEIIIUpOld2zQAghhBBCCCGEECVDxgIhhBBCCCGEEEKkIGOBEEIIIYQQQgghUpCxQAghhBBCCCGEECnIWCCEEEIIIYQQQogUZCwQQgghhBBCCCFECjIWCCGEEEIIIYQQIgUZC4QQQgghhBBCCJFCtaKiokvR50pPkyZN3GOPPea6dOni6tSp4y5cuOD27t3r5s2bF8W4zOzZs13//v0tztmzZ91rr73m1q1bZ9dIY/78+e7WW2+1a0uWLHG7d++2a6VBpjzv2LHDLV68OIrh3ODBg92cOXOibz+waNEit3nzZvsckk4IITLs06ePGzdunGvfvn1OOQshhBBCCCGEqJxUr1mz5q+iz5UeFPsOHTqY4o8S/c0337j77rvPNW3a1O3atcviTJo0yY0ePdpt2bLFvf76665Zs2Zu+PDh7oMPPnCnTp1ykydPdj169HC//vWvXYMGDdz9999fbEgoDRYuXGj3W7NmTXGehwwZ4oqKity+ffssTrt27Vzfvn3d+vXr3VtvveV27txp4cCBA6aoQ0g6IYTI8Mknn3Q1atRwb7/9tsWpXbu269evn6tWrZo7ePCgxRFCCCGEEEIIUXmpMssQmBHHG4AZ7hUrVpgSy6z6yZMnXadOnaJYzg0dOtTOcY04CxYsMIV7xIgRdr1u3bp2HWUZhZx0gbTxSCg0tWrVcseOHUvJMzBrn87x48ctjg94PnjySScboTKcOnWqBR/nzTfftPNffvmlHfGE2L59u5s7d64dly5dWvyZo4f7IVNkzTUfMOgIIYQQQgghhCg/qoyxoHv37nZkJjwOhoBWrVpF3y4rqO+//759xp0ehRtluEWLFnbuz3/+synMKLV4HKCAz5gxw2bc8TTwxoNCcebMGcvfmDFjLG3uBRgq0unVq5cp1wTyHiefdLIRKkMPckKxnzVrltu2bdsVHhgNGzZ0mzZtcl27djUZI8uBAwdGV515ceD9cPr0aYvnQ2ku+xBCCCGEEEIIkUyVMRYww41S27p162KFHoU6ruTGFWyMAbju+1lsH4/ZchTW5s2bW3qsyccbgfPsGxCfzS8ErPPfuHGj5QNlm3stX748RfFmGQK0bdvWysdyA/KOYcATkk4SITL04D3w0ksvuQkTJrjz58+bN0I6GAEOHTpkn5HfiRMn7LOH+wDeHXgw+IBRQQghhBBCCCFE+VGl3oaAYsxsN0fc2R955JHiGW2oX7++HeN41/k4KKxHjhwpVpI//PBDd++995aKezxpsocCyjZGisOHD9s5lHEP+yvg9j9+/Hg7Tps2zYwWY8eOjWKEpRNCkgw9GBYGDBjgHn/8cXfx4kUzpOR7r61bt9qRe2F4wGOCewshhBBCCCGEKF+qlLGA2WuUad4SQHjmmWdM+cRFH1BwPczEo+yiqAIKMTCjjuLqvQmA5QekwSx6fDb/auFepIkLP/nBSIHSjXFiypQpUSxninpcWcdQsH///uLZ/9B0QkiSYTosGZg5c6Z9ZplEPiB77sXGjRgceEMFsi+kjIUQQgghhBBC5E+VMhYASjVGgY8//tg98cQT5la/du3a6OplRTu+WR+KNh4EuMwD171hAGWWa7xhACWctNu0aWPxCoFfXpC+R8DXX39tGy16mOGPbwwIGDAoG4SmEyeXF0CSDNPxRouSwL2WLVtmBgdkDrz5QQghhBBCCCFE+VGlXp3IDDgz6Q8//LCbOHGiu+6660zhx43fwysAWYfPsV69ehb/pptucqtXr7a3DcCOHTuKFXFc/Xk1IMo5nghHjx7N61WEueBVjffcc4/r2LGj+3s92GscR40aZZsA8lpEn+/evXubgYM8sGmgj8PmheQ1NB0PHgPjxo3L+KrDEBmyeeLNN99shpRu3bpZ/MaNG5tBARn6Vz3y+dNPP7XPK1eutCNvZ+AzYAChbJwnjBw50tKhXIWSsRBCCCGEEEKI/KlSxgI2/mOd/rlz59x7771nbzBIV5RRQjEU4PKOMl29enVTXt96660oRips3sd+BRgKULxxyy8kf/jDH8xboV+/fpafG2+80ZTl559/vthgwT4EbG6IQu3jUK6nn37arkNIOh4MAhgW8B7wBhJPiAxR6gnkp2fPnhYXQ4GXYaixgDchkFfOES5duuTeeecd99xzz9l1IYQQQgghhBDlQ7WioqJL0WchhBBCCCGEEEKIqrdngRBCCCGEEEIIIa4OGQuEEEIIIYQQQgiRgowFQgghhBBCCCGESEHGAiGEEEIIIYQQQqQgY4EQQgghhBBCCCFSkLFACCGEEEIIIYQQKchYIIQQQgghhBBCiBRkLBBCCCGEEEIIIUQK1YqKii5Fnys9TZo0cY899pjr0qWLq1Onjrtw4YLbu3evmzdvXhQjOQ7X58+f72699VZ39uxZt2TJErd79267VpEhvw899JDr3LmzlWHTpk1u8eLF0dX8mD17tuvfv7/JBxm89tprbt26ddHVyxDn0KFDbvPmzW7w4MFuzpw5btGiRfZdCCGEEEIIIUTlpkp5FqDkYwRAsUVx3bFjhxs4cKAptp6kOCjcrVq1csuXL3enT592s2bNsvMVnREjRrhevXq58+fPR2dKxqRJk9yQIUNMLsgHGUyfPt316dMniuHsM3HatWsXnRFCCCGEEEIIUZWoMsYCZtOZXcdLYMWKFTbDzcz6yZMnXadOnYLj1K1b175jTNi5c6f9Bvhd3OhQ0XjzzTfd0KFD3RtvvBGdKRmkQfmRC/JZsGCBeV9gjPAgCzh+/LgdM4HckBdy3L59e3HAGCGEEEIIIYQQomJTZYwF3bt3t+M333xjRw+KLp4CEBLnz3/+synDc+fOdcOHD3fHjh1zM2bMsOUIDRo0KDYeVDTIZyGgfO+//759xoOAZQgYD1q0aGHnwMsq15KDyZMnm/cBngksifChMizpEEIIIYQQQohrnSpjLEBxRelv3bp1sUKPsusVWwiJg8cBSm3z5s0tLuv2mW3nPOvyUZ6rKvGlBhhLFi5cWOwJEJcRssGAkAtkDHgm4KXgQ6GMGkIIIYQQQgghSo8qtWcBLu94BXjX90ceecSU2riCGhIHpfbIkSPFCvKHH37o7r333irvQl+/fv3o0w98+eWX0acfQH54DORi69atdkTOL730ki1J8MsXhBBCCCGEEEJUbKrXrFnzV9HnSs/Bgwfdnj17TNFnv4H/+3//r5s4caJ77733bMO+kDh4HLDkoEePHuZN8A//8A+udu3aZlB48MEH3VdffeWOHj1qaVVE2HSwb9++tp/Arl27orNh8BtkwfHpp592K1eutLIOGzbMvCz+5V/+xbwPBg0a5E6dOuVq1Khh9yN07NjRffLJJ+7EiRMWl98hZ5Z8YIS444473D/+4z9WePkJIYQQQgghhKhingWAhwDLDT7++GP3xBNPmOK6du3a6OplcsVhmcGZM2fchAkTbFYc74I1a9bYqxX5XZs2bSxeZYfXHWaC8vvNHgHjCTLwngTeO6B37962LIMwevRoO8fR7wsByGvZsmVu5syZJk/AkCGEEEIIIYQQomJTraio6FL0udKDIsuu/ayX5zNGABR+PAQ8IXHibNy40R0+fNgdOHDAliHwHQW4okHebrjhBtuEEUUeRZ1ZfjZsTC8br0QkzqpVq664xmaOKP3s23Do0CHbpLBr1672m2wbGmJ4wGgQj8OeB/GNJL28169fXyHlJ4QQQgghhBDiB6qUZ8Ett9xiyi1s27bNzZo16wplOCROnOeff961bdvWTZ8+3YwGFVXR7dWrl5ULIwCgmPOd8+mwhADwoEiH8mEo6N+/vxkAeAvC8uXLsxoKssHSDe7vQ6NGjSxdGQqEEEIIIYQQouJTpTwLhBBCCCGEEEIIcfVUuT0LhBBCCCGEEEIIcXXIWCCEEEIIIYQQQogUZCwQQgghhBBCCCFECjIWCCGEEEIIIYQQIgUZC4QQQgghhBBCCJGCjAVCCCGEEEIIIYRIQcYCUSGYMWOGGzx4cPRNCCGEEEIIIUR5ImOBuIJbb721TBX3Pn36uNGjR7tHH300OiPEtcP27dvd7Nmzo29CCCGEEEJUDErdWIAiuHTpUhsQE9atW+fGjBkTXf0BBsteQeVI3LjC2qRJE7do0SK3ceNGu8Zx7ty50dVUUHa59sorr1hcfptOSJxrlREjRrg5c+ZE30qf3bt3u0OHDlmdliZJbcyfSw/xOKFwL99W09t8tvv4kKl/lDaZ+tfVKLBJ/SupLtJlQVp8f+mll+w78NnHIyDnq8mzEEIIIYQQ4gdK3Vjw1FNPuQYNGrhVq1aZMnL69Gk3ffp0UyY8GBSGDBni2rVrF525kvnz57suXbqYQkA6O3bscAMHDrxCOZg0aZIpEVy7cOGC27Rpk2vUqFF09TIhcUTZMnPmTLds2bLoW+EJaWOe9evXWxvz4cCBA9GVMGhf3Is2Gm/z5CHOsWPHrO35QFs8e/astfGy5sknn3S9e/dO6V+UgeUh+ZLUv0Lrgt92797dPrdt29a+p4O8vPzOnz9f4jwLIYQQQgghUil1Y8GsWbPc+PHj3YoVK9zmzZvdiy++aOcHDRpkR/CGg+PHj9sxHWYlibN3797idBYvXuxOnjzpOnXqFMW6PEM5YcIEm6VmRnLq1KkWD6XMExInCT8TSsBrAuXIz8imezukzzATNw5l8zOkxPNpxY0gXCOOJ9NMLITcizhcI44PPh7X+I7CBfE48fwkpROKv58P8TJ6OEfwM8uEdBmHkNTG4hCHNuYDCmk+DB061Nom7YrfL1iwwBRdPDbinDhxwuIQ3nzzTVenTh135MiR6Grh5BxCrVq1rA/E+xe0b9/ejqGE9K/Quvjwww/NSIAcWrVqZQaMdDAQeBlyL6hbt64dQyhkX46nxXWMLuQ9DmVP7+9CCCGEEEJURErdWJCuhONlkA6KAKCkZMLPLn7zzTd29KCA+d8CSi7nUM74DYN3r5h4QuIkwUwzigAKIUpWr169TMnatm2bzaaSJqBccD8/w7x//35TpOJu5nhMUAY8L55//nn7jNKYLyH3mjx5ssVhptvPxhJYBgAorPx2z5499p3PPnDNk5ROKP5+hFwwK928eXO7B+0JGeerZCW1sTjUJ/IkpHsDhICC+P7779tnfo+xgbbSokULO/fxxx9bWVCoPd549vbbb9sRCiXnEM6cOWMyor2Qfz87v3PnTjuGQn6T+ldoXVBuFH/kkM2YR9vwdYUSjqzjbTWJQvZlX68E8o6nBv07zi9+8Yvi/s59br/99uiKEEIIIYQQFYsy3+Dw7rvvtuOWLVvsCCiCDNazgVKBAtK6devimTqUMK90eLp27Wqzkc8++6ytuSegQMQH9CFxkkAh8XlCEWLgz0zi2rVr7Tr3gB49epjizawn8f0Ma9++fe06vyWggPgZ3RdeeMGu5UvSvQD5AYoc133wihhHfvvZZ5/Zdz77EFfWktIJxd+PkAsURpazcA+OcMMNN9gxlKQ2Bt4tntlsyohMFy5cmFfbiBsXmJnm996w4dsr5aYs8XL37NnT2lXcEFAoOYcwb9684plu2jLeEcuXL7fP+RDSv0LqwkNa/fv3T/G4iMPzACWegOGAvoS3QSiF6svg65XAshqWs5Cmf2b5/o6c6e/c59VXX7VrQgghhBBCVDTK1FiAIsXAn1m7uMLDAJqZuFwwsCYeR1x4H3nkEVM40hUnPBeeeeYZN2DAAFNQUAbGjh0bXb1MSJx88AoeeSFNlAVASWB20bsmEygDM5hwyy232DE+w0xeSkLSvWDr1q12RIYocMyWEidfCpVOKNSzl0tJ5UP+ktoYBixc2Vk2w3HatGl5t4369etHn37gyy+/jD5lxhu+UHTjlKWcMRLwRgqW+jAzfvjwYTvnZ9bzIal/hdSFB2MBnjbZ9o3wfY6AIalz585mqCgpJe3LwHcMRNQVAQMQeM8o39/jyy9Kw0tECCGEEEKIQlBmxgKUDgbz586ds1lMT3wmljgEP8PL0c/KMROHAufd1lFGGJzjPh0H929vQEBJwV3Yp+EJiVMomI30efaB2cvSIOleKJ3IkBnPixcvmuEGpSafmXMoVDplRWgbo034dgElaRtxbwHaOQon8oJss+n333+/HePeNlBWcqZ8uNRjxCPPKMh4BKCoT5kyJYoVTq7+FVoXHja9RIYhSjX3fOONN8zwQrqFJlf/It9LliwxYwV7URBCDSJCCCGEEEJURErdWMAgmhlRlA9mLZm1jeNnSpm1827LzHACRz8rBygDKGOsDX7iiSfMddi7C3vS90TgO/HihMQpBChK119/veU5Hrzi88UXX9jRK0uhZIqfdC8PMkQBw00aBRHirtRxfN1kIp90ypvQNsZscfqmdrnaRjaFlLqIb7xJH0CBzaY8omBm8pKBspCzb0/pe4J8/fXXWTcLzKWM5+pf+fT3ksASh9IgqX+RbzwgXn755eKlCB988IFd82Tq73HjiRBCCCGEEBWJ6jVr1vxV9LlUYFa0Y8eOpgzhBYCi48OuXbvcwYMH3cqVK1PCJ598YteZuWNADigZzHI+/PDDbuLEie66666zmdf4bCxxUEKaNm3q6tWr50aNGmWblLFJm3fxDomTBGmwhvmOO+4wt3Pyi0J46tSpKMYPsPa7W7dudi8URj5///335mFBfPJCWn+vB9esWTP305/+1Naq46qMfIDfoFDefPPNNsvKmvrGjRu7GjVqWBqkBbnuBSjC3M/Lf+TIkZYOZd+3b5/FAX7Dhnts9tamTRuLS1o+Tmg6SaAoUS6UJ9JBoURB5bt31R42bJgdN2zYYEeg/uPySSK0jVEmlHyU24YNG+ZsG/xu3Lhxrlq1apZ+HNoWZfNtjHZ70003udWrV1/xBgC8BKhTZsTT08lHzhjknn76aStX+j2SoA3dc8891k99O/Rlx/0/3eMhV9mT+ldoXWSqY+JQN74t0DbYp8C3UdosXhrffvut7f0RYgAsVF/mN9yfPkno16+fbV6ILH0/pezImX0QkDNvmiBN4uTTnoUQQgghhCgLSt1Y8E//9E92ZCDO4DgeUBQy4ZVHFAyv+DCgZw01A/P33nvPXH7TlRjW/jOIR8lFQWEm8J133jElyhMSJwmUP/Li16eT15YtW6YotHD06FH31VdfmXJw3333WTyUYxQ9r4zgbcGsJIoGCgszlSgZceWBGUnSv/POO80dHddn4nOuevXqFi/kXmwCR5m9/C9dumRlf+655+y6h/gogsQhPY4oYF6RC00nCd7t/+CDD1peAXnymeDbRiGMBZnI1MaoCwwxnKd8N954o7WxTG0DJRPlGpn433uQOcoyywZIhzqiPG+99VYU4wfwtKEeuUe6cpuPnMkzcZBpSfjDH/5gSjdKri87suENHen5ylX2kvSvTHURaizAgOblg5ENgyR7FqTP6mejUH2ZQJ37cmNsos7T+ynGCPLJeX7/u9/9znXo0MH96U9/uqr2LIQQQgghRKGpVlRUdCn6LCoIuMOzyZzfXE2IJNjLgFn2irpvhBBCCCGEEKJyUeavThRClA7aUE8IIYQQQghRKGQsEKIKwNIAGQuEEEIIIYQQhULLEIQQQgghhBBCCJGCPAuEEEIIIYQQQgiRgowFQgghhBBCCCGESEHGAiGEEEIIIYQQQqQgY4EQQoggZsyY4QYPHhx9E+lIPkIIIYSoSlQpYwHvmicUAnaX16BPlBS1n8rN9u3b3ezZs6NvAvr06eNGjx7tHn300ehMKlW1zYeWK0k+FQ09o4QQQgiRRKm/DaFJkyZu2rRprlevXq5OnTruwoUL7vDhw+7ZZ591Z8+ejWIVBm8omDp1qh2vBhSFIUOGuAEDBkRnhAinEO2HwfxDDz3kOnfubP1o06ZNbvHixdHVy6CgjBs3zrVv3764f+3du9fNmzcvinG5Dz722GOuS5cuecXZsWNHyv38vbp27Wrf6b+vvfaaW7dunX2vSmAsyCTvXORTX5VVhkuXLnUffvihW7ZsWXTmB8rqmRki50KST7lyyaeiUVbPKAwSc+bMib79wKJFi9zmzZvtc0ickOeYEEIIIQpLqXsWTJ482Q0cONBt3LjR/vhRQPizHzZsWBRDCJGJESNGmJHt/Pnz0ZkrmTBhgqtVq5Ypm/QvDHH0t0mTJkUxnJs/f771OR+HPkgclAXPk08+6Xr37p0SB0UCt2rPU0895Ro0aOBWrVplcU6fPu2mT59uCoMIq6/KLsOZM2eWuyIcIufyoiLIpyzJpy7Wr19vbd6HAwcORFd+IFeckOeYEEIIIQpLqXsWhM7284ffv39/mzHINts2ZswYN3z4cNeqVSv7fujQIffqq6+63bt32/dM93rllVdsBiJ+Lv1eGDJWrFhRfA0lKRMlmcHKda/4bAplOXjwoJWRuNu2bbMZk5A4nlwyDE2H2RsMPD169LDPHpQbn28PiiRutwzc/OxPviTVKSS1DV/vZ86cscEjpMsmJA7kqi9PrjwXsv2gQB47dqy47kJ+z8z1woUL3fLly01G1CHH9LLSL2D8+PF2zNR3mF2nbChA4PPj4Tu/Y4BfSAXpatp8en3F0+L6Rx99dIVXE+X4xS9+YUeeFcgLI0xp1FdZydC3Q2aN/Wdk2L17d8sbfRZC5Jzepsl/+vM0tM0n1VcIIXIuBKHlSpKPzycy5dmDrP/zP//TPufbniE9TvrzkH4bz4O/v39Oh5YrhJC6SL9/JpLihD7HhBBCCFFYqtesWfNX0edSoW/fvu722293n3zyiTt+/Hh0NhVmQVE6Gci/++67rkWLFjbIjf+GQSwzcH/729/cO++8406dOmWzDCi1fqDkvRU2bNhgRwYY//RP/+Tee+89m4UAP1DasmWLe/311933339v9/7qq6/c0aNHbYbkyJEjrkaNGq5ly5Y2eNm5c6cFXB7PnTtn6YSQdK8vvvjC/fGPfzSl89KlS3a/3/72t3adgSTlZ2YlKQ4ySpJhyL2I9/Of/9zyzOff//73diRQhvSyjxw50tLhniga+RJSpyFtg3pv1KiRq169usX57rvv3J133umqVatWnK+QOEn1BUl5LmT78XHbtWtn/Yjy7tq1y86lw6AdAwaD5n379rkXXnjBzt999932Wwb08d8+8MADrm3btm7lypX2HSWyU6dOVi4UEAxGHTt2NDn4sqfnnaUPgwYNsuvcs1CEttWQ+qIeqHPfVqgn6ss/I2DBggV2rzVr1lg5evbs6Zo1a5ZT3pkIqa+ykmG9evUsD//6r/9qBqSioiKTG8sfuCfu8hjOQuTs2zRtmDQpQ1x+oW0+pL5CCJFzIQgtV5J8fD7/8pe/2DOVzzw7fvSjH9kzyPfBEPmEPA8nTpyYkgd/f/IXr8+yekb5a99++615L/GZsvHs9CTFCX2OCSGEEKKwlPoyBGbxTp48abMGzALE3aM9DExRUJgJYVYCV11gEORBESIO+x8Qh9kF3BL5ng1/jQGQB2Vhz549lgYzGBwZgDAQAT5z/rPPPrPvfPaBa/mQdC/Kw3lmM1H2mL1H4Vy7dq1dZ2AfEgeSZBiaTuvWre2IAkU6PmQqu58Jyndm0BNSpyFtA+rWrWvX4nFuuOEGO3qS4iTVFyTluZDtJxRm5ZidZjYcRSDe3rkvdU69ek8RlEcUxDiUg1lM+iftYujQoc57J2SDATyg3BSS0LYaUl985zwBDwlm8EnTy4LPBD+Dy33wEikrSkuGHoxAzZs3N+WSowcZh8rZt2lCJkLbfEh9VSRCy+XjEXLBkhO8CoC2duLECfvsCZFP6PMwF6HlKhQYAgClnucQ5cT7CcOrJykOeQt5jgkhhBCisJS6sYCBDbOdDEQBhQajgf/DB/7wGcx6GLBgYLj++uujM5fjMBtCeh7cvuPfgdljZmhQnhhYMfhioOHhvsxc4KrpAwNl1n0Xmnzv5V3vKT+DPwaD6WSLEyLDONnS2bp1qx1RGpAhsiTP2YjLNl9C6jS0XJzzv0tvE56kOCH1FdoOyxLqgDp8/PHH3cWLF82IgwHBQ11SDo6U6ZFHHjFZIEuPn7HE0IArMXsfcC6eThwG6rhC4xYcT6c0yNZWQ+qL73PnzrW2TMBrAFCi4ZZbbrGjn5UFf7/SpjRlGF/rzTOR7xjGmM3Odq9sci4UZfnsrYyEPn/yec5XBDCEYdxgHMARwyrPy7Fjx0YxwuKEPMeEEEIIUVjK7NWJzKQwEGAmmgEPuxrnS+3ataNP2WHAhSsngwpgUJEOBgTyEQ/emFFoyvJehYCBGIM1ZmBRPFFmULLis0CFJKROy5KQ+qpoefag7Pn9Bdh0zEPfo059eZ555hnrH7ihA30GI55fD4ySiMGBXd2nTJliceJgQGBGExdk4pcnueqLci1ZssR2amcWl8DsbkWgtGXojVfem+Cvf/2ruazznX5dXlS252FZUxXlgzIfV+hpm/v377f+6QmJk/QcE0IIIUThKTNjgYdZ0PSZEL7jfuhhAIBB4fPPP4/OXI7DWuP44CETDDiYFUO5xW0xXdlhEMK9yUc8ZJtN9EaHkpDvva6GEBmGggzZbA3FEyUSsrkKZ5t5DiGkTgtZriRC6iu0HXqupv2UhGz5ok4py8cff+yeeOIJ6xve3dy7AH/zzTd29Hz99de2dMND2niaYEjAAwHjX3mSVF94D7AJ3Msvv2wGEMIHH3xg1zzsjwBeBsCMf2lRljJEPv/wD/9gS1PwLPAz1KVtMMnW5svyeVgalHZfDn3+5Ps8jLftTJR2uTDY490ThzeC8AzyhMSBXM8xIYQQQhSeUt/gkFlpNk5jwy0GLaNGjbL1iGzO5DcqYoD04x//2Fwwifuzn/3MlJTVq1cXuwezGdNdd91lG9WRDnFRYDt06JCyiR2wsRODCAYbbCDVtGnTlE2RWI/drVs3yxMDLT6zmVJ8Yye+s/EYM7Rt2rSxexEv303Ict2LQRqyuOOOO1z9+vVtkyqUifjGTyFxIEmGoekwYPOyJbCJYePGjW3zq/SyM7vDO+PjmwTmQ0idhrSNeL172OQrvtlWSBxIahsheYZCtB+WAbCB12233WYbkbEpIzKI34s3Utx8883FecU4Rn0xgPbyoe45//DDD1uZr7vuOvMg8evkaQP33HOPbWj49+eBbe5HP2UZD0qmj4e3CXFQWJjN822EEJchoBA//fTTKRuvhRLaViFXffEb6oA6I/Tr1882W6V8fCc95EjZWZ9P2dn8jzRLssFhSH2VlQzh3nvvdQ0bNrR7sScDrt3Ik2cv+QmVM8YTvDNo7+STZyuGJL7H8xXS5kOevUmEyNlztTKEpHIlycef5/Onn35qn9mQjyPtLb45X5J8Qp6H/Ib88FzAcI5xgWeCb/M+rZD6SiKkLnxe+T+mPfpnC/8pfuPhkDhJzzEhhBBCFJ4yeRsCAxcGFHxmsMNO0PH1sAwqUOgZsDOQZrDFAOqtt96KYjjbDZpdoW+66SYb8DPIIvhXfkG6Qsig5yc/+YnFe/vtty1dnw73uu+++4rzR9z4IJnPKMH8lrgc2amZWY1Qku7FwIfBFgN14DoDrrhCGxIHkmQYmg5LOBikefmySzr19dxzz0UxfoDBG/dCJiUZiIfUaUjbKJSxIKRthOQZCtF+cLlFEaGegAE/6bDu3JcDYw6BvLIeH0UAQ0FcPiiE1D3XeDMIrvnpA+w//OEPpjCgUFP/N954ow3Un3/+eZM58GYRoA35cvtAncQhP5x/8sknozPhhLbVpPoi0HZQhigTSgj5REEiPd6SQN2jSLJxGuf5/e9+9ztTdv70pz/lZSwIqa+ykiEgEzwLmI2lHNQtyxB8fw2VM/d/8MEH7ToQn8+EeJ6T2nxI/wohRM4e7nE1MoSkciXJJ9RYECKfkOch3jLIBkM5S05YxpDe5iGpXCGE1AUeNBgsKI9/tvD8wYjjCYkT8hwTQgghRGGpVlRUdCn6LIQQBQGPIjbWK629Lq4FJMOrRzIUQgghhCg5Zb5ngRDi2qCibCZYmZEMrx7JUAghhBCiZMhYIIQoOCxRkZJ2dUiGV49kKIQQQghRcrQMQQghhBBCCCGEECnIs0AIIYQQQgghhBApyFgghBBCCCGEEEKIFGQsEEIIIYQQQgghRAoyFgghhBBCCCGEECIFGQuEEEIIIYQQQgiRQqkbC7Zv325h8ODB0RnnXnrpJQvlQZ8+fdzSpUuL87Vu3To3ZsyY6GrVxpd948aNVnaOc+fOja6Ka5nQfjF79uzivsyRuPG+DcTxbayk6fDKO9omv+ca8YUQQgghhBBlR5l5FgwYMCD6VL489dRTrkGDBm7VqlVu0aJF9g7u6dOnm3JS1ZkwYYKrVauWKWCU/fDhw27gwIFu0qRJUQxxrRLSLzAoDBkyxLVr1y46cyW0JeLs2LEjJR1+6wlJZ8SIEa5Xr17u/Pnz0RkhhBBCCCFEWVImxoKTJ0+63r17uyZNmkRnriRpNtJ7IzDbSBxCSWbFZ82a5caPH+9WrFjhNm/e7F588UU7P2jQIDuSx1deecWCB4WJvDHzCiFx8iFX2f2sK4G0UcZ83HzLP3XqVAu+7G+++aad//LLL+1YlmXPp1zp8kk3bpAn4vhZaB/i8TK1H5RZfhunEO0wJD9QiHJ5ZsyYYdfis/P5kNQvwBsOjh8/bsdMDB061Pr74sWLLZ0FCxa4CxcumPLvCUmHtklab7zxRnRGCCGEEEIIUZaUibHg/fffNwVi2LBh0ZlUUH6YaSTOpk2b7ByzkemKT6NGjVzz5s0tzrFjx0o0K87v4jCbGufs2bOmKLVq1coUNfjFL37hvvrqK1N8ICROKEllP3DggCm1XMcrgNlWFLpt27ZZ+UuiHKKscV8URNJBGYWyLHtoubhHfKZ6//795iERV+InT55scZjFRoY+7N69O4pxGdpPw4YNLR2uY8CaNm1adLVw7TAkP4UsF7Rs2dKO5KskJPULoM4BI0A2MHDQ3wEPAtoL8mzRooWdg5B00vMjhBBCCCGEKFvKbBmCVwIzwXmUCma9mZHEJRrSly7UrVvXrsXj3HDDDXZEoYvPvqaHbNx999123LJlix0BZQylDEWNWWOU65dfftny6AmJE0JS2bmGUsXsLPfATRzlfu3atXa9a9eudgwFOTEzjmKKi/fevXujK5cpq7KHlqtHjx5uz549xTPVHFEk+/bta9ehdevWdsRYwXUf0hVO2s/MmTOL0zl06JAZKTyFaIcQkp9ClgvmzJljRgcMLoUgU7/AEIHin434UgPaxcKFC4uNKN5AAEnpCCGEEEIIIcqfMjMWbNiwwRSGuELh4fxHH30Ufbs8q4gycf3110dnLsM5r5CmK6Z+pjpbyAR56d+/vxky0hUwlDLuhwLJdRS6dELiJBFado+fVSYeSix5yAfyyO8ef/xxd/HiRVMy02fOy6rscbKVi5lqPADihh+MC3gjeLZu3WpHjA0YQpi1J0465DcOM/Z16tSJvhWmHUJIfgpZLs/V1oEnW7/g3sgsG/Xr148+/YBf4hInKR0hhBBCCCFE+VNmxgKUKmZS42uXCwnpoyxlC+mgIDMrfO7cOTdv3rzobCrMeicREqcignLOLDvEZ9c9FanstJt04w+eCB6UabwB1q9fbwYQFF2U6/T9BsqK0PxUxHJl6xdxIx9xCH6DQo4YP+L9jN9i9KEM4A01IekIIYQQQgghyp8yMxYAs6ddunSxNd9xUCTatm0bfbs888gs7+effx6dKRwoI8zQMqOOCz6bumXCz+Iyu8rsOUpNOiFxkijLsqeTTTErq7KHgBGImf1044/3RPAwA75s2TIzgLDEAuIu/YBc47AuP27wKGRdJOWnkOXyXE0dJPULZAF4QxCHMHr0aDvHsXv37vaZcnXq1Mk+A+kiQ+9JEJqOEEIIIYQQonypXrNmzV9Fn0uFiRMn2q7nu3btsuODDz5oCgQzlyxNAJSmH//4x6ZAoGj87Gc/s3Xhq1evLt4x3W+O6H8D8bRDYZa2Y8eOphieOXPGFC8ffDrMfjKjy7r8p59+2vJ11113mbHDK5chcUJIKjvKFevb77jjDnPz/uSTT0x+p06dilIIhx3zb775ZlPeunXr5qZMmeIaN25s+wR4OZdV2fMpF7vik9969eoV5/3777+3NgSsjycPvh5Hjhxp5dq5c6fbt2+fxaH91KhRw67DqFGjzMjB8hW/Lr9Q7TAkP1CIcnnwShg3bpyrVq2aO3jwYHQ2nKR+QZorV65MCdQZ17k3hg5o2rSptQ+OlIs2dtNNNxXLMDQd9jp44IEH3G233WabN3733XdWJx06dChR+YQQQgghhBD5UaaeBcDu7+mwKRuKJwoTm+bB8uXLixWHQuLXqPt7xQOgsD7yyCOmNPl18//7f/9vUxqffPJJ+x4SJ5SksrNsg9lXrgOf/QxzvqB0sbs/aXCE+L3Ksuyh5cKNnTziBeDzjiIZ362/du3aKfWI5woyZUY+Dhs6MsNNGsRjGcCzzz4bXS1cOwzJTyHLBd7IgqJfEpL6RSjkjTyyZIIy8RaEksiQpTHcG2MJYFzie6YlM0IIIYQQQojCU62oqOhS9FmIKgtr/QGPCCGEEEIIIYQQuSlzzwIhhBBCCCGEEEJUbGQsEEIIIYQQQgghRApahiCEEEIIIYQQQogU5FkghBBCCCGEEEKIFGQsEEIIIYQQQgghRAoyFgghhBBCCCGEECIFGQsKyJgxY+wVfU2aNInOCCGEEEIIIYQQlY9r0lhw6623usGDB0ffCsfYsWPdxYsX3dmzZ6MzQgghhBBCCCFE5SPr2xC2b98efbrMhQsX3OHDh92zzz5b6ZXh2bNnuyFDhrgBAwZEZ64evAqmT5/uFi1a5DZv3hydFbnAYDNnzpzo2w/EZRgSp0+fPm7cuHGuffv2rk6dOtZW9+7d6+bNm2fXQ8Ej5LHHHnNdunTJmg6Gpoceesh17tzZ4m/atMktXrw4uiqEEEIIIYQQVYOcngXHjh0zZYiAoaB3796mTIkruffee93JkydlKCgB69evN+XfhwMHDkRXfiBXnAkTJrhatWq5devW2TXa6sCBA92kSZOiGGHMnz/fDAU+nR07dlg6GJc8I0aMcL169XLnz5+PzgghhBBCCCFE1SOnseDEiRM2a0pgdnfPnj1mMIiDIrVx40bzREDJSlfQmH1lHT/Xicd1jnEFjGvE8TCbzLn0pQIh9yIO14jjg4/HNb7jVQDxOPH8JKWTDjPbzDhv27YtOnOZ0HSIk6tcgOfCK6+8UpzG0qVL7b7pzJgxw66XxjKL0uL48eNmZPEhk+dKrjhTp061sGLFCrv25ptv2vkvv/zSjiFQV9QhngQ+Hdo9BqBOnTpFsZylPXToUPfGG29EZ4QQQgghhBCi6nFVexag5KJ4MwPLTOz+/fttlhfF1sNsbatWrdyqVavc888/b59x8c6XkHtNnjzZ4pw+fbrYI4Kwe/duu46ix28xegCfffAKJiSlkw6zzSivKJlxQtIJKZdf4lC7dm37PUYJXO5nzZoVxfiBli1b2rF58+Z2rAwwU48cCJkMIBASB2UfQwtyQUYYXkLp3r27Hb/55hs7eliKQJv14G0jhBBCCCGEEFWdnMaC1q1bFytoKLJ4FXhFG3r06GHfmYH1M7EoU3379rXrKG8EFGE/W/vCCy/YtXxJuheQX1iwYIFd98EreBz57WeffWbf+exDXAlMSicO5UMuKPnphKQTUq7hw4ebMWLatGl2nTX0GGH4ng4eINRVuuGiItKuXTs7tm3b1mSFLBYuXJhiKAmJA3hS4J2CoYUlAngI5AOyxzDAPfAyAIwScUOBEEIIIYQQQlwr5DQWoAgz601AIT506JBtcOhBqeK8d40n8BvWj8Mtt9xiR37nKenmiEn3gq1bt9qRGWUUR4wcxMmXfNLBqwAl8ze/+U105gdC0gkpFwrrkSNHUmSHd0I2WaL4Vga2bNliywfGjx9vR4wflIm3SnhC4gBlZsPKxx9/3N5IgdEk36UY1BOy50g9PPLII7YMIZORSAghhBBCCCGqMjmNBbi8o4Axi4tC/PXXX1+hoDIr7l35fWDJQWmQdC+UPBRKNsNDYezfv78p6emz0EmEpoOizzU21MukuIemEyJDliBUNVDC44o4MsRDw8/sQ0icOBhRZs6caZ9ZupAPeGNQX74OnnnmGTMenDlzJoohhBBCCCGEENcGQXsWoKDh1s0MeHxmnPPXX3+9zerGg1+T/8UXX9jRu5KHkil+0r08KJbLli0zhRGXdIi79MdJn+WPE5LOsGHDbP+FlStXRmeuJCmdkHIxu80u/dkU5HQqy+aGzN7PnTs3+naZBg0amGHKExInnSQ55ZIP9YX8P/74Y/fEE0/YfdauXRtdFUIIIYQQQohrg+o1a9b8VfQ5hYkTJ9oO9Lt27bLvn376qSnHjRs3NtdwDzvDd+vWzdWrV8/c5fn8/fffu3PnzrlTp06ZgYF15n+/j2vWrJn76U9/auvC42nzG95bf/PNN5snA+vTuU+NGjUsDdKCXPcClEruhzJOGDlypKWzc+dOt2/fPosD/GbQoEE289ymTRuLS1o+Tmg6v/zlL60cq1evjs6kEppOUrmQw1133WXyx5Di0+zQoYM7ePCgxfEwIz5u3DhXrVq1K65VNCgHbxpA+W/YsKEbNWqUvaoQ+bDPRWgc3gBB2/GymzJliskZJZ/6iZNLPhiP+O3DDz9s7f+6664z75B4e2cDxQceeMDddttttpnkd999Z/nLVBdCCCGEEEIIUVkJNhaguKJMobzhNs/3o0ePuq+++sp17drV3XfffabAovSjCKPkAx4J7DSPcn7HHXfYjPntt9+ekjYeCChed955p7nr44JPfM5Vr17d4oXci70VUCR5UwDh0qVL7p133nHPPfecXfcQH2WROKTH8dtvv7UZZQhJh6UEGDbwKkhXSD0h6YSUy8e56aabTHY+PfaCyKTwduzY0cqSLV8VBdoGhiHKjJxuvPFGU8yffvrpKEZYHIwwBOL07NnT2iaGgrfeeiuK8QO55INRC2MAv3/vvffckiVLUgwFwDIFNj70b53AKEFd/OhHP3IbNmywc0IIIYQQQghR2alWVFR0KfpcZuBazn4I7OxfWWHvAZYgsPGeEEIIIYQQQghRlQjas0Ckwpr4EydOuDVr1kRnhBBCCCGEEEKIqoOMBSWATQnxivDLFoQQQgghhBBCiKpEuSxDEEIIIYQQQgghRMVFngVCCCGEEEIIIYRIQcYCIYQQQgghhBBCpCBjgRBCCCGEEEIIIVKQsaCAjBkzxl6pyNsShBBCCCGEEEKIykqVNRbMnj3brVu3zm3fvt1Cnz59oiulx9ixY93FixftbQlCCCGEEEIIIURlJePbEFC0hwwZEn27kkWLFlXo1wb6/B87dsydOHHCzv3mN78pVSUer4Lp06dXeNlUJG699Vb30EMPuc6dO5s3xqZNm+yVlHE4/9hjj7kuXbq4OnXquAsXLri9e/e6efPmRTF+wKfXtm1b16pVK6uTfOocg9K4ceNc165d7Tu/fe2118zoFIf2dejQIavnwYMHuzlz5qTUO8Yp2t7UqVPtO/g2OWDAAPuOBwr59XCv/fv3X1F+IYQQQgghhCgPMnoWoAihuBH27Nlj5zj6cx9//LGdq6j06NHDnTx50pQ1lC9Cac/233vvvXZPGQrCGTFihOvVq5c7f/58dOZK5s+fb4YCFHYU8h07driBAwea8h1n0qRJpoBzDYMC7bRRo0bR1TCeeuop16BBA7dq1Sq71+nTp80AFFfqMSig9Ldr1y46EwbpprdBvvs+hQxId8aMGdFVIYQQQgghhCg/MhoLUHi9ks0sKXD055g1ZUbVu/gvXbrUlLWNGzfa97lz59pvIB7PK3zpa/pR8gj8zseNpwH8BgUxvrSAwH3TIe77778ffbsS0vF5Jb14GqHlioMCiUK5bdu26MxlQvOcKz8eZslfeeWV4jTIW6alFSibXKccFZ0333zTDR061L3xxhvRmVSQH3LFk2DFihXF7RKjTKdOnaJYl+tswoQJZuRCTt5IRDvNh1mzZrnx48cX3+vFF1+084MGDbIjeMPB8ePH7RgK3g4fffRR9O0yGAh8n/JeCHXr1rWjEEIIIYQQQpQnJd6z4MCBA6b4o7jVqlXLZohRslCYmd31yipeCH72lJna3r1722xxOswCN2/e3OKh5JFGXGmePHmyzbyShk+PsHv3bruOEsc9/X2ZyfXf40o1ijnpMENN/nH9RtFEyYTQcsVhhpxZYuLFScozJOUH+MwMd+3ate335KV9+/am3KbTsmVLOyLLik6SMt+9e3c7fvPNN3b04DnAMgMP8uPcggUL7DfUUdwbIJT0/NCG0vH3zceDhHaM4QMjThzaPPVPwFhGG8KAIoQQQgghhBDlTYmNBSg2KEwoaShmuG4zK7527Vq77td9o4D52dOZM2e69evXW3yUpzjMqOIGTjyOcMMNN9gRWrdubUcUQp8ewSt4KOysHScARgn/HeXbwxIFllTwWz9TTRp9+/a166Hl8hCHe6Hkp5OUZ0jKDwwfPtzyNW3aNLvOen0MLnxPx6+fTzdcVEZ8PSBH314w/MQNBUCdfPjhh+7ZZ58trnOU77jBpSTcfffddtyyZYsdASMMhqRQMFyQD7/HQRzKhKGDgOEAg1GuJRlCCCGEEEIIUVYU7G0IfrYcRZdN3FBqAWUa932/1KBnz5523s8ae1DAUIjBH+Ns3brVjijupMNsLGl7uB/39RvIMQPvv8c3mkNBQ7n37vwE0sGLIBPZyuXBSIFCywaK6STlGULyg3J85MiRFLmQr0xygnSltDKD7JAHR2TzyCOPWFuJG1wAL4BnnnnG6gjlHNnwdoqSglGif//+5sURvxd5wVMkCZR/lopguGBjRr+kIY5vUwQMZGz0iMFDCCGEEEIIIcqbghkLMoEivGTJElOCeCsBIUTRygTKIko/ngm8nhBFrqSzx8zkM/seD3gQ5AvlIx+HDx/OqLiH5jkkPyxBuBbBQwIZerlgEEBhP3PmTBTjMuxR4ZV66gJPD+qnJOANgPJ+7ty5lLcuxJezEIfgNzrkGL8fnzFg+H0sMCrlgryzdwOGIdIVQgghhBBCiPKkVI0FeA8wq/ryyy/bjDzhgw8+iK7mDwrVsmXLbDmDX1oQd9cPAUXy+uuvt9n3eIjvIxDKsGHDrHwrV66MzlxJUp5D8sNMOm8ECFV+q5qyiQyRCftfPPHEE+bJ4ZeFeNL3F+A78TKRTT7IF+8PvAHYVJHNDuN4r5D4EpfRo0fbOY5xbxnyzO8xNmAMYqmB/302KsM+E0IIIYQQQohrg+o1a9b8VfQ5I8yYotzu3LkzZQd4FB/W299xxx2ufv367pNPPjFl69SpU1GMy8oXO8nXqFHDQr9+/dztt9/umjVrZt+Jy+wtSjds2LDBjjBx4kS7365du+w7SxlQ0sgLYeTIka5x48aWr3379lkcT/pv02EH/m7durl69erZTC6fv//+e8tLSLk8v/zlL+0+q1evjs6kEprnXPkBZHXXXXeZnKgPn2aHDh3cwYMHLY6H2fdx48a5atWqXXGtosHGfw888IC77bbbbGPG7777zt5yEC8X9TFlyhT38MMPW71ed9115rER30eAOMikadOmJsNRo0bZZpTImX0A4uSSDx4gHTt2NOMMngu+3gi0JeJjGIoH2gfXSReDBpBP6s63Z9oOdXfTTTcVx+E7SxXatGljv6ef3H///e7bb791L7zwQlZDhxBCCCGEEEKUBSX2LPAbCvrN5vgc30gQmB1n7wBmxbmOAvfqq6/aNZS7JNfsOLjh+83g/IZwpM2sfT6gaC5fvtxmnnnDAPlCafUz0yHlApYSYEQgD9kIyXNSfsDHQQFFhj69THijRrqbfkWEN01QDtoCoPTznfOeW265pbisuPTzBoj0zRtZ58/sPcs8kB/GHuQcX0LgySUfvESAuvcy9uFqwMuA/LARY9yrgfbj06deqV82rsy0pEUIIYQQQgghypJqRUVFl6LPIg/YewDlMt1VXQghhBBCCCGEqOyU6p4FVRVmhNmscc2aNdEZIYQQQgghhBCi6iDPAiGEEEIIIYQQQqQgzwIhhBBCCCGEEEKkIGOBEEIIIYQQQgghUpCxQAghhBBCCCGEEDGc+/8DSgy7vKhr7koAAAAASUVORK5CYIL7wieffJJcEUIIIYQQQgghRCz1vsqxevXq5OwAX331Vdi6dWt4+OGHW73ifeedd4ZRo0aF4cOHJ1caD7MlbrvttjB79uywfPny5OrhC8afm266KfTv399mkCxbtizMmTMnuXuAIUOGhPHjx4c+ffqE9u3bWxnbsGFDmDFjRuLjAOTXli1bTK4YlO666656co55Vgz894477gjnnntuXXzWrFlTMix/Zq9evUL37t0t/2WQEkIIIYQQQojGcdCMie3bt5uSh8MoMXjwYFPcxMFcccUVYefOnTJKJIwZMyYMGjQo7N27N7lyMBMmTAhHHXVUWLx4sRkaKGMjRowIEydOTHwcMF5gROrdu3dy5WBinhXDfffdZ2Xc44NRgmdPnTo18XEA4seSHeKK8YL6ceKJJyZ3hRBCCCGEEEI0lIMMEzt27LDRYhyj1K+//ropbmkYzV66dKnNsEChSyuVwCg0Shz38cd9jvzP4R5+HEbFuZZdbhHzLPxwDz/u3B/3+I2yCWk/6fjkhZMF5ZkR9FWrViVXDhAbDn4qpQsYkX/66afrwpg3b549NwtKNPebYqlKNbz00kth9OjR4cUXX0yuHMzkyZPNLVy40Aw6/Ae++OILOwJyhffee8+OpYh5VgwYSTDGeXx8pgQzOhzkikGFGRzkCfHHH/8TQgghhBBCCNE4qt5jAoUaJZ+RZUaYN23aZEobCpszc+ZMm+r+1FNPhUcffdTOmSZfLTHPmjRpkvn58MMP62Z64NavX2/3UWD5LwYW4NydK8WQF04WRuyZxo9CmyYmnJh0cc4ykWOOOcb+jwEEZfn2229PfPxAt27d7NilSxc71opqFHWMDxhjSA9pwzjjUF6g0kyUoowCu3fvrluWgVHJZ0qsXbvWjkBeMUti1qxZYcCAAWaocOOJEEIIIYQQQojGcdAeEyh8zJqATp062WwJlHpmTwAK5Pvvv1/3G5j5wAaQ06ZNM4WN3yjTPvqMwsf/0tf8WYw+A8pedh+BvGf5b56JYllpvb8bA8rtMREbDpRKoxMTTky6mCmBUWLKlCl14TBbglkEpcJFfi1lSYnnZSn5gN8HygCzHtJxRxYYsm6++Wb7XapsOHnPigFjBLMvfI8JjE1pQwllldkS1Ac3msCCBQvq+RNCCCGEEEIIUT0HzZhAqUaBx2GUQCFj80sHIwPXUdbc8R+mxMOZZ55pR/7n5Cn65ch7FqxcudKOKIgotBgg8FMt1YTDbAkU2N/97nfJlR+ICScmXSjA27Ztqyc7Zl2Uk2VLMUrEQFwxEN19991mjMGwgIHBQRbMOGkOmLUxbtw424AT4wZ7XnAtHR/AKPHggw9avN3oxBdZhBBCCCGEEEI0joMMEyhnrnyhfH/99dcHKcPMoPDlEO5YttEU5D0LAwCzLpYsWWJK7rBhw8wgQPyrITYcjArcQ4EtZSSIDSdGhsyYOJTB0OIzRNjIEtJ7aGAcwPkmmByRf1EQFktoWErCV0GYcYGR5N133w233npr4usAb731Vt3yEfKd5TdFxkUIIYQQQgghDlfK7jGB8sUoMiP76RF/rh9//PE26p12vofC559/bsdKX1QoRSn/ec9yUBjnz59vSi6KJgwdOtSOWcrNgoCYcK699lqb8r9o0aLkysHkhROTLr72wScsY5Xf7Ah/ayGbPs8fyh1GAhwzGoAjezw0hFLy8TL3zTff2NHBGNehQ4fk1wGYMZGG3xjuhBBCCCGEEEI0jrbt2rX7bXIebrnlFtvDYN26dfb7448/NkW8c+fOYcWKFXYNWI9/wQUXhGOPPdaWHHD+/fffhz179oRdu3aZUjlw4MDwz7DDqaeeGn7605+GHj161Aub//Tv3z+cccYZNkOjV69e9pwjjjjCwiAsqPQsmD59uj0PxR83duxYC4fNCzdu3Gh+gP+MHDnSRuZ79uxpfgnL/cSGc++991o6nnnmmeRKfWLDyUsXcrjkkktM/ijQHmbfvn3D5s2bzY/DbIvx48eHNm3aHHSvOWEJxNVXXx3OPvts25Dzu+++C/369asXZ/ZzIM89zcxMQD7PP/+8yRV/GH3S7qOPPrK0k04MOBDzLKecfChnl19+eTjnnHPqyur1119vnwR9880368o8xhLkf8opp1h+uR/ylA1MhRBCCCGEEEI0nIqGCZRkV8pYesDvt99+O3z55ZfhvPPOC1deeaUpjBgYULpR9ICZFoxsYwi48MILbSbA+eefXy9sZlagUF500UW25IFlDPjnWtu2bc1fzLPYCwMlkS9W4Pbv3x9ee+218Mgjj9h9B/8opvghPI7ffvttnaIbEw7LMTCioCyTllLEhBOTLvdz+umnm+w8PPbuyCre5BHKNWkpF6/mgCUsLMXwr4RgcCDORx99dHjllVfsGoYaHGm++OKLrUxhlHj55ZftfikwzOAfQ4CnL+ZZTiX5/OlPfzJD1aWXXmr5dtppp9lz+JqMz4hA5hhSMGrhh9ku5OkDDzxg94UQQgghhBBCNJx6X+VoStjgsTFfTmgJsFdE+msRQgghhBBCCCGEaBxl95gQ9WEvBD6j+uyzzyZXhBBCCCGEEEII0VhkmIiEDSuZ7eFLP4QQQgghhBBCCNF4mm0phxBCCCGEEEIIIUQWzZgQQgghhBBCCCFEzZBhQgghhBBCCCGEEDVDhgkhhBBCCCGEEELUDBkmGskNN9xgnxHlqx1CCCGEEEIIIYSojkPKMHHnnXeGxYsXh9WrV5sbMmRIcqfpuPHGG8O+ffvsqx1CCCGEEEIIIYSojrqvcqDUjxo1yi6WYvbs2S36U5ke/+3bt4cdO3bYtd/97ndNajBgtsRtt93W4mXTksBYNH78+HDeeefZb/LnhRdeMINSlrPOOivcdNNNoVevXqF79+4m73R+kudbtmwx2V9zzTXhrrvuqiov/D/lWLBgQV28eNawYcNC+/btS8YZQxhlb/LkycmVH8rk8OHD7Tcza0iTQzibNm2yz9AKIYQQQgghxOFK3YwJFLxly5aZe/311+0aR7/2wQcf2LWWysCBA8POnTtNMUTRwzWlUQKuuOIKe6aMEvHcf//9oVOnTuGpp54yI8KHH35oxp20wg4TJ040RX7EiBHhq6++sjJ44oknJncPGDhQ+nv37p1caTgYFLyc43geZccND8SFZ61Zs6ZenPNm5JDObBnktz9n7969Fu7UqVOTu0IIIYQQQghx+FFnmEC5doWe0V/g6NdQ3hhh9mUS8+bNM4Vt6dKl9nv69On2H0j7Q7lDmcvuwYDSieN/7jcdBvAfRp0Jw/3geG4W/L711lvJr4MhHI8r4aXDiE1XGpRSlOlVq1YlVw4QG+dK8XGYIfD000/XhUHcSinDKLbcJx0tndtvvz3cfPPNYeHChVbmHn/8cbs+cuRIOwLpmDBhghnLkIEbmyiDjhsy3nvvPTs2BmbYeDl/6aWXbFbEtm3bkrshjB492gxQ3CfOs2bNMuPFmDFjEh+lYabH+++/n/w6AMYIf5bPrujQoYMdhRBCCCGEEOJwpKo9Jt58800zMqCkHXXUUWHQoEGmYKKcM7LtijGzK3xUmNHlwYMHh5kzZ9q9NIyAd+nSxfyhdBJGWkGfNGmSjSgThoeHW79+vd1HOeWZ/lxGqP13WoH3KfU+4s30eRRflF6ITVcalFJGv/GXJi/OkBcf4JxR+WOOOcb+T1z69Oljin2Wbt262RFZtnTSxgUgz7IgGxR/DAADBgww+WdnVLC0AxozW8XLKQYQxw0kr776qh0hbfSiXJHvlJWuXbvatVJQjvkfBqM0lHnyH4dhjrAwhgghhBBCCCHE4UpVhgmUKBRBlEYURabjM9r//PPP233fNwDl00eFp02bFpYsWWL+UdTSMFLM1H78cYSTTz7ZjtCjRw87oqB6eDhXbjEOsEeA7xOAAcR/o+g7LPNgWQr/9ZkhhDF06FC7H5suBz88C4NClrw4Q1584LrrrrN4TZkyxe7PmDHDjDv8zkJ6MXBkjSStgcsuu8yOK1assCMg73fffTc8/PDDdfmJEp823GCEwTjQGLycpo0bF198scndDUlpAxezZx566KE645kbR7JgSCGuvv9FGuoAhhccRgqMU8yiEEIIIYQQQojDlUZ9lcOVNxQ8NvhDyQMUd5Q4X66BsgeMfqdBsUQJBD+mWblypR0xEhAOo8yE7fA8nuubCzL67b/TmxCiDGJI8CUROMJhdkQpyqXLwSCCEYPNNbPkxRli4oPSy3KCtFyIVyk5QVYBbg2g9LOhJLNB0oYbYCbFgw8+aPJHySfdfAHFQV7MSikS4oPcMRY4xx13XHL2A1988UVyVh8MDSy3wZDCchBfppLGyxQOY1z//v3NACOEEEIIIYQQhyuNMkyUAqV77ty5pnCxdh/XUAUS5R4DAzMu+CQnSmx25DwWZigwqyDtmBlRLaSPeGzdurWkkSA2zjHxYRnHoQqzClDM9+zZY7NBsrB0wo0VyJnZKcge0rMYCAfnm2BydH/VctVVV9kxPXsjbfAhnhgUyGPIztjguRhUfN+RvD0oSN+LL75oxhDSIIQQQgghhBCHI4UbJpgVwWjxk08+aTMNcO+8805yt3pQ3ubPn29LQnx5RnrJQwwotscff7wpmWmX3vchlmuvvdbSt2jRouTKweTFOSY+KL3nnntutJLdWhRb0sMsEmYVbNiwwTbCLEV27wl+M0sFfAZKeunOuHHj7BrH7MwciJEPxjTk7gYRh/zq169f8utAGjAmZA1u/I/0YMDA8MRyjexsmSytYV8QIYQQQgghhGhK2rZr1+63yXkdjDqjSK9du7beVw9Qstgf4cILL7Qp7h999JEpabt27Up8HFDa2EDwiCOOMHfppZeG888/P5x66qn2G7+MkqPgwyuvvGJHuOWWW+x569ats98sB0H5JC64sWPHhs6dO1u8Nm7caH6c7H+z8GWFCy64IBx77LGmVHL+/fffW1xi0uXce++99pxnnnkmuVKf2DhXig8gq0suucTkRH54mH379g2bN282Pw6zLcaPHx/atGlz0L2WBjNJzjnnHDMA7N69u05OOM878oP0nnLKKSaf66+/3jYhRYYssyCNGIbSjjwjDGSBkSdNjHyY0cJsCGYwZP0QD2ZpeHxuvfXWcPrpp1sZ8PpB+SPvvDxTdsg7/Hl8+M1yj549e1pcqSfM0vj222/DY489Vmd4EUIIIYQQQojDiapmTPhmkyjSwHl6k0lg1J+9Hhjt5z4K5XPPPWf3UDbzprenYSmDbxTomwUSNrMRqoGp9wsWLLBRd750QbzYwNBH5WPSBSivGCyIQzli4pwXH3A/KLvI0MMrhRtQUPRbOsw2AWSdllM6bey5wIwDlsEgG4xGyLDUko8YYuTjsyzShjKHvOP5Hh++xkHeZA0gaZg9wX/YyDM9W4Py4+klX8lfNjUttSxICCGEEEIIIQ4H2nTs2HF/ci5yYK8IFOtyyw+EEEIIIYQQQghRHYXvMXGowkg3G3k+++yzyRUhhBBCCCGEEEI0Fs2YEEIIIYQQQgghRM3QjAkhhBBCCCGEEELUDBkmhBBCCCGEEEIIUTNkmBBCCCGEEEIIIUSNCOH/D4KWambBQuDJAAAAAElFTkSuQmCC)"
      ],
      "metadata": {
        "id": "DDzkuRs_K_32"
      }
    },
    {
      "cell_type": "markdown",
      "source": [
        "Se intentó con varias combinaciones de threads y connections pero este fue el mejor resultado. Mi sospecha es que las limitaciones computacionales de mi notebook y el hecho de que la API deba imprimir en pantalla por cada request realientizan el proceso y por esto hay pocos request a pesar de la gran cantidad de conecciones. Se concluye que las pruebas de estrés colapsaron la API.\n",
        "\n",
        "- ¿Cómo podrías mejorar la eficiencia de las pruebas anteriores?\n",
        "\n",
        "Podría tener más de un servidor para que toda la carga no llegue a a un solo servidor. Al distribuir la carga se obtienen mejores resultados.\n",
        "\n"
      ],
      "metadata": {
        "id": "Rw95-P-lLH3B"
      }
    },
    {
      "cell_type": "code",
      "source": [],
      "metadata": {
        "id": "pkOk7Zurq4hb"
      },
      "execution_count": 94,
      "outputs": []
    },
    {
      "cell_type": "code",
      "source": [],
      "metadata": {
        "id": "GGVhBXxlq4m4"
      },
      "execution_count": 94,
      "outputs": []
    }
  ],
  "metadata": {
    "colab": {
      "provenance": [],
      "include_colab_link": true
    },
    "kernelspec": {
      "display_name": "Python 3",
      "language": "python",
      "name": "python3"
    },
    "language_info": {
      "codemirror_mode": {
        "name": "ipython",
        "version": 3
      },
      "file_extension": ".py",
      "mimetype": "text/x-python",
      "name": "python",
      "nbconvert_exporter": "python",
      "pygments_lexer": "ipython3",
      "version": "3.9.2"
    }
  },
  "nbformat": 4,
  "nbformat_minor": 0
}